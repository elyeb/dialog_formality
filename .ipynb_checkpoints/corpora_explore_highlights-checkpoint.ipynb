{
 "cells": [
  {
   "cell_type": "markdown",
   "id": "d5fbf268",
   "metadata": {},
   "source": [
    "Upshot:\n",
    "- I searched through the following corpora to see what kinds of transcript data and demographic details of the speakers (age, sex, etc) were available"
   ]
  },
  {
   "cell_type": "code",
   "execution_count": 1,
   "id": "06c4c974",
   "metadata": {},
   "outputs": [],
   "source": [
    "import pandas as pd\n",
    "from collections import Counter\n",
    "import matplotlib.pyplot as plt\n",
    "import re\n",
    "from pathlib import Path\n",
    "from tqdm import tqdm\n",
    "import json"
   ]
  },
  {
   "cell_type": "markdown",
   "id": "32dd00b9",
   "metadata": {},
   "source": [
    "**CRECIL corpus**\n",
    "- [paper](http://www.lrec-conf.org/proceedings/lrec2022/pdf/2022.lrec-1.250.pdf)\n",
    "- [Github](https://github.com/bistu-nlp-lab/CRECIL)"
   ]
  },
  {
   "cell_type": "code",
   "execution_count": 2,
   "id": "070c4fde",
   "metadata": {},
   "outputs": [],
   "source": [
    "with open('../CRECIL/Final_Data/train.json','r') as infile:\n",
    "    train_df = json.loads(infile.read())"
   ]
  }
 ],
 "metadata": {
  "kernelspec": {
   "display_name": "Python 3 (ipykernel)",
   "language": "python",
   "name": "python3"
  },
  "language_info": {
   "codemirror_mode": {
    "name": "ipython",
    "version": 3
   },
   "file_extension": ".py",
   "mimetype": "text/x-python",
   "name": "python",
   "nbconvert_exporter": "python",
   "pygments_lexer": "ipython3",
   "version": "3.9.7"
  }
 },
 "nbformat": 4,
 "nbformat_minor": 5
}
