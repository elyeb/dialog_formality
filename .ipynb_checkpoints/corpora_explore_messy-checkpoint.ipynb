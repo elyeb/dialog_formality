{
 "cells": [
  {
   "cell_type": "code",
   "execution_count": 9,
   "id": "10efa6f1",
   "metadata": {},
   "outputs": [],
   "source": [
    "import pandas as pd\n",
    "from collections import Counter\n",
    "import matplotlib.pyplot as plt\n",
    "import re\n",
    "from pathlib import Path\n",
    "from tqdm import tqdm\n",
    "import json"
   ]
  },
  {
   "cell_type": "markdown",
   "id": "4266193e",
   "metadata": {},
   "source": [
    "# Step 1: Look at available Chinese dialog corpora"
   ]
  },
  {
   "cell_type": "markdown",
   "id": "6bcc8044",
   "metadata": {},
   "source": [
    "**CallFriend**\n",
    "- available `/corpora/LDC/LDC96S55`\n",
    "- `/corpora/LDC/LDC96S55/doc/spkrinfo.doc`"
   ]
  },
  {
   "cell_type": "code",
   "execution_count": null,
   "id": "9c06d7ee",
   "metadata": {},
   "outputs": [],
   "source": [
    "%ls /corpora/LDC/LDC96S55/cf_man_m/evltest/"
   ]
  },
  {
   "cell_type": "code",
   "execution_count": null,
   "id": "66cb1918",
   "metadata": {},
   "outputs": [],
   "source": [
    "%ls /corpora/LDC/LDC96S55/doc"
   ]
  },
  {
   "cell_type": "code",
   "execution_count": null,
   "id": "319f4c43",
   "metadata": {},
   "outputs": [],
   "source": [
    "!head -n 20 /corpora/LDC/LDC96S55/doc/spkrinfo.doc"
   ]
  },
  {
   "cell_type": "code",
   "execution_count": null,
   "id": "7e5599b4",
   "metadata": {},
   "outputs": [],
   "source": [
    "%less /corpora/LDC/LDC96S55/doc/spkrinfo.tbl"
   ]
  },
  {
   "cell_type": "code",
   "execution_count": null,
   "id": "4f2299a6",
   "metadata": {},
   "outputs": [],
   "source": [
    "%cat /corpora/LDC/LDC96S55/doc/cf_man_m.doc"
   ]
  },
  {
   "cell_type": "markdown",
   "id": "38dbe4bd",
   "metadata": {},
   "source": [
    " **Notes** <br/>\n",
    " - Actually just audio files and descriptions\n",
    " - But it still has decent demographic information of speakers\n",
    " - it looks like [this](https://catalog.ldc.upenn.edu/LDC2018S18) is the version that includes transcripts: LDC2018S18\n",
    " "
   ]
  },
  {
   "cell_type": "code",
   "execution_count": null,
   "id": "5a831774",
   "metadata": {},
   "outputs": [],
   "source": [
    "%ls /corpora/LDC/ | grep 'LDC2018' "
   ]
  },
  {
   "cell_type": "markdown",
   "id": "540fcb0b",
   "metadata": {},
   "source": [
    "It looks like LDC2018S18 corpus is not in UW's directory"
   ]
  },
  {
   "cell_type": "code",
   "execution_count": null,
   "id": "aacefbb5",
   "metadata": {},
   "outputs": [],
   "source": [
    "Brandon added it under /corpora/LDC/LDC2018S18"
   ]
  },
  {
   "cell_type": "code",
   "execution_count": null,
   "id": "638af861",
   "metadata": {},
   "outputs": [],
   "source": [
    "%ls /corpora/LDC/LDC2018S18/data/transcripts/mandarin"
   ]
  },
  {
   "cell_type": "code",
   "execution_count": null,
   "id": "db0b881b",
   "metadata": {},
   "outputs": [],
   "source": [
    "!head -n 10 /corpora/LDC/LDC2018S18/data/transcripts/mandarin/ma_4160.txt"
   ]
  },
  {
   "cell_type": "markdown",
   "id": "a77c3719",
   "metadata": {},
   "source": [
    "See if you can get any more info on A and B speakers in ma_4160"
   ]
  },
  {
   "cell_type": "code",
   "execution_count": null,
   "id": "97a2d67f",
   "metadata": {},
   "outputs": [],
   "source": [
    "%ls /corpora/LDC/LDC2018S18/docs"
   ]
  },
  {
   "cell_type": "code",
   "execution_count": null,
   "id": "14105a36",
   "metadata": {},
   "outputs": [],
   "source": [
    "!cat /corpora/LDC/LDC2018S18/docs/spkrinfo.tbl"
   ]
  },
  {
   "cell_type": "code",
   "execution_count": null,
   "id": "29172fe0",
   "metadata": {},
   "outputs": [],
   "source": [
    "#some interesting variables available in /corpora/LDC/LDC2018S18/docs/callinfo.tbl\n",
    "!head -n 10 /corpora/LDC/LDC2018S18/docs/callinfo.tbl"
   ]
  },
  {
   "cell_type": "markdown",
   "id": "93488a9e",
   "metadata": {},
   "source": [
    "Given that there is also some detail of the *caller* only in spkrinfo.tbl, I wonder if it would be possible to identify at least the caller in the spkrinfo.tbl file?"
   ]
  },
  {
   "cell_type": "code",
   "execution_count": null,
   "id": "8f50e0f5",
   "metadata": {},
   "outputs": [],
   "source": [
    "!head -n 5 /corpora/LDC/LDC2018S18/docs/spkrinfo.tbl"
   ]
  },
  {
   "cell_type": "code",
   "execution_count": null,
   "id": "06bffc12",
   "metadata": {},
   "outputs": [],
   "source": [
    "with open('/corpora/LDC/LDC2018S18/docs/callinfo.tbl','r') as infile:\n",
    "    callfriend_raw = infile.read()"
   ]
  },
  {
   "cell_type": "code",
   "execution_count": null,
   "id": "3a5ed986",
   "metadata": {},
   "outputs": [],
   "source": [
    "#get counts of ages\n",
    "all_ages = re.findall('(?<=age=).*?(?=\\s)',callfriend_raw)\n",
    "Counter(all_ages)"
   ]
  },
  {
   "cell_type": "code",
   "execution_count": null,
   "id": "7ecd86b8",
   "metadata": {},
   "outputs": [],
   "source": [
    "#get counts of all sexes\n",
    "all_sexes = re.findall('(?<=sex=)[M|F]',callfriend_raw)\n",
    "Counter(all_sexes)"
   ]
  },
  {
   "cell_type": "code",
   "execution_count": null,
   "id": "45ad656f",
   "metadata": {},
   "outputs": [],
   "source": [
    "#Find stuff in directories\n",
    "\n",
    "p = Path('/corpora/LDC/LDC2018S18/data/transcripts/mandarin/')\n",
    "files = [f for f in p.iterdir() if f.is_file()]\n"
   ]
  },
  {
   "cell_type": "code",
   "execution_count": null,
   "id": "486d395d",
   "metadata": {},
   "outputs": [],
   "source": [
    "ni_count = 0\n",
    "nin_count = 0\n",
    "\n",
    "for i in tqdm(range(0,len(files))):\n",
    "    with open(str(files[i].absolute()),'r') as infile:\n",
    "        raw = infile.read()\n",
    "        \n",
    "        ni_count += len(re.findall('你',raw))\n",
    "        nin_count += len(re.findall('您',raw))\n",
    "        \n",
    "        if bool(re.findall('您',raw)):\n",
    "            print(str(files[i].absolute()))"
   ]
  },
  {
   "cell_type": "code",
   "execution_count": null,
   "id": "6aea8efc",
   "metadata": {},
   "outputs": [],
   "source": [
    "print(f'{round(100*(nin_count/(nin_count+ni_count)),2)}% of \"you\"s are 您')\n",
    "print(f'{nin_count} instances out of {nin_count+ni_count}')"
   ]
  },
  {
   "cell_type": "code",
   "execution_count": null,
   "id": "195176e2",
   "metadata": {},
   "outputs": [],
   "source": [
    "%less /corpora/LDC/LDC2018S18/data/transcripts/mandarin/ma_5930.txt"
   ]
  },
  {
   "cell_type": "markdown",
   "id": "01c23388",
   "metadata": {},
   "source": [
    "### Explore relations between CallFriend speakers"
   ]
  },
  {
   "cell_type": "markdown",
   "id": "ba41bd3c",
   "metadata": {},
   "source": [
    "Question: how can I link the call ids to the speaker ids?"
   ]
  },
  {
   "cell_type": "code",
   "execution_count": null,
   "id": "aba4ff80",
   "metadata": {},
   "outputs": [],
   "source": [
    "!head -n 5 /corpora/LDC/LDC96S55/doc/callinfo.tbl"
   ]
  },
  {
   "cell_type": "code",
   "execution_count": null,
   "id": "96a13b07",
   "metadata": {},
   "outputs": [],
   "source": [
    "!head -n 20  /corpora/LDC/LDC96S55/doc/spkrinfo.tbl"
   ]
  },
  {
   "cell_type": "markdown",
   "id": "c71a3ecb",
   "metadata": {},
   "source": [
    " For example: <br/> \n",
    " ma_4160,M,30,22,Anhui,203778bah means: <br/>\n",
    "- Call-ID = ma_4160\n",
    "- Gender of caller = Male\n",
    "- Age of caller = 30\n",
    "- Years of education completed by caller = 22\n",
    "- Where the caller grew up (typically a state name) = Anhui\n",
    "- Area-code plus first three digits of telephone number dialed (last four digits of number are encrypted as three letters) = 203778bah <br/> <br/>\n",
    "Note that there seem to be plenty of missing values"
   ]
  },
  {
   "cell_type": "code",
   "execution_count": null,
   "id": "db69b8c5",
   "metadata": {},
   "outputs": [],
   "source": [
    "%ls /corpora/LDC/LDC96S55/cf_man_m/devtest/"
   ]
  },
  {
   "cell_type": "code",
   "execution_count": null,
   "id": "f1a83fa7",
   "metadata": {},
   "outputs": [],
   "source": [
    "!head -n 10 /corpora/LDC/LDC96S55/cf_man_m/devtest/ma_4559.sph"
   ]
  },
  {
   "cell_type": "code",
   "execution_count": null,
   "id": "be282d39",
   "metadata": {},
   "outputs": [],
   "source": [
    "%less /corpora/LDC/LDC96S55/doc/cf_man_m.doc"
   ]
  },
  {
   "cell_type": "code",
   "execution_count": null,
   "id": "1b181733",
   "metadata": {},
   "outputs": [],
   "source": [
    "with open('/corpora/LDC/LDC96S55/doc/callinfo.tbl','r') as infile:\n",
    "    raw= infile.read().split('\\n')"
   ]
  },
  {
   "cell_type": "code",
   "execution_count": null,
   "id": "8c042a12",
   "metadata": {},
   "outputs": [],
   "source": [
    "import re\n",
    "call_ids = [re.findall('ma_[0-9]*',item)[0] for item in raw if len(item)>0]\n",
    "call_ids = sorted(call_ids)\n",
    "len(call_ids)"
   ]
  },
  {
   "cell_type": "code",
   "execution_count": null,
   "id": "5d26df01",
   "metadata": {},
   "outputs": [],
   "source": [
    "call_ids[0:5]"
   ]
  },
  {
   "cell_type": "code",
   "execution_count": null,
   "id": "697a75cf",
   "metadata": {},
   "outputs": [],
   "source": [
    "with open('/corpora/LDC/LDC96S55/doc/spkrinfo.tbl','r') as infile:\n",
    "    raw= infile.read().split('\\n')\n",
    "speaker_ids = [re.findall('ma_[0-9]*',item)[0] for item in raw if len(item)>0]\n",
    "speaker_ids = sorted(speaker_ids)\n",
    "len(speaker_ids)"
   ]
  },
  {
   "cell_type": "code",
   "execution_count": null,
   "id": "9435dbda",
   "metadata": {},
   "outputs": [],
   "source": [
    "len(set(speaker_ids).intersection(set(call_ids)))"
   ]
  },
  {
   "cell_type": "markdown",
   "id": "42fcbdce",
   "metadata": {},
   "source": [
    "Actually the speaker ids and call ids are overlapping... how does that work? maybe the first id of the call table is actually speaker ids and the PINs are the call ids? That would imply duplicate PIN ids with 2 different ma_ numbers"
   ]
  },
  {
   "cell_type": "code",
   "execution_count": null,
   "id": "e6974d08",
   "metadata": {},
   "outputs": [],
   "source": [
    "with open('/corpora/LDC/LDC96S55/doc/callinfo.tbl','r') as infile:\n",
    "    raw= infile.read().split('\\n')\n"
   ]
  },
  {
   "cell_type": "code",
   "execution_count": null,
   "id": "30ab9017",
   "metadata": {},
   "outputs": [],
   "source": [
    "test = raw[0]\n",
    "test"
   ]
  },
  {
   "cell_type": "code",
   "execution_count": null,
   "id": "b22a827b",
   "metadata": {},
   "outputs": [],
   "source": [
    "PINs = [re.findall('(?<=PIN=)[0-9]*(?=|)',item)[0] for item in raw if len(item)>0]\n",
    "len(PINs)"
   ]
  },
  {
   "cell_type": "code",
   "execution_count": null,
   "id": "ae1fe321",
   "metadata": {},
   "outputs": [],
   "source": [
    "len(set(PINs))"
   ]
  },
  {
   "cell_type": "markdown",
   "id": "2b225c06",
   "metadata": {},
   "source": [
    "There are no duplicated PIN numbers either. My guess is that only demographics of the caller are recorded, and not the recipient. "
   ]
  },
  {
   "cell_type": "markdown",
   "id": "d09cd90c",
   "metadata": {},
   "source": [
    "Trying **2005 NIST Speaker Recognition Evaluation Training Data** <br/>\n",
    "- `/corpora/LDC/LDC11S01`"
   ]
  },
  {
   "cell_type": "code",
   "execution_count": null,
   "id": "bbe019c9",
   "metadata": {},
   "outputs": [],
   "source": [
    "%ls /corpora/LDC/LDC11S01/nist_2005_sre_tr_d1"
   ]
  },
  {
   "cell_type": "code",
   "execution_count": null,
   "id": "b50e019e",
   "metadata": {},
   "outputs": [],
   "source": [
    "!head -n 5 /corpora/LDC/LDC11S01/nist_2005_sre_tr_d1/index.html"
   ]
  },
  {
   "cell_type": "code",
   "execution_count": null,
   "id": "c9e5174a",
   "metadata": {},
   "outputs": [],
   "source": [
    "%ls /corpora/LDC/LDC11S01/nist_2005_sre_tr_d1/data/"
   ]
  },
  {
   "cell_type": "code",
   "execution_count": null,
   "id": "2453265c",
   "metadata": {},
   "outputs": [],
   "source": [
    "!head -n 5 /corpora/LDC/LDC11S01/nist_2005_sre_tr_d1/data/asr_tran/jaab.ctm"
   ]
  },
  {
   "cell_type": "code",
   "execution_count": null,
   "id": "acc4823f",
   "metadata": {
    "scrolled": true
   },
   "outputs": [],
   "source": [
    "%less /corpora/LDC/LDC11S01/nist_2005_sre_tr_d1/doc/file.tbl"
   ]
  },
  {
   "cell_type": "markdown",
   "id": "93deeb97",
   "metadata": {},
   "source": [
    "Trying **MAGICDATA Mandarin Chinese Conversational Speech Corpus: MDT2021S003** <br/>\n",
    "- https://www.openslr.org/123/"
   ]
  },
  {
   "cell_type": "code",
   "execution_count": null,
   "id": "eef88c11",
   "metadata": {},
   "outputs": [],
   "source": [
    "%ls MDT2021S003/"
   ]
  },
  {
   "cell_type": "code",
   "execution_count": null,
   "id": "4d225bb8",
   "metadata": {},
   "outputs": [],
   "source": [
    "!head -n 5 MDT2021S003/SPKINFO.txt"
   ]
  },
  {
   "cell_type": "code",
   "execution_count": null,
   "id": "a9c12771",
   "metadata": {},
   "outputs": [],
   "source": [
    "import pandas as pd\n",
    "with open('MDT2021S003/SPKINFO.txt','r') as infile:\n",
    "    df = pd.read_table(infile)\n",
    "df.head(5)"
   ]
  },
  {
   "cell_type": "code",
   "execution_count": null,
   "id": "e3c30985",
   "metadata": {},
   "outputs": [],
   "source": [
    "from collections import Counter\n",
    "Counter(df.AGE)"
   ]
  },
  {
   "cell_type": "code",
   "execution_count": null,
   "id": "af96ea14",
   "metadata": {},
   "outputs": [],
   "source": [
    "Counter(df.GENDER)"
   ]
  },
  {
   "cell_type": "markdown",
   "id": "4f718790",
   "metadata": {},
   "source": [
    "Problem with this data: very little demographic information available for speakers."
   ]
  },
  {
   "cell_type": "markdown",
   "id": "8664f23f",
   "metadata": {},
   "source": [
    "Trying **HKUST/MTS: A Very Large Scale Mandarin\n",
    "Telephone Speech Corpus** <br/>\n",
    "- https://www.researchgate.net/profile/David-Graff-5/publication/220758477_HKUSTMTS_A_very_large_scale_Mandarin_telephone_speech_corpus/links/004635346a94cf2642000000/HKUST-MTS-A-very-large-scale-Mandarin-telephone-speech-corpus.pdf\n",
    "- LDC2005T32\n",
    "- Not downloaded on Patas, but says it's installed [here](https://cldb.ling.washington.edu/live/livesearch-corpus-form.php)"
   ]
  },
  {
   "cell_type": "code",
   "execution_count": null,
   "id": "be2b70a6",
   "metadata": {},
   "outputs": [],
   "source": [
    "%ls /corpora/LDC/ | grep 'LDC200' "
   ]
  },
  {
   "cell_type": "markdown",
   "id": "73e30520",
   "metadata": {},
   "source": [
    "According to Brandon, this is under `/corpora/LDC/LDC05T32`"
   ]
  },
  {
   "cell_type": "code",
   "execution_count": null,
   "id": "7bf5acfe",
   "metadata": {},
   "outputs": [],
   "source": [
    "%ls /corpora/LDC/LDC05T32/docs"
   ]
  },
  {
   "cell_type": "code",
   "execution_count": null,
   "id": "79ae7a07",
   "metadata": {},
   "outputs": [],
   "source": [
    "!head -n 5 /corpora/LDC/LDC05T32/docs/calldata-train.txt"
   ]
  },
  {
   "cell_type": "code",
   "execution_count": null,
   "id": "c8c21179",
   "metadata": {},
   "outputs": [],
   "source": [
    "%less /corpora/LDC/LDC05T32/docs/file.tbl"
   ]
  },
  {
   "cell_type": "markdown",
   "id": "5185b805",
   "metadata": {},
   "source": [
    "Interesting **notes** from readme: <br/>\n",
    "- Most subjects did not previously know each other.\n",
    "- Topics were proposed to subjects\n",
    "- Subjects were asked to provide several pieces of demographic\n",
    "information, including gender, age, native language/dialect,\n",
    "birthplace, education, occupation, phone type, etc."
   ]
  },
  {
   "cell_type": "code",
   "execution_count": null,
   "id": "3e276898",
   "metadata": {},
   "outputs": [],
   "source": [
    "%ls /corpora/LDC/LDC05T32/data/trans/train"
   ]
  },
  {
   "cell_type": "markdown",
   "id": "84eb2c9c",
   "metadata": {},
   "source": [
    "Do some exploratory statistics on the demographics of training data"
   ]
  },
  {
   "cell_type": "code",
   "execution_count": null,
   "id": "f442e391",
   "metadata": {},
   "outputs": [],
   "source": [
    "\n",
    "with open('/corpora/LDC/LDC05T32/docs/calldata-train.txt','r') as infile:\n",
    "    demographics = pd.read_table(infile)"
   ]
  },
  {
   "cell_type": "code",
   "execution_count": null,
   "id": "6b545546",
   "metadata": {},
   "outputs": [],
   "source": [
    "demographics.head(5)"
   ]
  },
  {
   "cell_type": "code",
   "execution_count": null,
   "id": "a6219b03",
   "metadata": {},
   "outputs": [],
   "source": [
    "#rename all columns to have underscores instead of spaces\n",
    "original_cols = list(demographics.columns)\n",
    "new_cols = [re.sub(' ','_',item) if ' ' in item else item for item in list(demographics.columns)]\n",
    "\n",
    "change_cols = dict()\n",
    "for i in range(0,len(original_cols)):\n",
    "    change_cols[original_cols[i]] = new_cols[i]\n",
    "demographics = demographics.rename(columns=change_cols)\n",
    "demographics.columns"
   ]
  },
  {
   "cell_type": "code",
   "execution_count": null,
   "id": "b3559f98",
   "metadata": {},
   "outputs": [],
   "source": [
    "#Get a histogram of ages of callers in buckets of decades\n",
    "all_ages = list(demographics.Age_A)+list(demographics.Age_B)\n",
    "sorted(Counter(all_ages).items())\n"
   ]
  },
  {
   "cell_type": "code",
   "execution_count": null,
   "id": "5538256b",
   "metadata": {},
   "outputs": [],
   "source": [
    "print(max(Counter(all_ages).keys()))\n",
    "print(min(Counter(all_ages).keys()))"
   ]
  },
  {
   "cell_type": "code",
   "execution_count": null,
   "id": "d9ccc036",
   "metadata": {},
   "outputs": [],
   "source": [
    "def get_decade(a)->str:\n",
    "    output = ''\n",
    "    if a< 10:\n",
    "        output += '0s'\n",
    "    elif a <20:\n",
    "        output += '10s'\n",
    "    elif a <30:\n",
    "        output += '20s'\n",
    "    elif a <40:\n",
    "        output += '30s'\n",
    "    elif a <50:\n",
    "        output += '40s'\n",
    "    elif a <60:\n",
    "        output += '50s'\n",
    "    elif a <70:\n",
    "        output += '60s'  \n",
    "    return output"
   ]
  },
  {
   "cell_type": "code",
   "execution_count": null,
   "id": "29e77a86",
   "metadata": {},
   "outputs": [],
   "source": [
    "demographics['decade_A'] = demographics.Age_A.apply(get_decade)\n",
    "demographics['decade_B'] = demographics.Age_B.apply(get_decade)"
   ]
  },
  {
   "cell_type": "code",
   "execution_count": null,
   "id": "3cf4189c",
   "metadata": {},
   "outputs": [],
   "source": [
    "demographics.head(5)"
   ]
  },
  {
   "cell_type": "code",
   "execution_count": null,
   "id": "78babcd5",
   "metadata": {},
   "outputs": [],
   "source": [
    "#graph a sorted histogram of decades\n",
    "all_decades = list(demographics.decade_A)+list(demographics.decade_B)\n",
    "\n",
    "plt.bar(Counter(all_decades).keys(),Counter(all_decades).values())\n",
    "plt.suptitle(\"Distribution of ages of caller participants\")"
   ]
  },
  {
   "cell_type": "code",
   "execution_count": null,
   "id": "7bde8633",
   "metadata": {},
   "outputs": [],
   "source": [
    "#graph sorted pairs of participants to conversations\n",
    "\n",
    "age_of_call = []\n",
    "for i in range(0,len(demographics)):\n",
    "    \n",
    "    a = demographics.decade_A.iloc[i]\n",
    "    b = demographics.decade_B.iloc[i]\n",
    "    \n",
    "    pair = sorted([a,b])\n",
    "    age_of_call.append(pair[0]+' and '+pair[1])\n"
   ]
  },
  {
   "cell_type": "code",
   "execution_count": null,
   "id": "65944f7c",
   "metadata": {},
   "outputs": [],
   "source": [
    "age_pairs = Counter(age_of_call).most_common()"
   ]
  },
  {
   "cell_type": "code",
   "execution_count": null,
   "id": "d9edd793",
   "metadata": {},
   "outputs": [],
   "source": [
    "plt.bar([item[0] for item in age_pairs],[item[1] for item in age_pairs])\n",
    "plt.suptitle(\"Distribution of ages pairs\")\n",
    "plt.xticks(rotation=90)"
   ]
  },
  {
   "cell_type": "markdown",
   "id": "f2cea9d1",
   "metadata": {},
   "source": [
    "**notes**\n",
    "- most calls are among people in their 20s\n",
    "- most calls are between people both of whom are in their 20s"
   ]
  },
  {
   "cell_type": "code",
   "execution_count": null,
   "id": "c962ea12",
   "metadata": {},
   "outputs": [],
   "source": [
    "#Get distributions of topics discussed\n",
    "with open('/corpora/LDC/LDC05T32/docs/topic-list.txt','r') as infile:\n",
    "    topics_raw = infile.read()"
   ]
  },
  {
   "cell_type": "code",
   "execution_count": null,
   "id": "403e702c",
   "metadata": {},
   "outputs": [],
   "source": [
    "%less /corpora/LDC/LDC05T32/docs/topic-list.txt"
   ]
  },
  {
   "cell_type": "code",
   "execution_count": null,
   "id": "e8f2d217",
   "metadata": {},
   "outputs": [],
   "source": [
    "raw_list = re.findall('[0-9]{1,2}\\..*(?=\\n)',topics_raw)\n",
    "topic_dict = Counter()\n",
    "for row in raw_list:\n",
    "    topic_key = int(re.findall('[0-9]*(?=\\.)',row)[0])\n",
    "    topic = re.findall('(?<=[0-9]\\. ).*',row)[0]\n",
    "    topic_dict[topic_key]=topic\n",
    "    \n",
    "topic_dict"
   ]
  },
  {
   "cell_type": "code",
   "execution_count": null,
   "id": "5363cc6e",
   "metadata": {},
   "outputs": [],
   "source": [
    "def index_to_topic(a:int) -> str:\n",
    "    \n",
    "    return(topic_dict[a])\n"
   ]
  },
  {
   "cell_type": "code",
   "execution_count": null,
   "id": "6a506dee",
   "metadata": {},
   "outputs": [],
   "source": [
    "demographics['Topic_Name'] = demographics.Topic_ID.apply(index_to_topic)"
   ]
  },
  {
   "cell_type": "code",
   "execution_count": null,
   "id": "f61a7782",
   "metadata": {},
   "outputs": [],
   "source": [
    "Counter(demographics.Topic_Name).most_common()"
   ]
  },
  {
   "cell_type": "code",
   "execution_count": null,
   "id": "a8f0b151",
   "metadata": {},
   "outputs": [],
   "source": [
    "#get a simple distribution of 你 and 您 across training data"
   ]
  },
  {
   "cell_type": "code",
   "execution_count": null,
   "id": "d73efd43",
   "metadata": {},
   "outputs": [],
   "source": [
    "%ls /corpora/LDC/LDC05T32/data/trans/train/"
   ]
  },
  {
   "cell_type": "code",
   "execution_count": null,
   "id": "2e911186",
   "metadata": {},
   "outputs": [],
   "source": [
    "!head -n 5 /corpora/LDC/LDC05T32/data/trans/train/20040527_210939_A901153_B901154.txt"
   ]
  },
  {
   "cell_type": "code",
   "execution_count": null,
   "id": "37ad8d30",
   "metadata": {},
   "outputs": [],
   "source": [
    "!file /corpora/LDC/LDC05T32/data/trans/train/20040527_210939_A901153_B901154.txt"
   ]
  },
  {
   "cell_type": "markdown",
   "id": "8d628a44",
   "metadata": {},
   "source": [
    "Important lesson learned from [this thread](https://stackoverflow.com/questions/23731176/how-to-print-chinese-characters-stored-in-a-file-with-charset-iso-8859-1-in-py): \"file is probably wrong, since it only 'guesses' the encoding. Using gb18030 as the encoding gives the correct result\""
   ]
  },
  {
   "cell_type": "code",
   "execution_count": null,
   "id": "9fa1f605",
   "metadata": {},
   "outputs": [],
   "source": [
    "with open('/corpora/LDC/LDC05T32/data/trans/train/20040527_210939_A901153_B901154.txt','r',encoding='iso-8859-1') as infile:\n",
    "    raw = infile.read()"
   ]
  },
  {
   "cell_type": "code",
   "execution_count": null,
   "id": "9a133567",
   "metadata": {},
   "outputs": [],
   "source": [
    "with open('/corpora/LDC/LDC05T32/data/trans/train/20040527_210939_A901153_B901154.txt','r',encoding='gb18030') as infile:\n",
    "    raw = infile.read()"
   ]
  },
  {
   "cell_type": "code",
   "execution_count": null,
   "id": "31b0648f",
   "metadata": {},
   "outputs": [],
   "source": [
    "#Find stuff in directories\n",
    "\n",
    "p = Path('/corpora/LDC/LDC05T32/data/trans/train/')\n",
    "files = [f for f in p.iterdir() if f.is_file()]\n"
   ]
  },
  {
   "cell_type": "code",
   "execution_count": null,
   "id": "80f688eb",
   "metadata": {},
   "outputs": [],
   "source": [
    "ni_count = 0\n",
    "nin_count = 0\n",
    "\n",
    "for i in tqdm(range(0,len(files))):\n",
    "    with open(str(files[i].absolute()),'r',encoding='gb18030') as infile:\n",
    "        raw = infile.read()\n",
    "        \n",
    "        ni_count += len(re.findall('你',raw))\n",
    "        nin_count += len(re.findall('您',raw))\n",
    "        "
   ]
  },
  {
   "cell_type": "code",
   "execution_count": null,
   "id": "2f69bc14",
   "metadata": {},
   "outputs": [],
   "source": [
    "print(f'{round(100*(nin_count/(nin_count+ni_count)),2)}% of \"you\"s are 您')\n",
    "print(f'{nin_count} instances out of {nin_count+ni_count}')"
   ]
  },
  {
   "cell_type": "markdown",
   "id": "1b9d1e31",
   "metadata": {},
   "source": [
    "Trying **CallHome**\n",
    "- /corpora/LDC/LDC96S34 "
   ]
  },
  {
   "cell_type": "code",
   "execution_count": null,
   "id": "86c0dc3a",
   "metadata": {},
   "outputs": [],
   "source": [
    "%ls /corpora/LDC/LDC96S34"
   ]
  },
  {
   "cell_type": "code",
   "execution_count": null,
   "id": "e25491a4",
   "metadata": {},
   "outputs": [],
   "source": [
    "!less /corpora/LDC/LDC96S34/0readme.1st"
   ]
  },
  {
   "cell_type": "code",
   "execution_count": null,
   "id": "79899c0f",
   "metadata": {},
   "outputs": [],
   "source": [
    "%ls /corpora/LDC/LDC96T16"
   ]
  },
  {
   "cell_type": "markdown",
   "id": "24df5a71",
   "metadata": {},
   "source": [
    "Trying **CRECIL**\n",
    "- [paper](http://www.lrec-conf.org/proceedings/lrec2022/pdf/2022.lrec-1.250.pdf)\n",
    "- [Github](https://github.com/bistu-nlp-lab/CRECIL)"
   ]
  },
  {
   "cell_type": "code",
   "execution_count": null,
   "id": "761d46fd",
   "metadata": {},
   "outputs": [],
   "source": [
    "%ls ../CRECIL/Final_Data/"
   ]
  },
  {
   "cell_type": "code",
   "execution_count": null,
   "id": "ed2385ed",
   "metadata": {},
   "outputs": [],
   "source": [
    "%less ../CRECIL/Final_Data/train.json"
   ]
  },
  {
   "cell_type": "code",
   "execution_count": 12,
   "id": "515490d1",
   "metadata": {},
   "outputs": [],
   "source": [
    "with open('../CRECIL/Final_Data/train.json','r') as infile:\n",
    "    train_df = json.loads(infile.read())"
   ]
  },
  {
   "cell_type": "code",
   "execution_count": 18,
   "id": "733daaad",
   "metadata": {},
   "outputs": [
    {
     "data": {
      "text/plain": [
       "2"
      ]
     },
     "execution_count": 18,
     "metadata": {},
     "output_type": "execute_result"
    }
   ],
   "source": [
    "len(train_df[0])"
   ]
  },
  {
   "cell_type": "code",
   "execution_count": 27,
   "id": "7c8485a0",
   "metadata": {},
   "outputs": [
    {
     "data": {
      "text/plain": [
       "['S 1: 考察培养一个学生，和考察培养一个干部，性质是完全一样的，我多年从事这方面的工作，经验是有的，教训也是有的，今天我不想多谈，只想谈三年，第一点……',\n",
       " 'S 2: 啊志国志国',\n",
       " 'S 1: 嗯',\n",
       " 'S 2: 不就是帮着圆圆总结个优缺点么，哪那么些三点四点的，我今天呀，倒要看看你是怎么转换的',\n",
       " 'S 1: 爸，您别着急呀，慢工出巧匠，总结也好，鉴定也好，都关系到一个人的前途，所以一定要慎之又慎',\n",
       " 'S 3: 你别说的那么玄乎成不成啊，不就给圆圆找几条缺点么',\n",
       " 'S 1: 缺点就更不能小看了，如今我们考察看什么呀？主要就是看缺点，优点谁没有啊，全心全意为人民服务，密切联系群众，艰苦奋斗任劳任怨，拒腐蚀永不沾，这都是一个国家工作人员应该具备的么，至于缺点，每个人都不一样啊，只有缺点，才能反映出一个人的特点',\n",
       " 'S 4: 爸，您这说的跟我没什么关系呀',\n",
       " 'S 2: 是啊，这不越说越远了么',\n",
       " 'S 3: 我觉得也是',\n",
       " 'S 1: 是什么是，现在说的就是圆圆，圆圆，你自己先说说，你这两天，从昨天到现在，你想好自己的缺点没有啊？',\n",
       " 'S 4: 我想了一晚上，我也想不出来，我哪有缺点呀……',\n",
       " 'S 2: 不能正确认识自己的缺点，这就是你的缺点',\n",
       " 'S 3: 志国！这得算一条吧这个',\n",
       " 'S 1: 你怎么你？啊？就算我爸岁数大了，一时糊涂',\n",
       " 'S 2: 啊？！',\n",
       " 'S 1: 圆圆年纪太小，又不太懂事',\n",
       " 'S 4: 嗯？',\n",
       " 'S 1: 你这不老不小的你怎么也跟着希里马虎的呀啊？噢，不能正确认识自己的缺点',\n",
       " 'S 3: 啊',\n",
       " 'S 1: 这条缺点一写上，不光她所有的优点都没了，而且把她所有的缺点都包括进去了',\n",
       " 'S 3: 啊？',\n",
       " 'S 1: 我昨天反复强调的什么？转换转化，明白不？要写好缺点',\n",
       " 'S 4: 爸，那要写缺点，那就写我锻炼身体不够，这能好缺点么？',\n",
       " 'S 2: 这已经就是避重就轻了',\n",
       " 'S 1: 啊？这还轻啊，最重就属这条了，三好学生的第一条是什么？身体好，你不锻炼身体能好么？身体不好，还谈什么现在的学习和将来的工作啊？就冲这条，重点中学就不能要你',\n",
       " 'S 3: 哎哎，照你这么说您这标准咱上哪儿给圆圆找好缺点去呀这个',\n",
       " 'S 1: 上哪儿找？上我这儿找啊，昨天晚上我一宿没睡，随随便便就找了七八条',\n",
       " 'S 5: 啊？嘿',\n",
       " 'S 1: 都是好得不能再好的缺点',\n",
       " 'S 3: 哎哟什么呀就七八条赶紧说说',\n",
       " 'S 1: 哎呀我说说……这么热天你们让我怎么说呀……',\n",
       " 'S 3: 我我给你扇扇……',\n",
       " 'S 1: 啊这就好多了……昨我一宿没睡我觉得有点累，要不咱们改天吧',\n",
       " 'S 3: 改天就来不及了，圆圆，赶紧给你爸捏捏……',\n",
       " 'S 4: 噢……',\n",
       " 'S 1: 哎呀……那我的茶呐~~',\n",
       " 'S 2: 啊要不您先喝我的？',\n",
       " 'S 1: 这还差不多……',\n",
       " 'S 2: 哼！……',\n",
       " 'S 1: ……那你们都不记录让我怎么说呀……']"
      ]
     },
     "execution_count": 27,
     "metadata": {},
     "output_type": "execute_result"
    }
   ],
   "source": [
    "train_df[1][0]"
   ]
  },
  {
   "cell_type": "code",
   "execution_count": 28,
   "id": "8d76b856",
   "metadata": {},
   "outputs": [
    {
     "data": {
      "text/plain": [
       "[{'x': 'S 1', 'y': 'S 2', 'r': ['per:spouse'], 'rid': [23]},\n",
       " {'x': 'S 1', 'y': 'S 3', 'r': ['per:children-in-law'], 'rid': [16]},\n",
       " {'x': 'S 1', 'y': 'S 4', 'r': ['unanswerable'], 'rid': [31]},\n",
       " {'x': 'S 1', 'y': '志国', 'r': ['per:spouse'], 'rid': [23]},\n",
       " {'x': 'S 2', 'y': 'S 1', 'r': ['per:spouse'], 'rid': [23]},\n",
       " {'x': 'S 2', 'y': 'S 3', 'r': ['per:children'], 'rid': [1]},\n",
       " {'x': 'S 2', 'y': 'S 4', 'r': ['unanswerable'], 'rid': [31]},\n",
       " {'x': 'S 2', 'y': '志国', 'r': ['per:alternate_name'], 'rid': [0]},\n",
       " {'x': 'S 3', 'y': 'S 1', 'r': ['per:parents-in-law'], 'rid': [15]},\n",
       " {'x': 'S 3', 'y': 'S 2', 'r': ['per:parents'], 'rid': [2]},\n",
       " {'x': 'S 3', 'y': 'S 4', 'r': ['unanswerable'], 'rid': [31]},\n",
       " {'x': 'S 3', 'y': '志国', 'r': ['per:parents'], 'rid': [2]},\n",
       " {'x': 'S 4', 'y': 'S 1', 'r': ['unanswerable'], 'rid': [31]},\n",
       " {'x': 'S 4', 'y': 'S 2', 'r': ['unanswerable'], 'rid': [31]},\n",
       " {'x': 'S 4', 'y': 'S 3', 'r': ['unanswerable'], 'rid': [31]},\n",
       " {'x': 'S 4', 'y': '志国', 'r': ['unanswerable'], 'rid': [31]},\n",
       " {'x': '志国', 'y': 'S 1', 'r': ['per:spouse'], 'rid': [23]},\n",
       " {'x': '志国', 'y': 'S 2', 'r': ['per:alternate_name'], 'rid': [0]},\n",
       " {'x': '志国', 'y': 'S 3', 'r': ['per:children'], 'rid': [1]},\n",
       " {'x': '志国', 'y': 'S 4', 'r': ['unanswerable'], 'rid': [31]}]"
      ]
     },
     "execution_count": 28,
     "metadata": {},
     "output_type": "execute_result"
    }
   ],
   "source": [
    "train_df[0][1]"
   ]
  },
  {
   "cell_type": "code",
   "execution_count": 25,
   "id": "6b5a833c",
   "metadata": {},
   "outputs": [
    {
     "data": {
      "text/plain": [
       "20"
      ]
     },
     "execution_count": 25,
     "metadata": {},
     "output_type": "execute_result"
    }
   ],
   "source": [
    "len(train_df[0][1])"
   ]
  }
 ],
 "metadata": {
  "kernelspec": {
   "display_name": "Python 3 (ipykernel)",
   "language": "python",
   "name": "python3"
  },
  "language_info": {
   "codemirror_mode": {
    "name": "ipython",
    "version": 3
   },
   "file_extension": ".py",
   "mimetype": "text/x-python",
   "name": "python",
   "nbconvert_exporter": "python",
   "pygments_lexer": "ipython3",
   "version": "3.9.7"
  }
 },
 "nbformat": 4,
 "nbformat_minor": 5
}
