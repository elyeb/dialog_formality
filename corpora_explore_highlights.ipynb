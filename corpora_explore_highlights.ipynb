{
 "cells": [
  {
   "cell_type": "markdown",
   "id": "f1ee37a8",
   "metadata": {},
   "source": [
    "# Upshot:\n",
    "- I searched through the following corpora to see what kinds of transcript data and demographic details of the speakers (age, sex, etc) were available\n",
    "    - "
   ]
  },
  {
   "cell_type": "code",
   "execution_count": 1,
   "id": "06c4c974",
   "metadata": {},
   "outputs": [],
   "source": [
    "import pandas as pd\n",
    "from collections import Counter\n",
    "import matplotlib.pyplot as plt\n",
    "import re\n",
    "from pathlib import Path\n",
    "from tqdm import tqdm"
   ]
  }
 ],
 "metadata": {
  "kernelspec": {
   "display_name": "Python 3 (ipykernel)",
   "language": "python",
   "name": "python3"
  },
  "language_info": {
   "codemirror_mode": {
    "name": "ipython",
    "version": 3
   },
   "file_extension": ".py",
   "mimetype": "text/x-python",
   "name": "python",
   "nbconvert_exporter": "python",
   "pygments_lexer": "ipython3",
   "version": "3.9.7"
  }
 },
 "nbformat": 4,
 "nbformat_minor": 5
}
