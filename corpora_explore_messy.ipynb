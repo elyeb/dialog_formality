{
 "cells": [
  {
   "cell_type": "code",
   "execution_count": 1,
   "id": "10efa6f1",
   "metadata": {},
   "outputs": [],
   "source": [
    "import pandas as pd\n",
    "from collections import Counter\n",
    "import matplotlib.pyplot as plt\n",
    "import re\n",
    "from pathlib import Path\n",
    "from tqdm import tqdm\n",
    "import json\n",
    "import pickle"
   ]
  },
  {
   "cell_type": "markdown",
   "id": "4266193e",
   "metadata": {},
   "source": [
    "# Step 1: Look at available Chinese dialog corpora"
   ]
  },
  {
   "cell_type": "markdown",
   "id": "6bcc8044",
   "metadata": {},
   "source": [
    "**CallFriend**\n",
    "- available `/corpora/LDC/LDC96S55`\n",
    "- `/corpora/LDC/LDC96S55/doc/spkrinfo.doc`"
   ]
  },
  {
   "cell_type": "code",
   "execution_count": null,
   "id": "9c06d7ee",
   "metadata": {},
   "outputs": [],
   "source": [
    "%ls /corpora/LDC/LDC96S55/cf_man_m/evltest/"
   ]
  },
  {
   "cell_type": "code",
   "execution_count": null,
   "id": "66cb1918",
   "metadata": {},
   "outputs": [],
   "source": [
    "%ls /corpora/LDC/LDC96S55/doc"
   ]
  },
  {
   "cell_type": "code",
   "execution_count": null,
   "id": "319f4c43",
   "metadata": {},
   "outputs": [],
   "source": [
    "!head -n 20 /corpora/LDC/LDC96S55/doc/spkrinfo.doc"
   ]
  },
  {
   "cell_type": "code",
   "execution_count": null,
   "id": "7e5599b4",
   "metadata": {},
   "outputs": [],
   "source": [
    "%less /corpora/LDC/LDC96S55/doc/spkrinfo.tbl"
   ]
  },
  {
   "cell_type": "code",
   "execution_count": null,
   "id": "4f2299a6",
   "metadata": {},
   "outputs": [],
   "source": [
    "%cat /corpora/LDC/LDC96S55/doc/cf_man_m.doc"
   ]
  },
  {
   "cell_type": "markdown",
   "id": "38dbe4bd",
   "metadata": {},
   "source": [
    " **Notes** <br/>\n",
    " - Actually just audio files and descriptions\n",
    " - But it still has decent demographic information of speakers\n",
    " - it looks like [this](https://catalog.ldc.upenn.edu/LDC2018S18) is the version that includes transcripts: LDC2018S18\n",
    " "
   ]
  },
  {
   "cell_type": "code",
   "execution_count": null,
   "id": "5a831774",
   "metadata": {},
   "outputs": [],
   "source": [
    "%ls /corpora/LDC/ | grep 'LDC2018' "
   ]
  },
  {
   "cell_type": "markdown",
   "id": "540fcb0b",
   "metadata": {},
   "source": [
    "It looks like LDC2018S18 corpus is not in UW's directory"
   ]
  },
  {
   "cell_type": "markdown",
   "id": "be406cdc",
   "metadata": {},
   "source": [
    "Brandon added it under /corpora/LDC/LDC2018S18"
   ]
  },
  {
   "cell_type": "code",
   "execution_count": null,
   "id": "638af861",
   "metadata": {},
   "outputs": [],
   "source": [
    "%ls /corpora/LDC/LDC2018S18/data/transcripts/mandarin"
   ]
  },
  {
   "cell_type": "code",
   "execution_count": null,
   "id": "db0b881b",
   "metadata": {},
   "outputs": [],
   "source": [
    "!head -n 10 /corpora/LDC/LDC2018S18/data/transcripts/mandarin/ma_4160.txt"
   ]
  },
  {
   "cell_type": "markdown",
   "id": "a77c3719",
   "metadata": {},
   "source": [
    "See if you can get any more info on A and B speakers in ma_4160"
   ]
  },
  {
   "cell_type": "code",
   "execution_count": null,
   "id": "97a2d67f",
   "metadata": {},
   "outputs": [],
   "source": [
    "%ls /corpora/LDC/LDC2018S18/docs"
   ]
  },
  {
   "cell_type": "code",
   "execution_count": null,
   "id": "14105a36",
   "metadata": {},
   "outputs": [],
   "source": [
    "!cat /corpora/LDC/LDC2018S18/docs/spkrinfo.tbl"
   ]
  },
  {
   "cell_type": "code",
   "execution_count": null,
   "id": "29172fe0",
   "metadata": {},
   "outputs": [],
   "source": [
    "#some interesting variables available in /corpora/LDC/LDC2018S18/docs/callinfo.tbl\n",
    "!head -n 10 /corpora/LDC/LDC2018S18/docs/callinfo.tbl"
   ]
  },
  {
   "cell_type": "markdown",
   "id": "93488a9e",
   "metadata": {},
   "source": [
    "Given that there is also some detail of the *caller* only in spkrinfo.tbl, I wonder if it would be possible to identify at least the caller in the spkrinfo.tbl file?"
   ]
  },
  {
   "cell_type": "code",
   "execution_count": null,
   "id": "8f50e0f5",
   "metadata": {},
   "outputs": [],
   "source": [
    "!head -n 5 /corpora/LDC/LDC2018S18/docs/spkrinfo.tbl"
   ]
  },
  {
   "cell_type": "code",
   "execution_count": null,
   "id": "06bffc12",
   "metadata": {},
   "outputs": [],
   "source": [
    "with open('/corpora/LDC/LDC2018S18/docs/callinfo.tbl','r') as infile:\n",
    "    callfriend_raw = infile.read()"
   ]
  },
  {
   "cell_type": "code",
   "execution_count": null,
   "id": "3a5ed986",
   "metadata": {},
   "outputs": [],
   "source": [
    "#get counts of ages\n",
    "all_ages = re.findall('(?<=age=).*?(?=\\s)',callfriend_raw)\n",
    "Counter(all_ages)"
   ]
  },
  {
   "cell_type": "code",
   "execution_count": null,
   "id": "7ecd86b8",
   "metadata": {},
   "outputs": [],
   "source": [
    "#get counts of all sexes\n",
    "all_sexes = re.findall('(?<=sex=)[M|F]',callfriend_raw)\n",
    "Counter(all_sexes)"
   ]
  },
  {
   "cell_type": "code",
   "execution_count": null,
   "id": "45ad656f",
   "metadata": {},
   "outputs": [],
   "source": [
    "#Find stuff in directories\n",
    "\n",
    "p = Path('/corpora/LDC/LDC2018S18/data/transcripts/mandarin/')\n",
    "files = [f for f in p.iterdir() if f.is_file()]\n"
   ]
  },
  {
   "cell_type": "code",
   "execution_count": null,
   "id": "486d395d",
   "metadata": {},
   "outputs": [],
   "source": [
    "ni_count = 0\n",
    "nin_count = 0\n",
    "\n",
    "for i in tqdm(range(0,len(files))):\n",
    "    with open(str(files[i].absolute()),'r') as infile:\n",
    "        raw = infile.read()\n",
    "        \n",
    "        ni_count += len(re.findall('你',raw))\n",
    "        nin_count += len(re.findall('您',raw))\n",
    "        \n",
    "        if bool(re.findall('您',raw)):\n",
    "            print(str(files[i].absolute()))"
   ]
  },
  {
   "cell_type": "code",
   "execution_count": null,
   "id": "6aea8efc",
   "metadata": {},
   "outputs": [],
   "source": [
    "print(f'{round(100*(nin_count/(nin_count+ni_count)),2)}% of \"you\"s are 您')\n",
    "print(f'{nin_count} instances out of {nin_count+ni_count}')"
   ]
  },
  {
   "cell_type": "code",
   "execution_count": null,
   "id": "195176e2",
   "metadata": {},
   "outputs": [],
   "source": [
    "%less /corpora/LDC/LDC2018S18/data/transcripts/mandarin/ma_5930.txt"
   ]
  },
  {
   "cell_type": "markdown",
   "id": "01c23388",
   "metadata": {},
   "source": [
    "### Explore relations between CallFriend speakers"
   ]
  },
  {
   "cell_type": "markdown",
   "id": "ba41bd3c",
   "metadata": {},
   "source": [
    "Question: how can I link the call ids to the speaker ids?"
   ]
  },
  {
   "cell_type": "code",
   "execution_count": null,
   "id": "aba4ff80",
   "metadata": {},
   "outputs": [],
   "source": [
    "!head -n 5 /corpora/LDC/LDC96S55/doc/callinfo.tbl"
   ]
  },
  {
   "cell_type": "code",
   "execution_count": null,
   "id": "96a13b07",
   "metadata": {},
   "outputs": [],
   "source": [
    "!head -n 20  /corpora/LDC/LDC96S55/doc/spkrinfo.tbl"
   ]
  },
  {
   "cell_type": "markdown",
   "id": "c71a3ecb",
   "metadata": {},
   "source": [
    " For example: <br/> \n",
    " ma_4160,M,30,22,Anhui,203778bah means: <br/>\n",
    "- Call-ID = ma_4160\n",
    "- Gender of caller = Male\n",
    "- Age of caller = 30\n",
    "- Years of education completed by caller = 22\n",
    "- Where the caller grew up (typically a state name) = Anhui\n",
    "- Area-code plus first three digits of telephone number dialed (last four digits of number are encrypted as three letters) = 203778bah <br/> <br/>\n",
    "Note that there seem to be plenty of missing values"
   ]
  },
  {
   "cell_type": "code",
   "execution_count": null,
   "id": "db69b8c5",
   "metadata": {},
   "outputs": [],
   "source": [
    "%ls /corpora/LDC/LDC96S55/cf_man_m/devtest/"
   ]
  },
  {
   "cell_type": "code",
   "execution_count": null,
   "id": "f1a83fa7",
   "metadata": {},
   "outputs": [],
   "source": [
    "!head -n 10 /corpora/LDC/LDC96S55/cf_man_m/devtest/ma_4559.sph"
   ]
  },
  {
   "cell_type": "code",
   "execution_count": null,
   "id": "be282d39",
   "metadata": {},
   "outputs": [],
   "source": [
    "%less /corpora/LDC/LDC96S55/doc/cf_man_m.doc"
   ]
  },
  {
   "cell_type": "code",
   "execution_count": null,
   "id": "1b181733",
   "metadata": {},
   "outputs": [],
   "source": [
    "with open('/corpora/LDC/LDC96S55/doc/callinfo.tbl','r') as infile:\n",
    "    raw= infile.read().split('\\n')"
   ]
  },
  {
   "cell_type": "code",
   "execution_count": null,
   "id": "8c042a12",
   "metadata": {},
   "outputs": [],
   "source": [
    "import re\n",
    "call_ids = [re.findall('ma_[0-9]*',item)[0] for item in raw if len(item)>0]\n",
    "call_ids = sorted(call_ids)\n",
    "len(call_ids)"
   ]
  },
  {
   "cell_type": "code",
   "execution_count": null,
   "id": "5d26df01",
   "metadata": {},
   "outputs": [],
   "source": [
    "call_ids[0:5]"
   ]
  },
  {
   "cell_type": "code",
   "execution_count": null,
   "id": "697a75cf",
   "metadata": {},
   "outputs": [],
   "source": [
    "with open('/corpora/LDC/LDC96S55/doc/spkrinfo.tbl','r') as infile:\n",
    "    raw= infile.read().split('\\n')\n",
    "speaker_ids = [re.findall('ma_[0-9]*',item)[0] for item in raw if len(item)>0]\n",
    "speaker_ids = sorted(speaker_ids)\n",
    "len(speaker_ids)"
   ]
  },
  {
   "cell_type": "code",
   "execution_count": null,
   "id": "9435dbda",
   "metadata": {},
   "outputs": [],
   "source": [
    "len(set(speaker_ids).intersection(set(call_ids)))"
   ]
  },
  {
   "cell_type": "markdown",
   "id": "42fcbdce",
   "metadata": {},
   "source": [
    "Actually the speaker ids and call ids are overlapping... how does that work? maybe the first id of the call table is actually speaker ids and the PINs are the call ids? That would imply duplicate PIN ids with 2 different ma_ numbers"
   ]
  },
  {
   "cell_type": "code",
   "execution_count": null,
   "id": "e6974d08",
   "metadata": {},
   "outputs": [],
   "source": [
    "with open('/corpora/LDC/LDC96S55/doc/callinfo.tbl','r') as infile:\n",
    "    raw= infile.read().split('\\n')\n"
   ]
  },
  {
   "cell_type": "code",
   "execution_count": null,
   "id": "30ab9017",
   "metadata": {},
   "outputs": [],
   "source": [
    "test = raw[0]\n",
    "test"
   ]
  },
  {
   "cell_type": "code",
   "execution_count": null,
   "id": "b22a827b",
   "metadata": {},
   "outputs": [],
   "source": [
    "PINs = [re.findall('(?<=PIN=)[0-9]*(?=|)',item)[0] for item in raw if len(item)>0]\n",
    "len(PINs)"
   ]
  },
  {
   "cell_type": "code",
   "execution_count": null,
   "id": "ae1fe321",
   "metadata": {},
   "outputs": [],
   "source": [
    "len(set(PINs))"
   ]
  },
  {
   "cell_type": "markdown",
   "id": "2b225c06",
   "metadata": {},
   "source": [
    "There are no duplicated PIN numbers either. My guess is that only demographics of the caller are recorded, and not the recipient. "
   ]
  },
  {
   "cell_type": "markdown",
   "id": "d09cd90c",
   "metadata": {},
   "source": [
    "Trying **2005 NIST Speaker Recognition Evaluation Training Data** <br/>\n",
    "- `/corpora/LDC/LDC11S01`"
   ]
  },
  {
   "cell_type": "code",
   "execution_count": null,
   "id": "bbe019c9",
   "metadata": {},
   "outputs": [],
   "source": [
    "%ls /corpora/LDC/LDC11S01/nist_2005_sre_tr_d1"
   ]
  },
  {
   "cell_type": "code",
   "execution_count": null,
   "id": "b50e019e",
   "metadata": {},
   "outputs": [],
   "source": [
    "!head -n 5 /corpora/LDC/LDC11S01/nist_2005_sre_tr_d1/index.html"
   ]
  },
  {
   "cell_type": "code",
   "execution_count": null,
   "id": "c9e5174a",
   "metadata": {},
   "outputs": [],
   "source": [
    "%ls /corpora/LDC/LDC11S01/nist_2005_sre_tr_d1/data/"
   ]
  },
  {
   "cell_type": "code",
   "execution_count": null,
   "id": "2453265c",
   "metadata": {},
   "outputs": [],
   "source": [
    "!head -n 5 /corpora/LDC/LDC11S01/nist_2005_sre_tr_d1/data/asr_tran/jaab.ctm"
   ]
  },
  {
   "cell_type": "code",
   "execution_count": null,
   "id": "acc4823f",
   "metadata": {
    "scrolled": true
   },
   "outputs": [],
   "source": [
    "%less /corpora/LDC/LDC11S01/nist_2005_sre_tr_d1/doc/file.tbl"
   ]
  },
  {
   "cell_type": "markdown",
   "id": "93deeb97",
   "metadata": {},
   "source": [
    "Trying **MAGICDATA Mandarin Chinese Conversational Speech Corpus: MDT2021S003** <br/>\n",
    "- https://www.openslr.org/123/"
   ]
  },
  {
   "cell_type": "code",
   "execution_count": null,
   "id": "eef88c11",
   "metadata": {},
   "outputs": [],
   "source": [
    "%ls MDT2021S003/"
   ]
  },
  {
   "cell_type": "code",
   "execution_count": null,
   "id": "4d225bb8",
   "metadata": {},
   "outputs": [],
   "source": [
    "!head -n 5 MDT2021S003/SPKINFO.txt"
   ]
  },
  {
   "cell_type": "code",
   "execution_count": null,
   "id": "a9c12771",
   "metadata": {},
   "outputs": [],
   "source": [
    "import pandas as pd\n",
    "with open('MDT2021S003/SPKINFO.txt','r') as infile:\n",
    "    df = pd.read_table(infile)\n",
    "df.head(5)"
   ]
  },
  {
   "cell_type": "code",
   "execution_count": null,
   "id": "e3c30985",
   "metadata": {},
   "outputs": [],
   "source": [
    "from collections import Counter\n",
    "Counter(df.AGE)"
   ]
  },
  {
   "cell_type": "code",
   "execution_count": null,
   "id": "af96ea14",
   "metadata": {},
   "outputs": [],
   "source": [
    "Counter(df.GENDER)"
   ]
  },
  {
   "cell_type": "markdown",
   "id": "4f718790",
   "metadata": {},
   "source": [
    "Problem with this data: very little demographic information available for speakers."
   ]
  },
  {
   "cell_type": "markdown",
   "id": "8664f23f",
   "metadata": {},
   "source": [
    "Trying **HKUST/MTS: A Very Large Scale Mandarin\n",
    "Telephone Speech Corpus** <br/>\n",
    "- https://www.researchgate.net/profile/David-Graff-5/publication/220758477_HKUSTMTS_A_very_large_scale_Mandarin_telephone_speech_corpus/links/004635346a94cf2642000000/HKUST-MTS-A-very-large-scale-Mandarin-telephone-speech-corpus.pdf\n",
    "- LDC2005T32\n",
    "- Not downloaded on Patas, but says it's installed [here](https://cldb.ling.washington.edu/live/livesearch-corpus-form.php)"
   ]
  },
  {
   "cell_type": "code",
   "execution_count": null,
   "id": "be2b70a6",
   "metadata": {},
   "outputs": [],
   "source": [
    "%ls /corpora/LDC/ | grep 'LDC200' "
   ]
  },
  {
   "cell_type": "markdown",
   "id": "73e30520",
   "metadata": {},
   "source": [
    "According to Brandon, this is under `/corpora/LDC/LDC05T32`"
   ]
  },
  {
   "cell_type": "code",
   "execution_count": null,
   "id": "7bf5acfe",
   "metadata": {},
   "outputs": [],
   "source": [
    "%ls /corpora/LDC/LDC05T32/docs"
   ]
  },
  {
   "cell_type": "code",
   "execution_count": null,
   "id": "79ae7a07",
   "metadata": {},
   "outputs": [],
   "source": [
    "!head -n 5 /corpora/LDC/LDC05T32/docs/calldata-train.txt"
   ]
  },
  {
   "cell_type": "code",
   "execution_count": null,
   "id": "c8c21179",
   "metadata": {},
   "outputs": [],
   "source": [
    "%less /corpora/LDC/LDC05T32/docs/file.tbl"
   ]
  },
  {
   "cell_type": "markdown",
   "id": "5185b805",
   "metadata": {},
   "source": [
    "Interesting **notes** from readme: <br/>\n",
    "- Most subjects did not previously know each other.\n",
    "- Topics were proposed to subjects\n",
    "- Subjects were asked to provide several pieces of demographic\n",
    "information, including gender, age, native language/dialect,\n",
    "birthplace, education, occupation, phone type, etc."
   ]
  },
  {
   "cell_type": "code",
   "execution_count": null,
   "id": "3e276898",
   "metadata": {},
   "outputs": [],
   "source": [
    "%ls /corpora/LDC/LDC05T32/data/trans/train"
   ]
  },
  {
   "cell_type": "markdown",
   "id": "84eb2c9c",
   "metadata": {},
   "source": [
    "Do some exploratory statistics on the demographics of training data"
   ]
  },
  {
   "cell_type": "code",
   "execution_count": null,
   "id": "f442e391",
   "metadata": {},
   "outputs": [],
   "source": [
    "\n",
    "with open('/corpora/LDC/LDC05T32/docs/calldata-train.txt','r') as infile:\n",
    "    demographics = pd.read_table(infile)"
   ]
  },
  {
   "cell_type": "code",
   "execution_count": null,
   "id": "6b545546",
   "metadata": {},
   "outputs": [],
   "source": [
    "demographics.head(5)"
   ]
  },
  {
   "cell_type": "code",
   "execution_count": null,
   "id": "a6219b03",
   "metadata": {},
   "outputs": [],
   "source": [
    "#rename all columns to have underscores instead of spaces\n",
    "original_cols = list(demographics.columns)\n",
    "new_cols = [re.sub(' ','_',item) if ' ' in item else item for item in list(demographics.columns)]\n",
    "\n",
    "change_cols = dict()\n",
    "for i in range(0,len(original_cols)):\n",
    "    change_cols[original_cols[i]] = new_cols[i]\n",
    "demographics = demographics.rename(columns=change_cols)\n",
    "demographics.columns"
   ]
  },
  {
   "cell_type": "code",
   "execution_count": null,
   "id": "b3559f98",
   "metadata": {},
   "outputs": [],
   "source": [
    "#Get a histogram of ages of callers in buckets of decades\n",
    "all_ages = list(demographics.Age_A)+list(demographics.Age_B)\n",
    "sorted(Counter(all_ages).items())\n"
   ]
  },
  {
   "cell_type": "code",
   "execution_count": null,
   "id": "5538256b",
   "metadata": {},
   "outputs": [],
   "source": [
    "print(max(Counter(all_ages).keys()))\n",
    "print(min(Counter(all_ages).keys()))"
   ]
  },
  {
   "cell_type": "code",
   "execution_count": null,
   "id": "d9ccc036",
   "metadata": {},
   "outputs": [],
   "source": [
    "def get_decade(a)->str:\n",
    "    output = ''\n",
    "    if a< 10:\n",
    "        output += '0s'\n",
    "    elif a <20:\n",
    "        output += '10s'\n",
    "    elif a <30:\n",
    "        output += '20s'\n",
    "    elif a <40:\n",
    "        output += '30s'\n",
    "    elif a <50:\n",
    "        output += '40s'\n",
    "    elif a <60:\n",
    "        output += '50s'\n",
    "    elif a <70:\n",
    "        output += '60s'  \n",
    "    return output"
   ]
  },
  {
   "cell_type": "code",
   "execution_count": null,
   "id": "29e77a86",
   "metadata": {},
   "outputs": [],
   "source": [
    "demographics['decade_A'] = demographics.Age_A.apply(get_decade)\n",
    "demographics['decade_B'] = demographics.Age_B.apply(get_decade)"
   ]
  },
  {
   "cell_type": "code",
   "execution_count": null,
   "id": "3cf4189c",
   "metadata": {},
   "outputs": [],
   "source": [
    "demographics.head(5)"
   ]
  },
  {
   "cell_type": "code",
   "execution_count": null,
   "id": "78babcd5",
   "metadata": {},
   "outputs": [],
   "source": [
    "#graph a sorted histogram of decades\n",
    "all_decades = list(demographics.decade_A)+list(demographics.decade_B)\n",
    "\n",
    "plt.bar(Counter(all_decades).keys(),Counter(all_decades).values())\n",
    "plt.suptitle(\"Distribution of ages of caller participants\")"
   ]
  },
  {
   "cell_type": "code",
   "execution_count": null,
   "id": "7bde8633",
   "metadata": {},
   "outputs": [],
   "source": [
    "#graph sorted pairs of participants to conversations\n",
    "\n",
    "age_of_call = []\n",
    "for i in range(0,len(demographics)):\n",
    "    \n",
    "    a = demographics.decade_A.iloc[i]\n",
    "    b = demographics.decade_B.iloc[i]\n",
    "    \n",
    "    pair = sorted([a,b])\n",
    "    age_of_call.append(pair[0]+' and '+pair[1])\n"
   ]
  },
  {
   "cell_type": "code",
   "execution_count": null,
   "id": "65944f7c",
   "metadata": {},
   "outputs": [],
   "source": [
    "age_pairs = Counter(age_of_call).most_common()"
   ]
  },
  {
   "cell_type": "code",
   "execution_count": null,
   "id": "d9edd793",
   "metadata": {},
   "outputs": [],
   "source": [
    "plt.bar([item[0] for item in age_pairs],[item[1] for item in age_pairs])\n",
    "plt.suptitle(\"Distribution of ages pairs\")\n",
    "plt.xticks(rotation=90)"
   ]
  },
  {
   "cell_type": "markdown",
   "id": "f2cea9d1",
   "metadata": {},
   "source": [
    "**notes**\n",
    "- most calls are among people in their 20s\n",
    "- most calls are between people both of whom are in their 20s"
   ]
  },
  {
   "cell_type": "code",
   "execution_count": null,
   "id": "c962ea12",
   "metadata": {},
   "outputs": [],
   "source": [
    "#Get distributions of topics discussed\n",
    "with open('/corpora/LDC/LDC05T32/docs/topic-list.txt','r') as infile:\n",
    "    topics_raw = infile.read()"
   ]
  },
  {
   "cell_type": "code",
   "execution_count": null,
   "id": "403e702c",
   "metadata": {},
   "outputs": [],
   "source": [
    "%less /corpora/LDC/LDC05T32/docs/topic-list.txt"
   ]
  },
  {
   "cell_type": "code",
   "execution_count": null,
   "id": "e8f2d217",
   "metadata": {},
   "outputs": [],
   "source": [
    "raw_list = re.findall('[0-9]{1,2}\\..*(?=\\n)',topics_raw)\n",
    "topic_dict = Counter()\n",
    "for row in raw_list:\n",
    "    topic_key = int(re.findall('[0-9]*(?=\\.)',row)[0])\n",
    "    topic = re.findall('(?<=[0-9]\\. ).*',row)[0]\n",
    "    topic_dict[topic_key]=topic\n",
    "    \n",
    "topic_dict"
   ]
  },
  {
   "cell_type": "code",
   "execution_count": null,
   "id": "5363cc6e",
   "metadata": {},
   "outputs": [],
   "source": [
    "def index_to_topic(a:int) -> str:\n",
    "    \n",
    "    return(topic_dict[a])\n"
   ]
  },
  {
   "cell_type": "code",
   "execution_count": null,
   "id": "6a506dee",
   "metadata": {},
   "outputs": [],
   "source": [
    "demographics['Topic_Name'] = demographics.Topic_ID.apply(index_to_topic)"
   ]
  },
  {
   "cell_type": "code",
   "execution_count": null,
   "id": "f61a7782",
   "metadata": {},
   "outputs": [],
   "source": [
    "Counter(demographics.Topic_Name).most_common()"
   ]
  },
  {
   "cell_type": "code",
   "execution_count": null,
   "id": "a8f0b151",
   "metadata": {},
   "outputs": [],
   "source": [
    "#get a simple distribution of 你 and 您 across training data"
   ]
  },
  {
   "cell_type": "code",
   "execution_count": null,
   "id": "d73efd43",
   "metadata": {},
   "outputs": [],
   "source": [
    "%ls /corpora/LDC/LDC05T32/data/trans/train/"
   ]
  },
  {
   "cell_type": "code",
   "execution_count": null,
   "id": "2e911186",
   "metadata": {},
   "outputs": [],
   "source": [
    "!head -n 5 /corpora/LDC/LDC05T32/data/trans/train/20040527_210939_A901153_B901154.txt"
   ]
  },
  {
   "cell_type": "code",
   "execution_count": null,
   "id": "37ad8d30",
   "metadata": {},
   "outputs": [],
   "source": [
    "!file /corpora/LDC/LDC05T32/data/trans/train/20040527_210939_A901153_B901154.txt"
   ]
  },
  {
   "cell_type": "markdown",
   "id": "8d628a44",
   "metadata": {},
   "source": [
    "Important lesson learned from [this thread](https://stackoverflow.com/questions/23731176/how-to-print-chinese-characters-stored-in-a-file-with-charset-iso-8859-1-in-py): \"file is probably wrong, since it only 'guesses' the encoding. Using gb18030 as the encoding gives the correct result\""
   ]
  },
  {
   "cell_type": "code",
   "execution_count": null,
   "id": "9fa1f605",
   "metadata": {},
   "outputs": [],
   "source": [
    "with open('/corpora/LDC/LDC05T32/data/trans/train/20040527_210939_A901153_B901154.txt','r',encoding='iso-8859-1') as infile:\n",
    "    raw = infile.read()"
   ]
  },
  {
   "cell_type": "code",
   "execution_count": null,
   "id": "9a133567",
   "metadata": {},
   "outputs": [],
   "source": [
    "with open('/corpora/LDC/LDC05T32/data/trans/train/20040527_210939_A901153_B901154.txt','r',encoding='gb18030') as infile:\n",
    "    raw = infile.read()"
   ]
  },
  {
   "cell_type": "code",
   "execution_count": null,
   "id": "31b0648f",
   "metadata": {},
   "outputs": [],
   "source": [
    "#Find stuff in directories\n",
    "\n",
    "p = Path('/corpora/LDC/LDC05T32/data/trans/train/')\n",
    "files = [f for f in p.iterdir() if f.is_file()]\n"
   ]
  },
  {
   "cell_type": "code",
   "execution_count": null,
   "id": "80f688eb",
   "metadata": {},
   "outputs": [],
   "source": [
    "ni_count = 0\n",
    "nin_count = 0\n",
    "\n",
    "for i in tqdm(range(0,len(files))):\n",
    "    with open(str(files[i].absolute()),'r',encoding='gb18030') as infile:\n",
    "        raw = infile.read()\n",
    "        \n",
    "        ni_count += len(re.findall('你',raw))\n",
    "        nin_count += len(re.findall('您',raw))\n",
    "        "
   ]
  },
  {
   "cell_type": "code",
   "execution_count": null,
   "id": "2f69bc14",
   "metadata": {},
   "outputs": [],
   "source": [
    "print(f'{round(100*(nin_count/(nin_count+ni_count)),2)}% of \"you\"s are 您')\n",
    "print(f'{nin_count} instances out of {nin_count+ni_count}')"
   ]
  },
  {
   "cell_type": "markdown",
   "id": "1b9d1e31",
   "metadata": {},
   "source": [
    "Trying **CallHome**\n",
    "- /corpora/LDC/LDC96S34 "
   ]
  },
  {
   "cell_type": "code",
   "execution_count": null,
   "id": "86c0dc3a",
   "metadata": {},
   "outputs": [],
   "source": [
    "%ls /corpora/LDC/LDC96S34"
   ]
  },
  {
   "cell_type": "code",
   "execution_count": null,
   "id": "e25491a4",
   "metadata": {},
   "outputs": [],
   "source": [
    "!less /corpora/LDC/LDC96S34/0readme.1st"
   ]
  },
  {
   "cell_type": "code",
   "execution_count": null,
   "id": "79899c0f",
   "metadata": {},
   "outputs": [],
   "source": [
    "%ls /corpora/LDC/LDC96T16"
   ]
  },
  {
   "cell_type": "markdown",
   "id": "24df5a71",
   "metadata": {},
   "source": [
    "Trying **CRECIL**\n",
    "- [paper](http://www.lrec-conf.org/proceedings/lrec2022/pdf/2022.lrec-1.250.pdf)\n",
    "- [Github](https://github.com/bistu-nlp-lab/CRECIL)"
   ]
  },
  {
   "cell_type": "code",
   "execution_count": 20,
   "id": "761d46fd",
   "metadata": {},
   "outputs": [
    {
     "name": "stdout",
     "output_type": "stream",
     "text": [
      "only_relation.pkl  only_relation.txt  relation.pkl  relation.txt\r\n"
     ]
    }
   ],
   "source": [
    "%ls ../CRECIL/Orginal_data/relation/"
   ]
  },
  {
   "cell_type": "code",
   "execution_count": 129,
   "id": "f30c0277",
   "metadata": {},
   "outputs": [
    {
     "name": "stdout",
     "output_type": "stream",
     "text": [
      "only_relation.pkl  only_relation.txt  relation.pkl  relation.txt\r\n"
     ]
    }
   ],
   "source": [
    "%ls ../CRECIL/Orginal_data/relation/"
   ]
  },
  {
   "cell_type": "code",
   "execution_count": 130,
   "id": "159d3a43",
   "metadata": {},
   "outputs": [],
   "source": [
    "%less ../CRECIL/Orginal_data/relation/relation.txt"
   ]
  },
  {
   "cell_type": "code",
   "execution_count": 7,
   "id": "ed2385ed",
   "metadata": {},
   "outputs": [],
   "source": [
    "%less ../CRECIL/Final_Data/train.json"
   ]
  },
  {
   "cell_type": "code",
   "execution_count": 3,
   "id": "515490d1",
   "metadata": {},
   "outputs": [],
   "source": [
    "with open('../CRECIL/Final_Data/train.json','r') as infile:\n",
    "    train_df = json.loads(infile.read())"
   ]
  },
  {
   "cell_type": "code",
   "execution_count": 4,
   "id": "df362982",
   "metadata": {},
   "outputs": [],
   "source": [
    "#repetitive box\n",
    "dialog_chars = Counter()\n",
    "len_dict = Counter()\n",
    "\n",
    "for i in range(0,len(train_df)):\n",
    "    char_set = set()\n",
    "    for j in range(0,len(train_df[i][0])):\n",
    "        char_set.add(re.findall('.*(?<=:)',train_df[i][0][j])[0])\n",
    "    dialog_chars[i] = len(char_set)\n",
    "    \n",
    "    if len(char_set) not in len_dict:\n",
    "        len_dict[len(char_set)] = 0\n",
    "    len_dict[len(char_set)] += 1\n",
    "    \n",
    "pair_dialog_indices = [i for i in list(dialog_chars.keys()) if dialog_chars[i]==2]\n",
    "all_roles = dict()\n",
    "for dg in pair_dialog_indices:\n",
    "    for i in range(0,len(train_df[dg][1])):\n",
    "        if train_df[dg][1][i]['r'][0] not in all_roles:\n",
    "            all_roles[train_df[dg][1][i]['r'][0]] = 0\n",
    "        all_roles[train_df[dg][1][i]['r'][0]] += 1    \n",
    "        \n",
    "pair_df = []\n",
    "pair_dialog_df = [train_df[i] for i in pair_dialog_indices]\n",
    "\n",
    "for item in pair_dialog_df:\n",
    "    \n",
    "\n",
    "    S1_title = ''\n",
    "    S2_title = ''\n",
    "\n",
    "    for rel in item[1]:\n",
    "\n",
    "        if rel['x']=='S 1' and rel['y']=='S 2':\n",
    "\n",
    "            S1_title = re.findall('(?<=per:).*',rel['r'][0])\n",
    "            if len(S1_title)>0: \n",
    "                S1_title=S1_title[0]\n",
    "\n",
    "        if rel['y']=='S 1' and rel['x']=='S 2':\n",
    "\n",
    "            S2_title = re.findall('(?<=per:).*',rel['r'][0])\n",
    "            if len(S2_title)>0: \n",
    "                S2_title=S2_title[0]\n",
    "\n",
    "        if len(S1_title)>0 and len(S2_title)>0:\n",
    "\n",
    "            S1_relation = S1_title+\":\"+S2_title\n",
    "            S2_relation = S2_title+\":\"+S1_title\n",
    "\n",
    "            for line in item[0]:\n",
    "                party = re.findall('^S\\s[1-2]',line)\n",
    "                if len(party)>0: \n",
    "                    party=party[0]\n",
    "\n",
    "                    if party =='S 1':\n",
    "                        pair_df.append((line,S1_relation))\n",
    "                    elif party=='S 2':\n",
    "                        pair_df.append((line,S2_relation))\n",
    "\n",
    "pair_df = pd.DataFrame(list(pair_df),columns=['text','relation'])\n",
    "\n",
    "rel_dict = dict()\n",
    "for rel in list(pair_df.relation.unique()):\n",
    "    rel_dict[rel]=dict()\n",
    "    rel_dict[rel]['你']=0\n",
    "    rel_dict[rel]['您']=0\n",
    "    \n",
    "for i in range(0,len(pair_df)):\n",
    "        \n",
    "    rel_dict[pair_df.relation.iloc[i]]['你'] += len(re.findall('你',pair_df.text.iloc[i]))\n",
    "    rel_dict[pair_df.relation.iloc[i]]['您'] += len(re.findall('您',pair_df.text.iloc[i]))\n",
    "    \n",
    "#reverse the order of the nested keys in rel_dict\n",
    "rel_dict_2 = dict()\n",
    "rel_dict_2['你'] = dict()\n",
    "rel_dict_2['您'] = dict()\n",
    "\n",
    "for item in rel_dict:\n",
    "    rel_dict_2['你'][item] = rel_dict[item]['你']\n",
    "    rel_dict_2['您'][item] = rel_dict[item]['您']\n",
    "    \n",
    "#Present data as an observation table\n",
    "rel_df = pd.DataFrame(rel_dict_2)"
   ]
  },
  {
   "cell_type": "markdown",
   "id": "53c0388d",
   "metadata": {},
   "source": [
    "Something just dawning on me now: in the transcript with multiple people, it's not super clear who each line is being directed _at_. This is a problem, because that's the signal that I'm hoping will tell me how formality is being used. However it seems like this is equality important for relation extraction, so I can learn how the baseline/other approaches resolve this. "
   ]
  },
  {
   "cell_type": "code",
   "execution_count": 3,
   "id": "b8579e4e",
   "metadata": {},
   "outputs": [
    {
     "name": "stderr",
     "output_type": "stream",
     "text": [
      "100%|██████████████████████████████████████| 482/482 [00:00<00:00, 27232.07it/s]\n"
     ]
    }
   ],
   "source": [
    "ni_count = 0\n",
    "nin_count = 0\n",
    "\n",
    "for i in tqdm(range(0,len(train_df))):\n",
    "\n",
    "    raw_list = train_df[i][0]\n",
    "    for raw in raw_list:\n",
    "\n",
    "        ni_count += len(re.findall('你',raw))\n",
    "        nin_count += len(re.findall('您',raw))\n"
   ]
  },
  {
   "cell_type": "code",
   "execution_count": 4,
   "id": "929150b9",
   "metadata": {},
   "outputs": [
    {
     "name": "stdout",
     "output_type": "stream",
     "text": [
      "28.39% of \"you\"s are 您\n",
      "2800 instances out of 9863\n"
     ]
    }
   ],
   "source": [
    "print(f'{round(100*(nin_count/(nin_count+ni_count)),2)}% of \"you\"s are 您')\n",
    "print(f'{nin_count} instances out of {nin_count+ni_count}')"
   ]
  },
  {
   "cell_type": "code",
   "execution_count": 5,
   "id": "ccd24547",
   "metadata": {},
   "outputs": [],
   "source": [
    "with open('../CRECIL/Final_Data/test.json','r') as infile:\n",
    "    test_df = json.loads(infile.read())"
   ]
  },
  {
   "cell_type": "code",
   "execution_count": 6,
   "id": "4aa04f16",
   "metadata": {},
   "outputs": [],
   "source": [
    "with open('../CRECIL/My_home_data/final_0.json','r') as infile:\n",
    "    final_0 = json.loads(infile.read())"
   ]
  },
  {
   "cell_type": "code",
   "execution_count": 5,
   "id": "bab885de",
   "metadata": {},
   "outputs": [],
   "source": [
    "with open('../CRECIL/My_home_data/final.json','r') as infile:\n",
    "    final_df = json.loads(infile.read())\n",
    "    "
   ]
  },
  {
   "cell_type": "code",
   "execution_count": 9,
   "id": "3eb15042",
   "metadata": {},
   "outputs": [
    {
     "data": {
      "text/plain": [
       "[{'x': 'S 1', 'y': 'S 2', 'r': ['per:children'], 'rid': [1]},\n",
       " {'x': 'S 1', 'y': 'S 3', 'r': ['per:relative'], 'rid': [29]},\n",
       " {'x': 'S 1', 'y': 'S 4', 'r': ['per:relative'], 'rid': [29]},\n",
       " {'x': 'S 1', 'y': 'S 5', 'r': ['per:children'], 'rid': [1]},\n",
       " {'x': 'S 1', 'y': 'S 6', 'r': ['per:grandchildren'], 'rid': [25]},\n",
       " {'x': 'S 1', 'y': '小张', 'r': ['unanswerable'], 'rid': [31]},\n",
       " {'x': 'S 1', 'y': '二哥', 'r': ['per:relative'], 'rid': [29]},\n",
       " {'x': 'S 1', 'y': '孩子', 'r': ['per:alternate_name'], 'rid': [0]},\n",
       " {'x': 'S 1', 'y': '老同志', 'r': ['per:grandchildren'], 'rid': [25]},\n",
       " {'x': 'S 1', 'y': '和平', 'r': ['per:children'], 'rid': [1]},\n",
       " {'x': 'S 2', 'y': 'S 1', 'r': ['per:parents'], 'rid': [2]},\n",
       " {'x': 'S 2', 'y': 'S 3', 'r': ['per:siblings'], 'rid': [22]},\n",
       " {'x': 'S 2', 'y': 'S 4', 'r': ['per:siblings'], 'rid': [22]},\n",
       " {'x': 'S 2', 'y': 'S 5', 'r': ['per:spouse'], 'rid': [23]},\n",
       " {'x': 'S 2', 'y': 'S 6', 'r': ['per:children'], 'rid': [1]},\n",
       " {'x': 'S 2', 'y': '小张', 'r': ['unanswerable'], 'rid': [31]},\n",
       " {'x': 'S 2', 'y': '二哥', 'r': ['per:siblings'], 'rid': [22]},\n",
       " {'x': 'S 2', 'y': '孩子', 'r': ['per:parents'], 'rid': [2]},\n",
       " {'x': 'S 2', 'y': '老同志', 'r': ['per:children'], 'rid': [1]},\n",
       " {'x': 'S 2', 'y': '和平', 'r': ['per:spouse'], 'rid': [23]},\n",
       " {'x': 'S 3', 'y': 'S 1', 'r': ['per:relative'], 'rid': [29]},\n",
       " {'x': 'S 3', 'y': 'S 2', 'r': ['per:siblings'], 'rid': [22]},\n",
       " {'x': 'S 3', 'y': 'S 4', 'r': ['per:siblings'], 'rid': [22]},\n",
       " {'x': 'S 3', 'y': 'S 5', 'r': ['per:relative'], 'rid': [29]},\n",
       " {'x': 'S 3', 'y': 'S 6', 'r': ['per:children'], 'rid': [1]},\n",
       " {'x': 'S 3', 'y': '小张', 'r': ['per:subordinate'], 'rid': [20]},\n",
       " {'x': 'S 3', 'y': '二哥', 'r': ['per:alternate_name'], 'rid': [0]},\n",
       " {'x': 'S 3', 'y': '孩子', 'r': ['per:relative'], 'rid': [29]},\n",
       " {'x': 'S 3', 'y': '老同志', 'r': ['per:children'], 'rid': [1]},\n",
       " {'x': 'S 3', 'y': '和平', 'r': ['per:relative'], 'rid': [29]},\n",
       " {'x': 'S 4', 'y': 'S 1', 'r': ['per:relative'], 'rid': [29]},\n",
       " {'x': 'S 4', 'y': 'S 2', 'r': ['per:siblings'], 'rid': [22]},\n",
       " {'x': 'S 4', 'y': 'S 3', 'r': ['per:siblings'], 'rid': [22]},\n",
       " {'x': 'S 4', 'y': 'S 5', 'r': ['per:relative'], 'rid': [29]},\n",
       " {'x': 'S 4', 'y': 'S 6', 'r': ['per:children'], 'rid': [1]},\n",
       " {'x': 'S 4', 'y': '小张', 'r': ['unanswerable'], 'rid': [31]},\n",
       " {'x': 'S 4', 'y': '二哥', 'r': ['per:siblings'], 'rid': [22]},\n",
       " {'x': 'S 4', 'y': '孩子', 'r': ['per:relative'], 'rid': [29]},\n",
       " {'x': 'S 4', 'y': '老同志', 'r': ['per:children'], 'rid': [1]},\n",
       " {'x': 'S 4', 'y': '和平', 'r': ['per:relative'], 'rid': [29]},\n",
       " {'x': 'S 5', 'y': 'S 1', 'r': ['per:parents'], 'rid': [2]},\n",
       " {'x': 'S 5', 'y': 'S 2', 'r': ['per:spouse'], 'rid': [23]},\n",
       " {'x': 'S 5', 'y': 'S 3', 'r': ['per:relative'], 'rid': [29]},\n",
       " {'x': 'S 5', 'y': 'S 4', 'r': ['per:relative'], 'rid': [29]},\n",
       " {'x': 'S 5', 'y': 'S 6', 'r': ['per:children-in-law'], 'rid': [16]},\n",
       " {'x': 'S 5', 'y': '小张', 'r': ['unanswerable'], 'rid': [31]},\n",
       " {'x': 'S 5', 'y': '二哥', 'r': ['per:relative'], 'rid': [29]},\n",
       " {'x': 'S 5', 'y': '孩子', 'r': ['per:parents'], 'rid': [2]},\n",
       " {'x': 'S 5', 'y': '老同志', 'r': ['per:children-in-law'], 'rid': [16]},\n",
       " {'x': 'S 5', 'y': '和平', 'r': ['per:alternate_name'], 'rid': [0]},\n",
       " {'x': 'S 6', 'y': 'S 1', 'r': ['per:grandparents'], 'rid': [24]},\n",
       " {'x': 'S 6', 'y': 'S 2', 'r': ['per:parents'], 'rid': [2]},\n",
       " {'x': 'S 6', 'y': 'S 3', 'r': ['per:parents'], 'rid': [2]},\n",
       " {'x': 'S 6', 'y': 'S 4', 'r': ['per:parents'], 'rid': [2]},\n",
       " {'x': 'S 6', 'y': 'S 5', 'r': ['per:parents-in-law'], 'rid': [15]},\n",
       " {'x': 'S 6', 'y': '小张', 'r': ['unanswerable'], 'rid': [31]},\n",
       " {'x': 'S 6', 'y': '二哥', 'r': ['per:parents'], 'rid': [2]},\n",
       " {'x': 'S 6', 'y': '孩子', 'r': ['per:grandparents'], 'rid': [24]},\n",
       " {'x': 'S 6', 'y': '老同志', 'r': ['per:alternate_name'], 'rid': [0]},\n",
       " {'x': 'S 6', 'y': '和平', 'r': ['per:parents-in-law'], 'rid': [15]},\n",
       " {'x': '小张', 'y': 'S 1', 'r': ['per:nurse'], 'rid': [14]},\n",
       " {'x': '小张', 'y': 'S 2', 'r': ['per:nurse'], 'rid': [14]},\n",
       " {'x': '小张', 'y': 'S 3', 'r': ['per:nurse'], 'rid': [14]},\n",
       " {'x': '小张', 'y': 'S 4', 'r': ['per:nurse'], 'rid': [14]},\n",
       " {'x': '小张', 'y': 'S 5', 'r': ['per:nurse'], 'rid': [14]},\n",
       " {'x': '小张', 'y': 'S 6', 'r': ['per:nurse'], 'rid': [14]},\n",
       " {'x': '小张', 'y': '二哥', 'r': ['per:nurse'], 'rid': [14]},\n",
       " {'x': '小张', 'y': '孩子', 'r': ['per:nurse'], 'rid': [14]},\n",
       " {'x': '小张', 'y': '老同志', 'r': ['per:nurse'], 'rid': [14]},\n",
       " {'x': '小张', 'y': '和平', 'r': ['per:nurse'], 'rid': [14]},\n",
       " {'x': '二哥', 'y': 'S 1', 'r': ['per:relative'], 'rid': [29]},\n",
       " {'x': '二哥', 'y': 'S 2', 'r': ['per:siblings'], 'rid': [22]},\n",
       " {'x': '二哥', 'y': 'S 3', 'r': ['per:alternate_name'], 'rid': [0]},\n",
       " {'x': '二哥', 'y': 'S 4', 'r': ['per:siblings'], 'rid': [22]},\n",
       " {'x': '二哥', 'y': 'S 5', 'r': ['per:relative'], 'rid': [29]},\n",
       " {'x': '二哥', 'y': 'S 6', 'r': ['per:children'], 'rid': [1]},\n",
       " {'x': '二哥', 'y': '小张', 'r': ['per:subordinate'], 'rid': [20]},\n",
       " {'x': '二哥', 'y': '孩子', 'r': ['per:relative'], 'rid': [29]},\n",
       " {'x': '二哥', 'y': '老同志', 'r': ['per:children'], 'rid': [1]},\n",
       " {'x': '二哥', 'y': '和平', 'r': ['per:relative'], 'rid': [29]},\n",
       " {'x': '孩子', 'y': 'S 1', 'r': ['per:alternate_name'], 'rid': [0]},\n",
       " {'x': '孩子', 'y': 'S 2', 'r': ['per:children'], 'rid': [1]},\n",
       " {'x': '孩子', 'y': 'S 3', 'r': ['per:relative'], 'rid': [29]},\n",
       " {'x': '孩子', 'y': 'S 4', 'r': ['per:relative'], 'rid': [29]},\n",
       " {'x': '孩子', 'y': 'S 5', 'r': ['per:children'], 'rid': [1]},\n",
       " {'x': '孩子', 'y': 'S 6', 'r': ['per:grandchildren'], 'rid': [25]},\n",
       " {'x': '孩子', 'y': '小张', 'r': ['unanswerable'], 'rid': [31]},\n",
       " {'x': '孩子', 'y': '二哥', 'r': ['per:relative'], 'rid': [29]},\n",
       " {'x': '孩子', 'y': '老同志', 'r': ['per:grandchildren'], 'rid': [25]},\n",
       " {'x': '孩子', 'y': '和平', 'r': ['per:children'], 'rid': [1]},\n",
       " {'x': '老同志', 'y': 'S 1', 'r': ['per:grandparents'], 'rid': [24]},\n",
       " {'x': '老同志', 'y': 'S 2', 'r': ['per:parents'], 'rid': [2]},\n",
       " {'x': '老同志', 'y': 'S 3', 'r': ['per:parents'], 'rid': [2]},\n",
       " {'x': '老同志', 'y': 'S 4', 'r': ['per:parents'], 'rid': [2]},\n",
       " {'x': '老同志', 'y': 'S 5', 'r': ['per:parents-in-law'], 'rid': [15]},\n",
       " {'x': '老同志', 'y': 'S 6', 'r': ['per:alternate_name'], 'rid': [0]},\n",
       " {'x': '老同志', 'y': '小张', 'r': ['unanswerable'], 'rid': [31]},\n",
       " {'x': '老同志', 'y': '二哥', 'r': ['per:parents'], 'rid': [2]},\n",
       " {'x': '老同志', 'y': '孩子', 'r': ['per:grandparents'], 'rid': [24]},\n",
       " {'x': '老同志', 'y': '和平', 'r': ['per:parents-in-law'], 'rid': [15]},\n",
       " {'x': '和平', 'y': 'S 1', 'r': ['per:parents'], 'rid': [2]},\n",
       " {'x': '和平', 'y': 'S 2', 'r': ['per:spouse'], 'rid': [23]},\n",
       " {'x': '和平', 'y': 'S 3', 'r': ['per:relative'], 'rid': [29]},\n",
       " {'x': '和平', 'y': 'S 4', 'r': ['per:relative'], 'rid': [29]},\n",
       " {'x': '和平', 'y': 'S 5', 'r': ['per:alternate_name'], 'rid': [0]},\n",
       " {'x': '和平', 'y': 'S 6', 'r': ['per:children-in-law'], 'rid': [16]},\n",
       " {'x': '和平', 'y': '小张', 'r': ['unanswerable'], 'rid': [31]},\n",
       " {'x': '和平', 'y': '二哥', 'r': ['per:relative'], 'rid': [29]},\n",
       " {'x': '和平', 'y': '孩子', 'r': ['per:parents'], 'rid': [2]},\n",
       " {'x': '和平', 'y': '老同志', 'r': ['per:children-in-law'], 'rid': [16]}]"
      ]
     },
     "execution_count": 9,
     "metadata": {},
     "output_type": "execute_result"
    }
   ],
   "source": [
    "final_0[0][1]"
   ]
  },
  {
   "cell_type": "code",
   "execution_count": 10,
   "id": "29be4324",
   "metadata": {},
   "outputs": [
    {
     "ename": "NameError",
     "evalue": "name 'all_relations' is not defined",
     "output_type": "error",
     "traceback": [
      "\u001b[0;31m---------------------------------------------------------------------------\u001b[0m",
      "\u001b[0;31mNameError\u001b[0m                                 Traceback (most recent call last)",
      "\u001b[0;32m/tmp/ipykernel_3752386/2170057660.py\u001b[0m in \u001b[0;36m<module>\u001b[0;34m\u001b[0m\n\u001b[0;32m----> 1\u001b[0;31m \u001b[0mlen\u001b[0m\u001b[0;34m(\u001b[0m\u001b[0mall_relations\u001b[0m\u001b[0;34m)\u001b[0m\u001b[0;34m\u001b[0m\u001b[0;34m\u001b[0m\u001b[0m\n\u001b[0m",
      "\u001b[0;31mNameError\u001b[0m: name 'all_relations' is not defined"
     ]
    }
   ],
   "source": [
    "len(all_relations)"
   ]
  },
  {
   "cell_type": "code",
   "execution_count": 8,
   "id": "4b357b65",
   "metadata": {},
   "outputs": [
    {
     "data": {
      "text/plain": [
       "[{'x': 'S 1', 'y': 'S 2', 'r': ['per:children'], 'rid': [1]},\n",
       " {'x': 'S 1', 'y': 'S 3', 'r': ['per:relative'], 'rid': [29]},\n",
       " {'x': 'S 1', 'y': 'S 4', 'r': ['per:relative'], 'rid': [29]},\n",
       " {'x': 'S 1', 'y': 'S 5', 'r': ['per:children'], 'rid': [1]},\n",
       " {'x': 'S 1', 'y': 'S 6', 'r': ['per:grandchildren'], 'rid': [25]},\n",
       " {'x': 'S 1', 'y': '小张', 'r': ['unanswerable'], 'rid': [31]},\n",
       " {'x': 'S 1', 'y': '二哥', 'r': ['per:relative'], 'rid': [29]},\n",
       " {'x': 'S 1', 'y': '孩子', 'r': ['per:alternate_name'], 'rid': [0]},\n",
       " {'x': 'S 1', 'y': '老同志', 'r': ['per:grandchildren'], 'rid': [25]},\n",
       " {'x': 'S 1', 'y': '和平', 'r': ['per:children'], 'rid': [1]},\n",
       " {'x': 'S 2', 'y': 'S 1', 'r': ['per:parents'], 'rid': [2]},\n",
       " {'x': 'S 2', 'y': 'S 3', 'r': ['per:siblings'], 'rid': [22]},\n",
       " {'x': 'S 2', 'y': 'S 4', 'r': ['per:siblings'], 'rid': [22]},\n",
       " {'x': 'S 2', 'y': 'S 5', 'r': ['per:spouse'], 'rid': [23]},\n",
       " {'x': 'S 2', 'y': 'S 6', 'r': ['per:children'], 'rid': [1]},\n",
       " {'x': 'S 2', 'y': '小张', 'r': ['unanswerable'], 'rid': [31]},\n",
       " {'x': 'S 2', 'y': '二哥', 'r': ['per:siblings'], 'rid': [22]},\n",
       " {'x': 'S 2', 'y': '孩子', 'r': ['per:parents'], 'rid': [2]},\n",
       " {'x': 'S 2', 'y': '老同志', 'r': ['per:children'], 'rid': [1]},\n",
       " {'x': 'S 2', 'y': '和平', 'r': ['per:spouse'], 'rid': [23]},\n",
       " {'x': 'S 3', 'y': 'S 1', 'r': ['per:relative'], 'rid': [29]},\n",
       " {'x': 'S 3', 'y': 'S 2', 'r': ['per:siblings'], 'rid': [22]},\n",
       " {'x': 'S 3', 'y': 'S 4', 'r': ['per:siblings'], 'rid': [22]},\n",
       " {'x': 'S 3', 'y': 'S 5', 'r': ['per:relative'], 'rid': [29]},\n",
       " {'x': 'S 3', 'y': 'S 6', 'r': ['per:children'], 'rid': [1]},\n",
       " {'x': 'S 3',\n",
       "  'y': '小张',\n",
       "  'r': ['per:subordinate', 'per:boss'],\n",
       "  'rid': [20, 21]},\n",
       " {'x': 'S 3', 'y': '二哥', 'r': ['per:alternate_name'], 'rid': [0]},\n",
       " {'x': 'S 3', 'y': '孩子', 'r': ['per:relative'], 'rid': [29]},\n",
       " {'x': 'S 3', 'y': '老同志', 'r': ['per:children'], 'rid': [1]},\n",
       " {'x': 'S 3', 'y': '和平', 'r': ['per:relative'], 'rid': [29]},\n",
       " {'x': 'S 4', 'y': 'S 1', 'r': ['per:relative'], 'rid': [29]},\n",
       " {'x': 'S 4', 'y': 'S 2', 'r': ['per:siblings'], 'rid': [22]},\n",
       " {'x': 'S 4', 'y': 'S 3', 'r': ['per:siblings'], 'rid': [22]},\n",
       " {'x': 'S 4', 'y': 'S 5', 'r': ['per:relative'], 'rid': [29]},\n",
       " {'x': 'S 4', 'y': 'S 6', 'r': ['per:children'], 'rid': [1]},\n",
       " {'x': 'S 4', 'y': '小张', 'r': ['unanswerable'], 'rid': [31]},\n",
       " {'x': 'S 4', 'y': '二哥', 'r': ['per:siblings'], 'rid': [22]},\n",
       " {'x': 'S 4', 'y': '孩子', 'r': ['per:relative'], 'rid': [29]},\n",
       " {'x': 'S 4', 'y': '老同志', 'r': ['per:children'], 'rid': [1]},\n",
       " {'x': 'S 4', 'y': '和平', 'r': ['per:relative'], 'rid': [29]},\n",
       " {'x': 'S 5', 'y': 'S 1', 'r': ['per:parents'], 'rid': [2]},\n",
       " {'x': 'S 5', 'y': 'S 2', 'r': ['per:spouse'], 'rid': [23]},\n",
       " {'x': 'S 5', 'y': 'S 3', 'r': ['per:relative'], 'rid': [29]},\n",
       " {'x': 'S 5', 'y': 'S 4', 'r': ['per:relative'], 'rid': [29]},\n",
       " {'x': 'S 5', 'y': 'S 6', 'r': ['per:children-in-law'], 'rid': [16]},\n",
       " {'x': 'S 5', 'y': '小张', 'r': ['unanswerable'], 'rid': [31]},\n",
       " {'x': 'S 5', 'y': '二哥', 'r': ['per:relative'], 'rid': [29]},\n",
       " {'x': 'S 5', 'y': '孩子', 'r': ['per:parents'], 'rid': [2]},\n",
       " {'x': 'S 5', 'y': '老同志', 'r': ['per:children-in-law'], 'rid': [16]},\n",
       " {'x': 'S 5', 'y': '和平', 'r': ['per:alternate_name'], 'rid': [0]},\n",
       " {'x': 'S 6', 'y': 'S 1', 'r': ['per:grandparents'], 'rid': [24]},\n",
       " {'x': 'S 6', 'y': 'S 2', 'r': ['per:parents'], 'rid': [2]},\n",
       " {'x': 'S 6', 'y': 'S 3', 'r': ['per:parents'], 'rid': [2]},\n",
       " {'x': 'S 6', 'y': 'S 4', 'r': ['per:parents'], 'rid': [2]},\n",
       " {'x': 'S 6', 'y': 'S 5', 'r': ['per:parents-in-law'], 'rid': [15]},\n",
       " {'x': 'S 6', 'y': '小张', 'r': ['unanswerable'], 'rid': [31]},\n",
       " {'x': 'S 6', 'y': '二哥', 'r': ['per:parents'], 'rid': [2]},\n",
       " {'x': 'S 6', 'y': '孩子', 'r': ['per:grandparents'], 'rid': [24]},\n",
       " {'x': 'S 6', 'y': '老同志', 'r': ['per:alternate_name'], 'rid': [0]},\n",
       " {'x': 'S 6', 'y': '和平', 'r': ['per:parents-in-law'], 'rid': [15]},\n",
       " {'x': '小张', 'y': 'S 1', 'r': ['per:nurse'], 'rid': [14]},\n",
       " {'x': '小张', 'y': 'S 2', 'r': ['per:nurse'], 'rid': [14]},\n",
       " {'x': '小张',\n",
       "  'y': 'S 3',\n",
       "  'r': ['per:nurse', 'per:subordinate', 'per:boss'],\n",
       "  'rid': [14, 20, 21]},\n",
       " {'x': '小张', 'y': 'S 4', 'r': ['per:nurse'], 'rid': [14]},\n",
       " {'x': '小张', 'y': 'S 5', 'r': ['per:nurse'], 'rid': [14]},\n",
       " {'x': '小张', 'y': 'S 6', 'r': ['per:nurse'], 'rid': [14]},\n",
       " {'x': '小张',\n",
       "  'y': '二哥',\n",
       "  'r': ['per:nurse', 'per:subordinate', 'per:boss'],\n",
       "  'rid': [14, 20, 21]},\n",
       " {'x': '小张', 'y': '孩子', 'r': ['per:nurse'], 'rid': [14]},\n",
       " {'x': '小张', 'y': '老同志', 'r': ['per:nurse'], 'rid': [14]},\n",
       " {'x': '小张', 'y': '和平', 'r': ['per:nurse'], 'rid': [14]},\n",
       " {'x': '二哥', 'y': 'S 1', 'r': ['per:relative'], 'rid': [29]},\n",
       " {'x': '二哥', 'y': 'S 2', 'r': ['per:siblings'], 'rid': [22]},\n",
       " {'x': '二哥', 'y': 'S 3', 'r': ['per:alternate_name'], 'rid': [0]},\n",
       " {'x': '二哥', 'y': 'S 4', 'r': ['per:siblings'], 'rid': [22]},\n",
       " {'x': '二哥', 'y': 'S 5', 'r': ['per:relative'], 'rid': [29]},\n",
       " {'x': '二哥', 'y': 'S 6', 'r': ['per:children'], 'rid': [1]},\n",
       " {'x': '二哥', 'y': '小张', 'r': ['per:subordinate', 'per:boss'], 'rid': [20, 21]},\n",
       " {'x': '二哥', 'y': '孩子', 'r': ['per:relative'], 'rid': [29]},\n",
       " {'x': '二哥', 'y': '老同志', 'r': ['per:children'], 'rid': [1]},\n",
       " {'x': '二哥', 'y': '和平', 'r': ['per:relative'], 'rid': [29]},\n",
       " {'x': '孩子', 'y': 'S 1', 'r': ['per:alternate_name'], 'rid': [0]},\n",
       " {'x': '孩子', 'y': 'S 2', 'r': ['per:children'], 'rid': [1]},\n",
       " {'x': '孩子', 'y': 'S 3', 'r': ['per:relative'], 'rid': [29]},\n",
       " {'x': '孩子', 'y': 'S 4', 'r': ['per:relative'], 'rid': [29]},\n",
       " {'x': '孩子', 'y': 'S 5', 'r': ['per:children'], 'rid': [1]},\n",
       " {'x': '孩子', 'y': 'S 6', 'r': ['per:grandchildren'], 'rid': [25]},\n",
       " {'x': '孩子', 'y': '小张', 'r': ['unanswerable'], 'rid': [31]},\n",
       " {'x': '孩子', 'y': '二哥', 'r': ['per:relative'], 'rid': [29]},\n",
       " {'x': '孩子', 'y': '老同志', 'r': ['per:grandchildren'], 'rid': [25]},\n",
       " {'x': '孩子', 'y': '和平', 'r': ['per:children'], 'rid': [1]},\n",
       " {'x': '老同志', 'y': 'S 1', 'r': ['per:grandparents'], 'rid': [24]},\n",
       " {'x': '老同志', 'y': 'S 2', 'r': ['per:parents'], 'rid': [2]},\n",
       " {'x': '老同志', 'y': 'S 3', 'r': ['per:parents'], 'rid': [2]},\n",
       " {'x': '老同志', 'y': 'S 4', 'r': ['per:parents'], 'rid': [2]},\n",
       " {'x': '老同志', 'y': 'S 5', 'r': ['per:parents-in-law'], 'rid': [15]},\n",
       " {'x': '老同志', 'y': 'S 6', 'r': ['per:alternate_name'], 'rid': [0]},\n",
       " {'x': '老同志', 'y': '小张', 'r': ['unanswerable'], 'rid': [31]},\n",
       " {'x': '老同志', 'y': '二哥', 'r': ['per:parents'], 'rid': [2]},\n",
       " {'x': '老同志', 'y': '孩子', 'r': ['per:grandparents'], 'rid': [24]},\n",
       " {'x': '老同志', 'y': '和平', 'r': ['per:parents-in-law'], 'rid': [15]},\n",
       " {'x': '和平', 'y': 'S 1', 'r': ['per:parents'], 'rid': [2]},\n",
       " {'x': '和平', 'y': 'S 2', 'r': ['per:spouse'], 'rid': [23]},\n",
       " {'x': '和平', 'y': 'S 3', 'r': ['per:relative'], 'rid': [29]},\n",
       " {'x': '和平', 'y': 'S 4', 'r': ['per:relative'], 'rid': [29]},\n",
       " {'x': '和平', 'y': 'S 5', 'r': ['per:alternate_name'], 'rid': [0]},\n",
       " {'x': '和平', 'y': 'S 6', 'r': ['per:children-in-law'], 'rid': [16]},\n",
       " {'x': '和平', 'y': '小张', 'r': ['unanswerable'], 'rid': [31]},\n",
       " {'x': '和平', 'y': '二哥', 'r': ['per:relative'], 'rid': [29]},\n",
       " {'x': '和平', 'y': '孩子', 'r': ['per:parents'], 'rid': [2]},\n",
       " {'x': '和平', 'y': '老同志', 'r': ['per:children-in-law'], 'rid': [16]}]"
      ]
     },
     "execution_count": 8,
     "metadata": {},
     "output_type": "execute_result"
    }
   ],
   "source": [
    "final_df[0][1]"
   ]
  },
  {
   "cell_type": "code",
   "execution_count": 7,
   "id": "5238ec90",
   "metadata": {
    "collapsed": true
   },
   "outputs": [
    {
     "data": {
      "text/plain": [
       "['S 1: 爸，动画片儿哪频道啊？',\n",
       " 'S 2: 看哪门子动画片呀----看连续剧',\n",
       " 'S 3: 小张你这菜可咸点儿啊！',\n",
       " 'S 4: 二哥，你霸着鸡腿儿你一人吃你能不咸嘛你，人家一礼拜可才见一回晕腥！唉唉唉，动物世界动物世界……',\n",
       " 'S 5: 哎哎哎，咱爸今儿是怎么回事儿？从单位一回来就打蔫儿，饭都不吃就楼底下溜达去了这大冷的天儿……',\n",
       " 'S 3: 可能是添什么心事了，唉，是不是今儿跟单位巧遇哪位中午丧偶的女同志……',\n",
       " 'S 5: 说话不着调……',\n",
       " 'S 3: 咱妈去世两年多了，咱爸论条件，论身体，要为这烦恼，那还不要多正常有多正常？',\n",
       " 'S 4: 咱爸这岁数……不至于……',\n",
       " 'S 1: 爱情不分老少，人生没有单行道。',\n",
       " 'S 5: 嘿嘿嘿，这孩子哪儿学来这么些乱七八糟的……',\n",
       " 'S 2: 还不都是你们招的！咱爸上了一天班，累了，躺会儿，你们就非说他老人家惦记给咱们找后妈，这是那儿跟那儿啊！',\n",
       " 'S 1: 姑姑，你说大人为什么都这么愿意上班啊？',\n",
       " 'S 4: 啊也不是所有的大人都愿意上班--比如你二叔，在家闲了三年他都不着急……',\n",
       " 'S 3: 谁闲着了？我挂着两个单位，兼着三个公司的副总经理，我比谁不忙呀！',\n",
       " 'S 4: 啊呸！你忙！咱爸他们单位，已经好几次想把爸的办公桌从局长室请出去啦！',\n",
       " 'S 5: 可你爸也是，反正也退了，挨家享两天轻福不好么！何必每星期还大老远的跑到局里去“顾问”两次--害得人家车接车送的，给国家省点儿气油好不好？',\n",
       " 'S 2: 老同志嘛，工作需要嘛！',\n",
       " 'S 5: 你算了吧！你爸呀，纯属老糊涂了！',\n",
       " 'S 3: 还不光是老……那是他们别人，咱爸可是越老越明白！',\n",
       " 'S 4: 根本不可能……那是绝对没错儿！我就同意二哥这观点！',\n",
       " 'S 2: 我就反对你们这样……谁反对你们我就反对谁！',\n",
       " 'S 5: 唉唉你们今天怎么了？平常你们不总说咱爸……',\n",
       " 'S 2: 没有！根本没有！和平，你在背后不也总说咱爸是个明白人吗？',\n",
       " 'S 5: 我那是哄着他玩儿哪！',\n",
       " 'S 1: 妈！爷爷……',\n",
       " 'S 5: 爷爷怎么啦？爷爷有缺点就不许人说呀？……可不嘛，有缺点你说，没缺点你什么呀？不是我批评你们，背后议论人这毛病你们也该改改啦！要不咱爸是明白人，不往心里去，要不然……呦，爸您起来啦，您快坐这儿！',\n",
       " 'S 6: 怎么，又哄着我玩儿呐！',\n",
       " 'S 5: 您瞧这是怎么话儿说的……儿媳年幼无知，说话没有深浅，还请公公海涵。',\n",
       " 'S 6: 好啦好啦，不必下脆。',\n",
       " 'S 5: 谁给您下脆了，我给您盛饭去……唉爸您上了一天班儿也够累的吧？虽然说局里的工作离不开您，可您也得注意身体呀！',\n",
       " 'S 6: 离不开我？离不开我今天怎么把我那办公桌儿给搁到……搁到妇联那屋去啦？',\n",
       " 'S 3: 您怎么到妇联那儿工作？这可真够新鲜的！',\n",
       " 'S 6: 倒没有正式明确，就说让我先借那儿办公……我刚进去就见个女工，跟办公室几个人在一起嘀嘀咕，嘀嘀咕，我让她有话摆到桌面上说，她说这话不让我听，只能说给妇联同志她们娘家人听……什么娘家人婆家人，全国一盘棋嘛！后来说是她丈夫打了她，把这个胸口抓得青一块紫一块，“要不是您这儿坐着个大老爷们儿不方便，俺就脱下来让您瞧瞧……”妇联那几个女的说话也是欠妥，“啊不碍事儿的大姐，老傅咱副局长也不是外人嘛……”你们猜那女工怎么说？“别说是副局长，就是副总理俺们也不能随便让他瞧！”你瞧你那个鬼样子嘛！哪个副总理愿意瞧你嘛！',\n",
       " 'S 1: 爷爷，她要长得好看你们是不是就都愿意瞧了？刚才二叔他们还说你想找一个……',\n",
       " 'S 5: 爸，您说您也是，您上人妇联那屋办公，确实……反正够没劲的您！',\n",
       " 'S 3: 这要传出去这群众影响还了得……别回头您临了临了老了老了的再给您弄出个作风问题来，您在咱们这片儿威信还是挺高的',\n",
       " 'S 6: 好好好，明天我就给局里打报告，我坚决不上妇联那屋儿去！',\n",
       " 'S 2: 彻底退下来？',\n",
       " 'S 6: 要不然……我上计划生育那屋儿再忍忍去？']"
      ]
     },
     "execution_count": 7,
     "metadata": {},
     "output_type": "execute_result"
    }
   ],
   "source": [
    "final_df[0][0]"
   ]
  },
  {
   "cell_type": "markdown",
   "id": "d048a9ad",
   "metadata": {},
   "source": [
    "How does the BERT model from the paper work?"
   ]
  },
  {
   "cell_type": "code",
   "execution_count": 18,
   "id": "91319fed",
   "metadata": {},
   "outputs": [
    {
     "name": "stdout",
     "output_type": "stream",
     "text": [
      "\u001b[0m\u001b[38;5;33mbert_today\u001b[0m/  extract_features.py  optimization.py    tokenization.py\r\n",
      "evaluate.py  modeling.py          run_classifier.py\r\n"
     ]
    }
   ],
   "source": [
    "%ls ../CRECIL/bert/"
   ]
  },
  {
   "cell_type": "code",
   "execution_count": 20,
   "id": "2069bb4d",
   "metadata": {},
   "outputs": [],
   "source": [
    "%less ../CRECIL/bert/modeling.py"
   ]
  },
  {
   "cell_type": "markdown",
   "id": "bcbe3703",
   "metadata": {},
   "source": [
    "Find number of speakers per dialogue, and visualize"
   ]
  },
  {
   "cell_type": "code",
   "execution_count": 25,
   "id": "0ea73fc6",
   "metadata": {},
   "outputs": [
    {
     "data": {
      "text/plain": [
       "482"
      ]
     },
     "execution_count": 25,
     "metadata": {},
     "output_type": "execute_result"
    }
   ],
   "source": [
    "len(train_df)"
   ]
  },
  {
   "cell_type": "code",
   "execution_count": 4,
   "id": "ee239d57",
   "metadata": {},
   "outputs": [],
   "source": [
    "dialog_chars = Counter()\n",
    "len_dict = Counter()\n",
    "\n",
    "for i in range(0,len(train_df)):\n",
    "    char_set = set()\n",
    "    for j in range(0,len(train_df[i][0])):\n",
    "        char_set.add(re.findall('.*(?<=:)',train_df[i][0][j])[0])\n",
    "    dialog_chars[i] = len(char_set)\n",
    "    \n",
    "    if len(char_set) not in len_dict:\n",
    "        len_dict[len(char_set)] = 0\n",
    "    len_dict[len(char_set)] += 1"
   ]
  },
  {
   "cell_type": "code",
   "execution_count": 8,
   "id": "db9b0285",
   "metadata": {},
   "outputs": [
    {
     "data": {
      "text/plain": [
       "Text(0.5, 0.98, 'No. of dialogs by no. of speakers in dialog')"
      ]
     },
     "execution_count": 8,
     "metadata": {},
     "output_type": "execute_result"
    },
    {
     "data": {
      "image/png": "[encoded data removed]",
      "text/plain": [
       "<Figure size 432x288 with 1 Axes>"
      ]
     },
     "metadata": {
      "needs_background": "light"
     },
     "output_type": "display_data"
    }
   ],
   "source": [
    "#No. of dialogs by no. of speakers in dialog\n",
    "plot = plt.bar(len_dict.keys(),len_dict.values())\n",
    "plt.xticks(range(1, len(len_dict.values())+2))\n",
    "plt.suptitle(\"No. of dialogs by no. of speakers in dialog\")"
   ]
  },
  {
   "cell_type": "code",
   "execution_count": 48,
   "id": "5f25c3b1",
   "metadata": {},
   "outputs": [
    {
     "data": {
      "text/plain": [
       "[(2, 124),\n",
       " (4, 88),\n",
       " (5, 88),\n",
       " (3, 81),\n",
       " (6, 54),\n",
       " (7, 23),\n",
       " (8, 12),\n",
       " (1, 8),\n",
       " (9, 3),\n",
       " (11, 1)]"
      ]
     },
     "execution_count": 48,
     "metadata": {},
     "output_type": "execute_result"
    }
   ],
   "source": [
    "len_dict.most_common()"
   ]
  },
  {
   "cell_type": "code",
   "execution_count": 5,
   "id": "6e6da8af",
   "metadata": {},
   "outputs": [],
   "source": [
    "pair_dialog_indices = [i for i in list(dialog_chars.keys()) if dialog_chars[i]==2]\n"
   ]
  },
  {
   "cell_type": "code",
   "execution_count": 6,
   "id": "d88a767c",
   "metadata": {},
   "outputs": [],
   "source": [
    "all_roles = dict()\n",
    "for dg in pair_dialog_indices:\n",
    "    for i in range(0,len(train_df[dg][1])):\n",
    "        if train_df[dg][1][i]['r'][0] not in all_roles:\n",
    "            all_roles[train_df[dg][1][i]['r'][0]] = 0\n",
    "        all_roles[train_df[dg][1][i]['r'][0]] += 1     "
   ]
  },
  {
   "cell_type": "code",
   "execution_count": 6,
   "id": "0033baae",
   "metadata": {},
   "outputs": [
    {
     "data": {
      "text/plain": [
       "Text(0.5, 0.98, 'Relations annotated in 2-person dialogs')"
      ]
     },
     "execution_count": 6,
     "metadata": {},
     "output_type": "execute_result"
    },
    {
     "data": {
      "image/png": "[encoded data removed]",
      "text/plain": [
       "<Figure size 432x288 with 1 Axes>"
      ]
     },
     "metadata": {
      "needs_background": "light"
     },
     "output_type": "display_data"
    }
   ],
   "source": [
    "all_roles_list = sorted(all_roles.items(), key=lambda x:x[1],reverse=True)\n",
    "\n",
    "ignore_relations = ['unanswerable','per:alternate_name']\n",
    "all_roles_keys = [item[0] for item in all_roles_list if item[0] not in ignore_relations]\n",
    "all_roles_values = [item[1] for item in all_roles_list if item[0] not in ignore_relations]\n",
    "\n",
    "plt.xticks(rotation=90)\n",
    "plt.bar(all_roles_keys,all_roles_values)\n",
    "\n",
    "plt.suptitle(\"Relations annotated in 2-person dialogs\")"
   ]
  },
  {
   "cell_type": "code",
   "execution_count": 97,
   "id": "0f92771a",
   "metadata": {},
   "outputs": [
    {
     "data": {
      "text/plain": [
       "'unanswerable'"
      ]
     },
     "execution_count": 97,
     "metadata": {},
     "output_type": "execute_result"
    }
   ],
   "source": [
    "all_roles_keys[0]"
   ]
  },
  {
   "cell_type": "code",
   "execution_count": 98,
   "id": "f58d4aa0",
   "metadata": {},
   "outputs": [
    {
     "data": {
      "text/plain": [
       "'per:alternate_name'"
      ]
     },
     "execution_count": 98,
     "metadata": {},
     "output_type": "execute_result"
    }
   ],
   "source": [
    "all_roles_keys[1]"
   ]
  },
  {
   "cell_type": "code",
   "execution_count": 91,
   "id": "7ba28933",
   "metadata": {
    "collapsed": true
   },
   "outputs": [
    {
     "data": {
      "text/plain": [
       "[('unanswerable', 729),\n",
       " ('per:alternate_name', 524),\n",
       " ('per:neighbor', 380),\n",
       " ('per:spouse', 202),\n",
       " ('per:friends', 188),\n",
       " ('per:relative', 160),\n",
       " ('per:parents', 151),\n",
       " ('per:children', 151),\n",
       " ('per:nurse', 67),\n",
       " ('per:siblings', 64),\n",
       " ('per:acquaintance', 46),\n",
       " ('per:classmate', 46),\n",
       " ('per:parents-in-law', 43),\n",
       " ('per:children-in-law', 43),\n",
       " ('per:subordinate', 30),\n",
       " ('per:ex-girlfriend', 29),\n",
       " ('per:ex-boyfriend', 29),\n",
       " ('per:grandparents', 28),\n",
       " ('per:grandchildren', 28),\n",
       " ('per:negative impression', 18),\n",
       " ('per:boss', 17),\n",
       " ('per:siblings-in-law', 12),\n",
       " ('per:colleague', 10),\n",
       " ('per:positive impression', 9),\n",
       " ('per:client', 8),\n",
       " ('per:student', 6),\n",
       " ('per:teacher', 6),\n",
       " ('per:girlfriend', 4),\n",
       " ('per:boyfriend', 4)]"
      ]
     },
     "execution_count": 91,
     "metadata": {},
     "output_type": "execute_result"
    }
   ],
   "source": [
    "sorted(all_roles.items(), key=lambda x:x[1],reverse=True)"
   ]
  },
  {
   "cell_type": "code",
   "execution_count": 6,
   "id": "7e81bdf3",
   "metadata": {},
   "outputs": [],
   "source": [
    "pair_dialog_df = [train_df[i] for i in pair_dialog_indices]"
   ]
  },
  {
   "cell_type": "code",
   "execution_count": 22,
   "id": "8673c125",
   "metadata": {},
   "outputs": [
    {
     "data": {
      "text/plain": [
       "[{'x': 'S 1', 'y': 'S 2', 'r': ['per:parents-in-law'], 'rid': [15]},\n",
       " {'x': 'S 1', 'y': '和平', 'r': ['per:parents-in-law'], 'rid': [15]},\n",
       " {'x': 'S 2', 'y': 'S 1', 'r': ['per:children-in-law'], 'rid': [16]},\n",
       " {'x': 'S 2', 'y': '和平', 'r': ['per:alternate_name'], 'rid': [0]},\n",
       " {'x': '和平', 'y': 'S 1', 'r': ['per:children-in-law'], 'rid': [16]},\n",
       " {'x': '和平', 'y': 'S 2', 'r': ['per:alternate_name'], 'rid': [0]}]"
      ]
     },
     "execution_count": 22,
     "metadata": {},
     "output_type": "execute_result"
    }
   ],
   "source": [
    "pair_dialog_df[2][1]"
   ]
  },
  {
   "cell_type": "markdown",
   "id": "e1b37ce7",
   "metadata": {},
   "source": [
    "In this example, it definitely looks like S1 is the parent-in-law, and S2 is the child-in-law, which seems consistent with the annotation order of (S2, S1). As in, <br/>\n",
    "'x': 'S 1', 'y': 'S 2', 'r': ['per:parents-in-law'] means <br/>\n",
    "x is the parents-in-law of y <br/>\n",
    "and <br/>\n",
    "'x': 'S 2', 'y': 'S 1', 'r': ['per:children-in-law'] means <br/>\n",
    "x is the children-in-law of y"
   ]
  },
  {
   "cell_type": "markdown",
   "id": "c205a024",
   "metadata": {},
   "source": [
    "Here, and in a few other examples, it looks like the relation annotation is in reverse order. From the dialogue, S2 says, \"爸...\" to S1, whereas the relation annotated is <br/>\n",
    "<br/>\n",
    "'x': 'S 1', 'y': 'S 2', 'r': ['per:parents-in-law'] <br/>\n",
    "<br/>\n",
    "These examples, as well as the diagram in [this image](https://github.com/bistu-nlp-lab/CRECIL), leads me to believe that relations are annotated as \"x is the per:_relation_ of y\", or \"S1 is the _parents-in-law_ of S2\" <br/>\n",
    "<br/>\n",
    "With this, I can make a dataframe with variables= _text_, _speaker-addressee-relation_"
   ]
  },
  {
   "cell_type": "code",
   "execution_count": 8,
   "id": "9a4b808e",
   "metadata": {},
   "outputs": [
    {
     "ename": "NameError",
     "evalue": "name 'pair_dialog_df' is not defined",
     "output_type": "error",
     "traceback": [
      "\u001b[0;31m---------------------------------------------------------------------------\u001b[0m",
      "\u001b[0;31mNameError\u001b[0m                                 Traceback (most recent call last)",
      "\u001b[0;32m/tmp/ipykernel_2914644/327873314.py\u001b[0m in \u001b[0;36m<module>\u001b[0;34m\u001b[0m\n\u001b[1;32m      1\u001b[0m \u001b[0mpair_df\u001b[0m \u001b[0;34m=\u001b[0m \u001b[0;34m[\u001b[0m\u001b[0;34m]\u001b[0m\u001b[0;34m\u001b[0m\u001b[0;34m\u001b[0m\u001b[0m\n\u001b[1;32m      2\u001b[0m \u001b[0;34m\u001b[0m\u001b[0m\n\u001b[0;32m----> 3\u001b[0;31m \u001b[0;32mfor\u001b[0m \u001b[0mitem\u001b[0m \u001b[0;32min\u001b[0m \u001b[0mpair_dialog_df\u001b[0m\u001b[0;34m:\u001b[0m\u001b[0;34m\u001b[0m\u001b[0;34m\u001b[0m\u001b[0m\n\u001b[0m\u001b[1;32m      4\u001b[0m \u001b[0;34m\u001b[0m\u001b[0m\n\u001b[1;32m      5\u001b[0m \u001b[0;34m\u001b[0m\u001b[0m\n",
      "\u001b[0;31mNameError\u001b[0m: name 'pair_dialog_df' is not defined"
     ]
    }
   ],
   "source": [
    "pair_df = []\n",
    "\n",
    "for item in pair_dialog_df:\n",
    "    \n",
    "\n",
    "    S1_title = ''\n",
    "    S2_title = ''\n",
    "\n",
    "    for rel in item[1]:\n",
    "\n",
    "        if rel['x']=='S 1' and rel['y']=='S 2':\n",
    "\n",
    "            S1_title = re.findall('(?<=per:).*',rel['r'][0])\n",
    "            if len(S1_title)>0: \n",
    "                S1_title=S1_title[0]\n",
    "\n",
    "        if rel['y']=='S 1' and rel['x']=='S 2':\n",
    "\n",
    "            S2_title = re.findall('(?<=per:).*',rel['r'][0])\n",
    "            if len(S2_title)>0: \n",
    "                S2_title=S2_title[0]\n",
    "\n",
    "        if len(S1_title)>0 and len(S2_title)>0:\n",
    "\n",
    "            S1_relation = S1_title+\":\"+S2_title\n",
    "            S2_relation = S2_title+\":\"+S1_title\n",
    "\n",
    "            for line in item[0]:\n",
    "                party = re.findall('^S\\s[1-2]',line)\n",
    "                if len(party)>0: \n",
    "                    party=party[0]\n",
    "\n",
    "                    if party =='S 1':\n",
    "                        pair_df.append((line,S1_relation))\n",
    "                    elif party=='S 2':\n",
    "                        pair_df.append((line,S2_relation))\n",
    "\n",
    "pair_df = pd.DataFrame(list(pair_df),columns=['text','relation'])"
   ]
  },
  {
   "cell_type": "code",
   "execution_count": 9,
   "id": "f93a0adf",
   "metadata": {
    "collapsed": true
   },
   "outputs": [
    {
     "data": {
      "text/plain": [
       "[('spouse:spouse', 9637),\n",
       " ('friends:friends', 5821),\n",
       " ('children-in-law:parents-in-law', 5705),\n",
       " ('parents-in-law:children-in-law', 5576),\n",
       " ('neighbor:neighbor', 4026),\n",
       " ('relative:relative', 2684),\n",
       " ('classmate:classmate', 2552),\n",
       " ('children:parents', 1178),\n",
       " ('parents:children', 1158),\n",
       " ('subordinate:nurse', 765),\n",
       " ('nurse:subordinate', 741),\n",
       " ('grandparents:grandchildren', 546),\n",
       " ('grandchildren:grandparents', 532),\n",
       " ('acquaintance:acquaintance', 504),\n",
       " ('siblings:siblings', 490)]"
      ]
     },
     "execution_count": 9,
     "metadata": {},
     "output_type": "execute_result"
    }
   ],
   "source": [
    "Counter(pair_df.relation).most_common()"
   ]
  },
  {
   "cell_type": "code",
   "execution_count": 7,
   "id": "5316bdf8",
   "metadata": {},
   "outputs": [
    {
     "ename": "NameError",
     "evalue": "name 'pair_df' is not defined",
     "output_type": "error",
     "traceback": [
      "\u001b[0;31m---------------------------------------------------------------------------\u001b[0m",
      "\u001b[0;31mNameError\u001b[0m                                 Traceback (most recent call last)",
      "\u001b[0;32m/tmp/ipykernel_2914644/1457356905.py\u001b[0m in \u001b[0;36m<module>\u001b[0;34m\u001b[0m\n\u001b[1;32m      1\u001b[0m \u001b[0mrel_dict\u001b[0m \u001b[0;34m=\u001b[0m \u001b[0mdict\u001b[0m\u001b[0;34m(\u001b[0m\u001b[0;34m)\u001b[0m\u001b[0;34m\u001b[0m\u001b[0;34m\u001b[0m\u001b[0m\n\u001b[0;32m----> 2\u001b[0;31m \u001b[0;32mfor\u001b[0m \u001b[0mrel\u001b[0m \u001b[0;32min\u001b[0m \u001b[0mlist\u001b[0m\u001b[0;34m(\u001b[0m\u001b[0mpair_df\u001b[0m\u001b[0;34m.\u001b[0m\u001b[0mrelation\u001b[0m\u001b[0;34m.\u001b[0m\u001b[0munique\u001b[0m\u001b[0;34m(\u001b[0m\u001b[0;34m)\u001b[0m\u001b[0;34m)\u001b[0m\u001b[0;34m:\u001b[0m\u001b[0;34m\u001b[0m\u001b[0;34m\u001b[0m\u001b[0m\n\u001b[0m\u001b[1;32m      3\u001b[0m     \u001b[0mrel_dict\u001b[0m\u001b[0;34m[\u001b[0m\u001b[0mrel\u001b[0m\u001b[0;34m]\u001b[0m\u001b[0;34m=\u001b[0m\u001b[0mdict\u001b[0m\u001b[0;34m(\u001b[0m\u001b[0;34m)\u001b[0m\u001b[0;34m\u001b[0m\u001b[0;34m\u001b[0m\u001b[0m\n\u001b[1;32m      4\u001b[0m     \u001b[0mrel_dict\u001b[0m\u001b[0;34m[\u001b[0m\u001b[0mrel\u001b[0m\u001b[0;34m]\u001b[0m\u001b[0;34m[\u001b[0m\u001b[0;34m'你'\u001b[0m\u001b[0;34m]\u001b[0m\u001b[0;34m=\u001b[0m\u001b[0;36m0\u001b[0m\u001b[0;34m\u001b[0m\u001b[0;34m\u001b[0m\u001b[0m\n\u001b[1;32m      5\u001b[0m     \u001b[0mrel_dict\u001b[0m\u001b[0;34m[\u001b[0m\u001b[0mrel\u001b[0m\u001b[0;34m]\u001b[0m\u001b[0;34m[\u001b[0m\u001b[0;34m'您'\u001b[0m\u001b[0;34m]\u001b[0m\u001b[0;34m=\u001b[0m\u001b[0;36m0\u001b[0m\u001b[0;34m\u001b[0m\u001b[0;34m\u001b[0m\u001b[0m\n",
      "\u001b[0;31mNameError\u001b[0m: name 'pair_df' is not defined"
     ]
    }
   ],
   "source": [
    "rel_dict = dict()\n",
    "for rel in list(pair_df.relation.unique()):\n",
    "    rel_dict[rel]=dict()\n",
    "    rel_dict[rel]['你']=0\n",
    "    rel_dict[rel]['您']=0"
   ]
  },
  {
   "cell_type": "code",
   "execution_count": 10,
   "id": "e660b956",
   "metadata": {},
   "outputs": [],
   "source": [
    "for i in range(0,len(pair_df)):\n",
    "        \n",
    "    rel_dict[pair_df.relation.iloc[i]]['你'] += len(re.findall('你',pair_df.text.iloc[i]))\n",
    "    rel_dict[pair_df.relation.iloc[i]]['您'] += len(re.findall('您',pair_df.text.iloc[i]))"
   ]
  },
  {
   "cell_type": "code",
   "execution_count": 11,
   "id": "296c0cbe",
   "metadata": {},
   "outputs": [],
   "source": [
    "#reverse the order of the nested keys in rel_dict\n",
    "rel_dict_2 = dict()\n",
    "rel_dict_2['你'] = dict()\n",
    "rel_dict_2['您'] = dict()\n",
    "\n",
    "for item in rel_dict:\n",
    "    rel_dict_2['你'][item] = rel_dict[item]['你']\n",
    "    rel_dict_2['您'][item] = rel_dict[item]['您']\n"
   ]
  },
  {
   "cell_type": "code",
   "execution_count": 12,
   "id": "9a1147fd",
   "metadata": {},
   "outputs": [
    {
     "data": {
      "image/png": "[encoded data removed]",
      "text/plain": [
       "<Figure size 432x288 with 1 Axes>"
      ]
     },
     "metadata": {
      "needs_background": "light"
     },
     "output_type": "display_data"
    }
   ],
   "source": [
    "#try to graph the above\n",
    "import matplotlib.pyplot as plt\n",
    "from matplotlib import font_manager\n",
    "\n",
    "plt.rcParams['font.sans-serif'] = ['SimHei']\n",
    "\n",
    "\n",
    "fig, ax = plt.subplots()\n",
    "\n",
    "ax.bar(rel_dict_2['你'].keys(), rel_dict_2['你'].values(), width=0.2, align='edge', label='你')\n",
    "ax.bar(rel_dict_2['您'].keys(), rel_dict_2['您'].values(), width=-0.2, align='edge', label='您')\n",
    "\n",
    "\n",
    "ax.legend()\n",
    "plt.xticks(rotation=90)\n",
    "\n",
    "\n",
    "fig.show()"
   ]
  },
  {
   "cell_type": "markdown",
   "id": "312e432f",
   "metadata": {},
   "source": [
    "I can use the Pearson’s Chi-Square test to test independence between the variables, in this case represented by the direction of speaker-to-addressee. This is analagous to the scenario tested [here](https://www.geeksforgeeks.org/python-pearsons-chi-square-test/)"
   ]
  },
  {
   "cell_type": "code",
   "execution_count": 13,
   "id": "495f4b14",
   "metadata": {},
   "outputs": [
    {
     "data": {
      "text/html": [
       "<div>\n",
       "<style scoped>\n",
       "    .dataframe tbody tr th:only-of-type {\n",
       "        vertical-align: middle;\n",
       "    }\n",
       "\n",
       "    .dataframe tbody tr th {\n",
       "        vertical-align: top;\n",
       "    }\n",
       "\n",
       "    .dataframe thead th {\n",
       "        text-align: right;\n",
       "    }\n",
       "</style>\n",
       "<table border=\"1\" class=\"dataframe\">\n",
       "  <thead>\n",
       "    <tr style=\"text-align: right;\">\n",
       "      <th></th>\n",
       "      <th>你</th>\n",
       "      <th>您</th>\n",
       "    </tr>\n",
       "  </thead>\n",
       "  <tbody>\n",
       "    <tr>\n",
       "      <th>parents-in-law:children-in-law</th>\n",
       "      <td>2218</td>\n",
       "      <td>4</td>\n",
       "    </tr>\n",
       "    <tr>\n",
       "      <th>children-in-law:parents-in-law</th>\n",
       "      <td>588</td>\n",
       "      <td>5159</td>\n",
       "    </tr>\n",
       "    <tr>\n",
       "      <th>friends:friends</th>\n",
       "      <td>5387</td>\n",
       "      <td>353</td>\n",
       "    </tr>\n",
       "    <tr>\n",
       "      <th>neighbor:neighbor</th>\n",
       "      <td>5292</td>\n",
       "      <td>79</td>\n",
       "    </tr>\n",
       "    <tr>\n",
       "      <th>subordinate:nurse</th>\n",
       "      <td>172</td>\n",
       "      <td>100</td>\n",
       "    </tr>\n",
       "    <tr>\n",
       "      <th>nurse:subordinate</th>\n",
       "      <td>422</td>\n",
       "      <td>0</td>\n",
       "    </tr>\n",
       "    <tr>\n",
       "      <th>grandparents:grandchildren</th>\n",
       "      <td>320</td>\n",
       "      <td>0</td>\n",
       "    </tr>\n",
       "    <tr>\n",
       "      <th>grandchildren:grandparents</th>\n",
       "      <td>38</td>\n",
       "      <td>275</td>\n",
       "    </tr>\n",
       "    <tr>\n",
       "      <th>spouse:spouse</th>\n",
       "      <td>9910</td>\n",
       "      <td>512</td>\n",
       "    </tr>\n",
       "    <tr>\n",
       "      <th>relative:relative</th>\n",
       "      <td>3261</td>\n",
       "      <td>283</td>\n",
       "    </tr>\n",
       "    <tr>\n",
       "      <th>siblings:siblings</th>\n",
       "      <td>441</td>\n",
       "      <td>0</td>\n",
       "    </tr>\n",
       "    <tr>\n",
       "      <th>acquaintance:acquaintance</th>\n",
       "      <td>702</td>\n",
       "      <td>135</td>\n",
       "    </tr>\n",
       "    <tr>\n",
       "      <th>children:parents</th>\n",
       "      <td>246</td>\n",
       "      <td>772</td>\n",
       "    </tr>\n",
       "    <tr>\n",
       "      <th>parents:children</th>\n",
       "      <td>1105</td>\n",
       "      <td>2</td>\n",
       "    </tr>\n",
       "    <tr>\n",
       "      <th>classmate:classmate</th>\n",
       "      <td>1924</td>\n",
       "      <td>140</td>\n",
       "    </tr>\n",
       "  </tbody>\n",
       "</table>\n",
       "</div>"
      ],
      "text/plain": [
       "                                   你     您\n",
       "parents-in-law:children-in-law  2218     4\n",
       "children-in-law:parents-in-law   588  5159\n",
       "friends:friends                 5387   353\n",
       "neighbor:neighbor               5292    79\n",
       "subordinate:nurse                172   100\n",
       "nurse:subordinate                422     0\n",
       "grandparents:grandchildren       320     0\n",
       "grandchildren:grandparents        38   275\n",
       "spouse:spouse                   9910   512\n",
       "relative:relative               3261   283\n",
       "siblings:siblings                441     0\n",
       "acquaintance:acquaintance        702   135\n",
       "children:parents                 246   772\n",
       "parents:children                1105     2\n",
       "classmate:classmate             1924   140"
      ]
     },
     "execution_count": 13,
     "metadata": {},
     "output_type": "execute_result"
    }
   ],
   "source": [
    "#Present data as an observation table\n",
    "rel_df = pd.DataFrame(rel_dict_2)\n",
    "rel_df"
   ]
  },
  {
   "cell_type": "code",
   "execution_count": 14,
   "id": "38262fb8",
   "metadata": {},
   "outputs": [
    {
     "name": "stdout",
     "output_type": "stream",
     "text": [
      "p value is 0.0\n",
      "Dependent (reject H0)\n"
     ]
    }
   ],
   "source": [
    "from scipy.stats import chi2_contingency\n",
    "\n",
    "# defining the table\n",
    "stat, p, dof, expected = chi2_contingency(rel_df)\n",
    " \n",
    "# interpret p-value\n",
    "alpha = 0.05\n",
    "print(\"p value is \" + str(p))\n",
    "if p <= alpha:\n",
    "    print('Dependent (reject H0)')\n",
    "else:\n",
    "    print('Independent (H0 holds true)')"
   ]
  },
  {
   "cell_type": "markdown",
   "id": "d12db11d",
   "metadata": {},
   "source": [
    "Try to explore the other forms of data for more speaker information"
   ]
  },
  {
   "cell_type": "code",
   "execution_count": 19,
   "id": "8c8f813d",
   "metadata": {
    "collapsed": true
   },
   "outputs": [
    {
     "data": {
      "text/plain": [
       "['S 1: 哟，志国回来啦',\n",
       " 'S 2: 啊',\n",
       " 'S 1: 唉唉唉，钥匙拿着了么？',\n",
       " 'S 2: 拿着了',\n",
       " 'S 1: 拿着啦！嘿！……唉你干嘛呐？',\n",
       " 'S 2: 啊？',\n",
       " 'S 1: 啊干嘛呀？',\n",
       " 'S 2: 我爸在楼下拿晚报说话就回来，咱们趁这工夫，赶紧布置一下现场',\n",
       " 'S 1: ……什么呀说什么呐？',\n",
       " 'S 2: 我路上就想好了，咱要不把他哄顺溜了，他能把咱们留下么',\n",
       " 'S 1: 唉唉唉，不是，你不是拿着钥匙了么？',\n",
       " 'S 2: 是拿着了',\n",
       " 'S 1: 啊两室一厅',\n",
       " 'S 2: 没错两室一厅……',\n",
       " 'S 1: 啊',\n",
       " 'S 2: 跟人合住',\n",
       " 'S 1: 什么？……怎么又改主意啦？不是说好了嘛？',\n",
       " 'S 2: 是说好了，他又变了呀，他计划更好也赶不上变化呀……',\n",
       " 'S 1: 唉你们单位领导怎么说话不算话呀……',\n",
       " 'S 2: 谁说不是呢，当时气的我真想跟他们拼了',\n",
       " 'S 1: 拼了没有啊？',\n",
       " 'S 2: 我要拼了我还能在家擦地么我……不瞒你说，我们领导啊，侦察兵出身，奇袭白虎团的时候，他就跟着一块儿去了',\n",
       " 'S 1: 嗨',\n",
       " 'S 2: 打我这样儿的，一次八个……',\n",
       " 'S 1: 那别跟人家拼了，那怎么办呐？爸说话就回来咱怎么跟爸说呀？',\n",
       " 'S 2: 赶紧拿出点儿实际行动来吧，收拾收拾屋子呀……',\n",
       " 'S 1: 唉唉……',\n",
       " 'S 3: 这个志国回来啦',\n",
       " 'S 2: 啊，回来了',\n",
       " 'S 3: 啊……啊你们这干什么呐？',\n",
       " 'S 1: 啊爸，您您歇着您的，我们归置归置----忒乱了',\n",
       " 'S 3: 这个乱点好啊，舒服嘛',\n",
       " 'S 2: 别介爸，还是归置归置吧',\n",
       " 'S 3: 有什么好归置的？啊？就让它乱着吧，这些破烂我也不打算要了，志国',\n",
       " 'S 2: 啊？',\n",
       " 'S 3: 钥匙拿到没有',\n",
       " 'S 2: 啊爸……',\n",
       " 'S 3: 你们准备什么搬家呀？',\n",
       " 'S 2: 我……',\n",
       " 'S 3: 要不要我给你们联系一下搬家公司，只要打个电话，他们是随叫随到',\n",
       " 'S 2: 爸不忙不忙不忙……',\n",
       " 'S 3: 不忙啊？我可忙',\n",
       " 'S 1: 啊？',\n",
       " 'S 3: 等你们搬走了以后，我还得找人，装修房子，买家具重新布置房子，我可是有点儿等不及了啊',\n",
       " 'S 4: ……']"
      ]
     },
     "execution_count": 19,
     "metadata": {},
     "output_type": "execute_result"
    }
   ],
   "source": [
    "train_df[0][0]"
   ]
  },
  {
   "cell_type": "code",
   "execution_count": 2,
   "id": "b12410a0",
   "metadata": {},
   "outputs": [
    {
     "name": "stdout",
     "output_type": "stream",
     "text": [
      "exportCRT.py  final.json                     Untitled.ipynb\r\n",
      "final_0.json  final_with_speaker_names.json\r\n"
     ]
    }
   ],
   "source": [
    "%ls ../CRECIL/My_home_data/ "
   ]
  },
  {
   "cell_type": "code",
   "execution_count": 25,
   "id": "7447c152",
   "metadata": {},
   "outputs": [],
   "source": [
    "%less ../CRECIL/My_home_data/final.json"
   ]
  },
  {
   "cell_type": "code",
   "execution_count": 3,
   "id": "e61c014b",
   "metadata": {},
   "outputs": [],
   "source": [
    "with open('../CRECIL/My_home_data/final_with_speaker_names.json','r') as infile:\n",
    "    final_with_speaker_names = json.loads(infile.read())\n",
    " "
   ]
  },
  {
   "cell_type": "code",
   "execution_count": 4,
   "id": "b0603aaf",
   "metadata": {},
   "outputs": [
    {
     "data": {
      "text/plain": [
       "[{'x': '贾圆圆', 'y': '贾志国', 'r': ['per:children'], 'rid': [1]},\n",
       " {'x': '贾圆圆', 'y': '贾志新', 'r': ['per:relative'], 'rid': [29]},\n",
       " {'x': '贾圆圆', 'y': '贾小凡', 'r': ['per:relative'], 'rid': [29]},\n",
       " {'x': '贾圆圆', 'y': '和平', 'r': ['per:children'], 'rid': [1]},\n",
       " {'x': '贾圆圆', 'y': '傅明', 'r': ['per:grandchildren'], 'rid': [25]},\n",
       " {'x': '贾圆圆', 'y': '小张', 'r': ['unanswerable'], 'rid': [31]},\n",
       " {'x': '贾圆圆', 'y': '二哥', 'r': ['per:relative'], 'rid': [29]},\n",
       " {'x': '贾圆圆', 'y': '孩子', 'r': ['per:alternate_name'], 'rid': [0]},\n",
       " {'x': '贾圆圆', 'y': '老同志', 'r': ['per:grandchildren'], 'rid': [25]},\n",
       " {'x': '贾圆圆', 'y': '和平', 'r': ['per:children'], 'rid': [1]},\n",
       " {'x': '贾志国', 'y': '贾圆圆', 'r': ['per:parents'], 'rid': [2]},\n",
       " {'x': '贾志国', 'y': '贾志新', 'r': ['per:siblings'], 'rid': [22]},\n",
       " {'x': '贾志国', 'y': '贾小凡', 'r': ['per:siblings'], 'rid': [22]},\n",
       " {'x': '贾志国', 'y': '和平', 'r': ['per:spouse'], 'rid': [23]},\n",
       " {'x': '贾志国', 'y': '傅明', 'r': ['per:children'], 'rid': [1]},\n",
       " {'x': '贾志国', 'y': '小张', 'r': ['unanswerable'], 'rid': [31]},\n",
       " {'x': '贾志国', 'y': '二哥', 'r': ['per:siblings'], 'rid': [22]},\n",
       " {'x': '贾志国', 'y': '孩子', 'r': ['per:parents'], 'rid': [2]},\n",
       " {'x': '贾志国', 'y': '老同志', 'r': ['per:children'], 'rid': [1]},\n",
       " {'x': '贾志国', 'y': '和平', 'r': ['per:spouse'], 'rid': [23]},\n",
       " {'x': '贾志新', 'y': '贾圆圆', 'r': ['per:relative'], 'rid': [29]},\n",
       " {'x': '贾志新', 'y': '贾志国', 'r': ['per:siblings'], 'rid': [22]},\n",
       " {'x': '贾志新', 'y': '贾小凡', 'r': ['per:siblings'], 'rid': [22]},\n",
       " {'x': '贾志新', 'y': '和平', 'r': ['per:relative'], 'rid': [29]},\n",
       " {'x': '贾志新', 'y': '傅明', 'r': ['per:children'], 'rid': [1]},\n",
       " {'x': '贾志新', 'y': '小张', 'r': ['per:subordinate'], 'rid': [20]},\n",
       " {'x': '贾志新', 'y': '二哥', 'r': ['per:alternate_name'], 'rid': [0]},\n",
       " {'x': '贾志新', 'y': '孩子', 'r': ['per:relative'], 'rid': [29]},\n",
       " {'x': '贾志新', 'y': '老同志', 'r': ['per:children'], 'rid': [1]},\n",
       " {'x': '贾志新', 'y': '和平', 'r': ['per:relative'], 'rid': [29]},\n",
       " {'x': '贾小凡', 'y': '贾圆圆', 'r': ['per:relative'], 'rid': [29]},\n",
       " {'x': '贾小凡', 'y': '贾志国', 'r': ['per:siblings'], 'rid': [22]},\n",
       " {'x': '贾小凡', 'y': '贾志新', 'r': ['per:siblings'], 'rid': [22]},\n",
       " {'x': '贾小凡', 'y': '和平', 'r': ['per:relative'], 'rid': [29]},\n",
       " {'x': '贾小凡', 'y': '傅明', 'r': ['per:children'], 'rid': [1]},\n",
       " {'x': '贾小凡', 'y': '小张', 'r': ['unanswerable'], 'rid': [31]},\n",
       " {'x': '贾小凡', 'y': '二哥', 'r': ['per:siblings'], 'rid': [22]},\n",
       " {'x': '贾小凡', 'y': '孩子', 'r': ['per:relative'], 'rid': [29]},\n",
       " {'x': '贾小凡', 'y': '老同志', 'r': ['per:children'], 'rid': [1]},\n",
       " {'x': '贾小凡', 'y': '和平', 'r': ['per:relative'], 'rid': [29]},\n",
       " {'x': '和平', 'y': '贾圆圆', 'r': ['per:parents'], 'rid': [2]},\n",
       " {'x': '和平', 'y': '贾志国', 'r': ['per:spouse'], 'rid': [23]},\n",
       " {'x': '和平', 'y': '贾志新', 'r': ['per:relative'], 'rid': [29]},\n",
       " {'x': '和平', 'y': '贾小凡', 'r': ['per:relative'], 'rid': [29]},\n",
       " {'x': '和平', 'y': '傅明', 'r': ['per:children-in-law'], 'rid': [16]},\n",
       " {'x': '和平', 'y': '小张', 'r': ['unanswerable'], 'rid': [31]},\n",
       " {'x': '和平', 'y': '二哥', 'r': ['per:relative'], 'rid': [29]},\n",
       " {'x': '和平', 'y': '孩子', 'r': ['per:parents'], 'rid': [2]},\n",
       " {'x': '和平', 'y': '老同志', 'r': ['per:children-in-law'], 'rid': [16]},\n",
       " {'x': '傅明', 'y': '贾圆圆', 'r': ['per:grandparents'], 'rid': [24]},\n",
       " {'x': '傅明', 'y': '贾志国', 'r': ['per:parents'], 'rid': [2]},\n",
       " {'x': '傅明', 'y': '贾志新', 'r': ['per:parents'], 'rid': [2]},\n",
       " {'x': '傅明', 'y': '贾小凡', 'r': ['per:parents'], 'rid': [2]},\n",
       " {'x': '傅明', 'y': '和平', 'r': ['per:parents-in-law'], 'rid': [15]},\n",
       " {'x': '傅明', 'y': '小张', 'r': ['unanswerable'], 'rid': [31]},\n",
       " {'x': '傅明', 'y': '二哥', 'r': ['per:parents'], 'rid': [2]},\n",
       " {'x': '傅明', 'y': '孩子', 'r': ['per:grandparents'], 'rid': [24]},\n",
       " {'x': '傅明', 'y': '老同志', 'r': ['per:alternate_name'], 'rid': [0]},\n",
       " {'x': '傅明', 'y': '和平', 'r': ['per:parents-in-law'], 'rid': [15]},\n",
       " {'x': '小张', 'y': '贾圆圆', 'r': ['per:nurse'], 'rid': [14]},\n",
       " {'x': '小张', 'y': '贾志国', 'r': ['per:nurse'], 'rid': [14]},\n",
       " {'x': '小张', 'y': '贾志新', 'r': ['per:nurse'], 'rid': [14]},\n",
       " {'x': '小张', 'y': '贾小凡', 'r': ['per:nurse'], 'rid': [14]},\n",
       " {'x': '小张', 'y': '和平', 'r': ['per:nurse'], 'rid': [14]},\n",
       " {'x': '小张', 'y': '傅明', 'r': ['per:nurse'], 'rid': [14]},\n",
       " {'x': '小张', 'y': '二哥', 'r': ['per:nurse'], 'rid': [14]},\n",
       " {'x': '小张', 'y': '孩子', 'r': ['per:nurse'], 'rid': [14]},\n",
       " {'x': '小张', 'y': '老同志', 'r': ['per:nurse'], 'rid': [14]},\n",
       " {'x': '小张', 'y': '和平', 'r': ['per:nurse'], 'rid': [14]},\n",
       " {'x': '二哥', 'y': '贾圆圆', 'r': ['per:relative'], 'rid': [29]},\n",
       " {'x': '二哥', 'y': '贾志国', 'r': ['per:siblings'], 'rid': [22]},\n",
       " {'x': '二哥', 'y': '贾志新', 'r': ['per:alternate_name'], 'rid': [0]},\n",
       " {'x': '二哥', 'y': '贾小凡', 'r': ['per:siblings'], 'rid': [22]},\n",
       " {'x': '二哥', 'y': '和平', 'r': ['per:relative'], 'rid': [29]},\n",
       " {'x': '二哥', 'y': '傅明', 'r': ['per:children'], 'rid': [1]},\n",
       " {'x': '二哥', 'y': '小张', 'r': ['per:subordinate'], 'rid': [20]},\n",
       " {'x': '二哥', 'y': '孩子', 'r': ['per:relative'], 'rid': [29]},\n",
       " {'x': '二哥', 'y': '老同志', 'r': ['per:children'], 'rid': [1]},\n",
       " {'x': '二哥', 'y': '和平', 'r': ['per:relative'], 'rid': [29]},\n",
       " {'x': '孩子', 'y': '贾圆圆', 'r': ['per:alternate_name'], 'rid': [0]},\n",
       " {'x': '孩子', 'y': '贾志国', 'r': ['per:children'], 'rid': [1]},\n",
       " {'x': '孩子', 'y': '贾志新', 'r': ['per:relative'], 'rid': [29]},\n",
       " {'x': '孩子', 'y': '贾小凡', 'r': ['per:relative'], 'rid': [29]},\n",
       " {'x': '孩子', 'y': '和平', 'r': ['per:children'], 'rid': [1]},\n",
       " {'x': '孩子', 'y': '傅明', 'r': ['per:grandchildren'], 'rid': [25]},\n",
       " {'x': '孩子', 'y': '小张', 'r': ['unanswerable'], 'rid': [31]},\n",
       " {'x': '孩子', 'y': '二哥', 'r': ['per:relative'], 'rid': [29]},\n",
       " {'x': '孩子', 'y': '老同志', 'r': ['per:grandchildren'], 'rid': [25]},\n",
       " {'x': '孩子', 'y': '和平', 'r': ['per:children'], 'rid': [1]},\n",
       " {'x': '老同志', 'y': '贾圆圆', 'r': ['per:grandparents'], 'rid': [24]},\n",
       " {'x': '老同志', 'y': '贾志国', 'r': ['per:parents'], 'rid': [2]},\n",
       " {'x': '老同志', 'y': '贾志新', 'r': ['per:parents'], 'rid': [2]},\n",
       " {'x': '老同志', 'y': '贾小凡', 'r': ['per:parents'], 'rid': [2]},\n",
       " {'x': '老同志', 'y': '和平', 'r': ['per:parents-in-law'], 'rid': [15]},\n",
       " {'x': '老同志', 'y': '傅明', 'r': ['per:alternate_name'], 'rid': [0]},\n",
       " {'x': '老同志', 'y': '小张', 'r': ['unanswerable'], 'rid': [31]},\n",
       " {'x': '老同志', 'y': '二哥', 'r': ['per:parents'], 'rid': [2]},\n",
       " {'x': '老同志', 'y': '孩子', 'r': ['per:grandparents'], 'rid': [24]},\n",
       " {'x': '老同志', 'y': '和平', 'r': ['per:parents-in-law'], 'rid': [15]},\n",
       " {'x': '和平', 'y': '贾圆圆', 'r': ['per:parents'], 'rid': [2]},\n",
       " {'x': '和平', 'y': '贾志国', 'r': ['per:spouse'], 'rid': [23]},\n",
       " {'x': '和平', 'y': '贾志新', 'r': ['per:relative'], 'rid': [29]},\n",
       " {'x': '和平', 'y': '贾小凡', 'r': ['per:relative'], 'rid': [29]},\n",
       " {'x': '和平', 'y': '傅明', 'r': ['per:children-in-law'], 'rid': [16]},\n",
       " {'x': '和平', 'y': '小张', 'r': ['unanswerable'], 'rid': [31]},\n",
       " {'x': '和平', 'y': '二哥', 'r': ['per:relative'], 'rid': [29]},\n",
       " {'x': '和平', 'y': '孩子', 'r': ['per:parents'], 'rid': [2]},\n",
       " {'x': '和平', 'y': '老同志', 'r': ['per:children-in-law'], 'rid': [16]}]"
      ]
     },
     "execution_count": 4,
     "metadata": {},
     "output_type": "execute_result"
    }
   ],
   "source": [
    "final_with_speaker_names[0][1]"
   ]
  },
  {
   "cell_type": "code",
   "execution_count": 4,
   "id": "d7f7ba40",
   "metadata": {},
   "outputs": [],
   "source": [
    "with open('../CRECIL/My_home_data/final.json','r') as infile:\n",
    "    final_json = json.loads(infile.read())"
   ]
  },
  {
   "cell_type": "code",
   "execution_count": 86,
   "id": "b84a9161",
   "metadata": {
    "collapsed": true
   },
   "outputs": [
    {
     "data": {
      "text/plain": [
       "[{'x': 'S 1', 'y': 'S 2', 'r': ['per:children'], 'rid': [1]},\n",
       " {'x': 'S 1', 'y': 'S 3', 'r': ['per:relative'], 'rid': [29]},\n",
       " {'x': 'S 1', 'y': 'S 4', 'r': ['per:relative'], 'rid': [29]},\n",
       " {'x': 'S 1', 'y': 'S 5', 'r': ['per:children'], 'rid': [1]},\n",
       " {'x': 'S 1', 'y': 'S 6', 'r': ['per:grandchildren'], 'rid': [25]},\n",
       " {'x': 'S 1', 'y': '小张', 'r': ['unanswerable'], 'rid': [31]},\n",
       " {'x': 'S 1', 'y': '二哥', 'r': ['per:relative'], 'rid': [29]},\n",
       " {'x': 'S 1', 'y': '孩子', 'r': ['per:alternate_name'], 'rid': [0]},\n",
       " {'x': 'S 1', 'y': '老同志', 'r': ['per:grandchildren'], 'rid': [25]},\n",
       " {'x': 'S 1', 'y': '和平', 'r': ['per:children'], 'rid': [1]},\n",
       " {'x': 'S 2', 'y': 'S 1', 'r': ['per:parents'], 'rid': [2]},\n",
       " {'x': 'S 2', 'y': 'S 3', 'r': ['per:siblings'], 'rid': [22]},\n",
       " {'x': 'S 2', 'y': 'S 4', 'r': ['per:siblings'], 'rid': [22]},\n",
       " {'x': 'S 2', 'y': 'S 5', 'r': ['per:spouse'], 'rid': [23]},\n",
       " {'x': 'S 2', 'y': 'S 6', 'r': ['per:children'], 'rid': [1]},\n",
       " {'x': 'S 2', 'y': '小张', 'r': ['unanswerable'], 'rid': [31]},\n",
       " {'x': 'S 2', 'y': '二哥', 'r': ['per:siblings'], 'rid': [22]},\n",
       " {'x': 'S 2', 'y': '孩子', 'r': ['per:parents'], 'rid': [2]},\n",
       " {'x': 'S 2', 'y': '老同志', 'r': ['per:children'], 'rid': [1]},\n",
       " {'x': 'S 2', 'y': '和平', 'r': ['per:spouse'], 'rid': [23]},\n",
       " {'x': 'S 3', 'y': 'S 1', 'r': ['per:relative'], 'rid': [29]},\n",
       " {'x': 'S 3', 'y': 'S 2', 'r': ['per:siblings'], 'rid': [22]},\n",
       " {'x': 'S 3', 'y': 'S 4', 'r': ['per:siblings'], 'rid': [22]},\n",
       " {'x': 'S 3', 'y': 'S 5', 'r': ['per:relative'], 'rid': [29]},\n",
       " {'x': 'S 3', 'y': 'S 6', 'r': ['per:children'], 'rid': [1]},\n",
       " {'x': 'S 3',\n",
       "  'y': '小张',\n",
       "  'r': ['per:subordinate', 'per:boss'],\n",
       "  'rid': [20, 21]},\n",
       " {'x': 'S 3', 'y': '二哥', 'r': ['per:alternate_name'], 'rid': [0]},\n",
       " {'x': 'S 3', 'y': '孩子', 'r': ['per:relative'], 'rid': [29]},\n",
       " {'x': 'S 3', 'y': '老同志', 'r': ['per:children'], 'rid': [1]},\n",
       " {'x': 'S 3', 'y': '和平', 'r': ['per:relative'], 'rid': [29]},\n",
       " {'x': 'S 4', 'y': 'S 1', 'r': ['per:relative'], 'rid': [29]},\n",
       " {'x': 'S 4', 'y': 'S 2', 'r': ['per:siblings'], 'rid': [22]},\n",
       " {'x': 'S 4', 'y': 'S 3', 'r': ['per:siblings'], 'rid': [22]},\n",
       " {'x': 'S 4', 'y': 'S 5', 'r': ['per:relative'], 'rid': [29]},\n",
       " {'x': 'S 4', 'y': 'S 6', 'r': ['per:children'], 'rid': [1]},\n",
       " {'x': 'S 4', 'y': '小张', 'r': ['unanswerable'], 'rid': [31]},\n",
       " {'x': 'S 4', 'y': '二哥', 'r': ['per:siblings'], 'rid': [22]},\n",
       " {'x': 'S 4', 'y': '孩子', 'r': ['per:relative'], 'rid': [29]},\n",
       " {'x': 'S 4', 'y': '老同志', 'r': ['per:children'], 'rid': [1]},\n",
       " {'x': 'S 4', 'y': '和平', 'r': ['per:relative'], 'rid': [29]},\n",
       " {'x': 'S 5', 'y': 'S 1', 'r': ['per:parents'], 'rid': [2]},\n",
       " {'x': 'S 5', 'y': 'S 2', 'r': ['per:spouse'], 'rid': [23]},\n",
       " {'x': 'S 5', 'y': 'S 3', 'r': ['per:relative'], 'rid': [29]},\n",
       " {'x': 'S 5', 'y': 'S 4', 'r': ['per:relative'], 'rid': [29]},\n",
       " {'x': 'S 5', 'y': 'S 6', 'r': ['per:children-in-law'], 'rid': [16]},\n",
       " {'x': 'S 5', 'y': '小张', 'r': ['unanswerable'], 'rid': [31]},\n",
       " {'x': 'S 5', 'y': '二哥', 'r': ['per:relative'], 'rid': [29]},\n",
       " {'x': 'S 5', 'y': '孩子', 'r': ['per:parents'], 'rid': [2]},\n",
       " {'x': 'S 5', 'y': '老同志', 'r': ['per:children-in-law'], 'rid': [16]},\n",
       " {'x': 'S 5', 'y': '和平', 'r': ['per:alternate_name'], 'rid': [0]},\n",
       " {'x': 'S 6', 'y': 'S 1', 'r': ['per:grandparents'], 'rid': [24]},\n",
       " {'x': 'S 6', 'y': 'S 2', 'r': ['per:parents'], 'rid': [2]},\n",
       " {'x': 'S 6', 'y': 'S 3', 'r': ['per:parents'], 'rid': [2]},\n",
       " {'x': 'S 6', 'y': 'S 4', 'r': ['per:parents'], 'rid': [2]},\n",
       " {'x': 'S 6', 'y': 'S 5', 'r': ['per:parents-in-law'], 'rid': [15]},\n",
       " {'x': 'S 6', 'y': '小张', 'r': ['unanswerable'], 'rid': [31]},\n",
       " {'x': 'S 6', 'y': '二哥', 'r': ['per:parents'], 'rid': [2]},\n",
       " {'x': 'S 6', 'y': '孩子', 'r': ['per:grandparents'], 'rid': [24]},\n",
       " {'x': 'S 6', 'y': '老同志', 'r': ['per:alternate_name'], 'rid': [0]},\n",
       " {'x': 'S 6', 'y': '和平', 'r': ['per:parents-in-law'], 'rid': [15]},\n",
       " {'x': '小张', 'y': 'S 1', 'r': ['per:nurse'], 'rid': [14]},\n",
       " {'x': '小张', 'y': 'S 2', 'r': ['per:nurse'], 'rid': [14]},\n",
       " {'x': '小张',\n",
       "  'y': 'S 3',\n",
       "  'r': ['per:nurse', 'per:subordinate', 'per:boss'],\n",
       "  'rid': [14, 20, 21]},\n",
       " {'x': '小张', 'y': 'S 4', 'r': ['per:nurse'], 'rid': [14]},\n",
       " {'x': '小张', 'y': 'S 5', 'r': ['per:nurse'], 'rid': [14]},\n",
       " {'x': '小张', 'y': 'S 6', 'r': ['per:nurse'], 'rid': [14]},\n",
       " {'x': '小张',\n",
       "  'y': '二哥',\n",
       "  'r': ['per:nurse', 'per:subordinate', 'per:boss'],\n",
       "  'rid': [14, 20, 21]},\n",
       " {'x': '小张', 'y': '孩子', 'r': ['per:nurse'], 'rid': [14]},\n",
       " {'x': '小张', 'y': '老同志', 'r': ['per:nurse'], 'rid': [14]},\n",
       " {'x': '小张', 'y': '和平', 'r': ['per:nurse'], 'rid': [14]},\n",
       " {'x': '二哥', 'y': 'S 1', 'r': ['per:relative'], 'rid': [29]},\n",
       " {'x': '二哥', 'y': 'S 2', 'r': ['per:siblings'], 'rid': [22]},\n",
       " {'x': '二哥', 'y': 'S 3', 'r': ['per:alternate_name'], 'rid': [0]},\n",
       " {'x': '二哥', 'y': 'S 4', 'r': ['per:siblings'], 'rid': [22]},\n",
       " {'x': '二哥', 'y': 'S 5', 'r': ['per:relative'], 'rid': [29]},\n",
       " {'x': '二哥', 'y': 'S 6', 'r': ['per:children'], 'rid': [1]},\n",
       " {'x': '二哥', 'y': '小张', 'r': ['per:subordinate', 'per:boss'], 'rid': [20, 21]},\n",
       " {'x': '二哥', 'y': '孩子', 'r': ['per:relative'], 'rid': [29]},\n",
       " {'x': '二哥', 'y': '老同志', 'r': ['per:children'], 'rid': [1]},\n",
       " {'x': '二哥', 'y': '和平', 'r': ['per:relative'], 'rid': [29]},\n",
       " {'x': '孩子', 'y': 'S 1', 'r': ['per:alternate_name'], 'rid': [0]},\n",
       " {'x': '孩子', 'y': 'S 2', 'r': ['per:children'], 'rid': [1]},\n",
       " {'x': '孩子', 'y': 'S 3', 'r': ['per:relative'], 'rid': [29]},\n",
       " {'x': '孩子', 'y': 'S 4', 'r': ['per:relative'], 'rid': [29]},\n",
       " {'x': '孩子', 'y': 'S 5', 'r': ['per:children'], 'rid': [1]},\n",
       " {'x': '孩子', 'y': 'S 6', 'r': ['per:grandchildren'], 'rid': [25]},\n",
       " {'x': '孩子', 'y': '小张', 'r': ['unanswerable'], 'rid': [31]},\n",
       " {'x': '孩子', 'y': '二哥', 'r': ['per:relative'], 'rid': [29]},\n",
       " {'x': '孩子', 'y': '老同志', 'r': ['per:grandchildren'], 'rid': [25]},\n",
       " {'x': '孩子', 'y': '和平', 'r': ['per:children'], 'rid': [1]},\n",
       " {'x': '老同志', 'y': 'S 1', 'r': ['per:grandparents'], 'rid': [24]},\n",
       " {'x': '老同志', 'y': 'S 2', 'r': ['per:parents'], 'rid': [2]},\n",
       " {'x': '老同志', 'y': 'S 3', 'r': ['per:parents'], 'rid': [2]},\n",
       " {'x': '老同志', 'y': 'S 4', 'r': ['per:parents'], 'rid': [2]},\n",
       " {'x': '老同志', 'y': 'S 5', 'r': ['per:parents-in-law'], 'rid': [15]},\n",
       " {'x': '老同志', 'y': 'S 6', 'r': ['per:alternate_name'], 'rid': [0]},\n",
       " {'x': '老同志', 'y': '小张', 'r': ['unanswerable'], 'rid': [31]},\n",
       " {'x': '老同志', 'y': '二哥', 'r': ['per:parents'], 'rid': [2]},\n",
       " {'x': '老同志', 'y': '孩子', 'r': ['per:grandparents'], 'rid': [24]},\n",
       " {'x': '老同志', 'y': '和平', 'r': ['per:parents-in-law'], 'rid': [15]},\n",
       " {'x': '和平', 'y': 'S 1', 'r': ['per:parents'], 'rid': [2]},\n",
       " {'x': '和平', 'y': 'S 2', 'r': ['per:spouse'], 'rid': [23]},\n",
       " {'x': '和平', 'y': 'S 3', 'r': ['per:relative'], 'rid': [29]},\n",
       " {'x': '和平', 'y': 'S 4', 'r': ['per:relative'], 'rid': [29]},\n",
       " {'x': '和平', 'y': 'S 5', 'r': ['per:alternate_name'], 'rid': [0]},\n",
       " {'x': '和平', 'y': 'S 6', 'r': ['per:children-in-law'], 'rid': [16]},\n",
       " {'x': '和平', 'y': '小张', 'r': ['unanswerable'], 'rid': [31]},\n",
       " {'x': '和平', 'y': '二哥', 'r': ['per:relative'], 'rid': [29]},\n",
       " {'x': '和平', 'y': '孩子', 'r': ['per:parents'], 'rid': [2]},\n",
       " {'x': '和平', 'y': '老同志', 'r': ['per:children-in-law'], 'rid': [16]}]"
      ]
     },
     "execution_count": 86,
     "metadata": {},
     "output_type": "execute_result"
    }
   ],
   "source": [
    "final_json[0][1]"
   ]
  },
  {
   "cell_type": "markdown",
   "id": "dbe5036b",
   "metadata": {},
   "source": [
    "The following label is troubling. How can one be both the subordinate and boss of another? <br/>\n",
    " {'x': '小张',\n",
    "  'y': 'S 3',\n",
    "  'r': ['per:nurse', 'per:subordinate', 'per:boss'],\n",
    "  'rid': [14, 20, 21]}, <br/>\n",
    "  S3 is 二哥. 二哥 isn't listed anywhere as a real entity..."
   ]
  },
  {
   "cell_type": "code",
   "execution_count": 119,
   "id": "51bcfc8d",
   "metadata": {},
   "outputs": [],
   "source": [
    "#task: get all alternate_names from final_json\n",
    "pattern = re.compile('S\\s[0-9]')\n",
    "x = []\n",
    "y = []\n",
    "r = []\n",
    "for i in range(0,len(final_json)):\n",
    "    temp = final_json[i][1]\n",
    "    \n",
    "    for item in temp:\n",
    "        if (not bool(re.findall(pattern,item['x']))) and \\\n",
    "        (not bool(re.findall(pattern,item['y']))) and \\\n",
    "        (item['r'][0]=='per:alternate_name'):\n",
    "            x.append(item['x'])\n",
    "            y.append(item['y'])\n",
    "            r.append(item['r'])\n",
    "alt_names = pd.DataFrame(list(zip(x,y,r)),columns=['x','y','r'])"
   ]
  },
  {
   "cell_type": "code",
   "execution_count": 121,
   "id": "e5338548",
   "metadata": {},
   "outputs": [
    {
     "data": {
      "image/png": "[encoded data removed]",
      "text/plain": [
       "<Figure size 432x288 with 1 Axes>"
      ]
     },
     "metadata": {},
     "output_type": "display_data"
    }
   ],
   "source": [
    "G = nx.Graph()\n",
    "G.add_nodes_from([item for item in set(alt_names.x)])\n",
    "G.add_edges_from([(alt_names.x.iloc[i],alt_names.y.iloc[i]) for i in range(0,len(alt_names))])\n",
    "edge_labs = dict()\n",
    "for i in range(0,len(alt_names)):\n",
    "    edge_labs[(alt_names.x.iloc[i],alt_names.y.iloc[i])] = alt_names.r.iloc[i] \n",
    "\n",
    "plt.rcParams['font.sans-serif'] = ['SimHei']\n",
    "\n",
    "pos = nx.spring_layout(G)\n",
    "plt.figure()\n",
    "nx.draw(\n",
    "    G, pos, edge_color='black', width=1, linewidths=1,\n",
    "    node_size=500, node_color='pink', alpha=0.9,\n",
    "    labels={node: node for node in G.nodes()}\n",
    ")\n",
    "nx.draw_networkx_edge_labels(\n",
    "    G, pos,\n",
    "    edge_labels= edge_labs,\n",
    "    font_color='red'\n",
    ")\n",
    "plt.axis('off')\n",
    "plt.show()"
   ]
  },
  {
   "cell_type": "markdown",
   "id": "eaea6c0f",
   "metadata": {},
   "source": [
    "There is an issue of a lot of overlap. It looks like some of these might be scene-specific. For example, 先生 is overloaded. <br/>\n",
    "<br/>\n",
    "Maybe not all is lost. What if I start out with a list of the main characters and use them as keys?"
   ]
  },
  {
   "cell_type": "code",
   "execution_count": 5,
   "id": "5f3eda6d",
   "metadata": {},
   "outputs": [
    {
     "ename": "NameError",
     "evalue": "name 'all_relations' is not defined",
     "output_type": "error",
     "traceback": [
      "\u001b[0;31m---------------------------------------------------------------------------\u001b[0m",
      "\u001b[0;31mNameError\u001b[0m                                 Traceback (most recent call last)",
      "\u001b[0;32m/tmp/ipykernel_3747711/3352603967.py\u001b[0m in \u001b[0;36m<module>\u001b[0;34m\u001b[0m\n\u001b[0;32m----> 1\u001b[0;31m \u001b[0mall_relations\u001b[0m\u001b[0;34m\u001b[0m\u001b[0;34m\u001b[0m\u001b[0m\n\u001b[0m",
      "\u001b[0;31mNameError\u001b[0m: name 'all_relations' is not defined"
     ]
    }
   ],
   "source": [
    "all_relations"
   ]
  },
  {
   "cell_type": "code",
   "execution_count": 134,
   "id": "f650fb40",
   "metadata": {},
   "outputs": [],
   "source": [
    "duplicates = all_relations[all_relations['relation']=='per:alternate_name']"
   ]
  },
  {
   "cell_type": "markdown",
   "id": "af65108e",
   "metadata": {},
   "source": [
    "Great, there are not duplicated left and right"
   ]
  },
  {
   "cell_type": "code",
   "execution_count": 135,
   "id": "43cea37e",
   "metadata": {},
   "outputs": [
    {
     "data": {
      "text/html": [
       "<div>\n",
       "<style scoped>\n",
       "    .dataframe tbody tr th:only-of-type {\n",
       "        vertical-align: middle;\n",
       "    }\n",
       "\n",
       "    .dataframe tbody tr th {\n",
       "        vertical-align: top;\n",
       "    }\n",
       "\n",
       "    .dataframe thead th {\n",
       "        text-align: right;\n",
       "    }\n",
       "</style>\n",
       "<table border=\"1\" class=\"dataframe\">\n",
       "  <thead>\n",
       "    <tr style=\"text-align: right;\">\n",
       "      <th></th>\n",
       "      <th>A</th>\n",
       "      <th>B</th>\n",
       "      <th>relation</th>\n",
       "    </tr>\n",
       "  </thead>\n",
       "  <tbody>\n",
       "    <tr>\n",
       "      <th>0</th>\n",
       "      <td>小晴</td>\n",
       "      <td>表妹</td>\n",
       "      <td>per:alternate_name</td>\n",
       "    </tr>\n",
       "    <tr>\n",
       "      <th>4</th>\n",
       "      <td>小许</td>\n",
       "      <td>许警察</td>\n",
       "      <td>per:alternate_name</td>\n",
       "    </tr>\n",
       "    <tr>\n",
       "      <th>43</th>\n",
       "      <td>老和</td>\n",
       "      <td>和平的母亲</td>\n",
       "      <td>per:alternate_name</td>\n",
       "    </tr>\n",
       "    <tr>\n",
       "      <th>91</th>\n",
       "      <td>余大妈</td>\n",
       "      <td>于大妈</td>\n",
       "      <td>per:alternate_name</td>\n",
       "    </tr>\n",
       "    <tr>\n",
       "      <th>92</th>\n",
       "      <td>小余</td>\n",
       "      <td>于大妈</td>\n",
       "      <td>per:alternate_name</td>\n",
       "    </tr>\n",
       "    <tr>\n",
       "      <th>101</th>\n",
       "      <td>刘建军</td>\n",
       "      <td>小刘</td>\n",
       "      <td>per:alternate_name</td>\n",
       "    </tr>\n",
       "    <tr>\n",
       "      <th>102</th>\n",
       "      <td>王佳</td>\n",
       "      <td>扣子</td>\n",
       "      <td>per:alternate_name</td>\n",
       "    </tr>\n",
       "    <tr>\n",
       "      <th>111</th>\n",
       "      <td>胡三</td>\n",
       "      <td>胡总</td>\n",
       "      <td>per:alternate_name</td>\n",
       "    </tr>\n",
       "    <tr>\n",
       "      <th>121</th>\n",
       "      <td>小陈儿</td>\n",
       "      <td>陈小红</td>\n",
       "      <td>per:alternate_name</td>\n",
       "    </tr>\n",
       "    <tr>\n",
       "      <th>159</th>\n",
       "      <td>陈爱兰</td>\n",
       "      <td>陈大妈</td>\n",
       "      <td>per:alternate_name</td>\n",
       "    </tr>\n",
       "    <tr>\n",
       "      <th>350</th>\n",
       "      <td>贾敬贤</td>\n",
       "      <td>傅明</td>\n",
       "      <td>per:alternate_name</td>\n",
       "    </tr>\n",
       "    <tr>\n",
       "      <th>356</th>\n",
       "      <td>骆日</td>\n",
       "      <td>小骆</td>\n",
       "      <td>per:alternate_name</td>\n",
       "    </tr>\n",
       "    <tr>\n",
       "      <th>384</th>\n",
       "      <td>孟朝辉</td>\n",
       "      <td>孟老师</td>\n",
       "      <td>per:alternate_name</td>\n",
       "    </tr>\n",
       "    <tr>\n",
       "      <th>395</th>\n",
       "      <td>胡学范</td>\n",
       "      <td>老胡</td>\n",
       "      <td>per:alternate_name</td>\n",
       "    </tr>\n",
       "    <tr>\n",
       "      <th>396</th>\n",
       "      <td>任远</td>\n",
       "      <td>小任姑娘</td>\n",
       "      <td>per:alternate_name</td>\n",
       "    </tr>\n",
       "    <tr>\n",
       "      <th>400</th>\n",
       "      <td>环球公司老李</td>\n",
       "      <td>李秘</td>\n",
       "      <td>per:alternate_name</td>\n",
       "    </tr>\n",
       "    <tr>\n",
       "      <th>402</th>\n",
       "      <td>郑千里</td>\n",
       "      <td>老郑</td>\n",
       "      <td>per:alternate_name</td>\n",
       "    </tr>\n",
       "    <tr>\n",
       "      <th>431</th>\n",
       "      <td>胡阿大</td>\n",
       "      <td>弱智</td>\n",
       "      <td>per:alternate_name</td>\n",
       "    </tr>\n",
       "  </tbody>\n",
       "</table>\n",
       "</div>"
      ],
      "text/plain": [
       "          A      B            relation\n",
       "0        小晴     表妹  per:alternate_name\n",
       "4        小许    许警察  per:alternate_name\n",
       "43       老和  和平的母亲  per:alternate_name\n",
       "91      余大妈    于大妈  per:alternate_name\n",
       "92       小余    于大妈  per:alternate_name\n",
       "101     刘建军     小刘  per:alternate_name\n",
       "102      王佳     扣子  per:alternate_name\n",
       "111      胡三     胡总  per:alternate_name\n",
       "121     小陈儿    陈小红  per:alternate_name\n",
       "159     陈爱兰    陈大妈  per:alternate_name\n",
       "350     贾敬贤     傅明  per:alternate_name\n",
       "356      骆日     小骆  per:alternate_name\n",
       "384     孟朝辉    孟老师  per:alternate_name\n",
       "395     胡学范     老胡  per:alternate_name\n",
       "396      任远   小任姑娘  per:alternate_name\n",
       "400  环球公司老李     李秘  per:alternate_name\n",
       "402     郑千里     老郑  per:alternate_name\n",
       "431     胡阿大     弱智  per:alternate_name"
      ]
     },
     "execution_count": 135,
     "metadata": {},
     "output_type": "execute_result"
    }
   ],
   "source": [
    "duplicates"
   ]
  },
  {
   "cell_type": "code",
   "execution_count": 115,
   "id": "8b3f6ed1",
   "metadata": {},
   "outputs": [
    {
     "data": {
      "text/plain": [
       "2538"
      ]
     },
     "execution_count": 115,
     "metadata": {},
     "output_type": "execute_result"
    }
   ],
   "source": [
    "alt_name_sorted = pd.DataFrame(alt_name_sorted,columns=['x','y'])\n",
    "len(alt_name_sorted)"
   ]
  },
  {
   "cell_type": "code",
   "execution_count": 116,
   "id": "432ed22f",
   "metadata": {},
   "outputs": [
    {
     "data": {
      "text/plain": [
       "837"
      ]
     },
     "execution_count": 116,
     "metadata": {},
     "output_type": "execute_result"
    }
   ],
   "source": [
    "alt_name_uniq = alt_name_sorted.drop_duplicates()\n",
    "len(alt_name_uniq)"
   ]
  },
  {
   "cell_type": "code",
   "execution_count": 107,
   "id": "2c8efef6",
   "metadata": {},
   "outputs": [
    {
     "data": {
      "text/html": [
       "<div>\n",
       "<style scoped>\n",
       "    .dataframe tbody tr th:only-of-type {\n",
       "        vertical-align: middle;\n",
       "    }\n",
       "\n",
       "    .dataframe tbody tr th {\n",
       "        vertical-align: top;\n",
       "    }\n",
       "\n",
       "    .dataframe thead th {\n",
       "        text-align: right;\n",
       "    }\n",
       "</style>\n",
       "<table border=\"1\" class=\"dataframe\">\n",
       "  <thead>\n",
       "    <tr style=\"text-align: right;\">\n",
       "      <th></th>\n",
       "      <th>x</th>\n",
       "      <th>y</th>\n",
       "      <th>r</th>\n",
       "    </tr>\n",
       "  </thead>\n",
       "  <tbody>\n",
       "    <tr>\n",
       "      <th>0</th>\n",
       "      <td>于大妈</td>\n",
       "      <td>小于</td>\n",
       "      <td>[per:alternate_name]</td>\n",
       "    </tr>\n",
       "    <tr>\n",
       "      <th>1</th>\n",
       "      <td>小于</td>\n",
       "      <td>于大妈</td>\n",
       "      <td>[per:alternate_name]</td>\n",
       "    </tr>\n",
       "    <tr>\n",
       "      <th>2</th>\n",
       "      <td>小凡姐</td>\n",
       "      <td>小凡</td>\n",
       "      <td>[per:alternate_name]</td>\n",
       "    </tr>\n",
       "    <tr>\n",
       "      <th>3</th>\n",
       "      <td>小凡姐</td>\n",
       "      <td>小姑</td>\n",
       "      <td>[per:alternate_name]</td>\n",
       "    </tr>\n",
       "    <tr>\n",
       "      <th>4</th>\n",
       "      <td>小凡</td>\n",
       "      <td>小凡姐</td>\n",
       "      <td>[per:alternate_name]</td>\n",
       "    </tr>\n",
       "  </tbody>\n",
       "</table>\n",
       "</div>"
      ],
      "text/plain": [
       "     x    y                     r\n",
       "0  于大妈   小于  [per:alternate_name]\n",
       "1   小于  于大妈  [per:alternate_name]\n",
       "2  小凡姐   小凡  [per:alternate_name]\n",
       "3  小凡姐   小姑  [per:alternate_name]\n",
       "4   小凡  小凡姐  [per:alternate_name]"
      ]
     },
     "execution_count": 107,
     "metadata": {},
     "output_type": "execute_result"
    }
   ],
   "source": [
    "alt_names.head()"
   ]
  },
  {
   "cell_type": "code",
   "execution_count": 29,
   "id": "5d90efbd",
   "metadata": {},
   "outputs": [],
   "source": [
    "test_relations_list = final_json[0][1]\n",
    "x = [item['x'] for item in test_relations_list]\n",
    "y = [item['y'] for item in test_relations_list]\n",
    "r = [item['r'][0] for item in test_relations_list]\n",
    "df1 = pd.DataFrame(list(zip(x,y,r)),columns=['x','y','r'])"
   ]
  },
  {
   "cell_type": "code",
   "execution_count": 30,
   "id": "8ff8aef3",
   "metadata": {
    "collapsed": true
   },
   "outputs": [
    {
     "name": "stdout",
     "output_type": "stream",
     "text": [
      "110\n"
     ]
    },
    {
     "data": {
      "text/html": [
       "<div>\n",
       "<style scoped>\n",
       "    .dataframe tbody tr th:only-of-type {\n",
       "        vertical-align: middle;\n",
       "    }\n",
       "\n",
       "    .dataframe tbody tr th {\n",
       "        vertical-align: top;\n",
       "    }\n",
       "\n",
       "    .dataframe thead th {\n",
       "        text-align: right;\n",
       "    }\n",
       "</style>\n",
       "<table border=\"1\" class=\"dataframe\">\n",
       "  <thead>\n",
       "    <tr style=\"text-align: right;\">\n",
       "      <th></th>\n",
       "      <th>x</th>\n",
       "      <th>y</th>\n",
       "      <th>r</th>\n",
       "    </tr>\n",
       "  </thead>\n",
       "  <tbody>\n",
       "    <tr>\n",
       "      <th>0</th>\n",
       "      <td>S 1</td>\n",
       "      <td>S 2</td>\n",
       "      <td>per:children</td>\n",
       "    </tr>\n",
       "    <tr>\n",
       "      <th>1</th>\n",
       "      <td>S 1</td>\n",
       "      <td>S 3</td>\n",
       "      <td>per:relative</td>\n",
       "    </tr>\n",
       "    <tr>\n",
       "      <th>2</th>\n",
       "      <td>S 1</td>\n",
       "      <td>S 4</td>\n",
       "      <td>per:relative</td>\n",
       "    </tr>\n",
       "    <tr>\n",
       "      <th>3</th>\n",
       "      <td>S 1</td>\n",
       "      <td>S 5</td>\n",
       "      <td>per:children</td>\n",
       "    </tr>\n",
       "    <tr>\n",
       "      <th>4</th>\n",
       "      <td>S 1</td>\n",
       "      <td>S 6</td>\n",
       "      <td>per:grandchildren</td>\n",
       "    </tr>\n",
       "  </tbody>\n",
       "</table>\n",
       "</div>"
      ],
      "text/plain": [
       "     x    y                  r\n",
       "0  S 1  S 2       per:children\n",
       "1  S 1  S 3       per:relative\n",
       "2  S 1  S 4       per:relative\n",
       "3  S 1  S 5       per:children\n",
       "4  S 1  S 6  per:grandchildren"
      ]
     },
     "execution_count": 30,
     "metadata": {},
     "output_type": "execute_result"
    }
   ],
   "source": [
    "print(len(df1))\n",
    "df1.head()"
   ]
  },
  {
   "cell_type": "code",
   "execution_count": 67,
   "id": "01308054",
   "metadata": {
    "collapsed": true
   },
   "outputs": [
    {
     "name": "stdout",
     "output_type": "stream",
     "text": [
      "       x    y                    r\n",
      "0    S 1  S 2         per:children\n",
      "1    S 1  S 3         per:relative\n",
      "2    S 1  S 4         per:relative\n",
      "3    S 1  S 5         per:children\n",
      "4    S 1  S 6    per:grandchildren\n",
      "5    S 1   小张         unanswerable\n",
      "6    S 1   二哥         per:relative\n",
      "7    S 1   孩子   per:alternate_name\n",
      "8    S 1  老同志    per:grandchildren\n",
      "9    S 1   和平         per:children\n",
      "10   S 2  S 1          per:parents\n",
      "11   S 2  S 3         per:siblings\n",
      "12   S 2  S 4         per:siblings\n",
      "13   S 2  S 5           per:spouse\n",
      "14   S 2  S 6         per:children\n",
      "15   S 2   小张         unanswerable\n",
      "16   S 2   二哥         per:siblings\n",
      "17   S 2   孩子          per:parents\n",
      "18   S 2  老同志         per:children\n",
      "19   S 2   和平           per:spouse\n",
      "20   S 3  S 1         per:relative\n",
      "21   S 3  S 2         per:siblings\n",
      "22   S 3  S 4         per:siblings\n",
      "23   S 3  S 5         per:relative\n",
      "24   S 3  S 6         per:children\n",
      "25   S 3   小张      per:subordinate\n",
      "26   S 3   二哥   per:alternate_name\n",
      "27   S 3   孩子         per:relative\n",
      "28   S 3  老同志         per:children\n",
      "29   S 3   和平         per:relative\n",
      "30   S 4  S 1         per:relative\n",
      "31   S 4  S 2         per:siblings\n",
      "32   S 4  S 3         per:siblings\n",
      "33   S 4  S 5         per:relative\n",
      "34   S 4  S 6         per:children\n",
      "35   S 4   小张         unanswerable\n",
      "36   S 4   二哥         per:siblings\n",
      "37   S 4   孩子         per:relative\n",
      "38   S 4  老同志         per:children\n",
      "39   S 4   和平         per:relative\n",
      "40   S 5  S 1          per:parents\n",
      "41   S 5  S 2           per:spouse\n",
      "42   S 5  S 3         per:relative\n",
      "43   S 5  S 4         per:relative\n",
      "44   S 5  S 6  per:children-in-law\n",
      "45   S 5   小张         unanswerable\n",
      "46   S 5   二哥         per:relative\n",
      "47   S 5   孩子          per:parents\n",
      "48   S 5  老同志  per:children-in-law\n",
      "49   S 5   和平   per:alternate_name\n",
      "50   S 6  S 1     per:grandparents\n",
      "51   S 6  S 2          per:parents\n",
      "52   S 6  S 3          per:parents\n",
      "53   S 6  S 4          per:parents\n",
      "54   S 6  S 5   per:parents-in-law\n",
      "55   S 6   小张         unanswerable\n",
      "56   S 6   二哥          per:parents\n",
      "57   S 6   孩子     per:grandparents\n",
      "58   S 6  老同志   per:alternate_name\n",
      "59   S 6   和平   per:parents-in-law\n",
      "60    小张  S 1            per:nurse\n",
      "61    小张  S 2            per:nurse\n",
      "62    小张  S 3            per:nurse\n",
      "63    小张  S 4            per:nurse\n",
      "64    小张  S 5            per:nurse\n",
      "65    小张  S 6            per:nurse\n",
      "66    小张   二哥            per:nurse\n",
      "67    小张   孩子            per:nurse\n",
      "68    小张  老同志            per:nurse\n",
      "69    小张   和平            per:nurse\n",
      "70    二哥  S 1         per:relative\n",
      "71    二哥  S 2         per:siblings\n",
      "72    二哥  S 3   per:alternate_name\n",
      "73    二哥  S 4         per:siblings\n",
      "74    二哥  S 5         per:relative\n",
      "75    二哥  S 6         per:children\n",
      "76    二哥   小张      per:subordinate\n",
      "77    二哥   孩子         per:relative\n",
      "78    二哥  老同志         per:children\n",
      "79    二哥   和平         per:relative\n",
      "80    孩子  S 1   per:alternate_name\n",
      "81    孩子  S 2         per:children\n",
      "82    孩子  S 3         per:relative\n",
      "83    孩子  S 4         per:relative\n",
      "84    孩子  S 5         per:children\n",
      "85    孩子  S 6    per:grandchildren\n",
      "86    孩子   小张         unanswerable\n",
      "87    孩子   二哥         per:relative\n",
      "88    孩子  老同志    per:grandchildren\n",
      "89    孩子   和平         per:children\n",
      "90   老同志  S 1     per:grandparents\n",
      "91   老同志  S 2          per:parents\n",
      "92   老同志  S 3          per:parents\n",
      "93   老同志  S 4          per:parents\n",
      "94   老同志  S 5   per:parents-in-law\n",
      "95   老同志  S 6   per:alternate_name\n",
      "96   老同志   小张         unanswerable\n",
      "97   老同志   二哥          per:parents\n",
      "98   老同志   孩子     per:grandparents\n",
      "99   老同志   和平   per:parents-in-law\n",
      "100   和平  S 1          per:parents\n",
      "101   和平  S 2           per:spouse\n",
      "102   和平  S 3         per:relative\n",
      "103   和平  S 4         per:relative\n",
      "104   和平  S 5   per:alternate_name\n",
      "105   和平  S 6  per:children-in-law\n",
      "106   和平   小张         unanswerable\n",
      "107   和平   二哥         per:relative\n",
      "108   和平   孩子          per:parents\n",
      "109   和平  老同志  per:children-in-law\n"
     ]
    }
   ],
   "source": [
    "with pd.option_context('display.max_rows', None, 'display.max_columns', None):  # more options can be specified also\n",
    "    print(df1)"
   ]
  },
  {
   "cell_type": "code",
   "execution_count": 6,
   "id": "6bb2d0ba",
   "metadata": {},
   "outputs": [],
   "source": [
    "with open('../CRECIL/Orginal_data/My_home.json','r') as infile:\n",
    "    original_df = json.loads(infile.read())"
   ]
  },
  {
   "cell_type": "code",
   "execution_count": 52,
   "id": "e267ad38",
   "metadata": {
    "collapsed": true
   },
   "outputs": [
    {
     "data": {
      "text/plain": [
       "Counter({'per:children': 14,\n",
       "         'per:relative': 24,\n",
       "         'per:grandchildren': 4,\n",
       "         'unanswerable': 8,\n",
       "         'per:alternate_name': 8,\n",
       "         'per:parents': 14,\n",
       "         'per:siblings': 10,\n",
       "         'per:spouse': 4,\n",
       "         'per:subordinate': 2,\n",
       "         'per:children-in-law': 4,\n",
       "         'per:grandparents': 4,\n",
       "         'per:parents-in-law': 4,\n",
       "         'per:nurse': 10})"
      ]
     },
     "execution_count": 52,
     "metadata": {},
     "output_type": "execute_result"
    }
   ],
   "source": [
    "Counter(df1.r)"
   ]
  },
  {
   "cell_type": "code",
   "execution_count": 37,
   "id": "c37e287c",
   "metadata": {},
   "outputs": [],
   "source": [
    "exclude_list = ['S 1','S 2', 'S 3', 'S 4', 'S 5', 'S 6']\n",
    "df2 = df1[(~df1['x'].isin(exclude_list))&(~df1['y'].isin(exclude_list))]"
   ]
  },
  {
   "cell_type": "code",
   "execution_count": 40,
   "id": "433afd55",
   "metadata": {},
   "outputs": [],
   "source": [
    "df3 = df1[(df1['x'].isin(exclude_list))&(df1['y'].isin(exclude_list))]"
   ]
  },
  {
   "cell_type": "code",
   "execution_count": 47,
   "id": "813fa882",
   "metadata": {},
   "outputs": [],
   "source": [
    "df4 = df1[(df1['x'].isin(exclude_list))&(~df1['y'].isin(exclude_list))]"
   ]
  },
  {
   "cell_type": "code",
   "execution_count": 48,
   "id": "6dd3775d",
   "metadata": {},
   "outputs": [],
   "source": [
    "df5 = df1[(~df1['x'].isin(exclude_list))&(df1['y'].isin(exclude_list))]"
   ]
  },
  {
   "cell_type": "code",
   "execution_count": 57,
   "id": "cf71fd1b",
   "metadata": {},
   "outputs": [],
   "source": [
    "df6 = df4[df4['r']=='per:alternate_name']"
   ]
  },
  {
   "cell_type": "code",
   "execution_count": 58,
   "id": "878a786a",
   "metadata": {},
   "outputs": [
    {
     "data": {
      "text/html": [
       "<div>\n",
       "<style scoped>\n",
       "    .dataframe tbody tr th:only-of-type {\n",
       "        vertical-align: middle;\n",
       "    }\n",
       "\n",
       "    .dataframe tbody tr th {\n",
       "        vertical-align: top;\n",
       "    }\n",
       "\n",
       "    .dataframe thead th {\n",
       "        text-align: right;\n",
       "    }\n",
       "</style>\n",
       "<table border=\"1\" class=\"dataframe\">\n",
       "  <thead>\n",
       "    <tr style=\"text-align: right;\">\n",
       "      <th></th>\n",
       "      <th>x</th>\n",
       "      <th>y</th>\n",
       "      <th>r</th>\n",
       "    </tr>\n",
       "  </thead>\n",
       "  <tbody>\n",
       "    <tr>\n",
       "      <th>7</th>\n",
       "      <td>S 1</td>\n",
       "      <td>孩子</td>\n",
       "      <td>per:alternate_name</td>\n",
       "    </tr>\n",
       "    <tr>\n",
       "      <th>26</th>\n",
       "      <td>S 3</td>\n",
       "      <td>二哥</td>\n",
       "      <td>per:alternate_name</td>\n",
       "    </tr>\n",
       "    <tr>\n",
       "      <th>49</th>\n",
       "      <td>S 5</td>\n",
       "      <td>和平</td>\n",
       "      <td>per:alternate_name</td>\n",
       "    </tr>\n",
       "    <tr>\n",
       "      <th>58</th>\n",
       "      <td>S 6</td>\n",
       "      <td>老同志</td>\n",
       "      <td>per:alternate_name</td>\n",
       "    </tr>\n",
       "  </tbody>\n",
       "</table>\n",
       "</div>"
      ],
      "text/plain": [
       "      x    y                   r\n",
       "7   S 1   孩子  per:alternate_name\n",
       "26  S 3   二哥  per:alternate_name\n",
       "49  S 5   和平  per:alternate_name\n",
       "58  S 6  老同志  per:alternate_name"
      ]
     },
     "execution_count": 58,
     "metadata": {},
     "output_type": "execute_result"
    }
   ],
   "source": [
    "df6"
   ]
  },
  {
   "cell_type": "code",
   "execution_count": 39,
   "id": "2d8c2527",
   "metadata": {},
   "outputs": [
    {
     "data": {
      "image/png": "[encoded data removed]",
      "text/plain": [
       "<Figure size 432x288 with 1 Axes>"
      ]
     },
     "metadata": {},
     "output_type": "display_data"
    }
   ],
   "source": [
    "G = nx.Graph()\n",
    "G.add_nodes_from([item for item in set(df2.x)])\n",
    "G.add_edges_from([(df2.x.iloc[i],df2.y.iloc[i]) for i in range(0,len(df2))])\n",
    "edge_labs = dict()\n",
    "for i in range(0,len(df2)):\n",
    "    edge_labs[(df2.x.iloc[i],df2.y.iloc[i])] = df2.r.iloc[i] \n",
    "\n",
    "plt.rcParams['font.sans-serif'] = ['SimHei']\n",
    "\n",
    "pos = nx.spring_layout(G)\n",
    "plt.figure()\n",
    "nx.draw(\n",
    "    G, pos, edge_color='black', width=1, linewidths=1,\n",
    "    node_size=500, node_color='pink', alpha=0.9,\n",
    "    labels={node: node for node in G.nodes()}\n",
    ")\n",
    "nx.draw_networkx_edge_labels(\n",
    "    G, pos,\n",
    "    edge_labels= edge_labs,\n",
    "    font_color='red'\n",
    ")\n",
    "plt.axis('off')\n",
    "plt.show()"
   ]
  },
  {
   "cell_type": "code",
   "execution_count": 63,
   "id": "68380cd5",
   "metadata": {
    "collapsed": true
   },
   "outputs": [
    {
     "data": {
      "text/html": [
       "<div>\n",
       "<style scoped>\n",
       "    .dataframe tbody tr th:only-of-type {\n",
       "        vertical-align: middle;\n",
       "    }\n",
       "\n",
       "    .dataframe tbody tr th {\n",
       "        vertical-align: top;\n",
       "    }\n",
       "\n",
       "    .dataframe thead th {\n",
       "        text-align: right;\n",
       "    }\n",
       "</style>\n",
       "<table border=\"1\" class=\"dataframe\">\n",
       "  <thead>\n",
       "    <tr style=\"text-align: right;\">\n",
       "      <th></th>\n",
       "      <th>A</th>\n",
       "      <th>B</th>\n",
       "      <th>relation</th>\n",
       "    </tr>\n",
       "  </thead>\n",
       "  <tbody>\n",
       "    <tr>\n",
       "      <th>7</th>\n",
       "      <td>和平</td>\n",
       "      <td>许警察</td>\n",
       "      <td>per:acquaintance</td>\n",
       "    </tr>\n",
       "    <tr>\n",
       "      <th>19</th>\n",
       "      <td>和平</td>\n",
       "      <td>小许</td>\n",
       "      <td>per:client</td>\n",
       "    </tr>\n",
       "    <tr>\n",
       "      <th>59</th>\n",
       "      <td>和平</td>\n",
       "      <td>孟朝阳</td>\n",
       "      <td>per:acquaintance</td>\n",
       "    </tr>\n",
       "    <tr>\n",
       "      <th>85</th>\n",
       "      <td>和平</td>\n",
       "      <td>于大妈</td>\n",
       "      <td>per:neighbor</td>\n",
       "    </tr>\n",
       "    <tr>\n",
       "      <th>112</th>\n",
       "      <td>和平</td>\n",
       "      <td>李大妈</td>\n",
       "      <td>per:friends</td>\n",
       "    </tr>\n",
       "    <tr>\n",
       "      <th>163</th>\n",
       "      <td>和平</td>\n",
       "      <td>陈大妈</td>\n",
       "      <td>per:neighbor</td>\n",
       "    </tr>\n",
       "    <tr>\n",
       "      <th>187</th>\n",
       "      <td>和平</td>\n",
       "      <td>东北汉</td>\n",
       "      <td>per:client</td>\n",
       "    </tr>\n",
       "    <tr>\n",
       "      <th>188</th>\n",
       "      <td>和平</td>\n",
       "      <td>工人</td>\n",
       "      <td>per:client</td>\n",
       "    </tr>\n",
       "    <tr>\n",
       "      <th>221</th>\n",
       "      <td>和平</td>\n",
       "      <td>贾小凡</td>\n",
       "      <td>per:relative</td>\n",
       "    </tr>\n",
       "    <tr>\n",
       "      <th>244</th>\n",
       "      <td>和平</td>\n",
       "      <td>贾志新</td>\n",
       "      <td>per:relative</td>\n",
       "    </tr>\n",
       "    <tr>\n",
       "      <th>277</th>\n",
       "      <td>和平</td>\n",
       "      <td>贾圆圆</td>\n",
       "      <td>per:parents</td>\n",
       "    </tr>\n",
       "    <tr>\n",
       "      <th>279</th>\n",
       "      <td>和平</td>\n",
       "      <td>和平的母亲</td>\n",
       "      <td>per:children</td>\n",
       "    </tr>\n",
       "    <tr>\n",
       "      <th>282</th>\n",
       "      <td>和平</td>\n",
       "      <td>傅明</td>\n",
       "      <td>per:children-in-law</td>\n",
       "    </tr>\n",
       "    <tr>\n",
       "      <th>283</th>\n",
       "      <td>和平</td>\n",
       "      <td>贾淑芬</td>\n",
       "      <td>per:relative</td>\n",
       "    </tr>\n",
       "    <tr>\n",
       "      <th>284</th>\n",
       "      <td>和平</td>\n",
       "      <td>小晴</td>\n",
       "      <td>per:relative</td>\n",
       "    </tr>\n",
       "    <tr>\n",
       "      <th>287</th>\n",
       "      <td>和平</td>\n",
       "      <td>贾志国</td>\n",
       "      <td>per:spouse</td>\n",
       "    </tr>\n",
       "    <tr>\n",
       "      <th>290</th>\n",
       "      <td>和平</td>\n",
       "      <td>苏苏</td>\n",
       "      <td>per:client</td>\n",
       "    </tr>\n",
       "    <tr>\n",
       "      <th>291</th>\n",
       "      <td>和平</td>\n",
       "      <td>苏苏父亲</td>\n",
       "      <td>per:client</td>\n",
       "    </tr>\n",
       "    <tr>\n",
       "      <th>292</th>\n",
       "      <td>和平</td>\n",
       "      <td>杨大夫</td>\n",
       "      <td>per:client</td>\n",
       "    </tr>\n",
       "    <tr>\n",
       "      <th>293</th>\n",
       "      <td>和平</td>\n",
       "      <td>小林</td>\n",
       "      <td>per:acquaintance</td>\n",
       "    </tr>\n",
       "    <tr>\n",
       "      <th>296</th>\n",
       "      <td>和平</td>\n",
       "      <td>老胡妻子</td>\n",
       "      <td>per:neighbor</td>\n",
       "    </tr>\n",
       "    <tr>\n",
       "      <th>297</th>\n",
       "      <td>和平</td>\n",
       "      <td>燕红</td>\n",
       "      <td>per:neighbor</td>\n",
       "    </tr>\n",
       "    <tr>\n",
       "      <th>298</th>\n",
       "      <td>和平</td>\n",
       "      <td>老郑</td>\n",
       "      <td>per:neighbor</td>\n",
       "    </tr>\n",
       "    <tr>\n",
       "      <th>299</th>\n",
       "      <td>和平</td>\n",
       "      <td>小翠</td>\n",
       "      <td>per:neighbor</td>\n",
       "    </tr>\n",
       "    <tr>\n",
       "      <th>300</th>\n",
       "      <td>和平</td>\n",
       "      <td>老胡</td>\n",
       "      <td>per:neighbor</td>\n",
       "    </tr>\n",
       "    <tr>\n",
       "      <th>307</th>\n",
       "      <td>和平</td>\n",
       "      <td>昆哥</td>\n",
       "      <td>per:friends</td>\n",
       "    </tr>\n",
       "    <tr>\n",
       "      <th>312</th>\n",
       "      <td>和平</td>\n",
       "      <td>小骆</td>\n",
       "      <td>per:colleague</td>\n",
       "    </tr>\n",
       "    <tr>\n",
       "      <th>313</th>\n",
       "      <td>和平</td>\n",
       "      <td>老赵</td>\n",
       "      <td>per:colleague</td>\n",
       "    </tr>\n",
       "    <tr>\n",
       "      <th>316</th>\n",
       "      <td>和平</td>\n",
       "      <td>孟朝辉</td>\n",
       "      <td>per:classmate</td>\n",
       "    </tr>\n",
       "  </tbody>\n",
       "</table>\n",
       "</div>"
      ],
      "text/plain": [
       "      A      B             relation\n",
       "7    和平    许警察     per:acquaintance\n",
       "19   和平     小许           per:client\n",
       "59   和平    孟朝阳     per:acquaintance\n",
       "85   和平    于大妈         per:neighbor\n",
       "112  和平    李大妈          per:friends\n",
       "163  和平    陈大妈         per:neighbor\n",
       "187  和平    东北汉           per:client\n",
       "188  和平     工人           per:client\n",
       "221  和平    贾小凡         per:relative\n",
       "244  和平    贾志新         per:relative\n",
       "277  和平    贾圆圆          per:parents\n",
       "279  和平  和平的母亲         per:children\n",
       "282  和平     傅明  per:children-in-law\n",
       "283  和平    贾淑芬         per:relative\n",
       "284  和平     小晴         per:relative\n",
       "287  和平    贾志国           per:spouse\n",
       "290  和平     苏苏           per:client\n",
       "291  和平   苏苏父亲           per:client\n",
       "292  和平    杨大夫           per:client\n",
       "293  和平     小林     per:acquaintance\n",
       "296  和平   老胡妻子         per:neighbor\n",
       "297  和平     燕红         per:neighbor\n",
       "298  和平     老郑         per:neighbor\n",
       "299  和平     小翠         per:neighbor\n",
       "300  和平     老胡         per:neighbor\n",
       "307  和平     昆哥          per:friends\n",
       "312  和平     小骆        per:colleague\n",
       "313  和平     老赵        per:colleague\n",
       "316  和平    孟朝辉        per:classmate"
      ]
     },
     "execution_count": 63,
     "metadata": {},
     "output_type": "execute_result"
    }
   ],
   "source": [
    "all_relations[all_relations['A']=='和平']"
   ]
  },
  {
   "cell_type": "markdown",
   "id": "4ee3c83c",
   "metadata": {},
   "source": [
    "It looks like there needs to be unique character ids. There might be more than one name referring to a given character (e.g. 先生), but those can always be disallowed from the final analysis. "
   ]
  },
  {
   "cell_type": "code",
   "execution_count": 90,
   "id": "5c0ce4e7",
   "metadata": {},
   "outputs": [
    {
     "data": {
      "text/html": [
       "<div>\n",
       "<style scoped>\n",
       "    .dataframe tbody tr th:only-of-type {\n",
       "        vertical-align: middle;\n",
       "    }\n",
       "\n",
       "    .dataframe tbody tr th {\n",
       "        vertical-align: top;\n",
       "    }\n",
       "\n",
       "    .dataframe thead th {\n",
       "        text-align: right;\n",
       "    }\n",
       "</style>\n",
       "<table border=\"1\" class=\"dataframe\">\n",
       "  <thead>\n",
       "    <tr style=\"text-align: right;\">\n",
       "      <th></th>\n",
       "      <th>A</th>\n",
       "      <th>B</th>\n",
       "      <th>relation</th>\n",
       "    </tr>\n",
       "  </thead>\n",
       "  <tbody>\n",
       "    <tr>\n",
       "      <th>0</th>\n",
       "      <td>小晴</td>\n",
       "      <td>表妹</td>\n",
       "      <td>per:alternate_name</td>\n",
       "    </tr>\n",
       "    <tr>\n",
       "      <th>4</th>\n",
       "      <td>小许</td>\n",
       "      <td>许警察</td>\n",
       "      <td>per:alternate_name</td>\n",
       "    </tr>\n",
       "    <tr>\n",
       "      <th>43</th>\n",
       "      <td>老和</td>\n",
       "      <td>和平的母亲</td>\n",
       "      <td>per:alternate_name</td>\n",
       "    </tr>\n",
       "    <tr>\n",
       "      <th>91</th>\n",
       "      <td>余大妈</td>\n",
       "      <td>于大妈</td>\n",
       "      <td>per:alternate_name</td>\n",
       "    </tr>\n",
       "    <tr>\n",
       "      <th>92</th>\n",
       "      <td>小余</td>\n",
       "      <td>于大妈</td>\n",
       "      <td>per:alternate_name</td>\n",
       "    </tr>\n",
       "    <tr>\n",
       "      <th>101</th>\n",
       "      <td>刘建军</td>\n",
       "      <td>小刘</td>\n",
       "      <td>per:alternate_name</td>\n",
       "    </tr>\n",
       "    <tr>\n",
       "      <th>102</th>\n",
       "      <td>王佳</td>\n",
       "      <td>扣子</td>\n",
       "      <td>per:alternate_name</td>\n",
       "    </tr>\n",
       "    <tr>\n",
       "      <th>111</th>\n",
       "      <td>胡三</td>\n",
       "      <td>胡总</td>\n",
       "      <td>per:alternate_name</td>\n",
       "    </tr>\n",
       "    <tr>\n",
       "      <th>121</th>\n",
       "      <td>小陈儿</td>\n",
       "      <td>陈小红</td>\n",
       "      <td>per:alternate_name</td>\n",
       "    </tr>\n",
       "    <tr>\n",
       "      <th>159</th>\n",
       "      <td>陈爱兰</td>\n",
       "      <td>陈大妈</td>\n",
       "      <td>per:alternate_name</td>\n",
       "    </tr>\n",
       "    <tr>\n",
       "      <th>350</th>\n",
       "      <td>贾敬贤</td>\n",
       "      <td>傅明</td>\n",
       "      <td>per:alternate_name</td>\n",
       "    </tr>\n",
       "    <tr>\n",
       "      <th>356</th>\n",
       "      <td>骆日</td>\n",
       "      <td>小骆</td>\n",
       "      <td>per:alternate_name</td>\n",
       "    </tr>\n",
       "    <tr>\n",
       "      <th>384</th>\n",
       "      <td>孟朝辉</td>\n",
       "      <td>孟老师</td>\n",
       "      <td>per:alternate_name</td>\n",
       "    </tr>\n",
       "    <tr>\n",
       "      <th>395</th>\n",
       "      <td>胡学范</td>\n",
       "      <td>老胡</td>\n",
       "      <td>per:alternate_name</td>\n",
       "    </tr>\n",
       "    <tr>\n",
       "      <th>396</th>\n",
       "      <td>任远</td>\n",
       "      <td>小任姑娘</td>\n",
       "      <td>per:alternate_name</td>\n",
       "    </tr>\n",
       "    <tr>\n",
       "      <th>400</th>\n",
       "      <td>环球公司老李</td>\n",
       "      <td>李秘</td>\n",
       "      <td>per:alternate_name</td>\n",
       "    </tr>\n",
       "    <tr>\n",
       "      <th>402</th>\n",
       "      <td>郑千里</td>\n",
       "      <td>老郑</td>\n",
       "      <td>per:alternate_name</td>\n",
       "    </tr>\n",
       "    <tr>\n",
       "      <th>431</th>\n",
       "      <td>胡阿大</td>\n",
       "      <td>弱智</td>\n",
       "      <td>per:alternate_name</td>\n",
       "    </tr>\n",
       "  </tbody>\n",
       "</table>\n",
       "</div>"
      ],
      "text/plain": [
       "          A      B            relation\n",
       "0        小晴     表妹  per:alternate_name\n",
       "4        小许    许警察  per:alternate_name\n",
       "43       老和  和平的母亲  per:alternate_name\n",
       "91      余大妈    于大妈  per:alternate_name\n",
       "92       小余    于大妈  per:alternate_name\n",
       "101     刘建军     小刘  per:alternate_name\n",
       "102      王佳     扣子  per:alternate_name\n",
       "111      胡三     胡总  per:alternate_name\n",
       "121     小陈儿    陈小红  per:alternate_name\n",
       "159     陈爱兰    陈大妈  per:alternate_name\n",
       "350     贾敬贤     傅明  per:alternate_name\n",
       "356      骆日     小骆  per:alternate_name\n",
       "384     孟朝辉    孟老师  per:alternate_name\n",
       "395     胡学范     老胡  per:alternate_name\n",
       "396      任远   小任姑娘  per:alternate_name\n",
       "400  环球公司老李     李秘  per:alternate_name\n",
       "402     郑千里     老郑  per:alternate_name\n",
       "431     胡阿大     弱智  per:alternate_name"
      ]
     },
     "execution_count": 90,
     "metadata": {},
     "output_type": "execute_result"
    }
   ],
   "source": [
    "all_relations[all_relations['relation']=='per:alternate_name']"
   ]
  },
  {
   "cell_type": "markdown",
   "id": "27e2e8f5",
   "metadata": {},
   "source": [
    "There are actually only 18 here, leading me to think there might actually be more in the raw data. "
   ]
  },
  {
   "cell_type": "markdown",
   "id": "a1762351",
   "metadata": {},
   "source": [
    "New task: use the above two data sets to extract all relations line by line, and find a way to identify directed speech. "
   ]
  },
  {
   "cell_type": "markdown",
   "id": "a4d8f118",
   "metadata": {},
   "source": [
    "**Stats about Original data** \n",
    "- 120 episodes"
   ]
  },
  {
   "cell_type": "code",
   "execution_count": 9,
   "id": "a3b8fcaa",
   "metadata": {
    "scrolled": false
   },
   "outputs": [
    {
     "data": {
      "text/plain": [
       "4"
      ]
     },
     "execution_count": 9,
     "metadata": {},
     "output_type": "execute_result"
    }
   ],
   "source": [
    "len(original_df['episodes'][0]['scenes'])"
   ]
  },
  {
   "cell_type": "markdown",
   "id": "540be819",
   "metadata": {},
   "source": [
    "The original transcripts might provide more available data than the final. It shows speaker, line ID and character_entities, which are entities mentionned in the utterance. However, it might sometimes be the case the speaker is speaking about that entity in the 3rd person. Also, relations are not listed here, but could be linked from the final data."
   ]
  },
  {
   "cell_type": "markdown",
   "id": "de8bd89b",
   "metadata": {},
   "source": [
    "##### Subtask\n",
    "Get relationship mappings of all characters in the show"
   ]
  },
  {
   "cell_type": "code",
   "execution_count": 11,
   "id": "7fb5d76d",
   "metadata": {},
   "outputs": [
    {
     "data": {
      "text/plain": [
       "[\"('小晴', '表妹')\\t['per:alternate_name']\",\n",
       " \"('大壮', '秀芳')\\t['per:children']\",\n",
       " \"('秀芳', '大壮')\\t['per:parents']\",\n",
       " \"('许警察', '于大妈')\\t['per:acquaintance']\",\n",
       " \"('小许', '许警察')\\t['per:alternate_name']\"]"
      ]
     },
     "execution_count": 11,
     "metadata": {},
     "output_type": "execute_result"
    }
   ],
   "source": [
    "with open('../CRECIL/Orginal_data/relation/relation.txt','r') as infile:\n",
    "    relations_txt = infile.read()\n",
    "relations_txt.split('\\n')[0:5]"
   ]
  },
  {
   "cell_type": "code",
   "execution_count": 60,
   "id": "3d9568c8",
   "metadata": {},
   "outputs": [
    {
     "data": {
      "text/html": [
       "<div>\n",
       "<style scoped>\n",
       "    .dataframe tbody tr th:only-of-type {\n",
       "        vertical-align: middle;\n",
       "    }\n",
       "\n",
       "    .dataframe tbody tr th {\n",
       "        vertical-align: top;\n",
       "    }\n",
       "\n",
       "    .dataframe thead th {\n",
       "        text-align: right;\n",
       "    }\n",
       "</style>\n",
       "<table border=\"1\" class=\"dataframe\">\n",
       "  <thead>\n",
       "    <tr style=\"text-align: right;\">\n",
       "      <th></th>\n",
       "      <th>A</th>\n",
       "      <th>B</th>\n",
       "      <th>relation</th>\n",
       "    </tr>\n",
       "  </thead>\n",
       "  <tbody>\n",
       "    <tr>\n",
       "      <th>0</th>\n",
       "      <td>小晴</td>\n",
       "      <td>表妹</td>\n",
       "      <td>per:alternate_name</td>\n",
       "    </tr>\n",
       "    <tr>\n",
       "      <th>1</th>\n",
       "      <td>大壮</td>\n",
       "      <td>秀芳</td>\n",
       "      <td>per:children</td>\n",
       "    </tr>\n",
       "    <tr>\n",
       "      <th>2</th>\n",
       "      <td>秀芳</td>\n",
       "      <td>大壮</td>\n",
       "      <td>per:parents</td>\n",
       "    </tr>\n",
       "    <tr>\n",
       "      <th>3</th>\n",
       "      <td>许警察</td>\n",
       "      <td>于大妈</td>\n",
       "      <td>per:acquaintance</td>\n",
       "    </tr>\n",
       "    <tr>\n",
       "      <th>4</th>\n",
       "      <td>小许</td>\n",
       "      <td>许警察</td>\n",
       "      <td>per:alternate_name</td>\n",
       "    </tr>\n",
       "  </tbody>\n",
       "</table>\n",
       "</div>"
      ],
      "text/plain": [
       "     A    B            relation\n",
       "0   小晴   表妹  per:alternate_name\n",
       "1   大壮   秀芳        per:children\n",
       "2   秀芳   大壮         per:parents\n",
       "3  许警察  于大妈    per:acquaintance\n",
       "4   小许  许警察  per:alternate_name"
      ]
     },
     "execution_count": 60,
     "metadata": {},
     "output_type": "execute_result"
    }
   ],
   "source": [
    "#Put into pandas format. Remember that the relation is A is stated relation (e.g. parent) of B\n",
    "#test = \"('小晴', '表妹')\\t['per:alternate_name']\"\n",
    "#re.findall(\"'.*?'\",test)[2]\n",
    "\n",
    "A = []\n",
    "B = []\n",
    "relations = []\n",
    "pattern = re.compile(\"'.*?'\")\n",
    "for line in relations_txt.split('\\n'):\n",
    "    if len(line)>0:\n",
    "        A.append(pattern.findall(line)[0].replace(\"'\",\"\"))\n",
    "        B.append(pattern.findall(line)[1].replace(\"'\",\"\"))\n",
    "        relations.append(pattern.findall(line)[2].replace(\"'\",\"\"))\n",
    "all_relations = pd.DataFrame(list(zip(A,B,relations)),columns = ['A','B','relation'])\n",
    "all_relations.head()"
   ]
  },
  {
   "cell_type": "code",
   "execution_count": 61,
   "id": "f01de06e",
   "metadata": {},
   "outputs": [
    {
     "data": {
      "text/plain": [
       "468"
      ]
     },
     "execution_count": 61,
     "metadata": {},
     "output_type": "execute_result"
    }
   ],
   "source": [
    "len(all_relations)"
   ]
  },
  {
   "cell_type": "code",
   "execution_count": 56,
   "id": "9e7f63d3",
   "metadata": {},
   "outputs": [
    {
     "data": {
      "text/plain": [
       "[('贾志新', 30),\n",
       " ('和平', 29),\n",
       " ('贾圆圆', 26),\n",
       " ('傅明', 26),\n",
       " ('贾志国', 22),\n",
       " ('燕红', 16),\n",
       " ('于大妈', 14),\n",
       " ('薛小桂', 14),\n",
       " ('张凤姑', 14),\n",
       " ('贾小凡', 12),\n",
       " ('老胡', 11),\n",
       " ('和平的母亲', 10),\n",
       " ('孟朝阳', 9),\n",
       " ('陈大妈', 9),\n",
       " ('纪春生', 8),\n",
       " ('小晴', 7),\n",
       " ('老胡妻子', 7),\n",
       " ('杨大夫', 6),\n",
       " ('老郑', 6),\n",
       " ('方方', 5)]"
      ]
     },
     "execution_count": 56,
     "metadata": {},
     "output_type": "execute_result"
    }
   ],
   "source": [
    "Counter(all_relations.A).most_common(20)"
   ]
  },
  {
   "cell_type": "code",
   "execution_count": 34,
   "id": "6394ccac",
   "metadata": {},
   "outputs": [],
   "source": [
    "import networkx as nx"
   ]
  },
  {
   "cell_type": "code",
   "execution_count": 48,
   "id": "a42e7d23",
   "metadata": {},
   "outputs": [],
   "source": [
    "G = nx.Graph()\n",
    "G.add_nodes_from([item for item in set(all_relations.A)])\n",
    "G.add_edges_from([(all_relations.A.iloc[i],all_relations.B.iloc[i]) for i in range(0,len(all_relations))])"
   ]
  },
  {
   "cell_type": "code",
   "execution_count": 54,
   "id": "808953f8",
   "metadata": {},
   "outputs": [],
   "source": [
    "edge_labs = dict()\n",
    "for i in range(0,len(all_relations)):\n",
    "    edge_labs[(all_relations.A.iloc[i],all_relations.B.iloc[i])] = all_relations.relation.iloc[i] "
   ]
  },
  {
   "cell_type": "code",
   "execution_count": 55,
   "id": "b491c008",
   "metadata": {},
   "outputs": [
    {
     "data": {
      "image/png": "[encoded data removed]",
      "text/plain": [
       "<Figure size 432x288 with 1 Axes>"
      ]
     },
     "metadata": {},
     "output_type": "display_data"
    }
   ],
   "source": [
    "from matplotlib import font_manager\n",
    "\n",
    "plt.rcParams['font.sans-serif'] = ['SimHei']\n",
    "\n",
    "pos = nx.spring_layout(G)\n",
    "plt.figure()\n",
    "nx.draw(\n",
    "    G, pos, edge_color='black', width=1, linewidths=1,\n",
    "    node_size=500, node_color='pink', alpha=0.9,\n",
    "    labels={node: node for node in G.nodes()}\n",
    ")\n",
    "nx.draw_networkx_edge_labels(\n",
    "    G, pos,\n",
    "    edge_labels= edge_labs,\n",
    "    font_color='red'\n",
    ")\n",
    "plt.axis('off')\n",
    "plt.show()"
   ]
  },
  {
   "cell_type": "code",
   "execution_count": 71,
   "id": "2ea177e8",
   "metadata": {},
   "outputs": [],
   "source": [
    "list_a = [item[0] for item in Counter(all_relations.A).most_common(8)]\n",
    "list_b = [item[0] for item in Counter(all_relations.B).most_common(8)]\n",
    "some_relations = all_relations[all_relations.A.isin(list_a)&all_relations.B.isin(list_b)] "
   ]
  },
  {
   "cell_type": "code",
   "execution_count": 73,
   "id": "c9d1219d",
   "metadata": {
    "collapsed": true
   },
   "outputs": [
    {
     "data": {
      "text/html": [
       "<div>\n",
       "<style scoped>\n",
       "    .dataframe tbody tr th:only-of-type {\n",
       "        vertical-align: middle;\n",
       "    }\n",
       "\n",
       "    .dataframe tbody tr th {\n",
       "        vertical-align: top;\n",
       "    }\n",
       "\n",
       "    .dataframe thead th {\n",
       "        text-align: right;\n",
       "    }\n",
       "</style>\n",
       "<table border=\"1\" class=\"dataframe\">\n",
       "  <thead>\n",
       "    <tr style=\"text-align: right;\">\n",
       "      <th></th>\n",
       "      <th>A</th>\n",
       "      <th>B</th>\n",
       "      <th>relation</th>\n",
       "    </tr>\n",
       "  </thead>\n",
       "  <tbody>\n",
       "    <tr>\n",
       "      <th>74</th>\n",
       "      <td>薛小桂</td>\n",
       "      <td>于大妈</td>\n",
       "      <td>per:neighbor</td>\n",
       "    </tr>\n",
       "    <tr>\n",
       "      <th>76</th>\n",
       "      <td>于大妈</td>\n",
       "      <td>贾志新</td>\n",
       "      <td>per:neighbor</td>\n",
       "    </tr>\n",
       "    <tr>\n",
       "      <th>77</th>\n",
       "      <td>贾志新</td>\n",
       "      <td>于大妈</td>\n",
       "      <td>per:neighbor</td>\n",
       "    </tr>\n",
       "    <tr>\n",
       "      <th>78</th>\n",
       "      <td>贾圆圆</td>\n",
       "      <td>于大妈</td>\n",
       "      <td>per:neighbor</td>\n",
       "    </tr>\n",
       "    <tr>\n",
       "      <th>79</th>\n",
       "      <td>于大妈</td>\n",
       "      <td>贾圆圆</td>\n",
       "      <td>per:neighbor</td>\n",
       "    </tr>\n",
       "    <tr>\n",
       "      <th>80</th>\n",
       "      <td>于大妈</td>\n",
       "      <td>燕红</td>\n",
       "      <td>per:neighbor</td>\n",
       "    </tr>\n",
       "    <tr>\n",
       "      <th>81</th>\n",
       "      <td>燕红</td>\n",
       "      <td>于大妈</td>\n",
       "      <td>per:neighbor</td>\n",
       "    </tr>\n",
       "    <tr>\n",
       "      <th>84</th>\n",
       "      <td>于大妈</td>\n",
       "      <td>和平</td>\n",
       "      <td>per:neighbor</td>\n",
       "    </tr>\n",
       "    <tr>\n",
       "      <th>85</th>\n",
       "      <td>和平</td>\n",
       "      <td>于大妈</td>\n",
       "      <td>per:neighbor</td>\n",
       "    </tr>\n",
       "    <tr>\n",
       "      <th>86</th>\n",
       "      <td>贾志国</td>\n",
       "      <td>于大妈</td>\n",
       "      <td>per:neighbor</td>\n",
       "    </tr>\n",
       "    <tr>\n",
       "      <th>87</th>\n",
       "      <td>于大妈</td>\n",
       "      <td>贾志国</td>\n",
       "      <td>per:neighbor</td>\n",
       "    </tr>\n",
       "    <tr>\n",
       "      <th>90</th>\n",
       "      <td>傅明</td>\n",
       "      <td>于大妈</td>\n",
       "      <td>per:neighbor</td>\n",
       "    </tr>\n",
       "    <tr>\n",
       "      <th>93</th>\n",
       "      <td>于大妈</td>\n",
       "      <td>傅明</td>\n",
       "      <td>per:neighbor</td>\n",
       "    </tr>\n",
       "    <tr>\n",
       "      <th>136</th>\n",
       "      <td>薛小桂</td>\n",
       "      <td>贾志新</td>\n",
       "      <td>per:nurse</td>\n",
       "    </tr>\n",
       "    <tr>\n",
       "      <th>143</th>\n",
       "      <td>薛小桂</td>\n",
       "      <td>贾志国</td>\n",
       "      <td>per:nurse</td>\n",
       "    </tr>\n",
       "    <tr>\n",
       "      <th>144</th>\n",
       "      <td>薛小桂</td>\n",
       "      <td>贾圆圆</td>\n",
       "      <td>per:nurse</td>\n",
       "    </tr>\n",
       "    <tr>\n",
       "      <th>145</th>\n",
       "      <td>薛小桂</td>\n",
       "      <td>贾小凡</td>\n",
       "      <td>per:nurse</td>\n",
       "    </tr>\n",
       "    <tr>\n",
       "      <th>146</th>\n",
       "      <td>薛小桂</td>\n",
       "      <td>和平</td>\n",
       "      <td>per:nurse</td>\n",
       "    </tr>\n",
       "    <tr>\n",
       "      <th>147</th>\n",
       "      <td>薛小桂</td>\n",
       "      <td>傅明</td>\n",
       "      <td>per:nurse</td>\n",
       "    </tr>\n",
       "    <tr>\n",
       "      <th>218</th>\n",
       "      <td>燕红</td>\n",
       "      <td>贾小凡</td>\n",
       "      <td>per:neighbor</td>\n",
       "    </tr>\n",
       "    <tr>\n",
       "      <th>221</th>\n",
       "      <td>和平</td>\n",
       "      <td>贾小凡</td>\n",
       "      <td>per:relative</td>\n",
       "    </tr>\n",
       "    <tr>\n",
       "      <th>223</th>\n",
       "      <td>贾志国</td>\n",
       "      <td>贾小凡</td>\n",
       "      <td>per:siblings</td>\n",
       "    </tr>\n",
       "    <tr>\n",
       "      <th>226</th>\n",
       "      <td>贾圆圆</td>\n",
       "      <td>贾小凡</td>\n",
       "      <td>per:relative</td>\n",
       "    </tr>\n",
       "    <tr>\n",
       "      <th>229</th>\n",
       "      <td>傅明</td>\n",
       "      <td>贾小凡</td>\n",
       "      <td>per:parents</td>\n",
       "    </tr>\n",
       "    <tr>\n",
       "      <th>231</th>\n",
       "      <td>贾志新</td>\n",
       "      <td>贾小凡</td>\n",
       "      <td>per:siblings</td>\n",
       "    </tr>\n",
       "    <tr>\n",
       "      <th>232</th>\n",
       "      <td>傅明</td>\n",
       "      <td>贾志新</td>\n",
       "      <td>per:parents</td>\n",
       "    </tr>\n",
       "    <tr>\n",
       "      <th>234</th>\n",
       "      <td>贾志新</td>\n",
       "      <td>傅明</td>\n",
       "      <td>per:children</td>\n",
       "    </tr>\n",
       "    <tr>\n",
       "      <th>236</th>\n",
       "      <td>贾志新</td>\n",
       "      <td>贾志国</td>\n",
       "      <td>per:siblings</td>\n",
       "    </tr>\n",
       "    <tr>\n",
       "      <th>237</th>\n",
       "      <td>贾志国</td>\n",
       "      <td>贾志新</td>\n",
       "      <td>per:siblings</td>\n",
       "    </tr>\n",
       "    <tr>\n",
       "      <th>239</th>\n",
       "      <td>贾志新</td>\n",
       "      <td>贾圆圆</td>\n",
       "      <td>per:relative</td>\n",
       "    </tr>\n",
       "    <tr>\n",
       "      <th>240</th>\n",
       "      <td>贾志新</td>\n",
       "      <td>和平</td>\n",
       "      <td>per:relative</td>\n",
       "    </tr>\n",
       "    <tr>\n",
       "      <th>243</th>\n",
       "      <td>贾圆圆</td>\n",
       "      <td>贾志新</td>\n",
       "      <td>per:relative</td>\n",
       "    </tr>\n",
       "    <tr>\n",
       "      <th>244</th>\n",
       "      <td>和平</td>\n",
       "      <td>贾志新</td>\n",
       "      <td>per:relative</td>\n",
       "    </tr>\n",
       "    <tr>\n",
       "      <th>260</th>\n",
       "      <td>贾志新</td>\n",
       "      <td>燕红</td>\n",
       "      <td>per:neighbor</td>\n",
       "    </tr>\n",
       "    <tr>\n",
       "      <th>263</th>\n",
       "      <td>燕红</td>\n",
       "      <td>贾志新</td>\n",
       "      <td>per:neighbor</td>\n",
       "    </tr>\n",
       "    <tr>\n",
       "      <th>277</th>\n",
       "      <td>和平</td>\n",
       "      <td>贾圆圆</td>\n",
       "      <td>per:parents</td>\n",
       "    </tr>\n",
       "    <tr>\n",
       "      <th>280</th>\n",
       "      <td>贾圆圆</td>\n",
       "      <td>和平</td>\n",
       "      <td>per:children</td>\n",
       "    </tr>\n",
       "    <tr>\n",
       "      <th>281</th>\n",
       "      <td>傅明</td>\n",
       "      <td>和平</td>\n",
       "      <td>per:parents-in-law</td>\n",
       "    </tr>\n",
       "    <tr>\n",
       "      <th>282</th>\n",
       "      <td>和平</td>\n",
       "      <td>傅明</td>\n",
       "      <td>per:children-in-law</td>\n",
       "    </tr>\n",
       "    <tr>\n",
       "      <th>287</th>\n",
       "      <td>和平</td>\n",
       "      <td>贾志国</td>\n",
       "      <td>per:spouse</td>\n",
       "    </tr>\n",
       "    <tr>\n",
       "      <th>288</th>\n",
       "      <td>贾志国</td>\n",
       "      <td>和平</td>\n",
       "      <td>per:spouse</td>\n",
       "    </tr>\n",
       "    <tr>\n",
       "      <th>297</th>\n",
       "      <td>和平</td>\n",
       "      <td>燕红</td>\n",
       "      <td>per:neighbor</td>\n",
       "    </tr>\n",
       "    <tr>\n",
       "      <th>303</th>\n",
       "      <td>燕红</td>\n",
       "      <td>和平</td>\n",
       "      <td>per:neighbor</td>\n",
       "    </tr>\n",
       "    <tr>\n",
       "      <th>318</th>\n",
       "      <td>傅明</td>\n",
       "      <td>贾志国</td>\n",
       "      <td>per:parents</td>\n",
       "    </tr>\n",
       "    <tr>\n",
       "      <th>321</th>\n",
       "      <td>贾志国</td>\n",
       "      <td>傅明</td>\n",
       "      <td>per:children</td>\n",
       "    </tr>\n",
       "    <tr>\n",
       "      <th>326</th>\n",
       "      <td>贾圆圆</td>\n",
       "      <td>傅明</td>\n",
       "      <td>per:grandchildren</td>\n",
       "    </tr>\n",
       "    <tr>\n",
       "      <th>327</th>\n",
       "      <td>傅明</td>\n",
       "      <td>贾圆圆</td>\n",
       "      <td>per:grandparents</td>\n",
       "    </tr>\n",
       "    <tr>\n",
       "      <th>335</th>\n",
       "      <td>傅明</td>\n",
       "      <td>燕红</td>\n",
       "      <td>per:neighbor</td>\n",
       "    </tr>\n",
       "    <tr>\n",
       "      <th>341</th>\n",
       "      <td>燕红</td>\n",
       "      <td>傅明</td>\n",
       "      <td>per:neighbor</td>\n",
       "    </tr>\n",
       "    <tr>\n",
       "      <th>363</th>\n",
       "      <td>燕红</td>\n",
       "      <td>贾志国</td>\n",
       "      <td>per:neighbor</td>\n",
       "    </tr>\n",
       "    <tr>\n",
       "      <th>364</th>\n",
       "      <td>贾志国</td>\n",
       "      <td>燕红</td>\n",
       "      <td>per:neighbor</td>\n",
       "    </tr>\n",
       "    <tr>\n",
       "      <th>369</th>\n",
       "      <td>燕红</td>\n",
       "      <td>贾圆圆</td>\n",
       "      <td>per:neighbor</td>\n",
       "    </tr>\n",
       "    <tr>\n",
       "      <th>446</th>\n",
       "      <td>贾志国</td>\n",
       "      <td>贾圆圆</td>\n",
       "      <td>per:parents</td>\n",
       "    </tr>\n",
       "    <tr>\n",
       "      <th>447</th>\n",
       "      <td>贾圆圆</td>\n",
       "      <td>贾志国</td>\n",
       "      <td>per:children</td>\n",
       "    </tr>\n",
       "  </tbody>\n",
       "</table>\n",
       "</div>"
      ],
      "text/plain": [
       "       A    B             relation\n",
       "74   薛小桂  于大妈         per:neighbor\n",
       "76   于大妈  贾志新         per:neighbor\n",
       "77   贾志新  于大妈         per:neighbor\n",
       "78   贾圆圆  于大妈         per:neighbor\n",
       "79   于大妈  贾圆圆         per:neighbor\n",
       "80   于大妈   燕红         per:neighbor\n",
       "81    燕红  于大妈         per:neighbor\n",
       "84   于大妈   和平         per:neighbor\n",
       "85    和平  于大妈         per:neighbor\n",
       "86   贾志国  于大妈         per:neighbor\n",
       "87   于大妈  贾志国         per:neighbor\n",
       "90    傅明  于大妈         per:neighbor\n",
       "93   于大妈   傅明         per:neighbor\n",
       "136  薛小桂  贾志新            per:nurse\n",
       "143  薛小桂  贾志国            per:nurse\n",
       "144  薛小桂  贾圆圆            per:nurse\n",
       "145  薛小桂  贾小凡            per:nurse\n",
       "146  薛小桂   和平            per:nurse\n",
       "147  薛小桂   傅明            per:nurse\n",
       "218   燕红  贾小凡         per:neighbor\n",
       "221   和平  贾小凡         per:relative\n",
       "223  贾志国  贾小凡         per:siblings\n",
       "226  贾圆圆  贾小凡         per:relative\n",
       "229   傅明  贾小凡          per:parents\n",
       "231  贾志新  贾小凡         per:siblings\n",
       "232   傅明  贾志新          per:parents\n",
       "234  贾志新   傅明         per:children\n",
       "236  贾志新  贾志国         per:siblings\n",
       "237  贾志国  贾志新         per:siblings\n",
       "239  贾志新  贾圆圆         per:relative\n",
       "240  贾志新   和平         per:relative\n",
       "243  贾圆圆  贾志新         per:relative\n",
       "244   和平  贾志新         per:relative\n",
       "260  贾志新   燕红         per:neighbor\n",
       "263   燕红  贾志新         per:neighbor\n",
       "277   和平  贾圆圆          per:parents\n",
       "280  贾圆圆   和平         per:children\n",
       "281   傅明   和平   per:parents-in-law\n",
       "282   和平   傅明  per:children-in-law\n",
       "287   和平  贾志国           per:spouse\n",
       "288  贾志国   和平           per:spouse\n",
       "297   和平   燕红         per:neighbor\n",
       "303   燕红   和平         per:neighbor\n",
       "318   傅明  贾志国          per:parents\n",
       "321  贾志国   傅明         per:children\n",
       "326  贾圆圆   傅明    per:grandchildren\n",
       "327   傅明  贾圆圆     per:grandparents\n",
       "335   傅明   燕红         per:neighbor\n",
       "341   燕红   傅明         per:neighbor\n",
       "363   燕红  贾志国         per:neighbor\n",
       "364  贾志国   燕红         per:neighbor\n",
       "369   燕红  贾圆圆         per:neighbor\n",
       "446  贾志国  贾圆圆          per:parents\n",
       "447  贾圆圆  贾志国         per:children"
      ]
     },
     "execution_count": 73,
     "metadata": {},
     "output_type": "execute_result"
    }
   ],
   "source": [
    "some_relations"
   ]
  },
  {
   "cell_type": "code",
   "execution_count": 72,
   "id": "f3f1982a",
   "metadata": {},
   "outputs": [
    {
     "data": {
      "image/png": "[encoded data removed]",
      "text/plain": [
       "<Figure size 432x288 with 1 Axes>"
      ]
     },
     "metadata": {},
     "output_type": "display_data"
    }
   ],
   "source": [
    "G = nx.Graph()\n",
    "G.add_nodes_from([item for item in set(some_relations.A)])\n",
    "G.add_edges_from([(some_relations.A.iloc[i],some_relations.B.iloc[i]) for i in range(0,len(some_relations))])\n",
    "edge_labs = dict()\n",
    "for i in range(0,len(some_relations)):\n",
    "    edge_labs[(some_relations.A.iloc[i],some_relations.B.iloc[i])] = some_relations.relation.iloc[i] \n",
    "\n",
    "plt.rcParams['font.sans-serif'] = ['SimHei']\n",
    "\n",
    "pos = nx.spring_layout(G)\n",
    "plt.figure()\n",
    "nx.draw(\n",
    "    G, pos, edge_color='black', width=1, linewidths=1,\n",
    "    node_size=500, node_color='pink', alpha=0.9,\n",
    "    labels={node: node for node in G.nodes()}\n",
    ")\n",
    "nx.draw_networkx_edge_labels(\n",
    "    G, pos,\n",
    "    edge_labels= edge_labs,\n",
    "    font_color='red'\n",
    ")\n",
    "plt.axis('off')\n",
    "plt.show()"
   ]
  },
  {
   "cell_type": "markdown",
   "id": "37d99f5f",
   "metadata": {},
   "source": [
    "##### Subtask\n",
    "Find sentences in original data between known relationships"
   ]
  },
  {
   "cell_type": "code",
   "execution_count": 17,
   "id": "44208715",
   "metadata": {},
   "outputs": [
    {
     "data": {
      "text/html": [
       "<div>\n",
       "<style scoped>\n",
       "    .dataframe tbody tr th:only-of-type {\n",
       "        vertical-align: middle;\n",
       "    }\n",
       "\n",
       "    .dataframe tbody tr th {\n",
       "        vertical-align: top;\n",
       "    }\n",
       "\n",
       "    .dataframe thead th {\n",
       "        text-align: right;\n",
       "    }\n",
       "</style>\n",
       "<table border=\"1\" class=\"dataframe\">\n",
       "  <thead>\n",
       "    <tr style=\"text-align: right;\">\n",
       "      <th></th>\n",
       "      <th>A</th>\n",
       "      <th>B</th>\n",
       "      <th>relation</th>\n",
       "    </tr>\n",
       "  </thead>\n",
       "  <tbody>\n",
       "    <tr>\n",
       "      <th>0</th>\n",
       "      <td>小晴</td>\n",
       "      <td>表妹</td>\n",
       "      <td>per:alternate_name</td>\n",
       "    </tr>\n",
       "    <tr>\n",
       "      <th>1</th>\n",
       "      <td>大壮</td>\n",
       "      <td>秀芳</td>\n",
       "      <td>per:children</td>\n",
       "    </tr>\n",
       "    <tr>\n",
       "      <th>2</th>\n",
       "      <td>秀芳</td>\n",
       "      <td>大壮</td>\n",
       "      <td>per:parents</td>\n",
       "    </tr>\n",
       "    <tr>\n",
       "      <th>3</th>\n",
       "      <td>许警察</td>\n",
       "      <td>于大妈</td>\n",
       "      <td>per:acquaintance</td>\n",
       "    </tr>\n",
       "    <tr>\n",
       "      <th>4</th>\n",
       "      <td>小许</td>\n",
       "      <td>许警察</td>\n",
       "      <td>per:alternate_name</td>\n",
       "    </tr>\n",
       "  </tbody>\n",
       "</table>\n",
       "</div>"
      ],
      "text/plain": [
       "     A    B            relation\n",
       "0   小晴   表妹  per:alternate_name\n",
       "1   大壮   秀芳        per:children\n",
       "2   秀芳   大壮         per:parents\n",
       "3  许警察  于大妈    per:acquaintance\n",
       "4   小许  许警察  per:alternate_name"
      ]
     },
     "execution_count": 17,
     "metadata": {},
     "output_type": "execute_result"
    }
   ],
   "source": [
    "all_relations.head()"
   ]
  },
  {
   "cell_type": "code",
   "execution_count": 15,
   "id": "c0dd177f",
   "metadata": {},
   "outputs": [
    {
     "data": {
      "text/plain": [
       "'圆圆'"
      ]
     },
     "execution_count": 15,
     "metadata": {},
     "output_type": "execute_result"
    }
   ],
   "source": [
    "original_df['episodes'][0]['scenes'][0]['utterances'][0]['speakers']"
   ]
  },
  {
   "cell_type": "code",
   "execution_count": 16,
   "id": "4e8f677d",
   "metadata": {},
   "outputs": [
    {
     "data": {
      "text/plain": [
       "'爸，动画片儿哪频道啊？'"
      ]
     },
     "execution_count": 16,
     "metadata": {},
     "output_type": "execute_result"
    }
   ],
   "source": [
    "original_df['episodes'][0]['scenes'][0]['utterances'][0]['transcript']"
   ]
  },
  {
   "cell_type": "code",
   "execution_count": 12,
   "id": "a08e4d74",
   "metadata": {},
   "outputs": [
    {
     "data": {
      "text/plain": [
       "{'utterance_id': 'ep1_sc1_u1',\n",
       " 'speakers': '圆圆',\n",
       " 'transcript': '爸，动画片儿哪频道啊？',\n",
       " 'tokens': ['爸', '，', '动画片儿', '哪', '频道', '啊', '？', ''],\n",
       " 'character_entities': [['爸', 'jzg', 0]]}"
      ]
     },
     "execution_count": 12,
     "metadata": {},
     "output_type": "execute_result"
    }
   ],
   "source": [
    "original_df['episodes'][0]['scenes'][0]['utterances'][0]['tokens']"
   ]
  },
  {
   "cell_type": "code",
   "execution_count": 14,
   "id": "a9cb6b74",
   "metadata": {},
   "outputs": [
    {
     "data": {
      "text/plain": [
       "['爸', 'jzg', 0]"
      ]
     },
     "execution_count": 14,
     "metadata": {},
     "output_type": "execute_result"
    }
   ],
   "source": [
    "original_df['episodes'][0]['scenes'][0]['utterances'][0]['character_entities'][0]"
   ]
  },
  {
   "cell_type": "code",
   "execution_count": 8,
   "id": "b9f9d625",
   "metadata": {},
   "outputs": [
    {
     "name": "stderr",
     "output_type": "stream",
     "text": [
      "100%|████████████████████████████████████████| 120/120 [00:01<00:00, 112.28it/s]\n"
     ]
    }
   ],
   "source": [
    "s1 = []\n",
    "s2 = []\n",
    "relation = []\n",
    "utterance = []\n",
    "\n",
    "\n",
    "for ep in tqdm(original_df['episodes']):\n",
    "    for sc in ep['scenes']:\n",
    "        for utt in sc['utterances']:\n",
    "            if utt['speakers'] in list(all_relations.A):\n",
    "                \n",
    "                if len(utt['character_entities'])>0:\n",
    "                    for token in utt['character_entities'][0]:\n",
    "                        if token in list(all_relations.B):\n",
    "                           \n",
    "                            if len(all_relations[(all_relations['A']==utt['speakers'])&(all_relations['B']==token)].relation)>0:\n",
    "                                \n",
    "                                #Rules for assuming that the utterance is spoken directly to \n",
    "                                #another individual:\n",
    "                                #1. an annotated relation exists between speakers\n",
    "                                #2. a 你 or 您 exists in the phrase\n",
    "                                if ('你' in utt['tokens']) or ('您' in utt['tokens']):\n",
    "\n",
    "                                    s1.append(utt['speakers'])\n",
    "                                    s2.append(token)\n",
    "                                    relation.append(all_relations[(all_relations['A']==utt['speakers'])&(all_relations['B']==token)].relation.item())\n",
    "                                    utterance.append(utt['transcript'])\n",
    "                                    \n",
    "                                   \n",
    "                   \n",
    "          "
   ]
  },
  {
   "cell_type": "code",
   "execution_count": 9,
   "id": "0b18bcfd",
   "metadata": {},
   "outputs": [
    {
     "name": "stdout",
     "output_type": "stream",
     "text": [
      "262\n"
     ]
    },
    {
     "data": {
      "text/html": [
       "<div>\n",
       "<style scoped>\n",
       "    .dataframe tbody tr th:only-of-type {\n",
       "        vertical-align: middle;\n",
       "    }\n",
       "\n",
       "    .dataframe tbody tr th {\n",
       "        vertical-align: top;\n",
       "    }\n",
       "\n",
       "    .dataframe thead th {\n",
       "        text-align: right;\n",
       "    }\n",
       "</style>\n",
       "<table border=\"1\" class=\"dataframe\">\n",
       "  <thead>\n",
       "    <tr style=\"text-align: right;\">\n",
       "      <th></th>\n",
       "      <th>S1</th>\n",
       "      <th>S2</th>\n",
       "      <th>Relation</th>\n",
       "      <th>Transcript</th>\n",
       "    </tr>\n",
       "  </thead>\n",
       "  <tbody>\n",
       "    <tr>\n",
       "      <th>0</th>\n",
       "      <td>燕红</td>\n",
       "      <td>老郑</td>\n",
       "      <td>per:children</td>\n",
       "      <td>你别闹啦。也不知道谁这么缺德，把这玩艺儿贴得满大街都是……打中午我们家就没断了来人，如今那队...</td>\n",
       "    </tr>\n",
       "    <tr>\n",
       "      <th>1</th>\n",
       "      <td>燕红</td>\n",
       "      <td>老郑</td>\n",
       "      <td>per:children</td>\n",
       "      <td>那我也只骗你一人啊，你这连我爸都捎上啦。</td>\n",
       "    </tr>\n",
       "    <tr>\n",
       "      <th>2</th>\n",
       "      <td>燕红</td>\n",
       "      <td>贾志新</td>\n",
       "      <td>per:neighbor</td>\n",
       "      <td>我干涉你？贾志新你从小到大就没少干涉我的恋爱自由，这么些年我就没计较过！</td>\n",
       "    </tr>\n",
       "    <tr>\n",
       "      <th>3</th>\n",
       "      <td>燕红</td>\n",
       "      <td>袁刚</td>\n",
       "      <td>per:ex-girlfriend</td>\n",
       "      <td>初三！4班的袁刚跟我交朋友，被人暴打一顿再也不敢理我了，这事是你找人干的吧？</td>\n",
       "    </tr>\n",
       "    <tr>\n",
       "      <th>5</th>\n",
       "      <td>燕红</td>\n",
       "      <td>王老师</td>\n",
       "      <td>per:student</td>\n",
       "      <td>我高一的时候，和教体育的王老师通信，被你报告学校，害得王老师调离，我在学校里抬不起头，这也是...</td>\n",
       "    </tr>\n",
       "    <tr>\n",
       "      <th>7</th>\n",
       "      <td>燕红</td>\n",
       "      <td>晶晶</td>\n",
       "      <td>per:positive impression</td>\n",
       "      <td>听说你今天请女朋友吃饭，我一直在里面帮厨呢。这位就是杨晶晶同志吧？一直听志新念叨，夸你内外兼...</td>\n",
       "    </tr>\n",
       "    <tr>\n",
       "      <th>8</th>\n",
       "      <td>燕红</td>\n",
       "      <td>晶晶</td>\n",
       "      <td>per:positive impression</td>\n",
       "      <td>对，他偷的都是我家的。另外，他聪明、热情、好学、好色……优点多得说不完。你能得到他的心，真是...</td>\n",
       "    </tr>\n",
       "    <tr>\n",
       "      <th>9</th>\n",
       "      <td>晶晶</td>\n",
       "      <td>燕红</td>\n",
       "      <td>per:negative impression</td>\n",
       "      <td>不！我和他并不般配。大姐，其实你和他才是最般配！你对他最了解，也最关心，这是一个女孩子的直觉...</td>\n",
       "    </tr>\n",
       "    <tr>\n",
       "      <th>10</th>\n",
       "      <td>和平</td>\n",
       "      <td>和平的母亲</td>\n",
       "      <td>per:children</td>\n",
       "      <td>妈，妈，没人接您，是我自个打的接您。</td>\n",
       "    </tr>\n",
       "    <tr>\n",
       "      <th>11</th>\n",
       "      <td>老和</td>\n",
       "      <td>和平的母亲</td>\n",
       "      <td>per:alternate_name</td>\n",
       "      <td>妈知道，妈是送你个人情。</td>\n",
       "    </tr>\n",
       "    <tr>\n",
       "      <th>12</th>\n",
       "      <td>和平</td>\n",
       "      <td>和平的母亲</td>\n",
       "      <td>per:children</td>\n",
       "      <td>妈，让您怎么住您就怎么住，你挨这是客人，客随主便嘛。</td>\n",
       "    </tr>\n",
       "    <tr>\n",
       "      <th>13</th>\n",
       "      <td>和平</td>\n",
       "      <td>和平的母亲</td>\n",
       "      <td>per:children</td>\n",
       "      <td>妈您瞧您，您让我们怎么吃啊？哪回吃饭都得跟您费半天话。</td>\n",
       "    </tr>\n",
       "    <tr>\n",
       "      <th>14</th>\n",
       "      <td>和平</td>\n",
       "      <td>和平的母亲</td>\n",
       "      <td>per:children</td>\n",
       "      <td>妈，您就甭弄了，回头我帮您铺吧，</td>\n",
       "    </tr>\n",
       "    <tr>\n",
       "      <th>15</th>\n",
       "      <td>和平</td>\n",
       "      <td>和平的母亲</td>\n",
       "      <td>per:children</td>\n",
       "      <td>哎——妈，妈！您先到我们那屋躺会儿去。</td>\n",
       "    </tr>\n",
       "    <tr>\n",
       "      <th>16</th>\n",
       "      <td>和平</td>\n",
       "      <td>和平的母亲</td>\n",
       "      <td>per:children</td>\n",
       "      <td>妈，要不您先到圆圆那屋——</td>\n",
       "    </tr>\n",
       "    <tr>\n",
       "      <th>17</th>\n",
       "      <td>和平</td>\n",
       "      <td>和平的母亲</td>\n",
       "      <td>per:children</td>\n",
       "      <td>我妈那也是勤俭持家，来，别生气了，大姐给你两块钱，买糖吃去吧，去……</td>\n",
       "    </tr>\n",
       "    <tr>\n",
       "      <th>18</th>\n",
       "      <td>和平</td>\n",
       "      <td>和平的母亲</td>\n",
       "      <td>per:children</td>\n",
       "      <td>你怎么也这么说呀你？你也轰她走啊？她是你亲姥姥，没她就没你，啊。</td>\n",
       "    </tr>\n",
       "    <tr>\n",
       "      <th>19</th>\n",
       "      <td>和平</td>\n",
       "      <td>和平的母亲</td>\n",
       "      <td>per:children</td>\n",
       "      <td>我妈知道你没对象啊，那是替你操心</td>\n",
       "    </tr>\n",
       "    <tr>\n",
       "      <th>20</th>\n",
       "      <td>和平</td>\n",
       "      <td>和平的母亲</td>\n",
       "      <td>per:children</td>\n",
       "      <td>我妈没说要走啊，您这可是送客的话。</td>\n",
       "    </tr>\n",
       "    <tr>\n",
       "      <th>21</th>\n",
       "      <td>和平</td>\n",
       "      <td>和平的母亲</td>\n",
       "      <td>per:children</td>\n",
       "      <td>妈，您歇着呢。</td>\n",
       "    </tr>\n",
       "  </tbody>\n",
       "</table>\n",
       "</div>"
      ],
      "text/plain": [
       "    S1     S2                 Relation  \\\n",
       "0   燕红     老郑             per:children   \n",
       "1   燕红     老郑             per:children   \n",
       "2   燕红    贾志新             per:neighbor   \n",
       "3   燕红     袁刚        per:ex-girlfriend   \n",
       "5   燕红    王老师              per:student   \n",
       "7   燕红     晶晶  per:positive impression   \n",
       "8   燕红     晶晶  per:positive impression   \n",
       "9   晶晶     燕红  per:negative impression   \n",
       "10  和平  和平的母亲             per:children   \n",
       "11  老和  和平的母亲       per:alternate_name   \n",
       "12  和平  和平的母亲             per:children   \n",
       "13  和平  和平的母亲             per:children   \n",
       "14  和平  和平的母亲             per:children   \n",
       "15  和平  和平的母亲             per:children   \n",
       "16  和平  和平的母亲             per:children   \n",
       "17  和平  和平的母亲             per:children   \n",
       "18  和平  和平的母亲             per:children   \n",
       "19  和平  和平的母亲             per:children   \n",
       "20  和平  和平的母亲             per:children   \n",
       "21  和平  和平的母亲             per:children   \n",
       "\n",
       "                                           Transcript  \n",
       "0   你别闹啦。也不知道谁这么缺德，把这玩艺儿贴得满大街都是……打中午我们家就没断了来人，如今那队...  \n",
       "1                                那我也只骗你一人啊，你这连我爸都捎上啦。  \n",
       "2                我干涉你？贾志新你从小到大就没少干涉我的恋爱自由，这么些年我就没计较过！  \n",
       "3              初三！4班的袁刚跟我交朋友，被人暴打一顿再也不敢理我了，这事是你找人干的吧？  \n",
       "5   我高一的时候，和教体育的王老师通信，被你报告学校，害得王老师调离，我在学校里抬不起头，这也是...  \n",
       "7   听说你今天请女朋友吃饭，我一直在里面帮厨呢。这位就是杨晶晶同志吧？一直听志新念叨，夸你内外兼...  \n",
       "8   对，他偷的都是我家的。另外，他聪明、热情、好学、好色……优点多得说不完。你能得到他的心，真是...  \n",
       "9   不！我和他并不般配。大姐，其实你和他才是最般配！你对他最了解，也最关心，这是一个女孩子的直觉...  \n",
       "10                                 妈，妈，没人接您，是我自个打的接您。  \n",
       "11                                       妈知道，妈是送你个人情。  \n",
       "12                         妈，让您怎么住您就怎么住，你挨这是客人，客随主便嘛。  \n",
       "13                        妈您瞧您，您让我们怎么吃啊？哪回吃饭都得跟您费半天话。  \n",
       "14                                   妈，您就甭弄了，回头我帮您铺吧，  \n",
       "15                                哎——妈，妈！您先到我们那屋躺会儿去。  \n",
       "16                                      妈，要不您先到圆圆那屋——  \n",
       "17                 我妈那也是勤俭持家，来，别生气了，大姐给你两块钱，买糖吃去吧，去……  \n",
       "18                   你怎么也这么说呀你？你也轰她走啊？她是你亲姥姥，没她就没你，啊。  \n",
       "19                                   我妈知道你没对象啊，那是替你操心  \n",
       "20                                  我妈没说要走啊，您这可是送客的话。  \n",
       "21                                            妈，您歇着呢。  "
      ]
     },
     "execution_count": 9,
     "metadata": {},
     "output_type": "execute_result"
    }
   ],
   "source": [
    "orig_pair_df = pd.DataFrame(list(zip(s1,s2,relation,utterance)),columns=['S1','S2','Relation','Transcript'])\n",
    "orig_pair_df = orig_pair_df.drop_duplicates()\n",
    "print(len(orig_pair_df))\n",
    "orig_pair_df.head(20)"
   ]
  },
  {
   "cell_type": "markdown",
   "id": "2fea720d",
   "metadata": {},
   "source": [
    "There is still a problem in the above data, i.e., it's not obvious that each line is actually directed towards the entity listed and not referring to that person in the 3rd person. For example <br/>\n",
    "燕红\t王老师\tper:student\t我高一的时候，和教体育的王老师通信，被你报告学校，害得王老师调离，我在学校里抬不起头，这也是.."
   ]
  },
  {
   "cell_type": "markdown",
   "id": "94b378ce",
   "metadata": {},
   "source": [
    "Also a mystery: how do we go from so many episodes to so few actual lines?"
   ]
  },
  {
   "cell_type": "code",
   "execution_count": 11,
   "id": "4a039045",
   "metadata": {},
   "outputs": [
    {
     "data": {
      "text/plain": [
       "[('per:neighbor', 67),\n",
       " ('per:spouse', 43),\n",
       " ('per:children', 41),\n",
       " ('per:parents', 32),\n",
       " ('per:friends', 13),\n",
       " ('per:classmate', 12),\n",
       " ('per:client', 9),\n",
       " ('per:alternate_name', 6),\n",
       " ('per:acquaintance', 6),\n",
       " ('per:ex-girlfriend', 4),\n",
       " ('per:parents-in-law', 4),\n",
       " ('per:girlfriend', 4),\n",
       " ('per:relative', 4),\n",
       " ('per:boss', 3),\n",
       " ('per:nurse', 3),\n",
       " ('per:positive impression', 2),\n",
       " ('per:negative impression', 2),\n",
       " ('per:colleague', 2),\n",
       " ('per:dates', 2),\n",
       " ('per:student', 1),\n",
       " ('per:subordinate', 1),\n",
       " ('per:ex-boyfriend', 1)]"
      ]
     },
     "execution_count": 11,
     "metadata": {},
     "output_type": "execute_result"
    }
   ],
   "source": [
    "Counter(orig_pair_df.Relation).most_common()"
   ]
  },
  {
   "cell_type": "code",
   "execution_count": 14,
   "id": "f602e45e",
   "metadata": {},
   "outputs": [
    {
     "data": {
      "text/plain": [
       "[{'x': 'S 1', 'y': 'S 2', 'r': ['per:spouse'], 'rid': [23]},\n",
       " {'x': 'S 1', 'y': 'S 3', 'r': ['per:children-in-law'], 'rid': [16]},\n",
       " {'x': 'S 1', 'y': 'S 4', 'r': ['unanswerable'], 'rid': [31]},\n",
       " {'x': 'S 1', 'y': '志国', 'r': ['per:spouse'], 'rid': [23]},\n",
       " {'x': 'S 2', 'y': 'S 1', 'r': ['per:spouse'], 'rid': [23]},\n",
       " {'x': 'S 2', 'y': 'S 3', 'r': ['per:children'], 'rid': [1]},\n",
       " {'x': 'S 2', 'y': 'S 4', 'r': ['unanswerable'], 'rid': [31]},\n",
       " {'x': 'S 2', 'y': '志国', 'r': ['per:alternate_name'], 'rid': [0]},\n",
       " {'x': 'S 3', 'y': 'S 1', 'r': ['per:parents-in-law'], 'rid': [15]},\n",
       " {'x': 'S 3', 'y': 'S 2', 'r': ['per:parents'], 'rid': [2]},\n",
       " {'x': 'S 3', 'y': 'S 4', 'r': ['unanswerable'], 'rid': [31]},\n",
       " {'x': 'S 3', 'y': '志国', 'r': ['per:parents'], 'rid': [2]},\n",
       " {'x': 'S 4', 'y': 'S 1', 'r': ['unanswerable'], 'rid': [31]},\n",
       " {'x': 'S 4', 'y': 'S 2', 'r': ['unanswerable'], 'rid': [31]},\n",
       " {'x': 'S 4', 'y': 'S 3', 'r': ['unanswerable'], 'rid': [31]},\n",
       " {'x': 'S 4', 'y': '志国', 'r': ['unanswerable'], 'rid': [31]},\n",
       " {'x': '志国', 'y': 'S 1', 'r': ['per:spouse'], 'rid': [23]},\n",
       " {'x': '志国', 'y': 'S 2', 'r': ['per:alternate_name'], 'rid': [0]},\n",
       " {'x': '志国', 'y': 'S 3', 'r': ['per:children'], 'rid': [1]},\n",
       " {'x': '志国', 'y': 'S 4', 'r': ['unanswerable'], 'rid': [31]}]"
      ]
     },
     "execution_count": 14,
     "metadata": {},
     "output_type": "execute_result"
    }
   ],
   "source": [
    "train_df[0][1]"
   ]
  },
  {
   "cell_type": "code",
   "execution_count": 49,
   "id": "9066b3f0",
   "metadata": {},
   "outputs": [
    {
     "data": {
      "text/plain": [
       "'per:children'"
      ]
     },
     "execution_count": 49,
     "metadata": {},
     "output_type": "execute_result"
    }
   ],
   "source": [
    "all_relations[(all_relations['A']==utt['speakers'])&(all_relations['B']==token)].relation.item()"
   ]
  },
  {
   "cell_type": "code",
   "execution_count": 22,
   "id": "e13792c3",
   "metadata": {},
   "outputs": [
    {
     "data": {
      "text/plain": [
       "[]"
      ]
     },
     "execution_count": 22,
     "metadata": {},
     "output_type": "execute_result"
    }
   ],
   "source": [
    "s1"
   ]
  },
  {
   "cell_type": "code",
   "execution_count": 7,
   "id": "63590d6b",
   "metadata": {},
   "outputs": [
    {
     "name": "stdout",
     "output_type": "stream",
     "text": [
      "exportCRT.py  final.json                     Untitled.ipynb\r\n",
      "final_0.json  final_with_speaker_names.json\r\n"
     ]
    }
   ],
   "source": [
    "%ls ../CRECIL/My_home_data/"
   ]
  },
  {
   "cell_type": "code",
   "execution_count": 10,
   "id": "30ca2e03",
   "metadata": {},
   "outputs": [],
   "source": [
    "with open('../CRECIL/My_home_data/final_with_speaker_names.json','r') as infile:\n",
    "    final_with_speaker_names = json.loads(infile.read())"
   ]
  },
  {
   "cell_type": "code",
   "execution_count": 11,
   "id": "36966503",
   "metadata": {},
   "outputs": [
    {
     "data": {
      "text/plain": [
       "[['贾圆圆: 爸，动画片儿哪频道啊？',\n",
       "  '贾志国: 看哪门子动画片呀----看连续剧',\n",
       "  '贾志新: 小张你这菜可咸点儿啊！',\n",
       "  '贾小凡: 二哥，你霸着鸡腿儿你一人吃你能不咸嘛你，人家一礼拜可才见一回晕腥！唉唉唉，动物世界动物世界……',\n",
       "  '和平: 哎哎哎，咱爸今儿是怎么回事儿？从单位一回来就打蔫儿，饭都不吃就楼底下溜达去了这大冷的天儿……',\n",
       "  '贾志新: 可能是添什么心事了，唉，是不是今儿跟单位巧遇哪位中午丧偶的女同志……',\n",
       "  '和平: 说话不着调……',\n",
       "  '贾志新: 咱妈去世两年多了，咱爸论条件，论身体，要为这烦恼，那还不要多正常有多正常？',\n",
       "  '贾小凡: 咱爸这岁数……不至于……',\n",
       "  '贾圆圆: 爱情不分老少，人生没有单行道。',\n",
       "  '和平: 嘿嘿嘿，这孩子哪儿学来这么些乱七八糟的……',\n",
       "  '贾志国: 还不都是你们招的！咱爸上了一天班，累了，躺会儿，你们就非说他老人家惦记给咱们找后妈，这是那儿跟那儿啊！',\n",
       "  '贾圆圆: 姑姑，你说大人为什么都这么愿意上班啊？',\n",
       "  '贾小凡: 啊也不是所有的大人都愿意上班--比如你二叔，在家闲了三年他都不着急……',\n",
       "  '贾志新: 谁闲着了？我挂着两个单位，兼着三个公司的副总经理，我比谁不忙呀！',\n",
       "  '贾小凡: 啊呸！你忙！咱爸他们单位，已经好几次想把爸的办公桌从局长室请出去啦！',\n",
       "  '和平: 可你爸也是，反正也退了，挨家享两天轻福不好么！何必每星期还大老远的跑到局里去“顾问”两次--害得人家车接车送的，给国家省点儿气油好不好？',\n",
       "  '贾志国: 老同志嘛，工作需要嘛！',\n",
       "  '和平: 你算了吧！你爸呀，纯属老糊涂了！',\n",
       "  '贾志新: 还不光是老……那是他们别人，咱爸可是越老越明白！',\n",
       "  '贾小凡: 根本不可能……那是绝对没错儿！我就同意二哥这观点！',\n",
       "  '贾志国: 我就反对你们这样……谁反对你们我就反对谁！',\n",
       "  '和平: 唉唉你们今天怎么了？平常你们不总说咱爸……',\n",
       "  '贾志国: 没有！根本没有！和平，你在背后不也总说咱爸是个明白人吗？',\n",
       "  '和平: 我那是哄着他玩儿哪！',\n",
       "  '贾圆圆: 妈！爷爷……',\n",
       "  '和平: 爷爷怎么啦？爷爷有缺点就不许人说呀？……可不嘛，有缺点你说，没缺点你什么呀？不是我批评你们，背后议论人这毛病你们也该改改啦！要不咱爸是明白人，不往心里去，要不然……呦，爸您起来啦，您快坐这儿！',\n",
       "  '傅明: 怎么，又哄着我玩儿呐！',\n",
       "  '和平: 您瞧这是怎么话儿说的……儿媳年幼无知，说话没有深浅，还请公公海涵。',\n",
       "  '傅明: 好啦好啦，不必下脆。',\n",
       "  '和平: 谁给您下脆了，我给您盛饭去……唉爸您上了一天班儿也够累的吧？虽然说局里的工作离不开您，可您也得注意身体呀！',\n",
       "  '傅明: 离不开我？离不开我今天怎么把我那办公桌儿给搁到……搁到妇联那屋去啦？',\n",
       "  '贾志新: 您怎么到妇联那儿工作？这可真够新鲜的！',\n",
       "  '傅明: 倒没有正式明确，就说让我先借那儿办公……我刚进去就见个女工，跟办公室几个人在一起嘀嘀咕，嘀嘀咕，我让她有话摆到桌面上说，她说这话不让我听，只能说给妇联同志她们娘家人听……什么娘家人婆家人，全国一盘棋嘛！后来说是她丈夫打了她，把这个胸口抓得青一块紫一块，“要不是您这儿坐着个大老爷们儿不方便，俺就脱下来让您瞧瞧……”妇联那几个女的说话也是欠妥，“啊不碍事儿的大姐，老傅咱副局长也不是外人嘛……”你们猜那女工怎么说？“别说是副局长，就是副总理俺们也不能随便让他瞧！”你瞧你那个鬼样子嘛！哪个副总理愿意瞧你嘛！',\n",
       "  '贾圆圆: 爷爷，她要长得好看你们是不是就都愿意瞧了？刚才二叔他们还说你想找一个……',\n",
       "  '和平: 爸，您说您也是，您上人妇联那屋办公，确实……反正够没劲的您！',\n",
       "  '贾志新: 这要传出去这群众影响还了得……别回头您临了临了老了老了的再给您弄出个作风问题来，您在咱们这片儿威信还是挺高的',\n",
       "  '傅明: 好好好，明天我就给局里打报告，我坚决不上妇联那屋儿去！',\n",
       "  '贾志国: 彻底退下来？',\n",
       "  '傅明: 要不然……我上计划生育那屋儿再忍忍去？'],\n",
       " [{'x': '贾圆圆', 'y': '贾志国', 'r': ['per:children'], 'rid': [1]},\n",
       "  {'x': '贾圆圆', 'y': '贾志新', 'r': ['per:relative'], 'rid': [29]},\n",
       "  {'x': '贾圆圆', 'y': '贾小凡', 'r': ['per:relative'], 'rid': [29]},\n",
       "  {'x': '贾圆圆', 'y': '和平', 'r': ['per:children'], 'rid': [1]},\n",
       "  {'x': '贾圆圆', 'y': '傅明', 'r': ['per:grandchildren'], 'rid': [25]},\n",
       "  {'x': '贾圆圆', 'y': '小张', 'r': ['unanswerable'], 'rid': [31]},\n",
       "  {'x': '贾圆圆', 'y': '二哥', 'r': ['per:relative'], 'rid': [29]},\n",
       "  {'x': '贾圆圆', 'y': '孩子', 'r': ['per:alternate_name'], 'rid': [0]},\n",
       "  {'x': '贾圆圆', 'y': '老同志', 'r': ['per:grandchildren'], 'rid': [25]},\n",
       "  {'x': '贾圆圆', 'y': '和平', 'r': ['per:children'], 'rid': [1]},\n",
       "  {'x': '贾志国', 'y': '贾圆圆', 'r': ['per:parents'], 'rid': [2]},\n",
       "  {'x': '贾志国', 'y': '贾志新', 'r': ['per:siblings'], 'rid': [22]},\n",
       "  {'x': '贾志国', 'y': '贾小凡', 'r': ['per:siblings'], 'rid': [22]},\n",
       "  {'x': '贾志国', 'y': '和平', 'r': ['per:spouse'], 'rid': [23]},\n",
       "  {'x': '贾志国', 'y': '傅明', 'r': ['per:children'], 'rid': [1]},\n",
       "  {'x': '贾志国', 'y': '小张', 'r': ['unanswerable'], 'rid': [31]},\n",
       "  {'x': '贾志国', 'y': '二哥', 'r': ['per:siblings'], 'rid': [22]},\n",
       "  {'x': '贾志国', 'y': '孩子', 'r': ['per:parents'], 'rid': [2]},\n",
       "  {'x': '贾志国', 'y': '老同志', 'r': ['per:children'], 'rid': [1]},\n",
       "  {'x': '贾志国', 'y': '和平', 'r': ['per:spouse'], 'rid': [23]},\n",
       "  {'x': '贾志新', 'y': '贾圆圆', 'r': ['per:relative'], 'rid': [29]},\n",
       "  {'x': '贾志新', 'y': '贾志国', 'r': ['per:siblings'], 'rid': [22]},\n",
       "  {'x': '贾志新', 'y': '贾小凡', 'r': ['per:siblings'], 'rid': [22]},\n",
       "  {'x': '贾志新', 'y': '和平', 'r': ['per:relative'], 'rid': [29]},\n",
       "  {'x': '贾志新', 'y': '傅明', 'r': ['per:children'], 'rid': [1]},\n",
       "  {'x': '贾志新', 'y': '小张', 'r': ['per:subordinate'], 'rid': [20]},\n",
       "  {'x': '贾志新', 'y': '二哥', 'r': ['per:alternate_name'], 'rid': [0]},\n",
       "  {'x': '贾志新', 'y': '孩子', 'r': ['per:relative'], 'rid': [29]},\n",
       "  {'x': '贾志新', 'y': '老同志', 'r': ['per:children'], 'rid': [1]},\n",
       "  {'x': '贾志新', 'y': '和平', 'r': ['per:relative'], 'rid': [29]},\n",
       "  {'x': '贾小凡', 'y': '贾圆圆', 'r': ['per:relative'], 'rid': [29]},\n",
       "  {'x': '贾小凡', 'y': '贾志国', 'r': ['per:siblings'], 'rid': [22]},\n",
       "  {'x': '贾小凡', 'y': '贾志新', 'r': ['per:siblings'], 'rid': [22]},\n",
       "  {'x': '贾小凡', 'y': '和平', 'r': ['per:relative'], 'rid': [29]},\n",
       "  {'x': '贾小凡', 'y': '傅明', 'r': ['per:children'], 'rid': [1]},\n",
       "  {'x': '贾小凡', 'y': '小张', 'r': ['unanswerable'], 'rid': [31]},\n",
       "  {'x': '贾小凡', 'y': '二哥', 'r': ['per:siblings'], 'rid': [22]},\n",
       "  {'x': '贾小凡', 'y': '孩子', 'r': ['per:relative'], 'rid': [29]},\n",
       "  {'x': '贾小凡', 'y': '老同志', 'r': ['per:children'], 'rid': [1]},\n",
       "  {'x': '贾小凡', 'y': '和平', 'r': ['per:relative'], 'rid': [29]},\n",
       "  {'x': '和平', 'y': '贾圆圆', 'r': ['per:parents'], 'rid': [2]},\n",
       "  {'x': '和平', 'y': '贾志国', 'r': ['per:spouse'], 'rid': [23]},\n",
       "  {'x': '和平', 'y': '贾志新', 'r': ['per:relative'], 'rid': [29]},\n",
       "  {'x': '和平', 'y': '贾小凡', 'r': ['per:relative'], 'rid': [29]},\n",
       "  {'x': '和平', 'y': '傅明', 'r': ['per:children-in-law'], 'rid': [16]},\n",
       "  {'x': '和平', 'y': '小张', 'r': ['unanswerable'], 'rid': [31]},\n",
       "  {'x': '和平', 'y': '二哥', 'r': ['per:relative'], 'rid': [29]},\n",
       "  {'x': '和平', 'y': '孩子', 'r': ['per:parents'], 'rid': [2]},\n",
       "  {'x': '和平', 'y': '老同志', 'r': ['per:children-in-law'], 'rid': [16]},\n",
       "  {'x': '傅明', 'y': '贾圆圆', 'r': ['per:grandparents'], 'rid': [24]},\n",
       "  {'x': '傅明', 'y': '贾志国', 'r': ['per:parents'], 'rid': [2]},\n",
       "  {'x': '傅明', 'y': '贾志新', 'r': ['per:parents'], 'rid': [2]},\n",
       "  {'x': '傅明', 'y': '贾小凡', 'r': ['per:parents'], 'rid': [2]},\n",
       "  {'x': '傅明', 'y': '和平', 'r': ['per:parents-in-law'], 'rid': [15]},\n",
       "  {'x': '傅明', 'y': '小张', 'r': ['unanswerable'], 'rid': [31]},\n",
       "  {'x': '傅明', 'y': '二哥', 'r': ['per:parents'], 'rid': [2]},\n",
       "  {'x': '傅明', 'y': '孩子', 'r': ['per:grandparents'], 'rid': [24]},\n",
       "  {'x': '傅明', 'y': '老同志', 'r': ['per:alternate_name'], 'rid': [0]},\n",
       "  {'x': '傅明', 'y': '和平', 'r': ['per:parents-in-law'], 'rid': [15]},\n",
       "  {'x': '小张', 'y': '贾圆圆', 'r': ['per:nurse'], 'rid': [14]},\n",
       "  {'x': '小张', 'y': '贾志国', 'r': ['per:nurse'], 'rid': [14]},\n",
       "  {'x': '小张', 'y': '贾志新', 'r': ['per:nurse'], 'rid': [14]},\n",
       "  {'x': '小张', 'y': '贾小凡', 'r': ['per:nurse'], 'rid': [14]},\n",
       "  {'x': '小张', 'y': '和平', 'r': ['per:nurse'], 'rid': [14]},\n",
       "  {'x': '小张', 'y': '傅明', 'r': ['per:nurse'], 'rid': [14]},\n",
       "  {'x': '小张', 'y': '二哥', 'r': ['per:nurse'], 'rid': [14]},\n",
       "  {'x': '小张', 'y': '孩子', 'r': ['per:nurse'], 'rid': [14]},\n",
       "  {'x': '小张', 'y': '老同志', 'r': ['per:nurse'], 'rid': [14]},\n",
       "  {'x': '小张', 'y': '和平', 'r': ['per:nurse'], 'rid': [14]},\n",
       "  {'x': '二哥', 'y': '贾圆圆', 'r': ['per:relative'], 'rid': [29]},\n",
       "  {'x': '二哥', 'y': '贾志国', 'r': ['per:siblings'], 'rid': [22]},\n",
       "  {'x': '二哥', 'y': '贾志新', 'r': ['per:alternate_name'], 'rid': [0]},\n",
       "  {'x': '二哥', 'y': '贾小凡', 'r': ['per:siblings'], 'rid': [22]},\n",
       "  {'x': '二哥', 'y': '和平', 'r': ['per:relative'], 'rid': [29]},\n",
       "  {'x': '二哥', 'y': '傅明', 'r': ['per:children'], 'rid': [1]},\n",
       "  {'x': '二哥', 'y': '小张', 'r': ['per:subordinate'], 'rid': [20]},\n",
       "  {'x': '二哥', 'y': '孩子', 'r': ['per:relative'], 'rid': [29]},\n",
       "  {'x': '二哥', 'y': '老同志', 'r': ['per:children'], 'rid': [1]},\n",
       "  {'x': '二哥', 'y': '和平', 'r': ['per:relative'], 'rid': [29]},\n",
       "  {'x': '孩子', 'y': '贾圆圆', 'r': ['per:alternate_name'], 'rid': [0]},\n",
       "  {'x': '孩子', 'y': '贾志国', 'r': ['per:children'], 'rid': [1]},\n",
       "  {'x': '孩子', 'y': '贾志新', 'r': ['per:relative'], 'rid': [29]},\n",
       "  {'x': '孩子', 'y': '贾小凡', 'r': ['per:relative'], 'rid': [29]},\n",
       "  {'x': '孩子', 'y': '和平', 'r': ['per:children'], 'rid': [1]},\n",
       "  {'x': '孩子', 'y': '傅明', 'r': ['per:grandchildren'], 'rid': [25]},\n",
       "  {'x': '孩子', 'y': '小张', 'r': ['unanswerable'], 'rid': [31]},\n",
       "  {'x': '孩子', 'y': '二哥', 'r': ['per:relative'], 'rid': [29]},\n",
       "  {'x': '孩子', 'y': '老同志', 'r': ['per:grandchildren'], 'rid': [25]},\n",
       "  {'x': '孩子', 'y': '和平', 'r': ['per:children'], 'rid': [1]},\n",
       "  {'x': '老同志', 'y': '贾圆圆', 'r': ['per:grandparents'], 'rid': [24]},\n",
       "  {'x': '老同志', 'y': '贾志国', 'r': ['per:parents'], 'rid': [2]},\n",
       "  {'x': '老同志', 'y': '贾志新', 'r': ['per:parents'], 'rid': [2]},\n",
       "  {'x': '老同志', 'y': '贾小凡', 'r': ['per:parents'], 'rid': [2]},\n",
       "  {'x': '老同志', 'y': '和平', 'r': ['per:parents-in-law'], 'rid': [15]},\n",
       "  {'x': '老同志', 'y': '傅明', 'r': ['per:alternate_name'], 'rid': [0]},\n",
       "  {'x': '老同志', 'y': '小张', 'r': ['unanswerable'], 'rid': [31]},\n",
       "  {'x': '老同志', 'y': '二哥', 'r': ['per:parents'], 'rid': [2]},\n",
       "  {'x': '老同志', 'y': '孩子', 'r': ['per:grandparents'], 'rid': [24]},\n",
       "  {'x': '老同志', 'y': '和平', 'r': ['per:parents-in-law'], 'rid': [15]},\n",
       "  {'x': '和平', 'y': '贾圆圆', 'r': ['per:parents'], 'rid': [2]},\n",
       "  {'x': '和平', 'y': '贾志国', 'r': ['per:spouse'], 'rid': [23]},\n",
       "  {'x': '和平', 'y': '贾志新', 'r': ['per:relative'], 'rid': [29]},\n",
       "  {'x': '和平', 'y': '贾小凡', 'r': ['per:relative'], 'rid': [29]},\n",
       "  {'x': '和平', 'y': '傅明', 'r': ['per:children-in-law'], 'rid': [16]},\n",
       "  {'x': '和平', 'y': '小张', 'r': ['unanswerable'], 'rid': [31]},\n",
       "  {'x': '和平', 'y': '二哥', 'r': ['per:relative'], 'rid': [29]},\n",
       "  {'x': '和平', 'y': '孩子', 'r': ['per:parents'], 'rid': [2]},\n",
       "  {'x': '和平', 'y': '老同志', 'r': ['per:children-in-law'], 'rid': [16]}]]"
      ]
     },
     "execution_count": 11,
     "metadata": {},
     "output_type": "execute_result"
    }
   ],
   "source": [
    "final_with_speaker_names[0]"
   ]
  },
  {
   "cell_type": "markdown",
   "id": "964e3832",
   "metadata": {},
   "source": [
    "Needs to be simplified. Only keep names as they appear in the script."
   ]
  },
  {
   "cell_type": "code",
   "execution_count": 11,
   "id": "7712ce5c",
   "metadata": {},
   "outputs": [
    {
     "data": {
      "text/plain": [
       "108"
      ]
     },
     "execution_count": 11,
     "metadata": {},
     "output_type": "execute_result"
    }
   ],
   "source": [
    "len(final_with_speaker_names[0][1])"
   ]
  },
  {
   "cell_type": "code",
   "execution_count": 12,
   "id": "fabb1a14",
   "metadata": {
    "collapsed": true
   },
   "outputs": [
    {
     "data": {
      "text/plain": [
       "['贾圆圆: 爸，动画片儿哪频道啊？',\n",
       " '贾志国: 看哪门子动画片呀----看连续剧',\n",
       " '贾志新: 小张你这菜可咸点儿啊！',\n",
       " '贾小凡: 二哥，你霸着鸡腿儿你一人吃你能不咸嘛你，人家一礼拜可才见一回晕腥！唉唉唉，动物世界动物世界……',\n",
       " '和平: 哎哎哎，咱爸今儿是怎么回事儿？从单位一回来就打蔫儿，饭都不吃就楼底下溜达去了这大冷的天儿……',\n",
       " '贾志新: 可能是添什么心事了，唉，是不是今儿跟单位巧遇哪位中午丧偶的女同志……',\n",
       " '和平: 说话不着调……',\n",
       " '贾志新: 咱妈去世两年多了，咱爸论条件，论身体，要为这烦恼，那还不要多正常有多正常？',\n",
       " '贾小凡: 咱爸这岁数……不至于……',\n",
       " '贾圆圆: 爱情不分老少，人生没有单行道。',\n",
       " '和平: 嘿嘿嘿，这孩子哪儿学来这么些乱七八糟的……',\n",
       " '贾志国: 还不都是你们招的！咱爸上了一天班，累了，躺会儿，你们就非说他老人家惦记给咱们找后妈，这是那儿跟那儿啊！',\n",
       " '贾圆圆: 姑姑，你说大人为什么都这么愿意上班啊？',\n",
       " '贾小凡: 啊也不是所有的大人都愿意上班--比如你二叔，在家闲了三年他都不着急……',\n",
       " '贾志新: 谁闲着了？我挂着两个单位，兼着三个公司的副总经理，我比谁不忙呀！',\n",
       " '贾小凡: 啊呸！你忙！咱爸他们单位，已经好几次想把爸的办公桌从局长室请出去啦！',\n",
       " '和平: 可你爸也是，反正也退了，挨家享两天轻福不好么！何必每星期还大老远的跑到局里去“顾问”两次--害得人家车接车送的，给国家省点儿气油好不好？',\n",
       " '贾志国: 老同志嘛，工作需要嘛！',\n",
       " '和平: 你算了吧！你爸呀，纯属老糊涂了！',\n",
       " '贾志新: 还不光是老……那是他们别人，咱爸可是越老越明白！',\n",
       " '贾小凡: 根本不可能……那是绝对没错儿！我就同意二哥这观点！',\n",
       " '贾志国: 我就反对你们这样……谁反对你们我就反对谁！',\n",
       " '和平: 唉唉你们今天怎么了？平常你们不总说咱爸……',\n",
       " '贾志国: 没有！根本没有！和平，你在背后不也总说咱爸是个明白人吗？',\n",
       " '和平: 我那是哄着他玩儿哪！',\n",
       " '贾圆圆: 妈！爷爷……',\n",
       " '和平: 爷爷怎么啦？爷爷有缺点就不许人说呀？……可不嘛，有缺点你说，没缺点你什么呀？不是我批评你们，背后议论人这毛病你们也该改改啦！要不咱爸是明白人，不往心里去，要不然……呦，爸您起来啦，您快坐这儿！',\n",
       " '傅明: 怎么，又哄着我玩儿呐！',\n",
       " '和平: 您瞧这是怎么话儿说的……儿媳年幼无知，说话没有深浅，还请公公海涵。',\n",
       " '傅明: 好啦好啦，不必下脆。',\n",
       " '和平: 谁给您下脆了，我给您盛饭去……唉爸您上了一天班儿也够累的吧？虽然说局里的工作离不开您，可您也得注意身体呀！',\n",
       " '傅明: 离不开我？离不开我今天怎么把我那办公桌儿给搁到……搁到妇联那屋去啦？',\n",
       " '贾志新: 您怎么到妇联那儿工作？这可真够新鲜的！',\n",
       " '傅明: 倒没有正式明确，就说让我先借那儿办公……我刚进去就见个女工，跟办公室几个人在一起嘀嘀咕，嘀嘀咕，我让她有话摆到桌面上说，她说这话不让我听，只能说给妇联同志她们娘家人听……什么娘家人婆家人，全国一盘棋嘛！后来说是她丈夫打了她，把这个胸口抓得青一块紫一块，“要不是您这儿坐着个大老爷们儿不方便，俺就脱下来让您瞧瞧……”妇联那几个女的说话也是欠妥，“啊不碍事儿的大姐，老傅咱副局长也不是外人嘛……”你们猜那女工怎么说？“别说是副局长，就是副总理俺们也不能随便让他瞧！”你瞧你那个鬼样子嘛！哪个副总理愿意瞧你嘛！',\n",
       " '贾圆圆: 爷爷，她要长得好看你们是不是就都愿意瞧了？刚才二叔他们还说你想找一个……',\n",
       " '和平: 爸，您说您也是，您上人妇联那屋办公，确实……反正够没劲的您！',\n",
       " '贾志新: 这要传出去这群众影响还了得……别回头您临了临了老了老了的再给您弄出个作风问题来，您在咱们这片儿威信还是挺高的',\n",
       " '傅明: 好好好，明天我就给局里打报告，我坚决不上妇联那屋儿去！',\n",
       " '贾志国: 彻底退下来？',\n",
       " '傅明: 要不然……我上计划生育那屋儿再忍忍去？']"
      ]
     },
     "execution_count": 12,
     "metadata": {},
     "output_type": "execute_result"
    }
   ],
   "source": [
    "final_with_speaker_names[0][0]"
   ]
  },
  {
   "cell_type": "code",
   "execution_count": 14,
   "id": "0ba7b8f8",
   "metadata": {},
   "outputs": [
    {
     "data": {
      "text/plain": [
       "{'傅明', '和平', '贾圆圆', '贾小凡', '贾志国', '贾志新'}"
      ]
     },
     "execution_count": 14,
     "metadata": {},
     "output_type": "execute_result"
    }
   ],
   "source": [
    "main_names = set()\n",
    "for line in final_with_speaker_names[0][0]:\n",
    "    name = line.split(': ')[0]\n",
    "    main_names.add(name)\n",
    "main_names"
   ]
  },
  {
   "cell_type": "code",
   "execution_count": null,
   "id": "e40800f9",
   "metadata": {},
   "outputs": [],
   "source": [
    "#Reset to original"
   ]
  },
  {
   "cell_type": "code",
   "execution_count": 33,
   "id": "a7dc292b",
   "metadata": {},
   "outputs": [],
   "source": [
    "alt_names = dict()\n",
    "alt_names_list = []\n",
    "for item in final_with_speaker_names[0][1]:\n",
    "    if item['r'][0]=='per:alternate_name' and item['x'] in main_names:\n",
    "        if item['x'] not in alt_names:\n",
    "            alt_names[item['x']] = []\n",
    "        alt_names[item['x']].append(item['y'])\n",
    "        alt_names_list.append(item['y'])"
   ]
  },
  {
   "cell_type": "code",
   "execution_count": 39,
   "id": "2137aaee",
   "metadata": {},
   "outputs": [
    {
     "data": {
      "text/plain": [
       "36"
      ]
     },
     "execution_count": 39,
     "metadata": {},
     "output_type": "execute_result"
    }
   ],
   "source": [
    "new_list = []\n",
    "new_list_set = set()\n",
    "two_person_d = []\n",
    "\n",
    "for item in final_with_speaker_names[0][1]:\n",
    "    if item['x'] in main_names:\n",
    "        if (item['y'] in main_names):\n",
    "            test = (item['x'],item['y'],item['r'][0])\n",
    "            if test not in new_list_set:\n",
    "                new_list.append(item)\n",
    "                new_list_set.add(test)\n",
    "        elif item['y'] not in alt_names_list:\n",
    "            test = (item['x'],item['y'],item['r'][0])\n",
    "            if test not in new_list_set:\n",
    "                new_list.append(item)\n",
    "                new_list_set.add(test)\n",
    "len(new_list)"
   ]
  },
  {
   "cell_type": "code",
   "execution_count": 12,
   "id": "dc0b4a0d",
   "metadata": {},
   "outputs": [],
   "source": [
    "alt_names = dict()\n",
    "all_main_names = set()\n",
    "two_person_d = []\n",
    "\n",
    "for i in range(0,len(final_with_speaker_names)):\n",
    "    \n",
    "    main_names = set()\n",
    "    for line in final_with_speaker_names[i][0]:\n",
    "        name = line.split(': ')[0]\n",
    "        main_names.add(name)\n",
    "        all_main_names.add(name)\n",
    "\n",
    "    alt_names_list = []\n",
    "    for item in final_with_speaker_names[i][1]:\n",
    "        if item['r'][0]=='per:alternate_name' and item['x'] in main_names:\n",
    "            if item['x'] not in alt_names:\n",
    "                alt_names[item['x']] = []\n",
    "            alt_names[item['x']].append(item['y'])\n",
    "            alt_names_list.append(item['y'])    \n",
    "            \n",
    "    new_list = []\n",
    "    new_list_set = set()\n",
    "    names_with_rels = set()\n",
    "    for item in final_with_speaker_names[0][1]:\n",
    "        if item['x'] in main_names:\n",
    "            if (item['y'] in main_names):\n",
    "                test = (item['x'],item['y'],item['r'][0])\n",
    "                if test not in new_list_set:\n",
    "                    new_list.append(item)\n",
    "                    new_list_set.add(test)\n",
    "                    names_with_rels.add(item['x'])\n",
    "            elif item['y'] not in alt_names_list:\n",
    "                test = (item['x'],item['y'],item['r'][0])\n",
    "                if test not in new_list_set:\n",
    "                    new_list.append(item)\n",
    "                    new_list_set.add(test)\n",
    "                    names_with_rels.add(item['x'])\n",
    "                    \n",
    "    final_with_speaker_names[i][1] = new_list\n",
    "    \n",
    "    #store no. speakers in dialogue in new field\n",
    "    final_with_speaker_names[i].append(len(main_names))\n",
    "    final_with_speaker_names[i].append(main_names)\n",
    "    \n",
    "    main_relations = []\n",
    "    new_list_set = set()\n",
    "    for name in main_names:\n",
    "        if name in [item['x'] for item in new_list]:\n",
    "            candidates = [item for item in new_list if ((item['x'] in main_names) and \\\n",
    "                                                        (item['y'] in main_names))]\n",
    "            test = (item['x'],item['y'],item['r'][0])\n",
    "            if test not in new_list_set:\n",
    "                main_relations.extend(candidates)\n",
    "                new_list_set.add(test)\n",
    "        \n",
    "    final_with_speaker_names[i].append(main_relations)\n",
    "    \n",
    "    known_ppl = True\n",
    "    if len(main_names.difference(names_with_rels))==0 and len(main_names)==2:\n",
    "        two_person_d.append(i)"
   ]
  },
  {
   "cell_type": "code",
   "execution_count": 44,
   "id": "ea8ba728",
   "metadata": {
    "collapsed": true
   },
   "outputs": [
    {
     "data": {
      "text/plain": [
       "[{'x': '贾圆圆', 'y': '和平', 'r': ['per:children'], 'rid': [1]},\n",
       " {'x': '贾圆圆', 'y': '傅明', 'r': ['per:grandchildren'], 'rid': [25]},\n",
       " {'x': '和平', 'y': '贾圆圆', 'r': ['per:parents'], 'rid': [2]},\n",
       " {'x': '和平', 'y': '傅明', 'r': ['per:children-in-law'], 'rid': [16]},\n",
       " {'x': '傅明', 'y': '贾圆圆', 'r': ['per:grandparents'], 'rid': [24]},\n",
       " {'x': '傅明', 'y': '和平', 'r': ['per:parents-in-law'], 'rid': [15]},\n",
       " {'x': '贾圆圆', 'y': '和平', 'r': ['per:children'], 'rid': [1]},\n",
       " {'x': '贾圆圆', 'y': '傅明', 'r': ['per:grandchildren'], 'rid': [25]},\n",
       " {'x': '和平', 'y': '贾圆圆', 'r': ['per:parents'], 'rid': [2]},\n",
       " {'x': '和平', 'y': '傅明', 'r': ['per:children-in-law'], 'rid': [16]},\n",
       " {'x': '傅明', 'y': '贾圆圆', 'r': ['per:grandparents'], 'rid': [24]},\n",
       " {'x': '傅明', 'y': '和平', 'r': ['per:parents-in-law'], 'rid': [15]},\n",
       " {'x': '贾圆圆', 'y': '和平', 'r': ['per:children'], 'rid': [1]},\n",
       " {'x': '贾圆圆', 'y': '傅明', 'r': ['per:grandchildren'], 'rid': [25]},\n",
       " {'x': '和平', 'y': '贾圆圆', 'r': ['per:parents'], 'rid': [2]},\n",
       " {'x': '和平', 'y': '傅明', 'r': ['per:children-in-law'], 'rid': [16]},\n",
       " {'x': '傅明', 'y': '贾圆圆', 'r': ['per:grandparents'], 'rid': [24]},\n",
       " {'x': '傅明', 'y': '和平', 'r': ['per:parents-in-law'], 'rid': [15]}]"
      ]
     },
     "execution_count": 44,
     "metadata": {},
     "output_type": "execute_result"
    }
   ],
   "source": [
    "main_relations"
   ]
  },
  {
   "cell_type": "code",
   "execution_count": 48,
   "id": "fd313c16",
   "metadata": {},
   "outputs": [
    {
     "data": {
      "text/plain": [
       "75"
      ]
     },
     "execution_count": 48,
     "metadata": {},
     "output_type": "execute_result"
    }
   ],
   "source": [
    "len(two_person_d)"
   ]
  },
  {
   "cell_type": "code",
   "execution_count": 39,
   "id": "03168235",
   "metadata": {},
   "outputs": [
    {
     "data": {
      "text/plain": [
       "11"
      ]
     },
     "execution_count": 39,
     "metadata": {},
     "output_type": "execute_result"
    }
   ],
   "source": [
    "two_person_d[2]"
   ]
  },
  {
   "cell_type": "code",
   "execution_count": 13,
   "id": "c783a6c5",
   "metadata": {},
   "outputs": [
    {
     "data": {
      "text/plain": [
       "[['贾志新: 打开国门的同时，怎么把苍蝇也放进来啦？学习外国是好事儿，学人家先进技术，学人家管理经验，你不能什么都学啊！人家外国人还光着身子在大街上溜达呢，你们也学？愚人节，是外国人吃饱了没事儿干想出来的馊主意，咱们连温饱问题都没解决，学那干嘛？瞧弄我这一嘴肥皂沫子……还笑你们。',\n",
       "  '贾小凡: 二哥别生气啦，骗你吃肥皂总比骗你在外头干冻一个钟头强吧？',\n",
       "  '贾志新: 不要转移斗争大方向，那是刘颖打电话来……唔，会不会拿我开涮哪？',\n",
       "  '贾小凡: 还用问？也不看看今儿是什么日子？让我说呀，这人还算照顾你，没让你穿着背心裤衩上外头罚站去！',\n",
       "  '贾志新: 刘颖绝干不出这种缺德事……是谁呢？她肯定得躲在附近偷偷乐……郑燕红！不是她干的我嗑死。只有她知道我和小颖的关系，中学的时侯她就想拆散我们，今儿肯定是阶级报复……我找她算账去！',\n",
       "  '贾小凡: 别，哥你听我说，大“愚人节”的显得咱气量太小可不行——咱给她来个以其人之道还治其人之身。',\n",
       "  '贾志新: 让她也上一当？唔，干这个我拿手儿……有了，咱给她换房！',\n",
       "  '贾小凡: 换房？',\n",
       "  '贾志新: 小凡，圆圆，我说，你们写，我要不让她们家挤破了头算我没能耐！',\n",
       "  '贾志新: 写'],\n",
       " [{'x': '贾志新', 'y': '贾圆圆', 'r': ['per:relative'], 'rid': [29]},\n",
       "  {'x': '贾志新', 'y': '贾志国', 'r': ['per:siblings'], 'rid': [22]},\n",
       "  {'x': '贾志新', 'y': '贾小凡', 'r': ['per:siblings'], 'rid': [22]},\n",
       "  {'x': '贾志新', 'y': '和平', 'r': ['per:relative'], 'rid': [29]},\n",
       "  {'x': '贾志新', 'y': '傅明', 'r': ['per:children'], 'rid': [1]},\n",
       "  {'x': '贾志新', 'y': '小张', 'r': ['per:subordinate'], 'rid': [20]},\n",
       "  {'x': '贾小凡', 'y': '贾圆圆', 'r': ['per:relative'], 'rid': [29]},\n",
       "  {'x': '贾小凡', 'y': '贾志国', 'r': ['per:siblings'], 'rid': [22]},\n",
       "  {'x': '贾小凡', 'y': '贾志新', 'r': ['per:siblings'], 'rid': [22]},\n",
       "  {'x': '贾小凡', 'y': '和平', 'r': ['per:relative'], 'rid': [29]},\n",
       "  {'x': '贾小凡', 'y': '傅明', 'r': ['per:children'], 'rid': [1]},\n",
       "  {'x': '贾小凡', 'y': '小张', 'r': ['unanswerable'], 'rid': [31]}],\n",
       " 2,\n",
       " {'贾小凡', '贾志新'},\n",
       " [{'x': '贾志新', 'y': '贾小凡', 'r': ['per:siblings'], 'rid': [22]},\n",
       "  {'x': '贾小凡', 'y': '贾志新', 'r': ['per:siblings'], 'rid': [22]}]]"
      ]
     },
     "execution_count": 13,
     "metadata": {},
     "output_type": "execute_result"
    }
   ],
   "source": [
    "final_with_speaker_names[11]"
   ]
  },
  {
   "cell_type": "code",
   "execution_count": 51,
   "id": "ad567c8c",
   "metadata": {},
   "outputs": [
    {
     "data": {
      "text/plain": [
       "list"
      ]
     },
     "execution_count": 51,
     "metadata": {},
     "output_type": "execute_result"
    }
   ],
   "source": [
    "type(final_with_speaker_names)"
   ]
  },
  {
   "cell_type": "code",
   "execution_count": 32,
   "id": "12ea7e4c",
   "metadata": {},
   "outputs": [],
   "source": [
    "with open('../CRECIL/My_home_data/final_with_speaker_names_clean.pickle','wb') as outfile:\n",
    "    pickle.dump(final_with_speaker_names,outfile,protocol=pickle.HIGHEST_PROTOCOL)\n",
    "    \n",
    "with open('../CRECIL/My_home_data/two_person_d.pickle','wb') as outfile:\n",
    "    pickle.dump(two_person_d,outfile,protocol=pickle.HIGHEST_PROTOCOL)"
   ]
  },
  {
   "cell_type": "code",
   "execution_count": 33,
   "id": "22f97ef4",
   "metadata": {},
   "outputs": [],
   "source": [
    "with open('../CRECIL/My_home_data/final_with_speaker_names_clean.pickle', 'rb') as infile:\n",
    "    final_with_speaker_names = pickle.load(infile)\n",
    "    \n",
    "with open('../CRECIL/My_home_data/two_person_d.pickle','rb') as infile:\n",
    "    two_person_d = pickle.load(infile)"
   ]
  },
  {
   "cell_type": "code",
   "execution_count": 16,
   "id": "fa911d7e",
   "metadata": {},
   "outputs": [
    {
     "data": {
      "text/plain": [
       "[{'x': '贾志新', 'y': '贾小凡', 'r': ['per:siblings'], 'rid': [22]},\n",
       " {'x': '贾小凡', 'y': '贾志新', 'r': ['per:siblings'], 'rid': [22]}]"
      ]
     },
     "execution_count": 16,
     "metadata": {},
     "output_type": "execute_result"
    }
   ],
   "source": [
    "final_with_speaker_names[11][4]"
   ]
  },
  {
   "cell_type": "markdown",
   "id": "994615b2",
   "metadata": {},
   "source": [
    "Question: how many people are there per relation in 2-person dialogues?\n",
    "\n",
    "Relations found in `final_with_speaker_names[i][4]`"
   ]
  },
  {
   "cell_type": "code",
   "execution_count": 20,
   "id": "730783d2",
   "metadata": {},
   "outputs": [],
   "source": [
    "dialog_rel_dict = dict()\n",
    "ch_set = set()\n",
    "\n",
    "#One instance is a left-hand-side and right-hand-side of a relation\n",
    "for i in two_person_d:\n",
    "    \n",
    "    for info in final_with_speaker_names[i][4]:\n",
    "\n",
    "        r = info['r'][0]\n",
    "\n",
    "        if r not in dialog_rel_dict:\n",
    "            dialog_rel_dict[r] = [] \n",
    "\n",
    "        (x,y) = (info['x'],info['y'])\n",
    "        \n",
    "        ch_set.add(x)\n",
    "        ch_set.add(y)\n",
    "        \n",
    "        if (x,y) not in dialog_rel_dict[r]:\n",
    "            dialog_rel_dict[r].append((x,y))"
   ]
  },
  {
   "cell_type": "code",
   "execution_count": 21,
   "id": "3529eb30",
   "metadata": {},
   "outputs": [
    {
     "data": {
      "text/plain": [
       "{'per:children': [('贾志新', '傅明'),\n",
       "  ('贾小凡', '傅明'),\n",
       "  ('贾志国', '傅明'),\n",
       "  ('贾圆圆', '和平'),\n",
       "  ('贾圆圆', '贾志国')],\n",
       " 'per:parents': [('傅明', '贾志新'),\n",
       "  ('傅明', '贾小凡'),\n",
       "  ('傅明', '贾志国'),\n",
       "  ('和平', '贾圆圆'),\n",
       "  ('贾志国', '贾圆圆')],\n",
       " 'per:relative': [('贾圆圆', '贾小凡'),\n",
       "  ('贾小凡', '贾圆圆'),\n",
       "  ('贾志新', '和平'),\n",
       "  ('和平', '贾志新'),\n",
       "  ('贾圆圆', '贾志新'),\n",
       "  ('贾志新', '贾圆圆')],\n",
       " 'per:siblings': [('贾志新', '贾小凡'), ('贾小凡', '贾志新')],\n",
       " 'per:spouse': [('贾志国', '和平'), ('和平', '贾志国')],\n",
       " 'per:grandchildren': [('贾圆圆', '傅明')],\n",
       " 'per:grandparents': [('傅明', '贾圆圆')],\n",
       " 'per:children-in-law': [('和平', '傅明')],\n",
       " 'per:parents-in-law': [('傅明', '和平')]}"
      ]
     },
     "execution_count": 21,
     "metadata": {},
     "output_type": "execute_result"
    }
   ],
   "source": [
    "dialog_rel_dict"
   ]
  },
  {
   "cell_type": "markdown",
   "id": "96e4fd4f",
   "metadata": {},
   "source": [
    "Question: for each individual in 2-person dialogues, how many relations do they speak in?"
   ]
  },
  {
   "cell_type": "code",
   "execution_count": 25,
   "id": "0d4f7080",
   "metadata": {},
   "outputs": [],
   "source": [
    "ch_dict = dict()\n",
    "\n",
    "for ch in ch_set:\n",
    "    if ch not in ch_dict:\n",
    "        ch_dict[ch]=dict()\n",
    "    for r in dialog_rel_dict.keys():\n",
    "        \n",
    "        for pair in dialog_rel_dict[r]:\n",
    "            \n",
    "            if pair[0]==ch:\n",
    "                \n",
    "                if r not in ch_dict[ch]:\n",
    "                    ch_dict[ch][r] = []\n",
    "                    \n",
    "                ch_dict[ch][r].append(pair)"
   ]
  },
  {
   "cell_type": "code",
   "execution_count": 26,
   "id": "6a6f4b19",
   "metadata": {},
   "outputs": [
    {
     "data": {
      "text/plain": [
       "{'傅明': {'per:parents': [('傅明', '贾志新'), ('傅明', '贾小凡'), ('傅明', '贾志国')],\n",
       "  'per:grandparents': [('傅明', '贾圆圆')],\n",
       "  'per:parents-in-law': [('傅明', '和平')]},\n",
       " '贾志新': {'per:children': [('贾志新', '傅明')],\n",
       "  'per:relative': [('贾志新', '和平'), ('贾志新', '贾圆圆')],\n",
       "  'per:siblings': [('贾志新', '贾小凡')]},\n",
       " '和平': {'per:parents': [('和平', '贾圆圆')],\n",
       "  'per:relative': [('和平', '贾志新')],\n",
       "  'per:spouse': [('和平', '贾志国')],\n",
       "  'per:children-in-law': [('和平', '傅明')]},\n",
       " '贾圆圆': {'per:children': [('贾圆圆', '和平'), ('贾圆圆', '贾志国')],\n",
       "  'per:relative': [('贾圆圆', '贾小凡'), ('贾圆圆', '贾志新')],\n",
       "  'per:grandchildren': [('贾圆圆', '傅明')]},\n",
       " '贾志国': {'per:children': [('贾志国', '傅明')],\n",
       "  'per:parents': [('贾志国', '贾圆圆')],\n",
       "  'per:spouse': [('贾志国', '和平')]},\n",
       " '贾小凡': {'per:children': [('贾小凡', '傅明')],\n",
       "  'per:relative': [('贾小凡', '贾圆圆')],\n",
       "  'per:siblings': [('贾小凡', '贾志新')]}}"
      ]
     },
     "execution_count": 26,
     "metadata": {},
     "output_type": "execute_result"
    }
   ],
   "source": [
    "ch_dict"
   ]
  }
 ],
 "metadata": {
  "kernelspec": {
   "display_name": "Python 3 (ipykernel)",
   "language": "python",
   "name": "python3"
  },
  "language_info": {
   "codemirror_mode": {
    "name": "ipython",
    "version": 3
   },
   "file_extension": ".py",
   "mimetype": "text/x-python",
   "name": "python",
   "nbconvert_exporter": "python",
   "pygments_lexer": "ipython3",
   "version": "3.9.7"
  }
 },
 "nbformat": 4,
 "nbformat_minor": 5
}
