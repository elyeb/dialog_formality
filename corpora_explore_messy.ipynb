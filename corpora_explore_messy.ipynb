{
 "cells": [
  {
   "cell_type": "code",
   "execution_count": 1,
   "id": "10efa6f1",
   "metadata": {},
   "outputs": [],
   "source": [
    "import pandas as pd\n",
    "from collections import Counter\n",
    "import matplotlib.pyplot as plt\n",
    "import re\n",
    "from pathlib import Path\n",
    "from tqdm import tqdm\n",
    "import json"
   ]
  },
  {
   "cell_type": "markdown",
   "id": "4266193e",
   "metadata": {},
   "source": [
    "# Step 1: Look at available Chinese dialog corpora"
   ]
  },
  {
   "cell_type": "markdown",
   "id": "6bcc8044",
   "metadata": {},
   "source": [
    "**CallFriend**\n",
    "- available `/corpora/LDC/LDC96S55`\n",
    "- `/corpora/LDC/LDC96S55/doc/spkrinfo.doc`"
   ]
  },
  {
   "cell_type": "code",
   "execution_count": null,
   "id": "9c06d7ee",
   "metadata": {},
   "outputs": [],
   "source": [
    "%ls /corpora/LDC/LDC96S55/cf_man_m/evltest/"
   ]
  },
  {
   "cell_type": "code",
   "execution_count": null,
   "id": "66cb1918",
   "metadata": {},
   "outputs": [],
   "source": [
    "%ls /corpora/LDC/LDC96S55/doc"
   ]
  },
  {
   "cell_type": "code",
   "execution_count": null,
   "id": "319f4c43",
   "metadata": {},
   "outputs": [],
   "source": [
    "!head -n 20 /corpora/LDC/LDC96S55/doc/spkrinfo.doc"
   ]
  },
  {
   "cell_type": "code",
   "execution_count": null,
   "id": "7e5599b4",
   "metadata": {},
   "outputs": [],
   "source": [
    "%less /corpora/LDC/LDC96S55/doc/spkrinfo.tbl"
   ]
  },
  {
   "cell_type": "code",
   "execution_count": null,
   "id": "4f2299a6",
   "metadata": {},
   "outputs": [],
   "source": [
    "%cat /corpora/LDC/LDC96S55/doc/cf_man_m.doc"
   ]
  },
  {
   "cell_type": "markdown",
   "id": "38dbe4bd",
   "metadata": {},
   "source": [
    " **Notes** <br/>\n",
    " - Actually just audio files and descriptions\n",
    " - But it still has decent demographic information of speakers\n",
    " - it looks like [this](https://catalog.ldc.upenn.edu/LDC2018S18) is the version that includes transcripts: LDC2018S18\n",
    " "
   ]
  },
  {
   "cell_type": "code",
   "execution_count": null,
   "id": "5a831774",
   "metadata": {},
   "outputs": [],
   "source": [
    "%ls /corpora/LDC/ | grep 'LDC2018' "
   ]
  },
  {
   "cell_type": "markdown",
   "id": "540fcb0b",
   "metadata": {},
   "source": [
    "It looks like LDC2018S18 corpus is not in UW's directory"
   ]
  },
  {
   "cell_type": "code",
   "execution_count": null,
   "id": "aacefbb5",
   "metadata": {},
   "outputs": [],
   "source": [
    "Brandon added it under /corpora/LDC/LDC2018S18"
   ]
  },
  {
   "cell_type": "code",
   "execution_count": null,
   "id": "638af861",
   "metadata": {},
   "outputs": [],
   "source": [
    "%ls /corpora/LDC/LDC2018S18/data/transcripts/mandarin"
   ]
  },
  {
   "cell_type": "code",
   "execution_count": null,
   "id": "db0b881b",
   "metadata": {},
   "outputs": [],
   "source": [
    "!head -n 10 /corpora/LDC/LDC2018S18/data/transcripts/mandarin/ma_4160.txt"
   ]
  },
  {
   "cell_type": "markdown",
   "id": "a77c3719",
   "metadata": {},
   "source": [
    "See if you can get any more info on A and B speakers in ma_4160"
   ]
  },
  {
   "cell_type": "code",
   "execution_count": null,
   "id": "97a2d67f",
   "metadata": {},
   "outputs": [],
   "source": [
    "%ls /corpora/LDC/LDC2018S18/docs"
   ]
  },
  {
   "cell_type": "code",
   "execution_count": null,
   "id": "14105a36",
   "metadata": {},
   "outputs": [],
   "source": [
    "!cat /corpora/LDC/LDC2018S18/docs/spkrinfo.tbl"
   ]
  },
  {
   "cell_type": "code",
   "execution_count": null,
   "id": "29172fe0",
   "metadata": {},
   "outputs": [],
   "source": [
    "#some interesting variables available in /corpora/LDC/LDC2018S18/docs/callinfo.tbl\n",
    "!head -n 10 /corpora/LDC/LDC2018S18/docs/callinfo.tbl"
   ]
  },
  {
   "cell_type": "markdown",
   "id": "93488a9e",
   "metadata": {},
   "source": [
    "Given that there is also some detail of the *caller* only in spkrinfo.tbl, I wonder if it would be possible to identify at least the caller in the spkrinfo.tbl file?"
   ]
  },
  {
   "cell_type": "code",
   "execution_count": null,
   "id": "8f50e0f5",
   "metadata": {},
   "outputs": [],
   "source": [
    "!head -n 5 /corpora/LDC/LDC2018S18/docs/spkrinfo.tbl"
   ]
  },
  {
   "cell_type": "code",
   "execution_count": null,
   "id": "06bffc12",
   "metadata": {},
   "outputs": [],
   "source": [
    "with open('/corpora/LDC/LDC2018S18/docs/callinfo.tbl','r') as infile:\n",
    "    callfriend_raw = infile.read()"
   ]
  },
  {
   "cell_type": "code",
   "execution_count": null,
   "id": "3a5ed986",
   "metadata": {},
   "outputs": [],
   "source": [
    "#get counts of ages\n",
    "all_ages = re.findall('(?<=age=).*?(?=\\s)',callfriend_raw)\n",
    "Counter(all_ages)"
   ]
  },
  {
   "cell_type": "code",
   "execution_count": null,
   "id": "7ecd86b8",
   "metadata": {},
   "outputs": [],
   "source": [
    "#get counts of all sexes\n",
    "all_sexes = re.findall('(?<=sex=)[M|F]',callfriend_raw)\n",
    "Counter(all_sexes)"
   ]
  },
  {
   "cell_type": "code",
   "execution_count": null,
   "id": "45ad656f",
   "metadata": {},
   "outputs": [],
   "source": [
    "#Find stuff in directories\n",
    "\n",
    "p = Path('/corpora/LDC/LDC2018S18/data/transcripts/mandarin/')\n",
    "files = [f for f in p.iterdir() if f.is_file()]\n"
   ]
  },
  {
   "cell_type": "code",
   "execution_count": null,
   "id": "486d395d",
   "metadata": {},
   "outputs": [],
   "source": [
    "ni_count = 0\n",
    "nin_count = 0\n",
    "\n",
    "for i in tqdm(range(0,len(files))):\n",
    "    with open(str(files[i].absolute()),'r') as infile:\n",
    "        raw = infile.read()\n",
    "        \n",
    "        ni_count += len(re.findall('你',raw))\n",
    "        nin_count += len(re.findall('您',raw))\n",
    "        \n",
    "        if bool(re.findall('您',raw)):\n",
    "            print(str(files[i].absolute()))"
   ]
  },
  {
   "cell_type": "code",
   "execution_count": null,
   "id": "6aea8efc",
   "metadata": {},
   "outputs": [],
   "source": [
    "print(f'{round(100*(nin_count/(nin_count+ni_count)),2)}% of \"you\"s are 您')\n",
    "print(f'{nin_count} instances out of {nin_count+ni_count}')"
   ]
  },
  {
   "cell_type": "code",
   "execution_count": null,
   "id": "195176e2",
   "metadata": {},
   "outputs": [],
   "source": [
    "%less /corpora/LDC/LDC2018S18/data/transcripts/mandarin/ma_5930.txt"
   ]
  },
  {
   "cell_type": "markdown",
   "id": "01c23388",
   "metadata": {},
   "source": [
    "### Explore relations between CallFriend speakers"
   ]
  },
  {
   "cell_type": "markdown",
   "id": "ba41bd3c",
   "metadata": {},
   "source": [
    "Question: how can I link the call ids to the speaker ids?"
   ]
  },
  {
   "cell_type": "code",
   "execution_count": null,
   "id": "aba4ff80",
   "metadata": {},
   "outputs": [],
   "source": [
    "!head -n 5 /corpora/LDC/LDC96S55/doc/callinfo.tbl"
   ]
  },
  {
   "cell_type": "code",
   "execution_count": null,
   "id": "96a13b07",
   "metadata": {},
   "outputs": [],
   "source": [
    "!head -n 20  /corpora/LDC/LDC96S55/doc/spkrinfo.tbl"
   ]
  },
  {
   "cell_type": "markdown",
   "id": "c71a3ecb",
   "metadata": {},
   "source": [
    " For example: <br/> \n",
    " ma_4160,M,30,22,Anhui,203778bah means: <br/>\n",
    "- Call-ID = ma_4160\n",
    "- Gender of caller = Male\n",
    "- Age of caller = 30\n",
    "- Years of education completed by caller = 22\n",
    "- Where the caller grew up (typically a state name) = Anhui\n",
    "- Area-code plus first three digits of telephone number dialed (last four digits of number are encrypted as three letters) = 203778bah <br/> <br/>\n",
    "Note that there seem to be plenty of missing values"
   ]
  },
  {
   "cell_type": "code",
   "execution_count": null,
   "id": "db69b8c5",
   "metadata": {},
   "outputs": [],
   "source": [
    "%ls /corpora/LDC/LDC96S55/cf_man_m/devtest/"
   ]
  },
  {
   "cell_type": "code",
   "execution_count": null,
   "id": "f1a83fa7",
   "metadata": {},
   "outputs": [],
   "source": [
    "!head -n 10 /corpora/LDC/LDC96S55/cf_man_m/devtest/ma_4559.sph"
   ]
  },
  {
   "cell_type": "code",
   "execution_count": null,
   "id": "be282d39",
   "metadata": {},
   "outputs": [],
   "source": [
    "%less /corpora/LDC/LDC96S55/doc/cf_man_m.doc"
   ]
  },
  {
   "cell_type": "code",
   "execution_count": null,
   "id": "1b181733",
   "metadata": {},
   "outputs": [],
   "source": [
    "with open('/corpora/LDC/LDC96S55/doc/callinfo.tbl','r') as infile:\n",
    "    raw= infile.read().split('\\n')"
   ]
  },
  {
   "cell_type": "code",
   "execution_count": null,
   "id": "8c042a12",
   "metadata": {},
   "outputs": [],
   "source": [
    "import re\n",
    "call_ids = [re.findall('ma_[0-9]*',item)[0] for item in raw if len(item)>0]\n",
    "call_ids = sorted(call_ids)\n",
    "len(call_ids)"
   ]
  },
  {
   "cell_type": "code",
   "execution_count": null,
   "id": "5d26df01",
   "metadata": {},
   "outputs": [],
   "source": [
    "call_ids[0:5]"
   ]
  },
  {
   "cell_type": "code",
   "execution_count": null,
   "id": "697a75cf",
   "metadata": {},
   "outputs": [],
   "source": [
    "with open('/corpora/LDC/LDC96S55/doc/spkrinfo.tbl','r') as infile:\n",
    "    raw= infile.read().split('\\n')\n",
    "speaker_ids = [re.findall('ma_[0-9]*',item)[0] for item in raw if len(item)>0]\n",
    "speaker_ids = sorted(speaker_ids)\n",
    "len(speaker_ids)"
   ]
  },
  {
   "cell_type": "code",
   "execution_count": null,
   "id": "9435dbda",
   "metadata": {},
   "outputs": [],
   "source": [
    "len(set(speaker_ids).intersection(set(call_ids)))"
   ]
  },
  {
   "cell_type": "markdown",
   "id": "42fcbdce",
   "metadata": {},
   "source": [
    "Actually the speaker ids and call ids are overlapping... how does that work? maybe the first id of the call table is actually speaker ids and the PINs are the call ids? That would imply duplicate PIN ids with 2 different ma_ numbers"
   ]
  },
  {
   "cell_type": "code",
   "execution_count": null,
   "id": "e6974d08",
   "metadata": {},
   "outputs": [],
   "source": [
    "with open('/corpora/LDC/LDC96S55/doc/callinfo.tbl','r') as infile:\n",
    "    raw= infile.read().split('\\n')\n"
   ]
  },
  {
   "cell_type": "code",
   "execution_count": null,
   "id": "30ab9017",
   "metadata": {},
   "outputs": [],
   "source": [
    "test = raw[0]\n",
    "test"
   ]
  },
  {
   "cell_type": "code",
   "execution_count": null,
   "id": "b22a827b",
   "metadata": {},
   "outputs": [],
   "source": [
    "PINs = [re.findall('(?<=PIN=)[0-9]*(?=|)',item)[0] for item in raw if len(item)>0]\n",
    "len(PINs)"
   ]
  },
  {
   "cell_type": "code",
   "execution_count": null,
   "id": "ae1fe321",
   "metadata": {},
   "outputs": [],
   "source": [
    "len(set(PINs))"
   ]
  },
  {
   "cell_type": "markdown",
   "id": "2b225c06",
   "metadata": {},
   "source": [
    "There are no duplicated PIN numbers either. My guess is that only demographics of the caller are recorded, and not the recipient. "
   ]
  },
  {
   "cell_type": "markdown",
   "id": "d09cd90c",
   "metadata": {},
   "source": [
    "Trying **2005 NIST Speaker Recognition Evaluation Training Data** <br/>\n",
    "- `/corpora/LDC/LDC11S01`"
   ]
  },
  {
   "cell_type": "code",
   "execution_count": null,
   "id": "bbe019c9",
   "metadata": {},
   "outputs": [],
   "source": [
    "%ls /corpora/LDC/LDC11S01/nist_2005_sre_tr_d1"
   ]
  },
  {
   "cell_type": "code",
   "execution_count": null,
   "id": "b50e019e",
   "metadata": {},
   "outputs": [],
   "source": [
    "!head -n 5 /corpora/LDC/LDC11S01/nist_2005_sre_tr_d1/index.html"
   ]
  },
  {
   "cell_type": "code",
   "execution_count": null,
   "id": "c9e5174a",
   "metadata": {},
   "outputs": [],
   "source": [
    "%ls /corpora/LDC/LDC11S01/nist_2005_sre_tr_d1/data/"
   ]
  },
  {
   "cell_type": "code",
   "execution_count": null,
   "id": "2453265c",
   "metadata": {},
   "outputs": [],
   "source": [
    "!head -n 5 /corpora/LDC/LDC11S01/nist_2005_sre_tr_d1/data/asr_tran/jaab.ctm"
   ]
  },
  {
   "cell_type": "code",
   "execution_count": null,
   "id": "acc4823f",
   "metadata": {
    "scrolled": true
   },
   "outputs": [],
   "source": [
    "%less /corpora/LDC/LDC11S01/nist_2005_sre_tr_d1/doc/file.tbl"
   ]
  },
  {
   "cell_type": "markdown",
   "id": "93deeb97",
   "metadata": {},
   "source": [
    "Trying **MAGICDATA Mandarin Chinese Conversational Speech Corpus: MDT2021S003** <br/>\n",
    "- https://www.openslr.org/123/"
   ]
  },
  {
   "cell_type": "code",
   "execution_count": null,
   "id": "eef88c11",
   "metadata": {},
   "outputs": [],
   "source": [
    "%ls MDT2021S003/"
   ]
  },
  {
   "cell_type": "code",
   "execution_count": null,
   "id": "4d225bb8",
   "metadata": {},
   "outputs": [],
   "source": [
    "!head -n 5 MDT2021S003/SPKINFO.txt"
   ]
  },
  {
   "cell_type": "code",
   "execution_count": null,
   "id": "a9c12771",
   "metadata": {},
   "outputs": [],
   "source": [
    "import pandas as pd\n",
    "with open('MDT2021S003/SPKINFO.txt','r') as infile:\n",
    "    df = pd.read_table(infile)\n",
    "df.head(5)"
   ]
  },
  {
   "cell_type": "code",
   "execution_count": null,
   "id": "e3c30985",
   "metadata": {},
   "outputs": [],
   "source": [
    "from collections import Counter\n",
    "Counter(df.AGE)"
   ]
  },
  {
   "cell_type": "code",
   "execution_count": null,
   "id": "af96ea14",
   "metadata": {},
   "outputs": [],
   "source": [
    "Counter(df.GENDER)"
   ]
  },
  {
   "cell_type": "markdown",
   "id": "4f718790",
   "metadata": {},
   "source": [
    "Problem with this data: very little demographic information available for speakers."
   ]
  },
  {
   "cell_type": "markdown",
   "id": "8664f23f",
   "metadata": {},
   "source": [
    "Trying **HKUST/MTS: A Very Large Scale Mandarin\n",
    "Telephone Speech Corpus** <br/>\n",
    "- https://www.researchgate.net/profile/David-Graff-5/publication/220758477_HKUSTMTS_A_very_large_scale_Mandarin_telephone_speech_corpus/links/004635346a94cf2642000000/HKUST-MTS-A-very-large-scale-Mandarin-telephone-speech-corpus.pdf\n",
    "- LDC2005T32\n",
    "- Not downloaded on Patas, but says it's installed [here](https://cldb.ling.washington.edu/live/livesearch-corpus-form.php)"
   ]
  },
  {
   "cell_type": "code",
   "execution_count": null,
   "id": "be2b70a6",
   "metadata": {},
   "outputs": [],
   "source": [
    "%ls /corpora/LDC/ | grep 'LDC200' "
   ]
  },
  {
   "cell_type": "markdown",
   "id": "73e30520",
   "metadata": {},
   "source": [
    "According to Brandon, this is under `/corpora/LDC/LDC05T32`"
   ]
  },
  {
   "cell_type": "code",
   "execution_count": null,
   "id": "7bf5acfe",
   "metadata": {},
   "outputs": [],
   "source": [
    "%ls /corpora/LDC/LDC05T32/docs"
   ]
  },
  {
   "cell_type": "code",
   "execution_count": null,
   "id": "79ae7a07",
   "metadata": {},
   "outputs": [],
   "source": [
    "!head -n 5 /corpora/LDC/LDC05T32/docs/calldata-train.txt"
   ]
  },
  {
   "cell_type": "code",
   "execution_count": null,
   "id": "c8c21179",
   "metadata": {},
   "outputs": [],
   "source": [
    "%less /corpora/LDC/LDC05T32/docs/file.tbl"
   ]
  },
  {
   "cell_type": "markdown",
   "id": "5185b805",
   "metadata": {},
   "source": [
    "Interesting **notes** from readme: <br/>\n",
    "- Most subjects did not previously know each other.\n",
    "- Topics were proposed to subjects\n",
    "- Subjects were asked to provide several pieces of demographic\n",
    "information, including gender, age, native language/dialect,\n",
    "birthplace, education, occupation, phone type, etc."
   ]
  },
  {
   "cell_type": "code",
   "execution_count": null,
   "id": "3e276898",
   "metadata": {},
   "outputs": [],
   "source": [
    "%ls /corpora/LDC/LDC05T32/data/trans/train"
   ]
  },
  {
   "cell_type": "markdown",
   "id": "84eb2c9c",
   "metadata": {},
   "source": [
    "Do some exploratory statistics on the demographics of training data"
   ]
  },
  {
   "cell_type": "code",
   "execution_count": null,
   "id": "f442e391",
   "metadata": {},
   "outputs": [],
   "source": [
    "\n",
    "with open('/corpora/LDC/LDC05T32/docs/calldata-train.txt','r') as infile:\n",
    "    demographics = pd.read_table(infile)"
   ]
  },
  {
   "cell_type": "code",
   "execution_count": null,
   "id": "6b545546",
   "metadata": {},
   "outputs": [],
   "source": [
    "demographics.head(5)"
   ]
  },
  {
   "cell_type": "code",
   "execution_count": null,
   "id": "a6219b03",
   "metadata": {},
   "outputs": [],
   "source": [
    "#rename all columns to have underscores instead of spaces\n",
    "original_cols = list(demographics.columns)\n",
    "new_cols = [re.sub(' ','_',item) if ' ' in item else item for item in list(demographics.columns)]\n",
    "\n",
    "change_cols = dict()\n",
    "for i in range(0,len(original_cols)):\n",
    "    change_cols[original_cols[i]] = new_cols[i]\n",
    "demographics = demographics.rename(columns=change_cols)\n",
    "demographics.columns"
   ]
  },
  {
   "cell_type": "code",
   "execution_count": null,
   "id": "b3559f98",
   "metadata": {},
   "outputs": [],
   "source": [
    "#Get a histogram of ages of callers in buckets of decades\n",
    "all_ages = list(demographics.Age_A)+list(demographics.Age_B)\n",
    "sorted(Counter(all_ages).items())\n"
   ]
  },
  {
   "cell_type": "code",
   "execution_count": null,
   "id": "5538256b",
   "metadata": {},
   "outputs": [],
   "source": [
    "print(max(Counter(all_ages).keys()))\n",
    "print(min(Counter(all_ages).keys()))"
   ]
  },
  {
   "cell_type": "code",
   "execution_count": null,
   "id": "d9ccc036",
   "metadata": {},
   "outputs": [],
   "source": [
    "def get_decade(a)->str:\n",
    "    output = ''\n",
    "    if a< 10:\n",
    "        output += '0s'\n",
    "    elif a <20:\n",
    "        output += '10s'\n",
    "    elif a <30:\n",
    "        output += '20s'\n",
    "    elif a <40:\n",
    "        output += '30s'\n",
    "    elif a <50:\n",
    "        output += '40s'\n",
    "    elif a <60:\n",
    "        output += '50s'\n",
    "    elif a <70:\n",
    "        output += '60s'  \n",
    "    return output"
   ]
  },
  {
   "cell_type": "code",
   "execution_count": null,
   "id": "29e77a86",
   "metadata": {},
   "outputs": [],
   "source": [
    "demographics['decade_A'] = demographics.Age_A.apply(get_decade)\n",
    "demographics['decade_B'] = demographics.Age_B.apply(get_decade)"
   ]
  },
  {
   "cell_type": "code",
   "execution_count": null,
   "id": "3cf4189c",
   "metadata": {},
   "outputs": [],
   "source": [
    "demographics.head(5)"
   ]
  },
  {
   "cell_type": "code",
   "execution_count": null,
   "id": "78babcd5",
   "metadata": {},
   "outputs": [],
   "source": [
    "#graph a sorted histogram of decades\n",
    "all_decades = list(demographics.decade_A)+list(demographics.decade_B)\n",
    "\n",
    "plt.bar(Counter(all_decades).keys(),Counter(all_decades).values())\n",
    "plt.suptitle(\"Distribution of ages of caller participants\")"
   ]
  },
  {
   "cell_type": "code",
   "execution_count": null,
   "id": "7bde8633",
   "metadata": {},
   "outputs": [],
   "source": [
    "#graph sorted pairs of participants to conversations\n",
    "\n",
    "age_of_call = []\n",
    "for i in range(0,len(demographics)):\n",
    "    \n",
    "    a = demographics.decade_A.iloc[i]\n",
    "    b = demographics.decade_B.iloc[i]\n",
    "    \n",
    "    pair = sorted([a,b])\n",
    "    age_of_call.append(pair[0]+' and '+pair[1])\n"
   ]
  },
  {
   "cell_type": "code",
   "execution_count": null,
   "id": "65944f7c",
   "metadata": {},
   "outputs": [],
   "source": [
    "age_pairs = Counter(age_of_call).most_common()"
   ]
  },
  {
   "cell_type": "code",
   "execution_count": null,
   "id": "d9edd793",
   "metadata": {},
   "outputs": [],
   "source": [
    "plt.bar([item[0] for item in age_pairs],[item[1] for item in age_pairs])\n",
    "plt.suptitle(\"Distribution of ages pairs\")\n",
    "plt.xticks(rotation=90)"
   ]
  },
  {
   "cell_type": "markdown",
   "id": "f2cea9d1",
   "metadata": {},
   "source": [
    "**notes**\n",
    "- most calls are among people in their 20s\n",
    "- most calls are between people both of whom are in their 20s"
   ]
  },
  {
   "cell_type": "code",
   "execution_count": null,
   "id": "c962ea12",
   "metadata": {},
   "outputs": [],
   "source": [
    "#Get distributions of topics discussed\n",
    "with open('/corpora/LDC/LDC05T32/docs/topic-list.txt','r') as infile:\n",
    "    topics_raw = infile.read()"
   ]
  },
  {
   "cell_type": "code",
   "execution_count": null,
   "id": "403e702c",
   "metadata": {},
   "outputs": [],
   "source": [
    "%less /corpora/LDC/LDC05T32/docs/topic-list.txt"
   ]
  },
  {
   "cell_type": "code",
   "execution_count": null,
   "id": "e8f2d217",
   "metadata": {},
   "outputs": [],
   "source": [
    "raw_list = re.findall('[0-9]{1,2}\\..*(?=\\n)',topics_raw)\n",
    "topic_dict = Counter()\n",
    "for row in raw_list:\n",
    "    topic_key = int(re.findall('[0-9]*(?=\\.)',row)[0])\n",
    "    topic = re.findall('(?<=[0-9]\\. ).*',row)[0]\n",
    "    topic_dict[topic_key]=topic\n",
    "    \n",
    "topic_dict"
   ]
  },
  {
   "cell_type": "code",
   "execution_count": null,
   "id": "5363cc6e",
   "metadata": {},
   "outputs": [],
   "source": [
    "def index_to_topic(a:int) -> str:\n",
    "    \n",
    "    return(topic_dict[a])\n"
   ]
  },
  {
   "cell_type": "code",
   "execution_count": null,
   "id": "6a506dee",
   "metadata": {},
   "outputs": [],
   "source": [
    "demographics['Topic_Name'] = demographics.Topic_ID.apply(index_to_topic)"
   ]
  },
  {
   "cell_type": "code",
   "execution_count": null,
   "id": "f61a7782",
   "metadata": {},
   "outputs": [],
   "source": [
    "Counter(demographics.Topic_Name).most_common()"
   ]
  },
  {
   "cell_type": "code",
   "execution_count": null,
   "id": "a8f0b151",
   "metadata": {},
   "outputs": [],
   "source": [
    "#get a simple distribution of 你 and 您 across training data"
   ]
  },
  {
   "cell_type": "code",
   "execution_count": null,
   "id": "d73efd43",
   "metadata": {},
   "outputs": [],
   "source": [
    "%ls /corpora/LDC/LDC05T32/data/trans/train/"
   ]
  },
  {
   "cell_type": "code",
   "execution_count": null,
   "id": "2e911186",
   "metadata": {},
   "outputs": [],
   "source": [
    "!head -n 5 /corpora/LDC/LDC05T32/data/trans/train/20040527_210939_A901153_B901154.txt"
   ]
  },
  {
   "cell_type": "code",
   "execution_count": null,
   "id": "37ad8d30",
   "metadata": {},
   "outputs": [],
   "source": [
    "!file /corpora/LDC/LDC05T32/data/trans/train/20040527_210939_A901153_B901154.txt"
   ]
  },
  {
   "cell_type": "markdown",
   "id": "8d628a44",
   "metadata": {},
   "source": [
    "Important lesson learned from [this thread](https://stackoverflow.com/questions/23731176/how-to-print-chinese-characters-stored-in-a-file-with-charset-iso-8859-1-in-py): \"file is probably wrong, since it only 'guesses' the encoding. Using gb18030 as the encoding gives the correct result\""
   ]
  },
  {
   "cell_type": "code",
   "execution_count": null,
   "id": "9fa1f605",
   "metadata": {},
   "outputs": [],
   "source": [
    "with open('/corpora/LDC/LDC05T32/data/trans/train/20040527_210939_A901153_B901154.txt','r',encoding='iso-8859-1') as infile:\n",
    "    raw = infile.read()"
   ]
  },
  {
   "cell_type": "code",
   "execution_count": null,
   "id": "9a133567",
   "metadata": {},
   "outputs": [],
   "source": [
    "with open('/corpora/LDC/LDC05T32/data/trans/train/20040527_210939_A901153_B901154.txt','r',encoding='gb18030') as infile:\n",
    "    raw = infile.read()"
   ]
  },
  {
   "cell_type": "code",
   "execution_count": null,
   "id": "31b0648f",
   "metadata": {},
   "outputs": [],
   "source": [
    "#Find stuff in directories\n",
    "\n",
    "p = Path('/corpora/LDC/LDC05T32/data/trans/train/')\n",
    "files = [f for f in p.iterdir() if f.is_file()]\n"
   ]
  },
  {
   "cell_type": "code",
   "execution_count": null,
   "id": "80f688eb",
   "metadata": {},
   "outputs": [],
   "source": [
    "ni_count = 0\n",
    "nin_count = 0\n",
    "\n",
    "for i in tqdm(range(0,len(files))):\n",
    "    with open(str(files[i].absolute()),'r',encoding='gb18030') as infile:\n",
    "        raw = infile.read()\n",
    "        \n",
    "        ni_count += len(re.findall('你',raw))\n",
    "        nin_count += len(re.findall('您',raw))\n",
    "        "
   ]
  },
  {
   "cell_type": "code",
   "execution_count": null,
   "id": "2f69bc14",
   "metadata": {},
   "outputs": [],
   "source": [
    "print(f'{round(100*(nin_count/(nin_count+ni_count)),2)}% of \"you\"s are 您')\n",
    "print(f'{nin_count} instances out of {nin_count+ni_count}')"
   ]
  },
  {
   "cell_type": "markdown",
   "id": "1b9d1e31",
   "metadata": {},
   "source": [
    "Trying **CallHome**\n",
    "- /corpora/LDC/LDC96S34 "
   ]
  },
  {
   "cell_type": "code",
   "execution_count": null,
   "id": "86c0dc3a",
   "metadata": {},
   "outputs": [],
   "source": [
    "%ls /corpora/LDC/LDC96S34"
   ]
  },
  {
   "cell_type": "code",
   "execution_count": null,
   "id": "e25491a4",
   "metadata": {},
   "outputs": [],
   "source": [
    "!less /corpora/LDC/LDC96S34/0readme.1st"
   ]
  },
  {
   "cell_type": "code",
   "execution_count": null,
   "id": "79899c0f",
   "metadata": {},
   "outputs": [],
   "source": [
    "%ls /corpora/LDC/LDC96T16"
   ]
  },
  {
   "cell_type": "markdown",
   "id": "24df5a71",
   "metadata": {},
   "source": [
    "Trying **CRECIL**\n",
    "- [paper](http://www.lrec-conf.org/proceedings/lrec2022/pdf/2022.lrec-1.250.pdf)\n",
    "- [Github](https://github.com/bistu-nlp-lab/CRECIL)"
   ]
  },
  {
   "cell_type": "code",
   "execution_count": 7,
   "id": "761d46fd",
   "metadata": {},
   "outputs": [
    {
     "name": "stdout",
     "output_type": "stream",
     "text": [
      "exportCRT.py  final.json\r\n"
     ]
    }
   ],
   "source": [
    "%ls ../CRECIL/My_home_data"
   ]
  },
  {
   "cell_type": "code",
   "execution_count": 7,
   "id": "ed2385ed",
   "metadata": {},
   "outputs": [],
   "source": [
    "%less ../CRECIL/Final_Data/train.json"
   ]
  },
  {
   "cell_type": "code",
   "execution_count": 22,
   "id": "515490d1",
   "metadata": {},
   "outputs": [],
   "source": [
    "with open('../CRECIL/Final_Data/train.json','r') as infile:\n",
    "    train_df = json.loads(infile.read())"
   ]
  },
  {
   "cell_type": "code",
   "execution_count": 18,
   "id": "733daaad",
   "metadata": {},
   "outputs": [
    {
     "data": {
      "text/plain": [
       "2"
      ]
     },
     "execution_count": 18,
     "metadata": {},
     "output_type": "execute_result"
    }
   ],
   "source": [
    "len(train_df[0])"
   ]
  },
  {
   "cell_type": "code",
   "execution_count": 24,
   "id": "7c8485a0",
   "metadata": {},
   "outputs": [
    {
     "data": {
      "text/plain": [
       "['S 1: 哟，志国回来啦',\n",
       " 'S 2: 啊',\n",
       " 'S 1: 唉唉唉，钥匙拿着了么？',\n",
       " 'S 2: 拿着了',\n",
       " 'S 1: 拿着啦！嘿！……唉你干嘛呐？',\n",
       " 'S 2: 啊？',\n",
       " 'S 1: 啊干嘛呀？',\n",
       " 'S 2: 我爸在楼下拿晚报说话就回来，咱们趁这工夫，赶紧布置一下现场',\n",
       " 'S 1: ……什么呀说什么呐？',\n",
       " 'S 2: 我路上就想好了，咱要不把他哄顺溜了，他能把咱们留下么',\n",
       " 'S 1: 唉唉唉，不是，你不是拿着钥匙了么？',\n",
       " 'S 2: 是拿着了',\n",
       " 'S 1: 啊两室一厅',\n",
       " 'S 2: 没错两室一厅……',\n",
       " 'S 1: 啊',\n",
       " 'S 2: 跟人合住',\n",
       " 'S 1: 什么？……怎么又改主意啦？不是说好了嘛？',\n",
       " 'S 2: 是说好了，他又变了呀，他计划更好也赶不上变化呀……',\n",
       " 'S 1: 唉你们单位领导怎么说话不算话呀……',\n",
       " 'S 2: 谁说不是呢，当时气的我真想跟他们拼了',\n",
       " 'S 1: 拼了没有啊？',\n",
       " 'S 2: 我要拼了我还能在家擦地么我……不瞒你说，我们领导啊，侦察兵出身，奇袭白虎团的时候，他就跟着一块儿去了',\n",
       " 'S 1: 嗨',\n",
       " 'S 2: 打我这样儿的，一次八个……',\n",
       " 'S 1: 那别跟人家拼了，那怎么办呐？爸说话就回来咱怎么跟爸说呀？',\n",
       " 'S 2: 赶紧拿出点儿实际行动来吧，收拾收拾屋子呀……',\n",
       " 'S 1: 唉唉……',\n",
       " 'S 3: 这个志国回来啦',\n",
       " 'S 2: 啊，回来了',\n",
       " 'S 3: 啊……啊你们这干什么呐？',\n",
       " 'S 1: 啊爸，您您歇着您的，我们归置归置----忒乱了',\n",
       " 'S 3: 这个乱点好啊，舒服嘛',\n",
       " 'S 2: 别介爸，还是归置归置吧',\n",
       " 'S 3: 有什么好归置的？啊？就让它乱着吧，这些破烂我也不打算要了，志国',\n",
       " 'S 2: 啊？',\n",
       " 'S 3: 钥匙拿到没有',\n",
       " 'S 2: 啊爸……',\n",
       " 'S 3: 你们准备什么搬家呀？',\n",
       " 'S 2: 我……',\n",
       " 'S 3: 要不要我给你们联系一下搬家公司，只要打个电话，他们是随叫随到',\n",
       " 'S 2: 爸不忙不忙不忙……',\n",
       " 'S 3: 不忙啊？我可忙',\n",
       " 'S 1: 啊？',\n",
       " 'S 3: 等你们搬走了以后，我还得找人，装修房子，买家具重新布置房子，我可是有点儿等不及了啊',\n",
       " 'S 4: ……']"
      ]
     },
     "execution_count": 24,
     "metadata": {},
     "output_type": "execute_result"
    }
   ],
   "source": [
    "train_df[0][0]"
   ]
  },
  {
   "cell_type": "code",
   "execution_count": 3,
   "id": "8d76b856",
   "metadata": {},
   "outputs": [
    {
     "data": {
      "text/plain": [
       "[{'x': 'S 1', 'y': 'S 2', 'r': ['per:spouse'], 'rid': [23]},\n",
       " {'x': 'S 1', 'y': 'S 3', 'r': ['per:children-in-law'], 'rid': [16]},\n",
       " {'x': 'S 1', 'y': 'S 4', 'r': ['unanswerable'], 'rid': [31]},\n",
       " {'x': 'S 1', 'y': '志国', 'r': ['per:spouse'], 'rid': [23]},\n",
       " {'x': 'S 2', 'y': 'S 1', 'r': ['per:spouse'], 'rid': [23]},\n",
       " {'x': 'S 2', 'y': 'S 3', 'r': ['per:children'], 'rid': [1]},\n",
       " {'x': 'S 2', 'y': 'S 4', 'r': ['unanswerable'], 'rid': [31]},\n",
       " {'x': 'S 2', 'y': '志国', 'r': ['per:alternate_name'], 'rid': [0]},\n",
       " {'x': 'S 3', 'y': 'S 1', 'r': ['per:parents-in-law'], 'rid': [15]},\n",
       " {'x': 'S 3', 'y': 'S 2', 'r': ['per:parents'], 'rid': [2]},\n",
       " {'x': 'S 3', 'y': 'S 4', 'r': ['unanswerable'], 'rid': [31]},\n",
       " {'x': 'S 3', 'y': '志国', 'r': ['per:parents'], 'rid': [2]},\n",
       " {'x': 'S 4', 'y': 'S 1', 'r': ['unanswerable'], 'rid': [31]},\n",
       " {'x': 'S 4', 'y': 'S 2', 'r': ['unanswerable'], 'rid': [31]},\n",
       " {'x': 'S 4', 'y': 'S 3', 'r': ['unanswerable'], 'rid': [31]},\n",
       " {'x': 'S 4', 'y': '志国', 'r': ['unanswerable'], 'rid': [31]},\n",
       " {'x': '志国', 'y': 'S 1', 'r': ['per:spouse'], 'rid': [23]},\n",
       " {'x': '志国', 'y': 'S 2', 'r': ['per:alternate_name'], 'rid': [0]},\n",
       " {'x': '志国', 'y': 'S 3', 'r': ['per:children'], 'rid': [1]},\n",
       " {'x': '志国', 'y': 'S 4', 'r': ['unanswerable'], 'rid': [31]}]"
      ]
     },
     "execution_count": 3,
     "metadata": {},
     "output_type": "execute_result"
    }
   ],
   "source": [
    "train_df[0][1]"
   ]
  },
  {
   "cell_type": "code",
   "execution_count": 25,
   "id": "6b5a833c",
   "metadata": {},
   "outputs": [
    {
     "data": {
      "text/plain": [
       "20"
      ]
     },
     "execution_count": 25,
     "metadata": {},
     "output_type": "execute_result"
    }
   ],
   "source": [
    "len(train_df[0][1])"
   ]
  },
  {
   "cell_type": "markdown",
   "id": "53c0388d",
   "metadata": {},
   "source": [
    "Something just dawning on me now: in the transcript with multiple people, it's not super clear who each line is being directed _at_. This is a problem, because that's the signal that I'm hoping will tell me how formality is being used. However it seems like this is equality important for relation extraction, so I can learn how the baseline/other approaches resolve this. "
   ]
  },
  {
   "cell_type": "code",
   "execution_count": 4,
   "id": "b8579e4e",
   "metadata": {},
   "outputs": [
    {
     "name": "stderr",
     "output_type": "stream",
     "text": [
      "100%|██████████████████████████████████████| 482/482 [00:00<00:00, 27720.86it/s]\n"
     ]
    }
   ],
   "source": [
    "ni_count = 0\n",
    "nin_count = 0\n",
    "\n",
    "for i in tqdm(range(0,len(train_df))):\n",
    "\n",
    "    raw_list = train_df[i][0]\n",
    "    for raw in raw_list:\n",
    "\n",
    "        ni_count += len(re.findall('你',raw))\n",
    "        nin_count += len(re.findall('您',raw))\n"
   ]
  },
  {
   "cell_type": "code",
   "execution_count": 5,
   "id": "929150b9",
   "metadata": {},
   "outputs": [
    {
     "name": "stdout",
     "output_type": "stream",
     "text": [
      "28.39% of \"you\"s are 您\n",
      "2800 instances out of 9863\n"
     ]
    }
   ],
   "source": [
    "print(f'{round(100*(nin_count/(nin_count+ni_count)),2)}% of \"you\"s are 您')\n",
    "print(f'{nin_count} instances out of {nin_count+ni_count}')"
   ]
  },
  {
   "cell_type": "code",
   "execution_count": 3,
   "id": "ccd24547",
   "metadata": {},
   "outputs": [],
   "source": [
    "with open('../CRECIL/Final_Data/test.json','r') as infile:\n",
    "    test_df = json.loads(infile.read())"
   ]
  },
  {
   "cell_type": "code",
   "execution_count": 8,
   "id": "bab885de",
   "metadata": {},
   "outputs": [],
   "source": [
    "with open('../CRECIL/My_home_data/final.json','r') as infile:\n",
    "    final_df = json.loads(infile.read())\n",
    "    "
   ]
  },
  {
   "cell_type": "code",
   "execution_count": 13,
   "id": "5238ec90",
   "metadata": {
    "collapsed": true
   },
   "outputs": [
    {
     "data": {
      "text/plain": [
       "['S 1: 爸，动画片儿哪频道啊？',\n",
       " 'S 2: 看哪门子动画片呀----看连续剧',\n",
       " 'S 3: 小张你这菜可咸点儿啊！',\n",
       " 'S 4: 二哥，你霸着鸡腿儿你一人吃你能不咸嘛你，人家一礼拜可才见一回晕腥！唉唉唉，动物世界动物世界……',\n",
       " 'S 5: 哎哎哎，咱爸今儿是怎么回事儿？从单位一回来就打蔫儿，饭都不吃就楼底下溜达去了这大冷的天儿……',\n",
       " 'S 3: 可能是添什么心事了，唉，是不是今儿跟单位巧遇哪位中午丧偶的女同志……',\n",
       " 'S 5: 说话不着调……',\n",
       " 'S 3: 咱妈去世两年多了，咱爸论条件，论身体，要为这烦恼，那还不要多正常有多正常？',\n",
       " 'S 4: 咱爸这岁数……不至于……',\n",
       " 'S 1: 爱情不分老少，人生没有单行道。',\n",
       " 'S 5: 嘿嘿嘿，这孩子哪儿学来这么些乱七八糟的……',\n",
       " 'S 2: 还不都是你们招的！咱爸上了一天班，累了，躺会儿，你们就非说他老人家惦记给咱们找后妈，这是那儿跟那儿啊！',\n",
       " 'S 1: 姑姑，你说大人为什么都这么愿意上班啊？',\n",
       " 'S 4: 啊也不是所有的大人都愿意上班--比如你二叔，在家闲了三年他都不着急……',\n",
       " 'S 3: 谁闲着了？我挂着两个单位，兼着三个公司的副总经理，我比谁不忙呀！',\n",
       " 'S 4: 啊呸！你忙！咱爸他们单位，已经好几次想把爸的办公桌从局长室请出去啦！',\n",
       " 'S 5: 可你爸也是，反正也退了，挨家享两天轻福不好么！何必每星期还大老远的跑到局里去“顾问”两次--害得人家车接车送的，给国家省点儿气油好不好？',\n",
       " 'S 2: 老同志嘛，工作需要嘛！',\n",
       " 'S 5: 你算了吧！你爸呀，纯属老糊涂了！',\n",
       " 'S 3: 还不光是老……那是他们别人，咱爸可是越老越明白！',\n",
       " 'S 4: 根本不可能……那是绝对没错儿！我就同意二哥这观点！',\n",
       " 'S 2: 我就反对你们这样……谁反对你们我就反对谁！',\n",
       " 'S 5: 唉唉你们今天怎么了？平常你们不总说咱爸……',\n",
       " 'S 2: 没有！根本没有！和平，你在背后不也总说咱爸是个明白人吗？',\n",
       " 'S 5: 我那是哄着他玩儿哪！',\n",
       " 'S 1: 妈！爷爷……',\n",
       " 'S 5: 爷爷怎么啦？爷爷有缺点就不许人说呀？……可不嘛，有缺点你说，没缺点你什么呀？不是我批评你们，背后议论人这毛病你们也该改改啦！要不咱爸是明白人，不往心里去，要不然……呦，爸您起来啦，您快坐这儿！',\n",
       " 'S 6: 怎么，又哄着我玩儿呐！',\n",
       " 'S 5: 您瞧这是怎么话儿说的……儿媳年幼无知，说话没有深浅，还请公公海涵。',\n",
       " 'S 6: 好啦好啦，不必下脆。',\n",
       " 'S 5: 谁给您下脆了，我给您盛饭去……唉爸您上了一天班儿也够累的吧？虽然说局里的工作离不开您，可您也得注意身体呀！',\n",
       " 'S 6: 离不开我？离不开我今天怎么把我那办公桌儿给搁到……搁到妇联那屋去啦？',\n",
       " 'S 3: 您怎么到妇联那儿工作？这可真够新鲜的！',\n",
       " 'S 6: 倒没有正式明确，就说让我先借那儿办公……我刚进去就见个女工，跟办公室几个人在一起嘀嘀咕，嘀嘀咕，我让她有话摆到桌面上说，她说这话不让我听，只能说给妇联同志她们娘家人听……什么娘家人婆家人，全国一盘棋嘛！后来说是她丈夫打了她，把这个胸口抓得青一块紫一块，“要不是您这儿坐着个大老爷们儿不方便，俺就脱下来让您瞧瞧……”妇联那几个女的说话也是欠妥，“啊不碍事儿的大姐，老傅咱副局长也不是外人嘛……”你们猜那女工怎么说？“别说是副局长，就是副总理俺们也不能随便让他瞧！”你瞧你那个鬼样子嘛！哪个副总理愿意瞧你嘛！',\n",
       " 'S 1: 爷爷，她要长得好看你们是不是就都愿意瞧了？刚才二叔他们还说你想找一个……',\n",
       " 'S 5: 爸，您说您也是，您上人妇联那屋办公，确实……反正够没劲的您！',\n",
       " 'S 3: 这要传出去这群众影响还了得……别回头您临了临了老了老了的再给您弄出个作风问题来，您在咱们这片儿威信还是挺高的',\n",
       " 'S 6: 好好好，明天我就给局里打报告，我坚决不上妇联那屋儿去！',\n",
       " 'S 2: 彻底退下来？',\n",
       " 'S 6: 要不然……我上计划生育那屋儿再忍忍去？']"
      ]
     },
     "execution_count": 13,
     "metadata": {},
     "output_type": "execute_result"
    }
   ],
   "source": [
    "final_df[0][0]"
   ]
  },
  {
   "cell_type": "code",
   "execution_count": 14,
   "id": "4b357b65",
   "metadata": {
    "collapsed": true
   },
   "outputs": [
    {
     "data": {
      "text/plain": [
       "[{'x': 'S 1', 'y': 'S 2', 'r': ['per:children'], 'rid': [1]},\n",
       " {'x': 'S 1', 'y': 'S 3', 'r': ['per:relative'], 'rid': [29]},\n",
       " {'x': 'S 1', 'y': 'S 4', 'r': ['per:relative'], 'rid': [29]},\n",
       " {'x': 'S 1', 'y': 'S 5', 'r': ['per:children'], 'rid': [1]},\n",
       " {'x': 'S 1', 'y': 'S 6', 'r': ['per:grandchildren'], 'rid': [25]},\n",
       " {'x': 'S 1', 'y': '小张', 'r': ['unanswerable'], 'rid': [31]},\n",
       " {'x': 'S 1', 'y': '二哥', 'r': ['per:relative'], 'rid': [29]},\n",
       " {'x': 'S 1', 'y': '孩子', 'r': ['per:alternate_name'], 'rid': [0]},\n",
       " {'x': 'S 1', 'y': '老同志', 'r': ['per:grandchildren'], 'rid': [25]},\n",
       " {'x': 'S 1', 'y': '和平', 'r': ['per:children'], 'rid': [1]},\n",
       " {'x': 'S 2', 'y': 'S 1', 'r': ['per:parents'], 'rid': [2]},\n",
       " {'x': 'S 2', 'y': 'S 3', 'r': ['per:siblings'], 'rid': [22]},\n",
       " {'x': 'S 2', 'y': 'S 4', 'r': ['per:siblings'], 'rid': [22]},\n",
       " {'x': 'S 2', 'y': 'S 5', 'r': ['per:spouse'], 'rid': [23]},\n",
       " {'x': 'S 2', 'y': 'S 6', 'r': ['per:children'], 'rid': [1]},\n",
       " {'x': 'S 2', 'y': '小张', 'r': ['unanswerable'], 'rid': [31]},\n",
       " {'x': 'S 2', 'y': '二哥', 'r': ['per:siblings'], 'rid': [22]},\n",
       " {'x': 'S 2', 'y': '孩子', 'r': ['per:parents'], 'rid': [2]},\n",
       " {'x': 'S 2', 'y': '老同志', 'r': ['per:children'], 'rid': [1]},\n",
       " {'x': 'S 2', 'y': '和平', 'r': ['per:spouse'], 'rid': [23]},\n",
       " {'x': 'S 3', 'y': 'S 1', 'r': ['per:relative'], 'rid': [29]},\n",
       " {'x': 'S 3', 'y': 'S 2', 'r': ['per:siblings'], 'rid': [22]},\n",
       " {'x': 'S 3', 'y': 'S 4', 'r': ['per:siblings'], 'rid': [22]},\n",
       " {'x': 'S 3', 'y': 'S 5', 'r': ['per:relative'], 'rid': [29]},\n",
       " {'x': 'S 3', 'y': 'S 6', 'r': ['per:children'], 'rid': [1]},\n",
       " {'x': 'S 3',\n",
       "  'y': '小张',\n",
       "  'r': ['per:subordinate', 'per:boss'],\n",
       "  'rid': [20, 21]},\n",
       " {'x': 'S 3', 'y': '二哥', 'r': ['per:alternate_name'], 'rid': [0]},\n",
       " {'x': 'S 3', 'y': '孩子', 'r': ['per:relative'], 'rid': [29]},\n",
       " {'x': 'S 3', 'y': '老同志', 'r': ['per:children'], 'rid': [1]},\n",
       " {'x': 'S 3', 'y': '和平', 'r': ['per:relative'], 'rid': [29]},\n",
       " {'x': 'S 4', 'y': 'S 1', 'r': ['per:relative'], 'rid': [29]},\n",
       " {'x': 'S 4', 'y': 'S 2', 'r': ['per:siblings'], 'rid': [22]},\n",
       " {'x': 'S 4', 'y': 'S 3', 'r': ['per:siblings'], 'rid': [22]},\n",
       " {'x': 'S 4', 'y': 'S 5', 'r': ['per:relative'], 'rid': [29]},\n",
       " {'x': 'S 4', 'y': 'S 6', 'r': ['per:children'], 'rid': [1]},\n",
       " {'x': 'S 4', 'y': '小张', 'r': ['unanswerable'], 'rid': [31]},\n",
       " {'x': 'S 4', 'y': '二哥', 'r': ['per:siblings'], 'rid': [22]},\n",
       " {'x': 'S 4', 'y': '孩子', 'r': ['per:relative'], 'rid': [29]},\n",
       " {'x': 'S 4', 'y': '老同志', 'r': ['per:children'], 'rid': [1]},\n",
       " {'x': 'S 4', 'y': '和平', 'r': ['per:relative'], 'rid': [29]},\n",
       " {'x': 'S 5', 'y': 'S 1', 'r': ['per:parents'], 'rid': [2]},\n",
       " {'x': 'S 5', 'y': 'S 2', 'r': ['per:spouse'], 'rid': [23]},\n",
       " {'x': 'S 5', 'y': 'S 3', 'r': ['per:relative'], 'rid': [29]},\n",
       " {'x': 'S 5', 'y': 'S 4', 'r': ['per:relative'], 'rid': [29]},\n",
       " {'x': 'S 5', 'y': 'S 6', 'r': ['per:children-in-law'], 'rid': [16]},\n",
       " {'x': 'S 5', 'y': '小张', 'r': ['unanswerable'], 'rid': [31]},\n",
       " {'x': 'S 5', 'y': '二哥', 'r': ['per:relative'], 'rid': [29]},\n",
       " {'x': 'S 5', 'y': '孩子', 'r': ['per:parents'], 'rid': [2]},\n",
       " {'x': 'S 5', 'y': '老同志', 'r': ['per:children-in-law'], 'rid': [16]},\n",
       " {'x': 'S 5', 'y': '和平', 'r': ['per:alternate_name'], 'rid': [0]},\n",
       " {'x': 'S 6', 'y': 'S 1', 'r': ['per:grandparents'], 'rid': [24]},\n",
       " {'x': 'S 6', 'y': 'S 2', 'r': ['per:parents'], 'rid': [2]},\n",
       " {'x': 'S 6', 'y': 'S 3', 'r': ['per:parents'], 'rid': [2]},\n",
       " {'x': 'S 6', 'y': 'S 4', 'r': ['per:parents'], 'rid': [2]},\n",
       " {'x': 'S 6', 'y': 'S 5', 'r': ['per:parents-in-law'], 'rid': [15]},\n",
       " {'x': 'S 6', 'y': '小张', 'r': ['unanswerable'], 'rid': [31]},\n",
       " {'x': 'S 6', 'y': '二哥', 'r': ['per:parents'], 'rid': [2]},\n",
       " {'x': 'S 6', 'y': '孩子', 'r': ['per:grandparents'], 'rid': [24]},\n",
       " {'x': 'S 6', 'y': '老同志', 'r': ['per:alternate_name'], 'rid': [0]},\n",
       " {'x': 'S 6', 'y': '和平', 'r': ['per:parents-in-law'], 'rid': [15]},\n",
       " {'x': '小张', 'y': 'S 1', 'r': ['per:nurse'], 'rid': [14]},\n",
       " {'x': '小张', 'y': 'S 2', 'r': ['per:nurse'], 'rid': [14]},\n",
       " {'x': '小张',\n",
       "  'y': 'S 3',\n",
       "  'r': ['per:nurse', 'per:subordinate', 'per:boss'],\n",
       "  'rid': [14, 20, 21]},\n",
       " {'x': '小张', 'y': 'S 4', 'r': ['per:nurse'], 'rid': [14]},\n",
       " {'x': '小张', 'y': 'S 5', 'r': ['per:nurse'], 'rid': [14]},\n",
       " {'x': '小张', 'y': 'S 6', 'r': ['per:nurse'], 'rid': [14]},\n",
       " {'x': '小张',\n",
       "  'y': '二哥',\n",
       "  'r': ['per:nurse', 'per:subordinate', 'per:boss'],\n",
       "  'rid': [14, 20, 21]},\n",
       " {'x': '小张', 'y': '孩子', 'r': ['per:nurse'], 'rid': [14]},\n",
       " {'x': '小张', 'y': '老同志', 'r': ['per:nurse'], 'rid': [14]},\n",
       " {'x': '小张', 'y': '和平', 'r': ['per:nurse'], 'rid': [14]},\n",
       " {'x': '二哥', 'y': 'S 1', 'r': ['per:relative'], 'rid': [29]},\n",
       " {'x': '二哥', 'y': 'S 2', 'r': ['per:siblings'], 'rid': [22]},\n",
       " {'x': '二哥', 'y': 'S 3', 'r': ['per:alternate_name'], 'rid': [0]},\n",
       " {'x': '二哥', 'y': 'S 4', 'r': ['per:siblings'], 'rid': [22]},\n",
       " {'x': '二哥', 'y': 'S 5', 'r': ['per:relative'], 'rid': [29]},\n",
       " {'x': '二哥', 'y': 'S 6', 'r': ['per:children'], 'rid': [1]},\n",
       " {'x': '二哥', 'y': '小张', 'r': ['per:subordinate', 'per:boss'], 'rid': [20, 21]},\n",
       " {'x': '二哥', 'y': '孩子', 'r': ['per:relative'], 'rid': [29]},\n",
       " {'x': '二哥', 'y': '老同志', 'r': ['per:children'], 'rid': [1]},\n",
       " {'x': '二哥', 'y': '和平', 'r': ['per:relative'], 'rid': [29]},\n",
       " {'x': '孩子', 'y': 'S 1', 'r': ['per:alternate_name'], 'rid': [0]},\n",
       " {'x': '孩子', 'y': 'S 2', 'r': ['per:children'], 'rid': [1]},\n",
       " {'x': '孩子', 'y': 'S 3', 'r': ['per:relative'], 'rid': [29]},\n",
       " {'x': '孩子', 'y': 'S 4', 'r': ['per:relative'], 'rid': [29]},\n",
       " {'x': '孩子', 'y': 'S 5', 'r': ['per:children'], 'rid': [1]},\n",
       " {'x': '孩子', 'y': 'S 6', 'r': ['per:grandchildren'], 'rid': [25]},\n",
       " {'x': '孩子', 'y': '小张', 'r': ['unanswerable'], 'rid': [31]},\n",
       " {'x': '孩子', 'y': '二哥', 'r': ['per:relative'], 'rid': [29]},\n",
       " {'x': '孩子', 'y': '老同志', 'r': ['per:grandchildren'], 'rid': [25]},\n",
       " {'x': '孩子', 'y': '和平', 'r': ['per:children'], 'rid': [1]},\n",
       " {'x': '老同志', 'y': 'S 1', 'r': ['per:grandparents'], 'rid': [24]},\n",
       " {'x': '老同志', 'y': 'S 2', 'r': ['per:parents'], 'rid': [2]},\n",
       " {'x': '老同志', 'y': 'S 3', 'r': ['per:parents'], 'rid': [2]},\n",
       " {'x': '老同志', 'y': 'S 4', 'r': ['per:parents'], 'rid': [2]},\n",
       " {'x': '老同志', 'y': 'S 5', 'r': ['per:parents-in-law'], 'rid': [15]},\n",
       " {'x': '老同志', 'y': 'S 6', 'r': ['per:alternate_name'], 'rid': [0]},\n",
       " {'x': '老同志', 'y': '小张', 'r': ['unanswerable'], 'rid': [31]},\n",
       " {'x': '老同志', 'y': '二哥', 'r': ['per:parents'], 'rid': [2]},\n",
       " {'x': '老同志', 'y': '孩子', 'r': ['per:grandparents'], 'rid': [24]},\n",
       " {'x': '老同志', 'y': '和平', 'r': ['per:parents-in-law'], 'rid': [15]},\n",
       " {'x': '和平', 'y': 'S 1', 'r': ['per:parents'], 'rid': [2]},\n",
       " {'x': '和平', 'y': 'S 2', 'r': ['per:spouse'], 'rid': [23]},\n",
       " {'x': '和平', 'y': 'S 3', 'r': ['per:relative'], 'rid': [29]},\n",
       " {'x': '和平', 'y': 'S 4', 'r': ['per:relative'], 'rid': [29]},\n",
       " {'x': '和平', 'y': 'S 5', 'r': ['per:alternate_name'], 'rid': [0]},\n",
       " {'x': '和平', 'y': 'S 6', 'r': ['per:children-in-law'], 'rid': [16]},\n",
       " {'x': '和平', 'y': '小张', 'r': ['unanswerable'], 'rid': [31]},\n",
       " {'x': '和平', 'y': '二哥', 'r': ['per:relative'], 'rid': [29]},\n",
       " {'x': '和平', 'y': '孩子', 'r': ['per:parents'], 'rid': [2]},\n",
       " {'x': '和平', 'y': '老同志', 'r': ['per:children-in-law'], 'rid': [16]}]"
      ]
     },
     "execution_count": 14,
     "metadata": {},
     "output_type": "execute_result"
    }
   ],
   "source": [
    "final_df[0][1]"
   ]
  },
  {
   "cell_type": "markdown",
   "id": "d048a9ad",
   "metadata": {},
   "source": [
    "How does the BERT model from the paper work?"
   ]
  },
  {
   "cell_type": "code",
   "execution_count": 18,
   "id": "91319fed",
   "metadata": {},
   "outputs": [
    {
     "name": "stdout",
     "output_type": "stream",
     "text": [
      "\u001b[0m\u001b[38;5;33mbert_today\u001b[0m/  extract_features.py  optimization.py    tokenization.py\r\n",
      "evaluate.py  modeling.py          run_classifier.py\r\n"
     ]
    }
   ],
   "source": [
    "%ls ../CRECIL/bert/"
   ]
  },
  {
   "cell_type": "code",
   "execution_count": 20,
   "id": "2069bb4d",
   "metadata": {},
   "outputs": [],
   "source": [
    "%less ../CRECIL/bert/modeling.py"
   ]
  },
  {
   "cell_type": "markdown",
   "id": "c4aaeba2",
   "metadata": {},
   "source": [
    "Find number of speakers per dialogue, and visualize"
   ]
  },
  {
   "cell_type": "code",
   "execution_count": 25,
   "id": "9a621678",
   "metadata": {},
   "outputs": [
    {
     "data": {
      "text/plain": [
       "482"
      ]
     },
     "execution_count": 25,
     "metadata": {},
     "output_type": "execute_result"
    }
   ],
   "source": [
    "len(train_df)"
   ]
  },
  {
   "cell_type": "code",
   "execution_count": 43,
   "id": "a2016d20",
   "metadata": {},
   "outputs": [],
   "source": [
    "dialog_chars = Counter()\n",
    "len_dict = Counter()\n",
    "\n",
    "for i in range(0,len(train_df)):\n",
    "    char_set = set()\n",
    "    for j in range(0,len(train_df[i][0])):\n",
    "        char_set.add(re.findall('.*(?<=:)',train_df[i][0][j])[0])\n",
    "    dialog_chars[i] = len(char_set)\n",
    "    \n",
    "    if len(char_set) not in len_dict:\n",
    "        len_dict[len(char_set)] = 0\n",
    "    len_dict[len(char_set)] += 1"
   ]
  },
  {
   "cell_type": "code",
   "execution_count": 58,
   "id": "4b028494",
   "metadata": {},
   "outputs": [
    {
     "data": {
      "text/plain": [
       "Text(0.5, 0.98, 'No. of dialogs by no. of speakers in dialog')"
      ]
     },
     "execution_count": 58,
     "metadata": {},
     "output_type": "execute_result"
    },
    {
     "data": {
      "image/png": "[encoded data removed]",
      "text/plain": [
       "<Figure size 432x288 with 1 Axes>"
      ]
     },
     "metadata": {
      "needs_background": "light"
     },
     "output_type": "display_data"
    }
   ],
   "source": [
    "#No. of dialogs by no. of speakers in dialog\n",
    "plot = plt.bar(len_dict.keys(),len_dict.values())\n",
    "plt.xticks(range(1, len(len_dict.values())+2))\n",
    "plt.suptitle(\"No. of dialogs by no. of speakers in dialog\")"
   ]
  },
  {
   "cell_type": "code",
   "execution_count": 48,
   "id": "e20396dd",
   "metadata": {},
   "outputs": [
    {
     "data": {
      "text/plain": [
       "[(2, 124),\n",
       " (4, 88),\n",
       " (5, 88),\n",
       " (3, 81),\n",
       " (6, 54),\n",
       " (7, 23),\n",
       " (8, 12),\n",
       " (1, 8),\n",
       " (9, 3),\n",
       " (11, 1)]"
      ]
     },
     "execution_count": 48,
     "metadata": {},
     "output_type": "execute_result"
    }
   ],
   "source": [
    "len_dict.most_common()"
   ]
  },
  {
   "cell_type": "code",
   "execution_count": 77,
   "id": "3a5a45f2",
   "metadata": {
    "collapsed": true
   },
   "outputs": [
    {
     "data": {
      "text/plain": [
       "Counter({0: 4,\n",
       "         1: 5,\n",
       "         2: 2,\n",
       "         3: 3,\n",
       "         4: 2,\n",
       "         5: 3,\n",
       "         6: 2,\n",
       "         7: 4,\n",
       "         8: 2,\n",
       "         9: 5,\n",
       "         10: 5,\n",
       "         11: 5,\n",
       "         12: 5,\n",
       "         13: 3,\n",
       "         14: 3,\n",
       "         15: 3,\n",
       "         16: 5,\n",
       "         17: 6,\n",
       "         18: 4,\n",
       "         19: 6,\n",
       "         20: 2,\n",
       "         21: 3,\n",
       "         22: 4,\n",
       "         23: 5,\n",
       "         24: 4,\n",
       "         25: 5,\n",
       "         26: 5,\n",
       "         27: 6,\n",
       "         28: 6,\n",
       "         29: 4,\n",
       "         30: 4,\n",
       "         31: 8,\n",
       "         32: 4,\n",
       "         33: 3,\n",
       "         34: 4,\n",
       "         35: 2,\n",
       "         36: 3,\n",
       "         37: 5,\n",
       "         38: 4,\n",
       "         39: 5,\n",
       "         40: 2,\n",
       "         41: 5,\n",
       "         42: 3,\n",
       "         43: 2,\n",
       "         44: 2,\n",
       "         45: 2,\n",
       "         46: 6,\n",
       "         47: 2,\n",
       "         48: 4,\n",
       "         49: 8,\n",
       "         50: 5,\n",
       "         51: 7,\n",
       "         52: 3,\n",
       "         53: 4,\n",
       "         54: 2,\n",
       "         55: 3,\n",
       "         56: 2,\n",
       "         57: 3,\n",
       "         58: 1,\n",
       "         59: 6,\n",
       "         60: 5,\n",
       "         61: 5,\n",
       "         62: 3,\n",
       "         63: 5,\n",
       "         64: 2,\n",
       "         65: 3,\n",
       "         66: 3,\n",
       "         67: 4,\n",
       "         68: 4,\n",
       "         69: 4,\n",
       "         70: 4,\n",
       "         71: 2,\n",
       "         72: 2,\n",
       "         73: 2,\n",
       "         74: 4,\n",
       "         75: 3,\n",
       "         76: 7,\n",
       "         77: 5,\n",
       "         78: 4,\n",
       "         79: 2,\n",
       "         80: 2,\n",
       "         81: 5,\n",
       "         82: 5,\n",
       "         83: 7,\n",
       "         84: 7,\n",
       "         85: 3,\n",
       "         86: 3,\n",
       "         87: 2,\n",
       "         88: 5,\n",
       "         89: 3,\n",
       "         90: 2,\n",
       "         91: 11,\n",
       "         92: 2,\n",
       "         93: 2,\n",
       "         94: 4,\n",
       "         95: 3,\n",
       "         96: 3,\n",
       "         97: 2,\n",
       "         98: 2,\n",
       "         99: 1,\n",
       "         100: 2,\n",
       "         101: 5,\n",
       "         102: 3,\n",
       "         103: 3,\n",
       "         104: 2,\n",
       "         105: 7,\n",
       "         106: 4,\n",
       "         107: 4,\n",
       "         108: 3,\n",
       "         109: 5,\n",
       "         110: 4,\n",
       "         111: 2,\n",
       "         112: 2,\n",
       "         113: 7,\n",
       "         114: 4,\n",
       "         115: 4,\n",
       "         116: 7,\n",
       "         117: 5,\n",
       "         118: 3,\n",
       "         119: 5,\n",
       "         120: 5,\n",
       "         121: 4,\n",
       "         122: 6,\n",
       "         123: 2,\n",
       "         124: 2,\n",
       "         125: 2,\n",
       "         126: 5,\n",
       "         127: 3,\n",
       "         128: 2,\n",
       "         129: 6,\n",
       "         130: 2,\n",
       "         131: 5,\n",
       "         132: 2,\n",
       "         133: 2,\n",
       "         134: 5,\n",
       "         135: 2,\n",
       "         136: 2,\n",
       "         137: 3,\n",
       "         138: 3,\n",
       "         139: 2,\n",
       "         140: 3,\n",
       "         141: 3,\n",
       "         142: 9,\n",
       "         143: 6,\n",
       "         144: 1,\n",
       "         145: 4,\n",
       "         146: 4,\n",
       "         147: 3,\n",
       "         148: 2,\n",
       "         149: 4,\n",
       "         150: 2,\n",
       "         151: 3,\n",
       "         152: 7,\n",
       "         153: 5,\n",
       "         154: 3,\n",
       "         155: 8,\n",
       "         156: 4,\n",
       "         157: 5,\n",
       "         158: 6,\n",
       "         159: 5,\n",
       "         160: 2,\n",
       "         161: 3,\n",
       "         162: 3,\n",
       "         163: 4,\n",
       "         164: 6,\n",
       "         165: 6,\n",
       "         166: 2,\n",
       "         167: 2,\n",
       "         168: 1,\n",
       "         169: 4,\n",
       "         170: 5,\n",
       "         171: 5,\n",
       "         172: 4,\n",
       "         173: 3,\n",
       "         174: 3,\n",
       "         175: 5,\n",
       "         176: 2,\n",
       "         177: 2,\n",
       "         178: 2,\n",
       "         179: 3,\n",
       "         180: 4,\n",
       "         181: 6,\n",
       "         182: 4,\n",
       "         183: 4,\n",
       "         184: 4,\n",
       "         185: 1,\n",
       "         186: 4,\n",
       "         187: 4,\n",
       "         188: 7,\n",
       "         189: 2,\n",
       "         190: 4,\n",
       "         191: 2,\n",
       "         192: 2,\n",
       "         193: 4,\n",
       "         194: 4,\n",
       "         195: 4,\n",
       "         196: 2,\n",
       "         197: 2,\n",
       "         198: 2,\n",
       "         199: 2,\n",
       "         200: 7,\n",
       "         201: 5,\n",
       "         202: 6,\n",
       "         203: 4,\n",
       "         204: 2,\n",
       "         205: 2,\n",
       "         206: 6,\n",
       "         207: 3,\n",
       "         208: 4,\n",
       "         209: 2,\n",
       "         210: 2,\n",
       "         211: 3,\n",
       "         212: 5,\n",
       "         213: 5,\n",
       "         214: 4,\n",
       "         215: 8,\n",
       "         216: 8,\n",
       "         217: 2,\n",
       "         218: 3,\n",
       "         219: 5,\n",
       "         220: 4,\n",
       "         221: 2,\n",
       "         222: 4,\n",
       "         223: 5,\n",
       "         224: 3,\n",
       "         225: 2,\n",
       "         226: 2,\n",
       "         227: 7,\n",
       "         228: 2,\n",
       "         229: 6,\n",
       "         230: 5,\n",
       "         231: 3,\n",
       "         232: 2,\n",
       "         233: 3,\n",
       "         234: 7,\n",
       "         235: 5,\n",
       "         236: 5,\n",
       "         237: 6,\n",
       "         238: 3,\n",
       "         239: 4,\n",
       "         240: 2,\n",
       "         241: 3,\n",
       "         242: 6,\n",
       "         243: 4,\n",
       "         244: 5,\n",
       "         245: 2,\n",
       "         246: 2,\n",
       "         247: 2,\n",
       "         248: 6,\n",
       "         249: 3,\n",
       "         250: 2,\n",
       "         251: 5,\n",
       "         252: 8,\n",
       "         253: 5,\n",
       "         254: 6,\n",
       "         255: 6,\n",
       "         256: 2,\n",
       "         257: 4,\n",
       "         258: 2,\n",
       "         259: 4,\n",
       "         260: 5,\n",
       "         261: 6,\n",
       "         262: 5,\n",
       "         263: 2,\n",
       "         264: 3,\n",
       "         265: 4,\n",
       "         266: 5,\n",
       "         267: 2,\n",
       "         268: 3,\n",
       "         269: 6,\n",
       "         270: 6,\n",
       "         271: 6,\n",
       "         272: 2,\n",
       "         273: 3,\n",
       "         274: 4,\n",
       "         275: 3,\n",
       "         276: 2,\n",
       "         277: 4,\n",
       "         278: 6,\n",
       "         279: 6,\n",
       "         280: 3,\n",
       "         281: 6,\n",
       "         282: 5,\n",
       "         283: 8,\n",
       "         284: 2,\n",
       "         285: 6,\n",
       "         286: 3,\n",
       "         287: 2,\n",
       "         288: 4,\n",
       "         289: 7,\n",
       "         290: 2,\n",
       "         291: 5,\n",
       "         292: 3,\n",
       "         293: 2,\n",
       "         294: 3,\n",
       "         295: 5,\n",
       "         296: 3,\n",
       "         297: 5,\n",
       "         298: 2,\n",
       "         299: 6,\n",
       "         300: 5,\n",
       "         301: 5,\n",
       "         302: 4,\n",
       "         303: 4,\n",
       "         304: 5,\n",
       "         305: 6,\n",
       "         306: 5,\n",
       "         307: 3,\n",
       "         308: 5,\n",
       "         309: 7,\n",
       "         310: 5,\n",
       "         311: 7,\n",
       "         312: 2,\n",
       "         313: 2,\n",
       "         314: 4,\n",
       "         315: 2,\n",
       "         316: 4,\n",
       "         317: 5,\n",
       "         318: 2,\n",
       "         319: 2,\n",
       "         320: 2,\n",
       "         321: 2,\n",
       "         322: 6,\n",
       "         323: 2,\n",
       "         324: 4,\n",
       "         325: 6,\n",
       "         326: 3,\n",
       "         327: 6,\n",
       "         328: 3,\n",
       "         329: 3,\n",
       "         330: 2,\n",
       "         331: 4,\n",
       "         332: 3,\n",
       "         333: 2,\n",
       "         334: 7,\n",
       "         335: 3,\n",
       "         336: 8,\n",
       "         337: 3,\n",
       "         338: 2,\n",
       "         339: 6,\n",
       "         340: 5,\n",
       "         341: 4,\n",
       "         342: 5,\n",
       "         343: 4,\n",
       "         344: 2,\n",
       "         345: 5,\n",
       "         346: 6,\n",
       "         347: 5,\n",
       "         348: 5,\n",
       "         349: 4,\n",
       "         350: 2,\n",
       "         351: 2,\n",
       "         352: 6,\n",
       "         353: 2,\n",
       "         354: 4,\n",
       "         355: 2,\n",
       "         356: 4,\n",
       "         357: 4,\n",
       "         358: 5,\n",
       "         359: 2,\n",
       "         360: 6,\n",
       "         361: 8,\n",
       "         362: 2,\n",
       "         363: 6,\n",
       "         364: 4,\n",
       "         365: 2,\n",
       "         366: 9,\n",
       "         367: 5,\n",
       "         368: 5,\n",
       "         369: 6,\n",
       "         370: 5,\n",
       "         371: 2,\n",
       "         372: 2,\n",
       "         373: 3,\n",
       "         374: 7,\n",
       "         375: 2,\n",
       "         376: 2,\n",
       "         377: 6,\n",
       "         378: 4,\n",
       "         379: 4,\n",
       "         380: 1,\n",
       "         381: 4,\n",
       "         382: 4,\n",
       "         383: 4,\n",
       "         384: 4,\n",
       "         385: 2,\n",
       "         386: 4,\n",
       "         387: 8,\n",
       "         388: 2,\n",
       "         389: 6,\n",
       "         390: 6,\n",
       "         391: 6,\n",
       "         392: 9,\n",
       "         393: 3,\n",
       "         394: 5,\n",
       "         395: 4,\n",
       "         396: 8,\n",
       "         397: 3,\n",
       "         398: 4,\n",
       "         399: 5,\n",
       "         400: 5,\n",
       "         401: 2,\n",
       "         402: 7,\n",
       "         403: 6,\n",
       "         404: 6,\n",
       "         405: 5,\n",
       "         406: 5,\n",
       "         407: 5,\n",
       "         408: 7,\n",
       "         409: 5,\n",
       "         410: 7,\n",
       "         411: 2,\n",
       "         412: 4,\n",
       "         413: 5,\n",
       "         414: 2,\n",
       "         415: 5,\n",
       "         416: 2,\n",
       "         417: 6,\n",
       "         418: 4,\n",
       "         419: 2,\n",
       "         420: 2,\n",
       "         421: 3,\n",
       "         422: 5,\n",
       "         423: 5,\n",
       "         424: 3,\n",
       "         425: 2,\n",
       "         426: 6,\n",
       "         427: 2,\n",
       "         428: 3,\n",
       "         429: 3,\n",
       "         430: 6,\n",
       "         431: 2,\n",
       "         432: 6,\n",
       "         433: 3,\n",
       "         434: 2,\n",
       "         435: 5,\n",
       "         436: 3,\n",
       "         437: 5,\n",
       "         438: 6,\n",
       "         439: 6,\n",
       "         440: 2,\n",
       "         441: 2,\n",
       "         442: 7,\n",
       "         443: 3,\n",
       "         444: 7,\n",
       "         445: 1,\n",
       "         446: 4,\n",
       "         447: 5,\n",
       "         448: 4,\n",
       "         449: 3,\n",
       "         450: 3,\n",
       "         451: 4,\n",
       "         452: 2,\n",
       "         453: 4,\n",
       "         454: 4,\n",
       "         455: 3,\n",
       "         456: 5,\n",
       "         457: 5,\n",
       "         458: 3,\n",
       "         459: 2,\n",
       "         460: 4,\n",
       "         461: 7,\n",
       "         462: 1,\n",
       "         463: 2,\n",
       "         464: 4,\n",
       "         465: 2,\n",
       "         466: 3,\n",
       "         467: 2,\n",
       "         468: 4,\n",
       "         469: 3,\n",
       "         470: 3,\n",
       "         471: 5,\n",
       "         472: 2,\n",
       "         473: 6,\n",
       "         474: 2,\n",
       "         475: 5,\n",
       "         476: 8,\n",
       "         477: 5,\n",
       "         478: 4,\n",
       "         479: 5,\n",
       "         480: 6,\n",
       "         481: 3})"
      ]
     },
     "execution_count": 77,
     "metadata": {},
     "output_type": "execute_result"
    }
   ],
   "source": [
    "pair_dialog_indices = [i for i in list(dialog_chars.keys()) if dialog_chars[i]==2]\n"
   ]
  },
  {
   "cell_type": "code",
   "execution_count": 80,
   "id": "2803380a",
   "metadata": {},
   "outputs": [
    {
     "data": {
      "text/plain": [
       "'per:spouse'"
      ]
     },
     "execution_count": 80,
     "metadata": {},
     "output_type": "execute_result"
    }
   ],
   "source": [
    "train_df[0][1][0]['r'][0]"
   ]
  },
  {
   "cell_type": "code",
   "execution_count": 81,
   "id": "270c58f4",
   "metadata": {},
   "outputs": [],
   "source": [
    "all_roles = dict()\n",
    "for dg in pair_dialog_indices:\n",
    "    for i in range(0,len(train_df[dg][1])):\n",
    "        if train_df[dg][1][i]['r'][0] not in all_roles:\n",
    "            all_roles[train_df[dg][1][i]['r'][0]] = 0\n",
    "        all_roles[train_df[dg][1][i]['r'][0]] += 1     "
   ]
  },
  {
   "cell_type": "code",
   "execution_count": 100,
   "id": "a0c34206",
   "metadata": {},
   "outputs": [
    {
     "data": {
      "text/plain": [
       "Text(0.5, 0.98, 'Relations annotated in 2-person dialogs')"
      ]
     },
     "execution_count": 100,
     "metadata": {},
     "output_type": "execute_result"
    },
    {
     "data": {
      "image/png": "[encoded data removed]",
      "text/plain": [
       "<Figure size 432x288 with 1 Axes>"
      ]
     },
     "metadata": {
      "needs_background": "light"
     },
     "output_type": "display_data"
    }
   ],
   "source": [
    "all_roles_list = sorted(all_roles.items(), key=lambda x:x[1],reverse=True)\n",
    "\n",
    "ignore_relations = ['unanswerable','per:alternate_name']\n",
    "all_roles_keys = [item[0] for item in all_roles_list if item[0] not in ignore_relations]\n",
    "all_roles_values = [item[1] for item in all_roles_list if item[0] not in ignore_relations]\n",
    "\n",
    "plt.xticks(rotation=90)\n",
    "plt.bar(all_roles_keys,all_roles_values)\n",
    "\n",
    "plt.suptitle(\"Relations annotated in 2-person dialogs\")"
   ]
  },
  {
   "cell_type": "code",
   "execution_count": 97,
   "id": "34e71034",
   "metadata": {},
   "outputs": [
    {
     "data": {
      "text/plain": [
       "'unanswerable'"
      ]
     },
     "execution_count": 97,
     "metadata": {},
     "output_type": "execute_result"
    }
   ],
   "source": [
    "all_roles_keys[0]"
   ]
  },
  {
   "cell_type": "code",
   "execution_count": 98,
   "id": "a6520107",
   "metadata": {},
   "outputs": [
    {
     "data": {
      "text/plain": [
       "'per:alternate_name'"
      ]
     },
     "execution_count": 98,
     "metadata": {},
     "output_type": "execute_result"
    }
   ],
   "source": [
    "all_roles_keys[1]"
   ]
  },
  {
   "cell_type": "code",
   "execution_count": 91,
   "id": "6857786f",
   "metadata": {},
   "outputs": [
    {
     "data": {
      "text/plain": [
       "[('unanswerable', 729),\n",
       " ('per:alternate_name', 524),\n",
       " ('per:neighbor', 380),\n",
       " ('per:spouse', 202),\n",
       " ('per:friends', 188),\n",
       " ('per:relative', 160),\n",
       " ('per:parents', 151),\n",
       " ('per:children', 151),\n",
       " ('per:nurse', 67),\n",
       " ('per:siblings', 64),\n",
       " ('per:acquaintance', 46),\n",
       " ('per:classmate', 46),\n",
       " ('per:parents-in-law', 43),\n",
       " ('per:children-in-law', 43),\n",
       " ('per:subordinate', 30),\n",
       " ('per:ex-girlfriend', 29),\n",
       " ('per:ex-boyfriend', 29),\n",
       " ('per:grandparents', 28),\n",
       " ('per:grandchildren', 28),\n",
       " ('per:negative impression', 18),\n",
       " ('per:boss', 17),\n",
       " ('per:siblings-in-law', 12),\n",
       " ('per:colleague', 10),\n",
       " ('per:positive impression', 9),\n",
       " ('per:client', 8),\n",
       " ('per:student', 6),\n",
       " ('per:teacher', 6),\n",
       " ('per:girlfriend', 4),\n",
       " ('per:boyfriend', 4)]"
      ]
     },
     "execution_count": 91,
     "metadata": {},
     "output_type": "execute_result"
    }
   ],
   "source": [
    "sorted(all_roles.items(), key=lambda x:x[1],reverse=True)"
   ]
  }
 ],
 "metadata": {
  "kernelspec": {
   "display_name": "Python 3 (ipykernel)",
   "language": "python",
   "name": "python3"
  },
  "language_info": {
   "codemirror_mode": {
    "name": "ipython",
    "version": 3
   },
   "file_extension": ".py",
   "mimetype": "text/x-python",
   "name": "python",
   "nbconvert_exporter": "python",
   "pygments_lexer": "ipython3",
   "version": "3.9.7"
  }
 },
 "nbformat": 4,
 "nbformat_minor": 5
}
