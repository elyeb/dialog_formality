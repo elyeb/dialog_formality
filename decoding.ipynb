{
 "cells": [
  {
   "cell_type": "code",
   "execution_count": 1,
   "id": "4464a430",
   "metadata": {},
   "outputs": [],
   "source": [
    "import pickle\n",
    "import numpy as np\n",
    "from collections import Counter"
   ]
  },
  {
   "cell_type": "code",
   "execution_count": 47,
   "id": "c7f4b1c8",
   "metadata": {},
   "outputs": [
    {
     "name": "stdout",
     "output_type": "stream",
     "text": [
      "dev_gt.pickle\t\t   MultinomialNB_score_df.pickle\r\n",
      "id_label.pickle\t\t   transition_matrix.pickle\r\n",
      "KNN_pred.pickle\t\t   transition_nested_dict.pickle\r\n",
      "KNN_score_df.pickle\t   X_dev_array.pickle\r\n",
      "label_id.pickle\t\t   X_train_array.pickle\r\n",
      "MultinomialNB_pred.pickle  y_pred_probs_all_df.pickle\r\n"
     ]
    }
   ],
   "source": [
    "!ls ref_files"
   ]
  },
  {
   "cell_type": "code",
   "execution_count": 50,
   "id": "c3f4f60b",
   "metadata": {
    "collapsed": true
   },
   "outputs": [
    {
     "data": {
      "text/plain": [
       "{'per:friends': {'set': ['per:friends', 'per:friends'],\n",
       "  'group': 'per:friends-per:friends',\n",
       "  'col_num': 0},\n",
       " 'per:spouse': {'set': ['per:spouse', 'per:spouse'],\n",
       "  'group': 'per:spouse-per:spouse',\n",
       "  'col_num': 1},\n",
       " 'per:classmate': {'set': ['per:classmate', 'per:classmate'],\n",
       "  'group': 'per:classmate-per:classmate',\n",
       "  'col_num': 2},\n",
       " 'per:neighbor': {'set': ['per:neighbor', 'per:neighbor'],\n",
       "  'group': 'per:neighbor-per:neighbor',\n",
       "  'col_num': 3},\n",
       " 'per:acquaintance': {'set': ['per:acquaintance', 'per:acquaintance'],\n",
       "  'group': 'per:acquaintance-per:acquaintance',\n",
       "  'col_num': 4},\n",
       " 'per:dates': {'set': ['per:dates', 'per:dates'],\n",
       "  'group': 'per:dates-per:dates',\n",
       "  'col_num': 5},\n",
       " 'per:relative': {'set': ['per:relative', 'per:relative'],\n",
       "  'group': 'per:relative-per:relative',\n",
       "  'col_num': 6},\n",
       " 'per:siblings': {'set': ['per:siblings', 'per:siblings'],\n",
       "  'group': 'per:siblings-per:siblings',\n",
       "  'col_num': 7},\n",
       " 'per:colleague': {'set': ['per:colleague', 'per:colleague'],\n",
       "  'group': 'per:colleague-per:colleague',\n",
       "  'col_num': 8},\n",
       " 'per:siblings-in-law': {'set': ['per:siblings-in-law', 'per:siblings-in-law'],\n",
       "  'group': 'per:siblings-in-law-per:siblings-in-law',\n",
       "  'col_num': 9},\n",
       " 'per:roommate': {'set': ['per:roommate', 'per:roommate'],\n",
       "  'group': 'per:roommate-per:per:roommate',\n",
       "  'col_num': 10},\n",
       " 'unanswerable': {'set': ['unanswerable', 'unanswerable'],\n",
       "  'group': 'unanswerable-unanswerable',\n",
       "  'col_num': 11},\n",
       " 'per:alternate_name': {'set': ['per:alternate_name', 'per:alternate_name'],\n",
       "  'group': 'per:alternate_name:per:alternate_name',\n",
       "  'col_num': 12},\n",
       " 'per:parents-in-law': {'set': ['per:children-in-law', 'per:parents-in-law'],\n",
       "  'group': 'per:children-in-law-per:parents-in-law',\n",
       "  'col_num': 13},\n",
       " 'per:children-in-law': {'set': ['per:children-in-law', 'per:parents-in-law'],\n",
       "  'group': 'per:children-in-law-per:parents-in-law',\n",
       "  'col_num': 13},\n",
       " 'per:parents': {'set': ['per:children', 'per:parents'],\n",
       "  'group': 'per:children-per:parents',\n",
       "  'col_num': 14},\n",
       " 'per:children': {'set': ['per:children', 'per:parents'],\n",
       "  'group': 'per:children-per:parents',\n",
       "  'col_num': 14},\n",
       " 'per:grandparents': {'set': ['per:grandchildren', 'per:grandparents'],\n",
       "  'group': 'per:grandchildren-per:grandparents',\n",
       "  'col_num': 15},\n",
       " 'per:grandchildren': {'set': ['per:grandchildren', 'per:grandparents'],\n",
       "  'group': 'per:grandchildren-per:grandparents',\n",
       "  'col_num': 15},\n",
       " 'per:ex-boyfriend': {'set': ['per:ex-girlfriend', 'per:ex-boyfriend'],\n",
       "  'group': 'per:ex-girlfriend-per:ex-boyfriend',\n",
       "  'col_num': 16},\n",
       " 'per:ex-girlfriend': {'set': ['per:ex-girlfriend', 'per:ex-boyfriend'],\n",
       "  'group': 'per:ex-girlfriend-per:ex-boyfriend',\n",
       "  'col_num': 16},\n",
       " 'per:boyfriend': {'set': ['per:girlfriend', 'per:boyfriend'],\n",
       "  'group': 'per:girlfriend-per:boyfriend',\n",
       "  'col_num': 17},\n",
       " 'per:girlfriend': {'set': ['per:girlfriend', 'per:boyfriend'],\n",
       "  'group': 'per:girlfriend-per:boyfriend',\n",
       "  'col_num': 17},\n",
       " 'per:boss': {'set': ['per:subordinate', 'per:boss'],\n",
       "  'group': 'per:subordinate-per:boss',\n",
       "  'col_num': 18},\n",
       " 'per:subordinate': {'set': ['per:subordinate', 'per:boss'],\n",
       "  'group': 'per:subordinate-per:boss',\n",
       "  'col_num': 18},\n",
       " 'per:teacher': {'set': ['per:student', 'per:teacher'],\n",
       "  'group': 'per:student-per:teacher',\n",
       "  'col_num': 19},\n",
       " 'per:student': {'set': ['per:student', 'per:teacher'],\n",
       "  'group': 'per:student-per:teacher',\n",
       "  'col_num': 19},\n",
       " 'per:nurse': {'set': ['per:nurse'], 'group': 'per:nurse', 'col_num': 20},\n",
       " 'per:negative impression': {'set': ['per:negative impression'],\n",
       "  'group': 'per:negative impression',\n",
       "  'col_num': 21},\n",
       " 'per:positive impression': {'set': ['per:positive impression'],\n",
       "  'group': 'per:positive impression',\n",
       "  'col_num': 22},\n",
       " 'per:client': {'set': ['per:client'], 'group': 'per:client', 'col_num': 23},\n",
       " 'per:nickname': {'set': ['per:nickname'],\n",
       "  'group': 'per:nickname',\n",
       "  'col_num': 24}}"
      ]
     },
     "execution_count": 50,
     "metadata": {},
     "output_type": "execute_result"
    }
   ],
   "source": [
    "with open('ref_files/grp_rels.pickle','rb') as infile:\n",
    "    grp_rels = pickle.load(infile)\n",
    "    \n",
    "grp_rels"
   ]
  },
  {
   "cell_type": "code",
   "execution_count": 2,
   "id": "edcb3a64",
   "metadata": {},
   "outputs": [],
   "source": [
    "with open('rid_to_rel.pickle','rb') as infile:\n",
    "    rid_to_rel = pickle.load(infile)\n",
    "\n",
    "with open('rel_to_rid.pickle','rb') as infile:\n",
    "    rel_to_rid = pickle.load(infile)\n",
    "    \n",
    "# Load transition matrix\n",
    "with open(\"ref_files/transition_matrix.pickle\",'rb') as infile:\n",
    "    p_matrix = pickle.load(infile)\n",
    "    \n",
    "# Load transition nested dict\n",
    "with open(\"ref_files/transition_nested_dict.pickle\",'rb') as infile:\n",
    "    rel_probs = pickle.load(infile)\n",
    "    \n",
    "# Load predicted probabilities\n",
    "with open('ref_files/y_pred_probs_all_df.pickle','rb') as infile:\n",
    "    y_pred_probs = pickle.load(infile)\n"
   ]
  },
  {
   "cell_type": "code",
   "execution_count": 65,
   "id": "99fa20ef",
   "metadata": {},
   "outputs": [],
   "source": [
    "with open('ref_files/sorted_labs.pickle','wb') as outfile:\n",
    "    pickle.dump(sorted_labs,outfile)"
   ]
  },
  {
   "cell_type": "code",
   "execution_count": 64,
   "id": "1b67df4d",
   "metadata": {
    "collapsed": true
   },
   "outputs": [
    {
     "data": {
      "text/plain": [
       "['per:alternate_name',\n",
       " 'per:children',\n",
       " 'per:parents',\n",
       " 'per:acquaintance',\n",
       " 'per:client',\n",
       " 'per:colleague',\n",
       " 'per:ex-girlfriend',\n",
       " 'per:girlfriend',\n",
       " 'per:dates',\n",
       " 'per:ex-boyfriend',\n",
       " 'per:boyfriend',\n",
       " 'per:friends',\n",
       " 'per:nickname',\n",
       " 'per:neighbor',\n",
       " 'per:nurse',\n",
       " 'per:parents-in-law',\n",
       " 'per:children-in-law',\n",
       " 'per:positive impression',\n",
       " 'per:classmate',\n",
       " 'per:negative impression',\n",
       " 'per:subordinate',\n",
       " 'per:boss',\n",
       " 'per:siblings',\n",
       " 'per:spouse',\n",
       " 'per:grandparents',\n",
       " 'per:grandchildren',\n",
       " 'per:teacher',\n",
       " 'per:student',\n",
       " 'per:roommate',\n",
       " 'per:relative',\n",
       " 'per:siblings-in-law',\n",
       " 'unanswerable']"
      ]
     },
     "execution_count": 64,
     "metadata": {},
     "output_type": "execute_result"
    }
   ],
   "source": [
    "sorted_labs = [item[0] for item in sorted(rel_to_rid.items(), key=lambda x:x[1])]\n"
   ]
  },
  {
   "cell_type": "code",
   "execution_count": 3,
   "id": "edfb15e8",
   "metadata": {},
   "outputs": [],
   "source": [
    "    \n",
    "with open('../CRECIL/Final_Data/dev_1.pickle','rb') as infile:\n",
    "    dev_df= pickle.load(infile)"
   ]
  },
  {
   "cell_type": "code",
   "execution_count": 22,
   "id": "a1d69c46",
   "metadata": {},
   "outputs": [
    {
     "data": {
      "text/plain": [
       "7422"
      ]
     },
     "execution_count": 22,
     "metadata": {},
     "output_type": "execute_result"
    }
   ],
   "source": [
    "total = 0\n",
    "for item in dev_df:\n",
    "    total += len(item[1])\n",
    "total"
   ]
  },
  {
   "cell_type": "code",
   "execution_count": 4,
   "id": "47ff2c14",
   "metadata": {},
   "outputs": [],
   "source": [
    "with open('ref_files/dev_gt.pickle','rb') as infile:\n",
    "    dev_gt = pickle.load(infile)"
   ]
  },
  {
   "cell_type": "code",
   "execution_count": 15,
   "id": "c1dfd1b4",
   "metadata": {},
   "outputs": [
    {
     "data": {
      "text/html": [
       "<div>\n",
       "<style scoped>\n",
       "    .dataframe tbody tr th:only-of-type {\n",
       "        vertical-align: middle;\n",
       "    }\n",
       "\n",
       "    .dataframe tbody tr th {\n",
       "        vertical-align: top;\n",
       "    }\n",
       "\n",
       "    .dataframe thead th {\n",
       "        text-align: right;\n",
       "    }\n",
       "</style>\n",
       "<table border=\"1\" class=\"dataframe\">\n",
       "  <thead>\n",
       "    <tr style=\"text-align: right;\">\n",
       "      <th></th>\n",
       "      <th>per:children</th>\n",
       "      <th>per:spouse</th>\n",
       "      <th>per:parents</th>\n",
       "      <th>unanswerable</th>\n",
       "      <th>per:alternate_name</th>\n",
       "      <th>per:parents-in-law</th>\n",
       "      <th>per:grandparents</th>\n",
       "      <th>per:children-in-law</th>\n",
       "      <th>per:grandchildren</th>\n",
       "      <th>per:nurse</th>\n",
       "      <th>...</th>\n",
       "      <th>per:positive impression</th>\n",
       "      <th>per:colleague</th>\n",
       "      <th>per:client</th>\n",
       "      <th>per:siblings-in-law</th>\n",
       "      <th>per:subordinate</th>\n",
       "      <th>per:boss</th>\n",
       "      <th>per:student</th>\n",
       "      <th>per:teacher</th>\n",
       "      <th>per:nickname</th>\n",
       "      <th>per:roommate</th>\n",
       "    </tr>\n",
       "  </thead>\n",
       "  <tbody>\n",
       "    <tr>\n",
       "      <th>per:children</th>\n",
       "      <td>0.196724</td>\n",
       "      <td>0.041764</td>\n",
       "      <td>0.029287</td>\n",
       "      <td>0.202152</td>\n",
       "      <td>0.117482</td>\n",
       "      <td>0.000048</td>\n",
       "      <td>0.000048</td>\n",
       "      <td>0.007477</td>\n",
       "      <td>0.066098</td>\n",
       "      <td>0.000048</td>\n",
       "      <td>...</td>\n",
       "      <td>0.002000</td>\n",
       "      <td>0.001619</td>\n",
       "      <td>0.001572</td>\n",
       "      <td>0.000048</td>\n",
       "      <td>0.009334</td>\n",
       "      <td>0.009143</td>\n",
       "      <td>0.002143</td>\n",
       "      <td>0.000048</td>\n",
       "      <td>0.000238</td>\n",
       "      <td>0.000143</td>\n",
       "    </tr>\n",
       "    <tr>\n",
       "      <th>per:spouse</th>\n",
       "      <td>0.061277</td>\n",
       "      <td>0.125978</td>\n",
       "      <td>0.141210</td>\n",
       "      <td>0.208706</td>\n",
       "      <td>0.125978</td>\n",
       "      <td>0.001467</td>\n",
       "      <td>0.000070</td>\n",
       "      <td>0.061277</td>\n",
       "      <td>0.000070</td>\n",
       "      <td>0.000070</td>\n",
       "      <td>...</td>\n",
       "      <td>0.000070</td>\n",
       "      <td>0.013206</td>\n",
       "      <td>0.003913</td>\n",
       "      <td>0.000070</td>\n",
       "      <td>0.003354</td>\n",
       "      <td>0.000070</td>\n",
       "      <td>0.000070</td>\n",
       "      <td>0.000070</td>\n",
       "      <td>0.000070</td>\n",
       "      <td>0.000070</td>\n",
       "    </tr>\n",
       "    <tr>\n",
       "      <th>per:parents</th>\n",
       "      <td>0.029112</td>\n",
       "      <td>0.095669</td>\n",
       "      <td>0.168568</td>\n",
       "      <td>0.200615</td>\n",
       "      <td>0.100876</td>\n",
       "      <td>0.071858</td>\n",
       "      <td>0.048568</td>\n",
       "      <td>0.036639</td>\n",
       "      <td>0.000047</td>\n",
       "      <td>0.000047</td>\n",
       "      <td>...</td>\n",
       "      <td>0.007574</td>\n",
       "      <td>0.012118</td>\n",
       "      <td>0.003408</td>\n",
       "      <td>0.002651</td>\n",
       "      <td>0.000426</td>\n",
       "      <td>0.000047</td>\n",
       "      <td>0.000047</td>\n",
       "      <td>0.000047</td>\n",
       "      <td>0.000047</td>\n",
       "      <td>0.000047</td>\n",
       "    </tr>\n",
       "    <tr>\n",
       "      <th>unanswerable</th>\n",
       "      <td>0.037533</td>\n",
       "      <td>0.026410</td>\n",
       "      <td>0.037471</td>\n",
       "      <td>0.539708</td>\n",
       "      <td>0.082812</td>\n",
       "      <td>0.012166</td>\n",
       "      <td>0.007542</td>\n",
       "      <td>0.011415</td>\n",
       "      <td>0.007790</td>\n",
       "      <td>0.010964</td>\n",
       "      <td>...</td>\n",
       "      <td>0.005782</td>\n",
       "      <td>0.010309</td>\n",
       "      <td>0.002281</td>\n",
       "      <td>0.002396</td>\n",
       "      <td>0.005385</td>\n",
       "      <td>0.005641</td>\n",
       "      <td>0.000769</td>\n",
       "      <td>0.003457</td>\n",
       "      <td>0.000062</td>\n",
       "      <td>0.000159</td>\n",
       "    </tr>\n",
       "    <tr>\n",
       "      <th>per:alternate_name</th>\n",
       "      <td>0.052981</td>\n",
       "      <td>0.038721</td>\n",
       "      <td>0.045765</td>\n",
       "      <td>0.201143</td>\n",
       "      <td>0.129521</td>\n",
       "      <td>0.010459</td>\n",
       "      <td>0.006378</td>\n",
       "      <td>0.015312</td>\n",
       "      <td>0.010072</td>\n",
       "      <td>0.028284</td>\n",
       "      <td>...</td>\n",
       "      <td>0.006335</td>\n",
       "      <td>0.015613</td>\n",
       "      <td>0.004789</td>\n",
       "      <td>0.002083</td>\n",
       "      <td>0.016558</td>\n",
       "      <td>0.016601</td>\n",
       "      <td>0.002255</td>\n",
       "      <td>0.001525</td>\n",
       "      <td>0.000086</td>\n",
       "      <td>0.000021</td>\n",
       "    </tr>\n",
       "  </tbody>\n",
       "</table>\n",
       "<p>5 rows × 32 columns</p>\n",
       "</div>"
      ],
      "text/plain": [
       "                    per:children  per:spouse  per:parents  unanswerable  \\\n",
       "per:children            0.196724    0.041764     0.029287      0.202152   \n",
       "per:spouse              0.061277    0.125978     0.141210      0.208706   \n",
       "per:parents             0.029112    0.095669     0.168568      0.200615   \n",
       "unanswerable            0.037533    0.026410     0.037471      0.539708   \n",
       "per:alternate_name      0.052981    0.038721     0.045765      0.201143   \n",
       "\n",
       "                    per:alternate_name  per:parents-in-law  per:grandparents  \\\n",
       "per:children                  0.117482            0.000048          0.000048   \n",
       "per:spouse                    0.125978            0.001467          0.000070   \n",
       "per:parents                   0.100876            0.071858          0.048568   \n",
       "unanswerable                  0.082812            0.012166          0.007542   \n",
       "per:alternate_name            0.129521            0.010459          0.006378   \n",
       "\n",
       "                    per:children-in-law  per:grandchildren  per:nurse  ...  \\\n",
       "per:children                   0.007477           0.066098   0.000048  ...   \n",
       "per:spouse                     0.061277           0.000070   0.000070  ...   \n",
       "per:parents                    0.036639           0.000047   0.000047  ...   \n",
       "unanswerable                   0.011415           0.007790   0.010964  ...   \n",
       "per:alternate_name             0.015312           0.010072   0.028284  ...   \n",
       "\n",
       "                    per:positive impression  per:colleague  per:client  \\\n",
       "per:children                       0.002000       0.001619    0.001572   \n",
       "per:spouse                         0.000070       0.013206    0.003913   \n",
       "per:parents                        0.007574       0.012118    0.003408   \n",
       "unanswerable                       0.005782       0.010309    0.002281   \n",
       "per:alternate_name                 0.006335       0.015613    0.004789   \n",
       "\n",
       "                    per:siblings-in-law  per:subordinate  per:boss  \\\n",
       "per:children                   0.000048         0.009334  0.009143   \n",
       "per:spouse                     0.000070         0.003354  0.000070   \n",
       "per:parents                    0.002651         0.000426  0.000047   \n",
       "unanswerable                   0.002396         0.005385  0.005641   \n",
       "per:alternate_name             0.002083         0.016558  0.016601   \n",
       "\n",
       "                    per:student  per:teacher  per:nickname  per:roommate  \n",
       "per:children           0.002143     0.000048      0.000238      0.000143  \n",
       "per:spouse             0.000070     0.000070      0.000070      0.000070  \n",
       "per:parents            0.000047     0.000047      0.000047      0.000047  \n",
       "unanswerable           0.000769     0.003457      0.000062      0.000159  \n",
       "per:alternate_name     0.002255     0.001525      0.000086      0.000021  \n",
       "\n",
       "[5 rows x 32 columns]"
      ]
     },
     "execution_count": 15,
     "metadata": {},
     "output_type": "execute_result"
    }
   ],
   "source": [
    "p_matrix.head()"
   ]
  },
  {
   "cell_type": "code",
   "execution_count": 5,
   "id": "480593a1",
   "metadata": {},
   "outputs": [
    {
     "name": "stdout",
     "output_type": "stream",
     "text": [
      "id_label.pickle  MultinomialNB_pred.pickle\ttransition_matrix.pickle\r\n",
      "label_id.pickle  MultinomialNB_score_df.pickle\ttransition_nested_dict.pickle\r\n"
     ]
    }
   ],
   "source": [
    "!ls ref_files"
   ]
  },
  {
   "cell_type": "code",
   "execution_count": 5,
   "id": "55e4058e",
   "metadata": {},
   "outputs": [],
   "source": [
    "# Load MultinomialNB_pred\n",
    "with open(\"ref_files/MultinomialNB_pred.pickle\",'rb') as infile:\n",
    "    pred = pickle.load(infile)\n",
    "    \n",
    "# Load MultinomialNB_score_df\n",
    "with open(\"ref_files/MultinomialNB_score_df.pickle\",'rb') as infile:\n",
    "    score = pickle.load(infile)"
   ]
  },
  {
   "cell_type": "code",
   "execution_count": 8,
   "id": "0b425d44",
   "metadata": {},
   "outputs": [
    {
     "data": {
      "text/plain": [
       "42"
      ]
     },
     "execution_count": 8,
     "metadata": {},
     "output_type": "execute_result"
    }
   ],
   "source": [
    "start = 0\n",
    "stop = len(dev_df[0][1])\n",
    "stop"
   ]
  },
  {
   "cell_type": "code",
   "execution_count": 11,
   "id": "3b9daa35",
   "metadata": {},
   "outputs": [
    {
     "data": {
      "text/plain": [
       "pandas.core.frame.DataFrame"
      ]
     },
     "execution_count": 11,
     "metadata": {},
     "output_type": "execute_result"
    }
   ],
   "source": [
    "type(y_pred_probs)"
   ]
  },
  {
   "cell_type": "code",
   "execution_count": 14,
   "id": "2e3170fb",
   "metadata": {},
   "outputs": [
    {
     "data": {
      "text/plain": [
       "(42, 25)"
      ]
     },
     "execution_count": 14,
     "metadata": {},
     "output_type": "execute_result"
    }
   ],
   "source": [
    "dialog_probs.shape"
   ]
  },
  {
   "cell_type": "code",
   "execution_count": 15,
   "id": "e52523d2",
   "metadata": {},
   "outputs": [
    {
     "data": {
      "text/plain": [
       "'S 1'"
      ]
     },
     "execution_count": 15,
     "metadata": {},
     "output_type": "execute_result"
    }
   ],
   "source": [
    "dialog = dev_df[0][1]\n",
    "char = dev_df[0][1][0]['x']\n",
    "char"
   ]
  },
  {
   "cell_type": "code",
   "execution_count": 16,
   "id": "af22235a",
   "metadata": {},
   "outputs": [],
   "source": [
    "def get_ch_indices(char,dialog) -> list:\n",
    "    output = []\n",
    "    for i in range(0,len(dialog)):\n",
    "        if dialog[i]['x']==char:\n",
    "            output.append(i)\n",
    "    return output"
   ]
  },
  {
   "cell_type": "code",
   "execution_count": 43,
   "id": "03af802b",
   "metadata": {},
   "outputs": [],
   "source": [
    "e_matrix = dialog_probs.iloc[get_ch_indices(char,dialog),].apply(np.log)\n",
    "t_probs = p_matrix.apply(np.log)"
   ]
  },
  {
   "cell_type": "code",
   "execution_count": 67,
   "id": "ca8c8f0e",
   "metadata": {},
   "outputs": [
    {
     "data": {
      "text/plain": [
       "'per:alternate_name'"
      ]
     },
     "execution_count": 67,
     "metadata": {},
     "output_type": "execute_result"
    }
   ],
   "source": [
    "rid_to_rel[0]"
   ]
  },
  {
   "cell_type": "code",
   "execution_count": 74,
   "id": "48e058da",
   "metadata": {},
   "outputs": [
    {
     "data": {
      "text/plain": [
       "-1.6259553091273535"
      ]
     },
     "execution_count": 74,
     "metadata": {},
     "output_type": "execute_result"
    }
   ],
   "source": [
    "t_probs.loc['per:children']['per:children']"
   ]
  },
  {
   "cell_type": "code",
   "execution_count": 72,
   "id": "29dbb36a",
   "metadata": {},
   "outputs": [
    {
     "data": {
      "text/plain": [
       "-2.0439148759171446"
      ]
     },
     "execution_count": 72,
     "metadata": {},
     "output_type": "execute_result"
    }
   ],
   "source": [
    "t_probs.loc[rid_to_rel[0]][rid_to_rel[0]]"
   ]
  },
  {
   "cell_type": "code",
   "execution_count": 75,
   "id": "4d41f96b",
   "metadata": {},
   "outputs": [
    {
     "data": {
      "text/plain": [
       "'per:alternate_name'"
      ]
     },
     "execution_count": 75,
     "metadata": {},
     "output_type": "execute_result"
    }
   ],
   "source": [
    "rid_to_rel[0]"
   ]
  },
  {
   "cell_type": "code",
   "execution_count": 76,
   "id": "7f9b8a3e",
   "metadata": {},
   "outputs": [],
   "source": [
    "class trellis:\n",
    "    \n",
    "    def __init__(self,x_length,labels,e_matrix,t_probs,grp_dict,rid_to_rel):\n",
    "        self.x_length = x_length\n",
    "        self.y_length = len(labels)\n",
    "        self.prob_m = np.zeros(shape=(x_length,self.y_length))\n",
    "        self.path = Counter() # nested Counter object for i, j, and a list to store best pat of previous states\n",
    "        self.e_matrix = e_matrix\n",
    "        self.t_probs = t_probs\n",
    "        self.labels = labels\n",
    "        self.rid_to_rel = rid_to_rel\n",
    "        \n",
    "        # Initialize probabilities\n",
    "        for j in range(0,self.y_length):\n",
    "            self.path[0] = Counter()\n",
    "            self.path[0][j] = []\n",
    "            \n",
    "            group_col = grp_dict[self.labels[j]]['col_num']\n",
    "            \n",
    "            self.prob_m[0][j] = e_matrix.iloc[0,group_col]\n",
    "            \n",
    "        for i in range(1,self.x_length):\n",
    "            self.path[i] = Counter()\n",
    "            for j in range(0,self.y_length):\n",
    "\n",
    "                self.prob_m[i][j] = -10000.0\n",
    "                self.path[i][j] = []\n",
    "                self.path[i][j].append(j)\n",
    "                \n",
    "        # fill trellis\n",
    "        for i in range(1,self.x_length):\n",
    "            for j in range(0,self.y_length):\n",
    "                \n",
    "                # iterate over all previous states, and get most likely transition to current\n",
    "                prev_probs = self.prob_m[i-1]\n",
    "                candidates = []\n",
    "                for k in range(0,len(prev_probs)): #verify which way this is iterating and if order is right\n",
    "                    # start by adding prob of that previous state\n",
    "                    test = prev_probs[k] \n",
    "                    \n",
    "                    # get emmission probability\n",
    "                    group_col_cur = grp_dict[self.labels[j]]['col_num'] # verify location\n",
    "                    emission_prob_cur = e_matrix.iloc[i,group_col_cur]\n",
    "                    test += emission_prob_cur\n",
    "                    \n",
    "                    # get transition probability\n",
    "                    prev_rel = self.rid_to_rel[k]\n",
    "                    cur_rel = self.rid_to_rel[j]\n",
    "                    t_p = self.t_probs.loc[prev_rel][cur_rel]\n",
    "                    test += t_p\n",
    "                    \n",
    "                    candidates.append(test)\n",
    "                \n",
    "                # store max prob and path\n",
    "                self.prob_m[i][j] = max(candidates)\n",
    "                self.path[i][j].append(np.argmax(candidates))"
   ]
  },
  {
   "cell_type": "code",
   "execution_count": 77,
   "id": "4c9bdf90",
   "metadata": {},
   "outputs": [
    {
     "data": {
      "text/plain": [
       "<__main__.trellis at 0x7f5bac4bffd0>"
      ]
     },
     "execution_count": 77,
     "metadata": {},
     "output_type": "execute_result"
    }
   ],
   "source": [
    "trellis(5,sorted_labs,e_matrix,t_probs,grp_rels,rid_to_rel)"
   ]
  },
  {
   "cell_type": "code",
   "execution_count": 55,
   "id": "f125aea3",
   "metadata": {},
   "outputs": [
    {
     "data": {
      "text/plain": [
       "-234.28774709293612"
      ]
     },
     "execution_count": 55,
     "metadata": {},
     "output_type": "execute_result"
    }
   ],
   "source": [
    "e_matrix.iloc[0,3]"
   ]
  },
  {
   "cell_type": "code",
   "execution_count": 30,
   "id": "96bac901",
   "metadata": {},
   "outputs": [
    {
     "data": {
      "text/plain": [
       "Counter({0: Counter({2: []})})"
      ]
     },
     "execution_count": 30,
     "metadata": {},
     "output_type": "execute_result"
    }
   ],
   "source": [
    "paths = Counter()\n",
    "paths[0] = Counter()\n",
    "paths[0][2] = []\n",
    "paths"
   ]
  },
  {
   "cell_type": "code",
   "execution_count": 17,
   "id": "55a2faee",
   "metadata": {},
   "outputs": [
    {
     "data": {
      "text/plain": [
       "[0, 1, 2, 3, 4, 5]"
      ]
     },
     "execution_count": 17,
     "metadata": {},
     "output_type": "execute_result"
    }
   ],
   "source": [
    "get_ch_indices(char,dialog)"
   ]
  },
  {
   "cell_type": "code",
   "execution_count": 18,
   "id": "3a10b8c0",
   "metadata": {},
   "outputs": [
    {
     "data": {
      "text/plain": [
       "[{'x': 'S 1', 'y': 'S 2', 'r': ['per:children'], 'rid': [1]},\n",
       " {'x': 'S 1',\n",
       "  'y': 'S 3',\n",
       "  'r': ['per:friends', 'per:acquaintance'],\n",
       "  'rid': [11, 3]},\n",
       " {'x': 'S 1', 'y': '小姑', 'r': ['per:relative'], 'rid': [29]},\n",
       " {'x': 'S 1',\n",
       "  'y': '朝阳叔叔',\n",
       "  'r': ['per:friends', 'per:acquaintance'],\n",
       "  'rid': [11, 3]},\n",
       " {'x': 'S 1', 'y': '小桂阿姨', 'r': ['unanswerable'], 'rid': [31]},\n",
       " {'x': 'S 1',\n",
       "  'y': '朝阳',\n",
       "  'r': ['per:friends', 'per:acquaintance'],\n",
       "  'rid': [11, 3]},\n",
       " {'x': 'S 2', 'y': 'S 1', 'r': ['per:parents'], 'rid': [2]},\n",
       " {'x': 'S 2', 'y': 'S 3', 'r': ['per:acquaintance'], 'rid': [3]},\n",
       " {'x': 'S 2', 'y': '小姑', 'r': ['per:relative'], 'rid': [29]},\n",
       " {'x': 'S 2', 'y': '朝阳叔叔', 'r': ['per:acquaintance'], 'rid': [3]},\n",
       " {'x': 'S 2', 'y': '小桂阿姨', 'r': ['unanswerable'], 'rid': [31]},\n",
       " {'x': 'S 2', 'y': '朝阳', 'r': ['per:acquaintance'], 'rid': [3]},\n",
       " {'x': 'S 3', 'y': 'S 1', 'r': ['per:friends'], 'rid': [11]},\n",
       " {'x': 'S 3', 'y': 'S 2', 'r': ['per:acquaintance'], 'rid': [3]},\n",
       " {'x': 'S 3', 'y': '小姑', 'r': ['per:acquaintance'], 'rid': [3]},\n",
       " {'x': 'S 3', 'y': '朝阳叔叔', 'r': ['per:alternate_name'], 'rid': [0]},\n",
       " {'x': 'S 3', 'y': '小桂阿姨', 'r': ['unanswerable'], 'rid': [31]},\n",
       " {'x': 'S 3', 'y': '朝阳', 'r': ['per:alternate_name'], 'rid': [0]},\n",
       " {'x': '小姑', 'y': 'S 1', 'r': ['per:relative'], 'rid': [29]},\n",
       " {'x': '小姑', 'y': 'S 2', 'r': ['per:relative'], 'rid': [29]},\n",
       " {'x': '小姑', 'y': 'S 3', 'r': ['per:acquaintance'], 'rid': [3]},\n",
       " {'x': '小姑', 'y': '朝阳叔叔', 'r': ['per:acquaintance'], 'rid': [3]},\n",
       " {'x': '小姑', 'y': '小桂阿姨', 'r': ['unanswerable'], 'rid': [31]},\n",
       " {'x': '小姑', 'y': '朝阳', 'r': ['per:acquaintance'], 'rid': [3]},\n",
       " {'x': '朝阳叔叔', 'y': 'S 1', 'r': ['per:friends'], 'rid': [11]},\n",
       " {'x': '朝阳叔叔', 'y': 'S 2', 'r': ['per:acquaintance'], 'rid': [3]},\n",
       " {'x': '朝阳叔叔', 'y': 'S 3', 'r': ['per:alternate_name'], 'rid': [0]},\n",
       " {'x': '朝阳叔叔', 'y': '小姑', 'r': ['per:acquaintance'], 'rid': [3]},\n",
       " {'x': '朝阳叔叔', 'y': '小桂阿姨', 'r': ['unanswerable'], 'rid': [31]},\n",
       " {'x': '朝阳叔叔', 'y': '朝阳', 'r': ['per:alternate_name'], 'rid': [0]},\n",
       " {'x': '小桂阿姨', 'y': 'S 1', 'r': ['unanswerable'], 'rid': [31]},\n",
       " {'x': '小桂阿姨', 'y': 'S 2', 'r': ['unanswerable'], 'rid': [31]},\n",
       " {'x': '小桂阿姨', 'y': 'S 3', 'r': ['unanswerable'], 'rid': [31]},\n",
       " {'x': '小桂阿姨', 'y': '小姑', 'r': ['unanswerable'], 'rid': [31]},\n",
       " {'x': '小桂阿姨', 'y': '朝阳叔叔', 'r': ['unanswerable'], 'rid': [31]},\n",
       " {'x': '小桂阿姨', 'y': '朝阳', 'r': ['unanswerable'], 'rid': [31]},\n",
       " {'x': '朝阳', 'y': 'S 1', 'r': ['per:friends'], 'rid': [11]},\n",
       " {'x': '朝阳', 'y': 'S 2', 'r': ['per:acquaintance'], 'rid': [3]},\n",
       " {'x': '朝阳', 'y': 'S 3', 'r': ['per:alternate_name'], 'rid': [0]},\n",
       " {'x': '朝阳', 'y': '小姑', 'r': ['per:acquaintance'], 'rid': [3]},\n",
       " {'x': '朝阳', 'y': '朝阳叔叔', 'r': ['per:alternate_name'], 'rid': [0]},\n",
       " {'x': '朝阳', 'y': '小桂阿姨', 'r': ['unanswerable'], 'rid': [31]}]"
      ]
     },
     "execution_count": 18,
     "metadata": {},
     "output_type": "execute_result"
    }
   ],
   "source": [
    "dialog"
   ]
  }
 ],
 "metadata": {
  "kernelspec": {
   "display_name": "Python 3 (ipykernel)",
   "language": "python",
   "name": "python3"
  },
  "language_info": {
   "codemirror_mode": {
    "name": "ipython",
    "version": 3
   },
   "file_extension": ".py",
   "mimetype": "text/x-python",
   "name": "python",
   "nbconvert_exporter": "python",
   "pygments_lexer": "ipython3",
   "version": "3.9.7"
  }
 },
 "nbformat": 4,
 "nbformat_minor": 5
}
